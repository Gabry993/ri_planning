{
 "cells": [
  {
   "cell_type": "code",
   "execution_count": 1,
   "metadata": {},
   "outputs": [],
   "source": [
    "%load_ext autoreload\n",
    "%autoreload 2"
   ]
  },
  {
   "cell_type": "code",
   "execution_count": 2,
   "metadata": {},
   "outputs": [],
   "source": [
    "from indoorgml.map import Map\n",
    "from indoorgml.dcel import DCEL, Chain\n",
    "from indoorgml.navigation import navigation_layer, from_layer, obstacle\n",
    "from indoorgml.convex_partition import APolygon, partition\n",
    "from indoorgml.display.svg import svg_for_dcel\n",
    "from indoorgml.display import jupyter\n",
    "from IPython.display import SVG\n",
    "from shapely.ops import cascaded_union\n",
    "from shapely.geometry import LineString, Polygon, Point\n",
    "from shapely.affinity import translate\n",
    "from matplotlib import pyplot as plt\n",
    "from indoorgml.display.plt import plot, plot_graph"
   ]
  },
  {
   "cell_type": "markdown",
   "metadata": {},
   "source": [
    "# Import a map"
   ]
  },
  {
   "cell_type": "code",
   "execution_count": 3,
   "metadata": {},
   "outputs": [],
   "source": [
    "map_ = Map.from_file('../example/map.xml')\n",
    "# map_ = Map.from_file('../example/idsia.xml')"
   ]
  },
  {
   "cell_type": "code",
   "execution_count": 4,
   "metadata": {},
   "outputs": [
    {
     "name": "stdout",
     "output_type": "stream",
     "text": [
      "MultiLayeredGraph: IndoorMap is composed of several layers:\n",
      "['SpaceLayer: L0', 'SpaceLayer: L1', 'SpaceLayer: L2', 'SpaceLayer: L3', 'SpaceLayer: W']\n"
     ]
    }
   ],
   "source": [
    "print(f\"\"\"{map_} is composed of several layers:\n",
    "{[repr(l) for l in map_.layers.values()]}\"\"\"\n",
    "     )"
   ]
  },
  {
   "cell_type": "code",
   "execution_count": 5,
   "metadata": {},
   "outputs": [
    {
     "data": {
      "image/svg+xml": [
       "<svg height=\"500\" viewBox=\"-130.0 -2930.0 7900.0 3060.0\" width=\"1000\" xmlns=\"http://www.w3.org/2000/svg\"><style media=\"screen\" type=\"text/css\">\n",
       "\n",
       ".State circle {\n",
       "    fill: red;\n",
       "    r: 20;\n",
       "    stroke: orange;\n",
       "    stroke-width: 10;\n",
       "}\n",
       "\n",
       ".Transition path {\n",
       "    stroke: orange;\n",
       "    stroke-width: 10;\n",
       "    fill: none;\n",
       "    display: inline\n",
       "}\n",
       "\n",
       "path\n",
       "{\n",
       "    stroke: grey;\n",
       "    stroke-width: 10;\n",
       "}\n",
       "\n",
       ".TransitionSpace {\n",
       "    fill: lightgreen;\n",
       "}\n",
       "\n",
       ".GeneralSpace {\n",
       "    fill: olive;\n",
       "}\n",
       "\n",
       ".ConnectionSpace {\n",
       "    fill: orange;\n",
       "}\n",
       "\n",
       "\n",
       ".TOPOGRAPHIC .CellSpace {\n",
       "    fill: black;\n",
       "}\n",
       "\n",
       ".CellSpace {\n",
       "    fill: BurlyWood ;\n",
       "    stroke: white;\n",
       "    stroke-width: 10;\n",
       "}\n",
       "\n",
       ".CellSpaceBoundary {\n",
       "    display: none;\n",
       "}\n",
       "\n",
       ".NavigableBoundary {\n",
       "    display: none;\n",
       "    stroke: green;\n",
       "    stroke-dasharray: 40 40;\n",
       "    stroke-width: 20;\n",
       "    fill: none;\n",
       "}\n",
       "\n",
       "\n",
       "\n",
       "</style><g transform=\"scale(1, -1)\"><g class=\"MultiLayeredGraph None\" id=\"IndoorMap\" onclick=\"(function(event){alert('IndoorMap'); event.stopPropagation();})(event)\"><g transform=\"translate(0.0, 0)\"><g class=\"SpaceLayer TOPOGRAPHIC Geometry\" id=\"L0\" onclick=\"(function(event){alert('L0'); event.stopPropagation();})(event)\"><g class=\"cells\"><g class=\"CellSpace None\" id=\"L0C11\" onclick=\"(function(event){alert('L0C11'); event.stopPropagation();})(event)\"><path d=\"M 520.0 1020.0 1000.0 1020.0 L 1000.0 980.0 520.0 980.0 520.0 900.0 500.0 900.0 500.0 1100.0 520.0 1100.0 520.0 1020.0 Z\" fill-rule=\"evenodd\" id=\"p_L0C11\" /><g class=\"CellSpaceBoundary None\" id=\"L0B22\" onclick=\"(function(event){alert('L0B22'); event.stopPropagation();})(event)\"><path d=\"M 500.0 900.0 L 520.0 900.0\" id=\"p_L0B22\" /></g><g class=\"CellSpaceBoundary None\" id=\"L0B10\" onclick=\"(function(event){alert('L0B10'); event.stopPropagation();})(event)\"><path d=\"M 500.0 1100.0 L 500.0 900.0\" id=\"p_L0B10\" /></g><g class=\"CellSpaceBoundary None\" id=\"L0B36\" onclick=\"(function(event){alert('L0B36'); event.stopPropagation();})(event)\"><path d=\"M 1000.0 980.0 L 1000.0 1020.0\" id=\"p_L0B36\" /></g><g class=\"CellSpaceBoundary None\" id=\"L0B30\" onclick=\"(function(event){alert('L0B30'); event.stopPropagation();})(event)\"><path d=\"M 1000.0 1020.0 L 520.0 1020.0 520.0 1100.0\" id=\"p_L0B30\" /></g><g class=\"CellSpaceBoundary None\" id=\"L0B33\" onclick=\"(function(event){alert('L0B33'); event.stopPropagation();})(event)\"><path d=\"M 520.0 1100.0 L 500.0 1100.0\" id=\"p_L0B33\" /></g><g class=\"CellSpaceBoundary None\" id=\"L0B55\" onclick=\"(function(event){alert('L0B55'); event.stopPropagation();})(event)\"><path d=\"M 520.0 900.0 L 520.0 980.0 1000.0 980.0\" id=\"p_L0B55\" /></g></g><g class=\"ConnectionSpace None\" id=\"L0C10\" onclick=\"(function(event){alert('L0C10'); event.stopPropagation();})(event)\"><path d=\"M 500.0 1300.0 520.0 1300.0 L 520.0 1100.0 500.0 1100.0 500.0 1300.0 Z\" fill-rule=\"evenodd\" id=\"p_L0C10\" /><g class=\"CellSpaceBoundary None\" id=\"L0B33\" onclick=\"(function(event){alert('L0B33'); event.stopPropagation();})(event)\"><path d=\"M 520.0 1100.0 L 500.0 1100.0\" id=\"p_L0B33\" /></g><g class=\"NavigableBoundary None\" id=\"L0B9\" onclick=\"(function(event){alert('L0B9'); event.stopPropagation();})(event)\"><path d=\"M 500.0 1300.0 L 500.0 1100.0\" id=\"p_L0B9\" /></g><g class=\"NavigableBoundary None\" id=\"L0B31\" onclick=\"(function(event){alert('L0B31'); event.stopPropagation();})(event)\"><path d=\"M 520.0 1100.0 L 520.0 1300.0\" id=\"p_L0B31\" /></g><g class=\"CellSpaceBoundary None\" id=\"L0B26\" onclick=\"(function(event){alert('L0B26'); event.stopPropagation();})(event)\"><path d=\"M 520.0 1300.0 L 500.0 1300.0\" id=\"p_L0B26\" /></g></g><g class=\"CellSpace None\" id=\"L0C13\" onclick=\"(function(event){alert('L0C13'); event.stopPropagation();})(event)\"><path d=\"M 520.0 620.0 1000.0 620.0 L 1000.0 600.0 500.0 600.0 500.0 700.0 520.0 700.0 520.0 620.0 Z\" fill-rule=\"evenodd\" id=\"p_L0C13\" /><g class=\"CellSpaceBoundary None\" id=\"L0B12\" onclick=\"(function(event){alert('L0B12'); event.stopPropagation();})(event)\"><path d=\"M 500.0 700.0 L 500.0 600.0\" id=\"p_L0B12\" /></g><g class=\"CellSpaceBoundary None\" id=\"L0B24\" onclick=\"(function(event){alert('L0B24'); event.stopPropagation();})(event)\"><path d=\"M 1000.0 620.0 L 1000.0 600.0\" id=\"p_L0B24\" /></g><g class=\"CellSpaceBoundary None\" id=\"L0B21\" onclick=\"(function(event){alert('L0B21'); event.stopPropagation();})(event)\"><path d=\"M 520.0 700.0 L 500.0 700.0\" id=\"p_L0B21\" /></g><g class=\"CellSpaceBoundary None\" id=\"L0B23\" onclick=\"(function(event){alert('L0B23'); event.stopPropagation();})(event)\"><path d=\"M 520.0 700.0 L 520.0 620.0 1000.0 620.0\" id=\"p_L0B23\" /></g><g class=\"CellSpaceBoundary None\" id=\"L0B25\" onclick=\"(function(event){alert('L0B25'); event.stopPropagation();})(event)\"><path d=\"M 1000.0 600.0 L 500.0 600.0\" id=\"p_L0B25\" /></g></g><g class=\"ConnectionSpace None\" id=\"L0C12\" onclick=\"(function(event){alert('L0C12'); event.stopPropagation();})(event)\"><path d=\"M 520.0 700.0 500.0 700.0 L 500.0 900.0 520.0 900.0 520.0 700.0 Z\" fill-rule=\"evenodd\" id=\"p_L0C12\" /><g class=\"NavigableBoundary None\" id=\"L0B11\" onclick=\"(function(event){alert('L0B11'); event.stopPropagation();})(event)\"><path d=\"M 500.0 900.0 L 500.0 700.0\" id=\"p_L0B11\" /></g><g class=\"CellSpaceBoundary None\" id=\"L0B22\" onclick=\"(function(event){alert('L0B22'); event.stopPropagation();})(event)\"><path d=\"M 500.0 900.0 L 520.0 900.0\" id=\"p_L0B22\" /></g><g class=\"CellSpaceBoundary None\" id=\"L0B21\" onclick=\"(function(event){alert('L0B21'); event.stopPropagation();})(event)\"><path d=\"M 520.0 700.0 L 500.0 700.0\" id=\"p_L0B21\" /></g><g class=\"NavigableBoundary None\" id=\"L0B20\" onclick=\"(function(event){alert('L0B20'); event.stopPropagation();})(event)\"><path d=\"M 520.0 900.0 L 520.0 700.0\" id=\"p_L0B20\" /></g></g><g class=\"GeneralSpace None\" id=\"L0C15\" onclick=\"(function(event){alert('L0C15'); event.stopPropagation();})(event)\"><path d=\"M 520.0 1820.0 520.0 1900.0 L 520.0 2100.0 520.0 2180.0 1000.0 2180.0 1000.0 1820.0 520.0 1820.0 Z\" fill-rule=\"evenodd\" id=\"p_L0C15\" /><g class=\"CellSpaceBoundary None\" id=\"L0B38\" onclick=\"(function(event){alert('L0B38'); event.stopPropagation();})(event)\"><path d=\"M 1000.0 1820.0 L 1000.0 2180.0\" id=\"p_L0B38\" /></g><g class=\"NavigableBoundary None\" id=\"L0B45\" onclick=\"(function(event){alert('L0B45'); event.stopPropagation();})(event)\"><path d=\"M 520.0 2100.0 L 520.0 1900.0\" id=\"p_L0B45\" /></g><g class=\"CellSpaceBoundary None\" id=\"L0B56\" onclick=\"(function(event){alert('L0B56'); event.stopPropagation();})(event)\"><path d=\"M 1000.0 2180.0 L 520.0 2180.0 520.0 2100.0\" id=\"p_L0B56\" /></g><g class=\"CellSpaceBoundary None\" id=\"L0B17\" onclick=\"(function(event){alert('L0B17'); event.stopPropagation();})(event)\"><path d=\"M 520.0 1900.0 L 520.0 1820.0 1000.0 1820.0\" id=\"p_L0B17\" /></g></g><g class=\"GeneralSpace None\" id=\"L0C14\" onclick=\"(function(event){alert('L0C14'); event.stopPropagation();})(event)\"><path d=\"M 520.0 1420.0 520.0 1500.0 L 520.0 1700.0 520.0 1780.0 1000.0 1780.0 1000.0 1420.0 520.0 1420.0 Z\" fill-rule=\"evenodd\" id=\"p_L0C14\" /><g class=\"CellSpaceBoundary None\" id=\"L0B19\" onclick=\"(function(event){alert('L0B19'); event.stopPropagation();})(event)\"><path d=\"M 1000.0 1780.0 L 520.0 1780.0 520.0 1700.0\" id=\"p_L0B19\" /></g><g class=\"CellSpaceBoundary None\" id=\"L0B37\" onclick=\"(function(event){alert('L0B37'); event.stopPropagation();})(event)\"><path d=\"M 1000.0 1420.0 L 1000.0 1780.0\" id=\"p_L0B37\" /></g><g class=\"NavigableBoundary None\" id=\"L0B14\" onclick=\"(function(event){alert('L0B14'); event.stopPropagation();})(event)\"><path d=\"M 520.0 1700.0 L 520.0 1500.0\" id=\"p_L0B14\" /></g><g class=\"CellSpaceBoundary None\" id=\"L0B27\" onclick=\"(function(event){alert('L0B27'); event.stopPropagation();})(event)\"><path d=\"M 520.0 1500.0 L 520.0 1420.0 1000.0 1420.0\" id=\"p_L0B27\" /></g></g><g class=\"GeneralSpace None\" id=\"L0C17\" onclick=\"(function(event){alert('L0C17'); event.stopPropagation();})(event)\"><path d=\"M 520.0 620.0 520.0 700.0 L 520.0 900.0 520.0 980.0 1000.0 980.0 1000.0 620.0 520.0 620.0 Z\" fill-rule=\"evenodd\" id=\"p_L0C17\" /><g class=\"CellSpaceBoundary None\" id=\"L0B35\" onclick=\"(function(event){alert('L0B35'); event.stopPropagation();})(event)\"><path d=\"M 1000.0 620.0 L 1000.0 980.0\" id=\"p_L0B35\" /></g><g class=\"CellSpaceBoundary None\" id=\"L0B23\" onclick=\"(function(event){alert('L0B23'); event.stopPropagation();})(event)\"><path d=\"M 520.0 700.0 L 520.0 620.0 1000.0 620.0\" id=\"p_L0B23\" /></g><g class=\"NavigableBoundary None\" id=\"L0B20\" onclick=\"(function(event){alert('L0B20'); event.stopPropagation();})(event)\"><path d=\"M 520.0 900.0 L 520.0 700.0\" id=\"p_L0B20\" /></g><g class=\"CellSpaceBoundary None\" id=\"L0B55\" onclick=\"(function(event){alert('L0B55'); event.stopPropagation();})(event)\"><path d=\"M 520.0 900.0 L 520.0 980.0 1000.0 980.0\" id=\"p_L0B55\" /></g></g><g class=\"CellSpace None\" id=\"L0C16\" onclick=\"(function(event){alert('L0C16'); event.stopPropagation();})(event)\"><path d=\"M 1000.0 2800.0 1030.0 2800.0 L 1030.0 0.0 1000.0 0.0 1000.0 600.0 1000.0 620.0 1000.0 980.0 1000.0 1020.0 1000.0 1380.0 1000.0 1420.0 1000.0 1780.0 1000.0 1820.0 1000.0 2180.0 1000.0 2200.0 1000.0 2800.0 Z\" fill-rule=\"evenodd\" id=\"p_L0C16\" /><g class=\"CellSpaceBoundary None\" id=\"L0B32\" onclick=\"(function(event){alert('L0B32'); event.stopPropagation();})(event)\"><path d=\"M 1000.0 1380.0 L 1000.0 1020.0\" id=\"p_L0B32\" /></g><g class=\"CellSpaceBoundary None\" id=\"L0B36\" onclick=\"(function(event){alert('L0B36'); event.stopPropagation();})(event)\"><path d=\"M 1000.0 980.0 L 1000.0 1020.0\" id=\"p_L0B36\" /></g><g class=\"CellSpaceBoundary None\" id=\"L0B24\" onclick=\"(function(event){alert('L0B24'); event.stopPropagation();})(event)\"><path d=\"M 1000.0 620.0 L 1000.0 600.0\" id=\"p_L0B24\" /></g><g class=\"CellSpaceBoundary None\" id=\"L0B41\" onclick=\"(function(event){alert('L0B41'); event.stopPropagation();})(event)\"><path d=\"M 1000.0 2800.0 L 1030.0 2800.0\" id=\"p_L0B41\" /></g><g class=\"CellSpaceBoundary None\" id=\"L0B28\" onclick=\"(function(event){alert('L0B28'); event.stopPropagation();})(event)\"><path d=\"M 1000.0 1420.0 L 1000.0 1380.0\" id=\"p_L0B28\" /></g><g class=\"CellSpaceBoundary None\" id=\"L0B43\" onclick=\"(function(event){alert('L0B43'); event.stopPropagation();})(event)\"><path d=\"M 1030.0 0.0 L 1000.0 0.0\" id=\"p_L0B43\" /></g><g class=\"CellSpaceBoundary None\" id=\"L0B37\" onclick=\"(function(event){alert('L0B37'); event.stopPropagation();})(event)\"><path d=\"M 1000.0 1420.0 L 1000.0 1780.0\" id=\"p_L0B37\" /></g><g class=\"CellSpaceBoundary None\" id=\"L0B34\" onclick=\"(function(event){alert('L0B34'); event.stopPropagation();})(event)\"><path d=\"M 1000.0 0.0 L 1000.0 600.0\" id=\"p_L0B34\" /></g><g class=\"CellSpaceBoundary None\" id=\"L0B38\" onclick=\"(function(event){alert('L0B38'); event.stopPropagation();})(event)\"><path d=\"M 1000.0 1820.0 L 1000.0 2180.0\" id=\"p_L0B38\" /></g><g class=\"CellSpaceBoundary None\" id=\"L0B18\" onclick=\"(function(event){alert('L0B18'); event.stopPropagation();})(event)\"><path d=\"M 1000.0 1820.0 L 1000.0 1780.0\" id=\"p_L0B18\" /></g><g class=\"CellSpaceBoundary None\" id=\"L0B39\" onclick=\"(function(event){alert('L0B39'); event.stopPropagation();})(event)\"><path d=\"M 1000.0 2180.0 L 1000.0 2200.0\" id=\"p_L0B39\" /></g><g class=\"CellSpaceBoundary None\" id=\"L0B40\" onclick=\"(function(event){alert('L0B40'); event.stopPropagation();})(event)\"><path d=\"M 1000.0 2200.0 L 1000.0 2800.0\" id=\"p_L0B40\" /></g><g class=\"CellSpaceBoundary None\" id=\"L0B35\" onclick=\"(function(event){alert('L0B35'); event.stopPropagation();})(event)\"><path d=\"M 1000.0 620.0 L 1000.0 980.0\" id=\"p_L0B35\" /></g><g class=\"CellSpaceBoundary None\" id=\"L0B42\" onclick=\"(function(event){alert('L0B42'); event.stopPropagation();})(event)\"><path d=\"M 1030.0 2800.0 L 1030.0 0.0\" id=\"p_L0B42\" /></g></g><g class=\"CellSpace None\" id=\"L0C19\" onclick=\"(function(event){alert('L0C19'); event.stopPropagation();})(event)\"><path d=\"M -30.0 2800.0 -30.0 2830.0 L 1030.0 2830.0 1030.0 2800.0 1000.0 2800.0 0.0 2800.0 -30.0 2800.0 Z\" fill-rule=\"evenodd\" id=\"p_L0C19\" /><g class=\"CellSpaceBoundary None\" id=\"L0B50\" onclick=\"(function(event){alert('L0B50'); event.stopPropagation();})(event)\"><path d=\"M -30.0 2800.0 L -30.0 2830.0 1030.0 2830.0 1030.0 2800.0\" id=\"p_L0B50\" /></g><g class=\"CellSpaceBoundary None\" id=\"L0B49\" onclick=\"(function(event){alert('L0B49'); event.stopPropagation();})(event)\"><path d=\"M 0.0 2800.0 L -30.0 2800.0\" id=\"p_L0B49\" /></g><g class=\"CellSpaceBoundary None\" id=\"L0B48\" onclick=\"(function(event){alert('L0B48'); event.stopPropagation();})(event)\"><path d=\"M 0.0 2800.0 L 1000.0 2800.0\" id=\"p_L0B48\" /></g><g class=\"CellSpaceBoundary None\" id=\"L0B41\" onclick=\"(function(event){alert('L0B41'); event.stopPropagation();})(event)\"><path d=\"M 1000.0 2800.0 L 1030.0 2800.0\" id=\"p_L0B41\" /></g></g><g class=\"GeneralSpace None\" id=\"L0C18\" onclick=\"(function(event){alert('L0C18'); event.stopPropagation();})(event)\"><path d=\"M 520.0 1020.0 520.0 1100.0 L 520.0 1300.0 520.0 1380.0 1000.0 1380.0 1000.0 1020.0 520.0 1020.0 Z\" fill-rule=\"evenodd\" id=\"p_L0C18\" /><g class=\"CellSpaceBoundary None\" id=\"L0B30\" onclick=\"(function(event){alert('L0B30'); event.stopPropagation();})(event)\"><path d=\"M 1000.0 1020.0 L 520.0 1020.0 520.0 1100.0\" id=\"p_L0B30\" /></g><g class=\"CellSpaceBoundary None\" id=\"L0B29\" onclick=\"(function(event){alert('L0B29'); event.stopPropagation();})(event)\"><path d=\"M 1000.0 1380.0 L 520.0 1380.0 520.0 1300.0\" id=\"p_L0B29\" /></g><g class=\"NavigableBoundary None\" id=\"L0B31\" onclick=\"(function(event){alert('L0B31'); event.stopPropagation();})(event)\"><path d=\"M 520.0 1100.0 L 520.0 1300.0\" id=\"p_L0B31\" /></g><g class=\"CellSpaceBoundary None\" id=\"L0B32\" onclick=\"(function(event){alert('L0B32'); event.stopPropagation();})(event)\"><path d=\"M 1000.0 1380.0 L 1000.0 1020.0\" id=\"p_L0B32\" /></g></g><g class=\"CellSpace None\" id=\"L0C9\" onclick=\"(function(event){alert('L0C9'); event.stopPropagation();})(event)\"><path d=\"M 500.0 1300.0 500.0 1500.0 L 520.0 1500.0 520.0 1420.0 1000.0 1420.0 1000.0 1380.0 520.0 1380.0 520.0 1300.0 500.0 1300.0 Z\" fill-rule=\"evenodd\" id=\"p_L0C9\" /><g class=\"CellSpaceBoundary None\" id=\"L0B28\" onclick=\"(function(event){alert('L0B28'); event.stopPropagation();})(event)\"><path d=\"M 1000.0 1420.0 L 1000.0 1380.0\" id=\"p_L0B28\" /></g><g class=\"CellSpaceBoundary None\" id=\"L0B15\" onclick=\"(function(event){alert('L0B15'); event.stopPropagation();})(event)\"><path d=\"M 520.0 1500.0 L 500.0 1500.0\" id=\"p_L0B15\" /></g><g class=\"CellSpaceBoundary None\" id=\"L0B8\" onclick=\"(function(event){alert('L0B8'); event.stopPropagation();})(event)\"><path d=\"M 500.0 1500.0 L 500.0 1300.0\" id=\"p_L0B8\" /></g><g class=\"CellSpaceBoundary None\" id=\"L0B29\" onclick=\"(function(event){alert('L0B29'); event.stopPropagation();})(event)\"><path d=\"M 1000.0 1380.0 L 520.0 1380.0 520.0 1300.0\" id=\"p_L0B29\" /></g><g class=\"CellSpaceBoundary None\" id=\"L0B27\" onclick=\"(function(event){alert('L0B27'); event.stopPropagation();})(event)\"><path d=\"M 520.0 1500.0 L 520.0 1420.0 1000.0 1420.0\" id=\"p_L0B27\" /></g><g class=\"CellSpaceBoundary None\" id=\"L0B26\" onclick=\"(function(event){alert('L0B26'); event.stopPropagation();})(event)\"><path d=\"M 520.0 1300.0 L 500.0 1300.0\" id=\"p_L0B26\" /></g></g><g class=\"ConnectionSpace None\" id=\"L0C8\" onclick=\"(function(event){alert('L0C8'); event.stopPropagation();})(event)\"><path d=\"M 500.0 1700.0 520.0 1700.0 L 520.0 1500.0 500.0 1500.0 500.0 1700.0 Z\" fill-rule=\"evenodd\" id=\"p_L0C8\" /><g class=\"NavigableBoundary None\" id=\"L0B14\" onclick=\"(function(event){alert('L0B14'); event.stopPropagation();})(event)\"><path d=\"M 520.0 1700.0 L 520.0 1500.0\" id=\"p_L0B14\" /></g><g class=\"CellSpaceBoundary None\" id=\"L0B13\" onclick=\"(function(event){alert('L0B13'); event.stopPropagation();})(event)\"><path d=\"M 500.0 1700.0 L 520.0 1700.0\" id=\"p_L0B13\" /></g><g class=\"NavigableBoundary None\" id=\"L0B7\" onclick=\"(function(event){alert('L0B7'); event.stopPropagation();})(event)\"><path d=\"M 500.0 1700.0 L 500.0 1500.0\" id=\"p_L0B7\" /></g><g class=\"CellSpaceBoundary None\" id=\"L0B15\" onclick=\"(function(event){alert('L0B15'); event.stopPropagation();})(event)\"><path d=\"M 520.0 1500.0 L 500.0 1500.0\" id=\"p_L0B15\" /></g></g><g class=\"CellSpace None\" id=\"L0C21\" onclick=\"(function(event){alert('L0C21'); event.stopPropagation();})(event)\"><path d=\"M 1030.0 -30.0 -30.0 -30.0 L -30.0 0.0 0.0 0.0 1000.0 0.0 1030.0 0.0 1030.0 -30.0 Z\" fill-rule=\"evenodd\" id=\"p_L0C21\" /><g class=\"CellSpaceBoundary None\" id=\"L0B51\" onclick=\"(function(event){alert('L0B51'); event.stopPropagation();})(event)\"><path d=\"M 1000.0 0.0 L 0.0 0.0\" id=\"p_L0B51\" /></g><g class=\"CellSpaceBoundary None\" id=\"L0B43\" onclick=\"(function(event){alert('L0B43'); event.stopPropagation();})(event)\"><path d=\"M 1030.0 0.0 L 1000.0 0.0\" id=\"p_L0B43\" /></g><g class=\"CellSpaceBoundary None\" id=\"L0B54\" onclick=\"(function(event){alert('L0B54'); event.stopPropagation();})(event)\"><path d=\"M -30.0 0.0 L 0.0 0.0\" id=\"p_L0B54\" /></g><g class=\"CellSpaceBoundary None\" id=\"L0B53\" onclick=\"(function(event){alert('L0B53'); event.stopPropagation();})(event)\"><path d=\"M 1030.0 0.0 L 1030.0 -30.0 -30.0 -30.0 -30.0 0.0\" id=\"p_L0B53\" /></g></g><g class=\"TransitionSpace None\" id=\"L0C1\" onclick=\"(function(event){alert('L0C1'); event.stopPropagation();})(event)\"><path d=\"M 0.0 600.0 0.0 2200.0 L 500.0 2200.0 500.0 2100.0 500.0 1900.0 500.0 1700.0 500.0 1500.0 500.0 1300.0 500.0 1100.0 500.0 900.0 500.0 700.0 500.0 600.0 0.0 600.0 Z\" fill-rule=\"evenodd\" id=\"p_L0C1\" /><g class=\"NavigableBoundary None\" id=\"L0B7\" onclick=\"(function(event){alert('L0B7'); event.stopPropagation();})(event)\"><path d=\"M 500.0 1700.0 L 500.0 1500.0\" id=\"p_L0B7\" /></g><g class=\"CellSpaceBoundary None\" id=\"L0B10\" onclick=\"(function(event){alert('L0B10'); event.stopPropagation();})(event)\"><path d=\"M 500.0 1100.0 L 500.0 900.0\" id=\"p_L0B10\" /></g><g class=\"NavigableBoundary None\" id=\"L0B11\" onclick=\"(function(event){alert('L0B11'); event.stopPropagation();})(event)\"><path d=\"M 500.0 900.0 L 500.0 700.0\" id=\"p_L0B11\" /></g><g class=\"CellSpaceBoundary None\" id=\"L0B6\" onclick=\"(function(event){alert('L0B6'); event.stopPropagation();})(event)\"><path d=\"M 500.0 1900.0 L 500.0 1700.0\" id=\"p_L0B6\" /></g><g class=\"CellSpaceBoundary None\" id=\"L0B4\" onclick=\"(function(event){alert('L0B4'); event.stopPropagation();})(event)\"><path d=\"M 500.0 2200.0 L 500.0 2100.0\" id=\"p_L0B4\" /></g><g class=\"CellSpaceBoundary None\" id=\"L0B12\" onclick=\"(function(event){alert('L0B12'); event.stopPropagation();})(event)\"><path d=\"M 500.0 700.0 L 500.0 600.0\" id=\"p_L0B12\" /></g><g class=\"NavigableBoundary None\" id=\"L0B3\" onclick=\"(function(event){alert('L0B3'); event.stopPropagation();})(event)\"><path d=\"M 0.0 2200.0 L 500.0 2200.0\" id=\"p_L0B3\" /></g><g class=\"CellSpaceBoundary None\" id=\"L0B2\" onclick=\"(function(event){alert('L0B2'); event.stopPropagation();})(event)\"><path d=\"M 0.0 600.0 L 0.0 2200.0\" id=\"p_L0B2\" /></g><g class=\"CellSpaceBoundary None\" id=\"L0B8\" onclick=\"(function(event){alert('L0B8'); event.stopPropagation();})(event)\"><path d=\"M 500.0 1500.0 L 500.0 1300.0\" id=\"p_L0B8\" /></g><g class=\"NavigableBoundary None\" id=\"L0B5\" onclick=\"(function(event){alert('L0B5'); event.stopPropagation();})(event)\"><path d=\"M 500.0 2100.0 L 500.0 1900.0\" id=\"p_L0B5\" /></g><g class=\"NavigableBoundary None\" id=\"L0B1\" onclick=\"(function(event){alert('L0B1'); event.stopPropagation();})(event)\"><path d=\"M 500.0 600.0 L 0.0 600.0\" id=\"p_L0B1\" /></g><g class=\"NavigableBoundary None\" id=\"L0B9\" onclick=\"(function(event){alert('L0B9'); event.stopPropagation();})(event)\"><path d=\"M 500.0 1300.0 L 500.0 1100.0\" id=\"p_L0B9\" /></g></g><g class=\"CellSpace None\" id=\"L0C3\" onclick=\"(function(event){alert('L0C3'); event.stopPropagation();})(event)\"><path d=\"M 0.0 0.0 -30.0 0.0 L -30.0 2800.0 0.0 2800.0 0.0 2200.0 0.0 600.0 0.0 0.0 Z\" fill-rule=\"evenodd\" id=\"p_L0C3\" /><g class=\"CellSpaceBoundary None\" id=\"L0B57\" onclick=\"(function(event){alert('L0B57'); event.stopPropagation();})(event)\"><path d=\"M -30.0 0.0 L -30.0 2800.0\" id=\"p_L0B57\" /></g><g class=\"CellSpaceBoundary None\" id=\"L0B54\" onclick=\"(function(event){alert('L0B54'); event.stopPropagation();})(event)\"><path d=\"M -30.0 0.0 L 0.0 0.0\" id=\"p_L0B54\" /></g><g class=\"CellSpaceBoundary None\" id=\"L0B2\" onclick=\"(function(event){alert('L0B2'); event.stopPropagation();})(event)\"><path d=\"M 0.0 600.0 L 0.0 2200.0\" id=\"p_L0B2\" /></g><g class=\"CellSpaceBoundary None\" id=\"L0B47\" onclick=\"(function(event){alert('L0B47'); event.stopPropagation();})(event)\"><path d=\"M 0.0 2200.0 L 0.0 2800.0\" id=\"p_L0B47\" /></g><g class=\"CellSpaceBoundary None\" id=\"L0B49\" onclick=\"(function(event){alert('L0B49'); event.stopPropagation();})(event)\"><path d=\"M 0.0 2800.0 L -30.0 2800.0\" id=\"p_L0B49\" /></g><g class=\"CellSpaceBoundary None\" id=\"L0B52\" onclick=\"(function(event){alert('L0B52'); event.stopPropagation();})(event)\"><path d=\"M 0.0 0.0 L 0.0 600.0\" id=\"p_L0B52\" /></g></g><g class=\"GeneralSpace None\" id=\"L0C2\" onclick=\"(function(event){alert('L0C2'); event.stopPropagation();})(event)\"><path d=\"M 1000.0 600.0 1000.0 0.0 L 0.0 0.0 0.0 600.0 500.0 600.0 1000.0 600.0 Z\" fill-rule=\"evenodd\" id=\"p_L0C2\" /><g class=\"CellSpaceBoundary None\" id=\"L0B51\" onclick=\"(function(event){alert('L0B51'); event.stopPropagation();})(event)\"><path d=\"M 1000.0 0.0 L 0.0 0.0\" id=\"p_L0B51\" /></g><g class=\"CellSpaceBoundary None\" id=\"L0B34\" onclick=\"(function(event){alert('L0B34'); event.stopPropagation();})(event)\"><path d=\"M 1000.0 0.0 L 1000.0 600.0\" id=\"p_L0B34\" /></g><g class=\"CellSpaceBoundary None\" id=\"L0B25\" onclick=\"(function(event){alert('L0B25'); event.stopPropagation();})(event)\"><path d=\"M 1000.0 600.0 L 500.0 600.0\" id=\"p_L0B25\" /></g><g class=\"CellSpaceBoundary None\" id=\"L0B52\" onclick=\"(function(event){alert('L0B52'); event.stopPropagation();})(event)\"><path d=\"M 0.0 0.0 L 0.0 600.0\" id=\"p_L0B52\" /></g><g class=\"NavigableBoundary None\" id=\"L0B1\" onclick=\"(function(event){alert('L0B1'); event.stopPropagation();})(event)\"><path d=\"M 500.0 600.0 L 0.0 600.0\" id=\"p_L0B1\" /></g></g><g class=\"CellSpace None\" id=\"L0C5\" onclick=\"(function(event){alert('L0C5'); event.stopPropagation();})(event)\"><path d=\"M 520.0 2180.0 520.0 2100.0 L 500.0 2100.0 500.0 2200.0 1000.0 2200.0 1000.0 2180.0 520.0 2180.0 Z\" fill-rule=\"evenodd\" id=\"p_L0C5\" /><g class=\"CellSpaceBoundary None\" id=\"L0B56\" onclick=\"(function(event){alert('L0B56'); event.stopPropagation();})(event)\"><path d=\"M 1000.0 2180.0 L 520.0 2180.0 520.0 2100.0\" id=\"p_L0B56\" /></g><g class=\"CellSpaceBoundary None\" id=\"L0B46\" onclick=\"(function(event){alert('L0B46'); event.stopPropagation();})(event)\"><path d=\"M 1000.0 2200.0 L 500.0 2200.0\" id=\"p_L0B46\" /></g><g class=\"CellSpaceBoundary None\" id=\"L0B4\" onclick=\"(function(event){alert('L0B4'); event.stopPropagation();})(event)\"><path d=\"M 500.0 2200.0 L 500.0 2100.0\" id=\"p_L0B4\" /></g><g class=\"CellSpaceBoundary None\" id=\"L0B44\" onclick=\"(function(event){alert('L0B44'); event.stopPropagation();})(event)\"><path d=\"M 500.0 2100.0 L 520.0 2100.0\" id=\"p_L0B44\" /></g><g class=\"CellSpaceBoundary None\" id=\"L0B39\" onclick=\"(function(event){alert('L0B39'); event.stopPropagation();})(event)\"><path d=\"M 1000.0 2180.0 L 1000.0 2200.0\" id=\"p_L0B39\" /></g></g><g class=\"GeneralSpace None\" id=\"L0C4\" onclick=\"(function(event){alert('L0C4'); event.stopPropagation();})(event)\"><path d=\"M 0.0 2200.0 0.0 2800.0 L 1000.0 2800.0 1000.0 2200.0 500.0 2200.0 0.0 2200.0 Z\" fill-rule=\"evenodd\" id=\"p_L0C4\" /><g class=\"CellSpaceBoundary None\" id=\"L0B48\" onclick=\"(function(event){alert('L0B48'); event.stopPropagation();})(event)\"><path d=\"M 0.0 2800.0 L 1000.0 2800.0\" id=\"p_L0B48\" /></g><g class=\"CellSpaceBoundary None\" id=\"L0B46\" onclick=\"(function(event){alert('L0B46'); event.stopPropagation();})(event)\"><path d=\"M 1000.0 2200.0 L 500.0 2200.0\" id=\"p_L0B46\" /></g><g class=\"CellSpaceBoundary None\" id=\"L0B40\" onclick=\"(function(event){alert('L0B40'); event.stopPropagation();})(event)\"><path d=\"M 1000.0 2200.0 L 1000.0 2800.0\" id=\"p_L0B40\" /></g><g class=\"NavigableBoundary None\" id=\"L0B3\" onclick=\"(function(event){alert('L0B3'); event.stopPropagation();})(event)\"><path d=\"M 0.0 2200.0 L 500.0 2200.0\" id=\"p_L0B3\" /></g><g class=\"CellSpaceBoundary None\" id=\"L0B47\" onclick=\"(function(event){alert('L0B47'); event.stopPropagation();})(event)\"><path d=\"M 0.0 2200.0 L 0.0 2800.0\" id=\"p_L0B47\" /></g></g><g class=\"CellSpace None\" id=\"L0C7\" onclick=\"(function(event){alert('L0C7'); event.stopPropagation();})(event)\"><path d=\"M 500.0 1700.0 500.0 1900.0 L 520.0 1900.0 520.0 1820.0 1000.0 1820.0 1000.0 1780.0 520.0 1780.0 520.0 1700.0 500.0 1700.0 Z\" fill-rule=\"evenodd\" id=\"p_L0C7\" /><g class=\"CellSpaceBoundary None\" id=\"L0B16\" onclick=\"(function(event){alert('L0B16'); event.stopPropagation();})(event)\"><path d=\"M 500.0 1900.0 L 520.0 1900.0\" id=\"p_L0B16\" /></g><g class=\"CellSpaceBoundary None\" id=\"L0B6\" onclick=\"(function(event){alert('L0B6'); event.stopPropagation();})(event)\"><path d=\"M 500.0 1900.0 L 500.0 1700.0\" id=\"p_L0B6\" /></g><g class=\"CellSpaceBoundary None\" id=\"L0B17\" onclick=\"(function(event){alert('L0B17'); event.stopPropagation();})(event)\"><path d=\"M 520.0 1900.0 L 520.0 1820.0 1000.0 1820.0\" id=\"p_L0B17\" /></g><g class=\"CellSpaceBoundary None\" id=\"L0B13\" onclick=\"(function(event){alert('L0B13'); event.stopPropagation();})(event)\"><path d=\"M 500.0 1700.0 L 520.0 1700.0\" id=\"p_L0B13\" /></g><g class=\"CellSpaceBoundary None\" id=\"L0B18\" onclick=\"(function(event){alert('L0B18'); event.stopPropagation();})(event)\"><path d=\"M 1000.0 1820.0 L 1000.0 1780.0\" id=\"p_L0B18\" /></g><g class=\"CellSpaceBoundary None\" id=\"L0B19\" onclick=\"(function(event){alert('L0B19'); event.stopPropagation();})(event)\"><path d=\"M 1000.0 1780.0 L 520.0 1780.0 520.0 1700.0\" id=\"p_L0B19\" /></g></g><g class=\"ConnectionSpace None\" id=\"L0C6\" onclick=\"(function(event){alert('L0C6'); event.stopPropagation();})(event)\"><path d=\"M 500.0 2100.0 520.0 2100.0 L 520.0 1900.0 500.0 1900.0 500.0 2100.0 Z\" fill-rule=\"evenodd\" id=\"p_L0C6\" /><g class=\"CellSpaceBoundary None\" id=\"L0B16\" onclick=\"(function(event){alert('L0B16'); event.stopPropagation();})(event)\"><path d=\"M 500.0 1900.0 L 520.0 1900.0\" id=\"p_L0B16\" /></g><g class=\"CellSpaceBoundary None\" id=\"L0B44\" onclick=\"(function(event){alert('L0B44'); event.stopPropagation();})(event)\"><path d=\"M 500.0 2100.0 L 520.0 2100.0\" id=\"p_L0B44\" /></g><g class=\"NavigableBoundary None\" id=\"L0B5\" onclick=\"(function(event){alert('L0B5'); event.stopPropagation();})(event)\"><path d=\"M 500.0 2100.0 L 500.0 1900.0\" id=\"p_L0B5\" /></g><g class=\"NavigableBoundary None\" id=\"L0B45\" onclick=\"(function(event){alert('L0B45'); event.stopPropagation();})(event)\"><path d=\"M 520.0 2100.0 L 520.0 1900.0\" id=\"p_L0B45\" /></g></g></g></g></g><g transform=\"translate(1560.0, 0)\"><g class=\"SpaceLayer TAGS Semantic\" id=\"L1\" onclick=\"(function(event){alert('L1'); event.stopPropagation();})(event)\"><g class=\"cells\"><g class=\"CellSpace None\" id=\"L1C1\" onclick=\"(function(event){alert('L1C1'); event.stopPropagation();})(event)\"><path d=\"M 0.0 2800.0 1000.0 2800.0 L 1000.0 2200.0 500.0 2200.0 0.0 2200.0 0.0 2800.0 Z\" fill-rule=\"evenodd\" id=\"p_L1C1\" /><g class=\"CellSpaceBoundary None\" id=\"L1B1\" onclick=\"(function(event){alert('L1B1'); event.stopPropagation();})(event)\"><path d=\"M 0.0 2200.0 L 0.0 2800.0 1000.0 2800.0 1000.0 2200.0 500.0 2200.0\" id=\"p_L1B1\" /></g><g class=\"CellSpaceBoundary None\" id=\"L1B2\" onclick=\"(function(event){alert('L1B2'); event.stopPropagation();})(event)\"><path d=\"M 500.0 2200.0 L 0.0 2200.0\" id=\"p_L1B2\" /></g></g><g class=\"CellSpace None\" id=\"L1C3\" onclick=\"(function(event){alert('L1C3'); event.stopPropagation();})(event)\"><path d=\"M 0.0 600.0 0.0 2200.0 L 500.0 2200.0 500.0 2100.0 500.0 1900.0 500.0 1700.0 500.0 1500.0 500.0 1300.0 500.0 1100.0 500.0 900.0 500.0 700.0 500.0 600.0 0.0 600.0 Z\" fill-rule=\"evenodd\" id=\"p_L1C3\" /><g class=\"CellSpaceBoundary None\" id=\"L1B3\" onclick=\"(function(event){alert('L1B3'); event.stopPropagation();})(event)\"><path d=\"M 500.0 600.0 L 0.0 600.0\" id=\"p_L1B3\" /></g><g class=\"CellSpaceBoundary None\" id=\"L1B12\" onclick=\"(function(event){alert('L1B12'); event.stopPropagation();})(event)\"><path d=\"M 500.0 900.0 L 500.0 700.0\" id=\"p_L1B12\" /></g><g class=\"CellSpaceBoundary None\" id=\"L1B5\" onclick=\"(function(event){alert('L1B5'); event.stopPropagation();})(event)\"><path d=\"M 500.0 2200.0 L 500.0 2100.0\" id=\"p_L1B5\" /></g><g class=\"CellSpaceBoundary None\" id=\"L1B10\" onclick=\"(function(event){alert('L1B10'); event.stopPropagation();})(event)\"><path d=\"M 500.0 1300.0 L 500.0 1100.0\" id=\"p_L1B10\" /></g><g class=\"CellSpaceBoundary None\" id=\"L1B2\" onclick=\"(function(event){alert('L1B2'); event.stopPropagation();})(event)\"><path d=\"M 500.0 2200.0 L 0.0 2200.0\" id=\"p_L1B2\" /></g><g class=\"CellSpaceBoundary None\" id=\"L1B9\" onclick=\"(function(event){alert('L1B9'); event.stopPropagation();})(event)\"><path d=\"M 500.0 1500.0 L 500.0 1300.0\" id=\"p_L1B9\" /></g><g class=\"CellSpaceBoundary None\" id=\"L1B11\" onclick=\"(function(event){alert('L1B11'); event.stopPropagation();})(event)\"><path d=\"M 500.0 1100.0 L 500.0 900.0\" id=\"p_L1B11\" /></g><g class=\"CellSpaceBoundary None\" id=\"L1B13\" onclick=\"(function(event){alert('L1B13'); event.stopPropagation();})(event)\"><path d=\"M 500.0 700.0 L 500.0 600.0\" id=\"p_L1B13\" /></g><g class=\"CellSpaceBoundary None\" id=\"L1B8\" onclick=\"(function(event){alert('L1B8'); event.stopPropagation();})(event)\"><path d=\"M 500.0 1700.0 L 500.0 1500.0\" id=\"p_L1B8\" /></g><g class=\"CellSpaceBoundary None\" id=\"L1B4\" onclick=\"(function(event){alert('L1B4'); event.stopPropagation();})(event)\"><path d=\"M 0.0 600.0 L 0.0 2200.0\" id=\"p_L1B4\" /></g><g class=\"CellSpaceBoundary None\" id=\"L1B7\" onclick=\"(function(event){alert('L1B7'); event.stopPropagation();})(event)\"><path d=\"M 500.0 1900.0 L 500.0 1700.0\" id=\"p_L1B7\" /></g><g class=\"CellSpaceBoundary None\" id=\"L1B6\" onclick=\"(function(event){alert('L1B6'); event.stopPropagation();})(event)\"><path d=\"M 500.0 2100.0 L 500.0 1900.0\" id=\"p_L1B6\" /></g></g><g class=\"CellSpace None\" id=\"L1C4\" onclick=\"(function(event){alert('L1C4'); event.stopPropagation();})(event)\"><path d=\"M 1000.0 600.0 1000.0 0.0 L 0.0 0.0 0.0 600.0 500.0 600.0 1000.0 600.0 Z\" fill-rule=\"evenodd\" id=\"p_L1C4\" /><g class=\"CellSpaceBoundary None\" id=\"L1B3\" onclick=\"(function(event){alert('L1B3'); event.stopPropagation();})(event)\"><path d=\"M 500.0 600.0 L 0.0 600.0\" id=\"p_L1B3\" /></g><g class=\"CellSpaceBoundary None\" id=\"L1B18\" onclick=\"(function(event){alert('L1B18'); event.stopPropagation();})(event)\"><path d=\"M 500.0 600.0 L 1000.0 600.0 1000.0 0.0 0.0 0.0 0.0 600.0\" id=\"p_L1B18\" /></g></g><g class=\"CellSpace None\" id=\"L1C5\" onclick=\"(function(event){alert('L1C5'); event.stopPropagation();})(event)\"><path d=\"M 500.0 2100.0 520.0 2100.0 L 520.0 2180.0 1000.0 2180.0 1000.0 1820.0 520.0 1820.0 520.0 1900.0 500.0 1900.0 500.0 2100.0 Z\" fill-rule=\"evenodd\" id=\"p_L1C5\" /><g class=\"CellSpaceBoundary None\" id=\"L1B6\" onclick=\"(function(event){alert('L1B6'); event.stopPropagation();})(event)\"><path d=\"M 500.0 2100.0 L 500.0 1900.0\" id=\"p_L1B6\" /></g><g class=\"CellSpaceBoundary None\" id=\"L1B14\" onclick=\"(function(event){alert('L1B14'); event.stopPropagation();})(event)\"><path d=\"M 500.0 2100.0 L 520.0 2100.0 520.0 2180.0 1000.0 2180.0 1000.0 1820.0 520.0 1820.0 520.0 1900.0 500.0 1900.0\" id=\"p_L1B14\" /></g></g><g class=\"CellSpace None\" id=\"L1C6\" onclick=\"(function(event){alert('L1C6'); event.stopPropagation();})(event)\"><path d=\"M 520.0 1700.0 520.0 1780.0 L 1000.0 1780.0 1000.0 1420.0 520.0 1420.0 520.0 1500.0 500.0 1500.0 500.0 1700.0 520.0 1700.0 Z\" fill-rule=\"evenodd\" id=\"p_L1C6\" /><g class=\"CellSpaceBoundary None\" id=\"L1B15\" onclick=\"(function(event){alert('L1B15'); event.stopPropagation();})(event)\"><path d=\"M 500.0 1700.0 L 520.0 1700.0 520.0 1780.0 1000.0 1780.0 1000.0 1420.0 520.0 1420.0 520.0 1500.0 500.0 1500.0\" id=\"p_L1B15\" /></g><g class=\"CellSpaceBoundary None\" id=\"L1B8\" onclick=\"(function(event){alert('L1B8'); event.stopPropagation();})(event)\"><path d=\"M 500.0 1700.0 L 500.0 1500.0\" id=\"p_L1B8\" /></g></g><g class=\"CellSpace None\" id=\"L1C7\" onclick=\"(function(event){alert('L1C7'); event.stopPropagation();})(event)\"><path d=\"M 520.0 1300.0 520.0 1380.0 L 1000.0 1380.0 1000.0 1020.0 520.0 1020.0 520.0 1100.0 500.0 1100.0 500.0 1300.0 520.0 1300.0 Z\" fill-rule=\"evenodd\" id=\"p_L1C7\" /><g class=\"CellSpaceBoundary None\" id=\"L1B10\" onclick=\"(function(event){alert('L1B10'); event.stopPropagation();})(event)\"><path d=\"M 500.0 1300.0 L 500.0 1100.0\" id=\"p_L1B10\" /></g><g class=\"CellSpaceBoundary None\" id=\"L1B16\" onclick=\"(function(event){alert('L1B16'); event.stopPropagation();})(event)\"><path d=\"M 500.0 1300.0 L 520.0 1300.0 520.0 1380.0 1000.0 1380.0 1000.0 1020.0 520.0 1020.0 520.0 1100.0 500.0 1100.0\" id=\"p_L1B16\" /></g></g><g class=\"CellSpace None\" id=\"L1C8\" onclick=\"(function(event){alert('L1C8'); event.stopPropagation();})(event)\"><path d=\"M 520.0 900.0 520.0 980.0 L 1000.0 980.0 1000.0 620.0 520.0 620.0 520.0 700.0 500.0 700.0 500.0 900.0 520.0 900.0 Z\" fill-rule=\"evenodd\" id=\"p_L1C8\" /><g class=\"CellSpaceBoundary None\" id=\"L1B12\" onclick=\"(function(event){alert('L1B12'); event.stopPropagation();})(event)\"><path d=\"M 500.0 900.0 L 500.0 700.0\" id=\"p_L1B12\" /></g><g class=\"CellSpaceBoundary None\" id=\"L1B17\" onclick=\"(function(event){alert('L1B17'); event.stopPropagation();})(event)\"><path d=\"M 500.0 900.0 L 520.0 900.0 520.0 980.0 1000.0 980.0 1000.0 620.0 520.0 620.0 520.0 700.0 500.0 700.0\" id=\"p_L1B17\" /></g></g></g></g></g><g transform=\"translate(3120.0, 0)\"><g class=\"SpaceLayer SENSOR Camera\" id=\"L2\" onclick=\"(function(event){alert('L2'); event.stopPropagation();})(event)\"><g class=\"cells\"><g class=\"CellSpace None\" id=\"L2C3\" onclick=\"(function(event){alert('L2C3'); event.stopPropagation();})(event)\"><path d=\"M 500.0 2200.0 500.0 1400.0 L 0.0 1400.0 0.0 2200.0 500.0 2200.0 Z\" fill-rule=\"evenodd\" id=\"p_L2C3\" /><g class=\"CellSpaceBoundary None\" id=\"L2B5\" onclick=\"(function(event){alert('L2B5'); event.stopPropagation();})(event)\"><path d=\"M 0.0 1400.0 L 500.0 1400.0\" id=\"p_L2B5\" /></g><g class=\"CellSpaceBoundary None\" id=\"L2B2\" onclick=\"(function(event){alert('L2B2'); event.stopPropagation();})(event)\"><path d=\"M 500.0 1400.0 L 500.0 2200.0 0.0 2200.0\" id=\"p_L2B2\" /></g><g class=\"CellSpaceBoundary None\" id=\"L2B6\" onclick=\"(function(event){alert('L2B6'); event.stopPropagation();})(event)\"><path d=\"M 0.0 1400.0 L 0.0 2200.0\" id=\"p_L2B6\" /></g></g><g class=\"CellSpace None\" id=\"L2C2\" onclick=\"(function(event){alert('L2C2'); event.stopPropagation();})(event)\"><path d=\"M 0.0 1400.0 500.0 1400.0 L 500.0 600.0 0.0 600.0 0.0 1400.0 Z\" fill-rule=\"evenodd\" id=\"p_L2C2\" /><g class=\"CellSpaceBoundary None\" id=\"L2B5\" onclick=\"(function(event){alert('L2B5'); event.stopPropagation();})(event)\"><path d=\"M 0.0 1400.0 L 500.0 1400.0\" id=\"p_L2B5\" /></g><g class=\"CellSpaceBoundary None\" id=\"L2B4\" onclick=\"(function(event){alert('L2B4'); event.stopPropagation();})(event)\"><path d=\"M 0.0 600.0 L 0.0 1400.0\" id=\"p_L2B4\" /></g><g class=\"CellSpaceBoundary None\" id=\"L2B1\" onclick=\"(function(event){alert('L2B1'); event.stopPropagation();})(event)\"><path d=\"M 0.0 600.0 L 500.0 600.0 500.0 1400.0\" id=\"p_L2B1\" /></g></g><g class=\"CellSpace None\" id=\"L2C1\" onclick=\"(function(event){alert('L2C1'); event.stopPropagation();})(event)\"><path d=\"M 500.0 600.0 500.0 1400.0 L 500.0 2200.0 0.0 2200.0 0.0 2800.0 1000.0 2800.0 1000.0 0.0 0.0 0.0 0.0 600.0 500.0 600.0 Z\" fill-rule=\"evenodd\" id=\"p_L2C1\" /><g class=\"CellSpaceBoundary None\" id=\"L2B3\" onclick=\"(function(event){alert('L2B3'); event.stopPropagation();})(event)\"><path d=\"M 0.0 2200.0 L 0.0 2800.0 1000.0 2800.0 1000.0 0.0 0.0 0.0 0.0 600.0\" id=\"p_L2B3\" /></g><g class=\"CellSpaceBoundary None\" id=\"L2B1\" onclick=\"(function(event){alert('L2B1'); event.stopPropagation();})(event)\"><path d=\"M 0.0 600.0 L 500.0 600.0 500.0 1400.0\" id=\"p_L2B1\" /></g><g class=\"CellSpaceBoundary None\" id=\"L2B2\" onclick=\"(function(event){alert('L2B2'); event.stopPropagation();})(event)\"><path d=\"M 500.0 1400.0 L 500.0 2200.0 0.0 2200.0\" id=\"p_L2B2\" /></g></g></g></g></g><g transform=\"translate(4680.0, 0)\"><g class=\"SpaceLayer SENSOR Localization\" id=\"L3\" onclick=\"(function(event){alert('L3'); event.stopPropagation();})(event)\"><g class=\"cells\"><g class=\"CellSpace None\" id=\"L3C1\" onclick=\"(function(event){alert('L3C1'); event.stopPropagation();})(event)\"><path d=\"M 1000.0 2800.0 1000.0 0.0 L 0.0 0.0 0.0 2800.0 1000.0 2800.0 Z\" fill-rule=\"evenodd\" id=\"p_L3C1\" /><g class=\"CellSpaceBoundary None\" id=\"L3B1\" onclick=\"(function(event){alert('L3B1'); event.stopPropagation();})(event)\"><path d=\"M 0.0 2800.0 L 1000.0 2800.0 1000.0 0.0 0.0 0.0 0.0 2800.0\" id=\"p_L3B1\" /></g></g></g></g></g><g transform=\"translate(6240.0, 0)\"><g class=\"SpaceLayer TOPOGRAPHIC Navigation\" id=\"W\" onclick=\"(function(event){alert('W'); event.stopPropagation();})(event)\"><g class=\"cells\"><g class=\"GeneralSpace None\" id=\"WC20\" onclick=\"(function(event){alert('WC20'); event.stopPropagation();})(event)\"><path d=\"M 560.0 1540.0 560.0 1660.0 L 520.0 1660.0 520.0 1540.0 560.0 1540.0 Z\" fill-rule=\"evenodd\" id=\"p_WC20\" /><g class=\"NavigableBoundary None\" id=\"WB8\" onclick=\"(function(event){alert('WB8'); event.stopPropagation();})(event)\"><path d=\"M 520.0 1660.0 L 520.0 1540.0\" id=\"p_WB8\" /></g><g class=\"NavigableBoundary None\" id=\"WB52\" onclick=\"(function(event){alert('WB52'); event.stopPropagation();})(event)\"><path d=\"M 560.0 1540.0 L 560.0 1660.0\" id=\"p_WB52\" /></g><g class=\"CellSpaceBoundary None\" id=\"WB54\" onclick=\"(function(event){alert('WB54'); event.stopPropagation();})(event)\"><path d=\"M 520.0 1540.0 L 560.0 1540.0\" id=\"p_WB54\" /></g><g class=\"CellSpaceBoundary None\" id=\"WB53\" onclick=\"(function(event){alert('WB53'); event.stopPropagation();})(event)\"><path d=\"M 560.0 1660.0 L 520.0 1660.0\" id=\"p_WB53\" /></g></g><g class=\"GeneralSpace None\" id=\"WC19\" onclick=\"(function(event){alert('WC19'); event.stopPropagation();})(event)\"><path d=\"M 560.0 740.0 560.0 860.0 L 520.0 860.0 520.0 740.0 560.0 740.0 Z\" fill-rule=\"evenodd\" id=\"p_WC19\" /><g class=\"NavigableBoundary None\" id=\"WB49\" onclick=\"(function(event){alert('WB49'); event.stopPropagation();})(event)\"><path d=\"M 560.0 740.0 L 560.0 860.0\" id=\"p_WB49\" /></g><g class=\"NavigableBoundary None\" id=\"WB7\" onclick=\"(function(event){alert('WB7'); event.stopPropagation();})(event)\"><path d=\"M 520.0 860.0 L 520.0 740.0\" id=\"p_WB7\" /></g><g class=\"CellSpaceBoundary None\" id=\"WB51\" onclick=\"(function(event){alert('WB51'); event.stopPropagation();})(event)\"><path d=\"M 520.0 740.0 L 560.0 740.0\" id=\"p_WB51\" /></g><g class=\"CellSpaceBoundary None\" id=\"WB50\" onclick=\"(function(event){alert('WB50'); event.stopPropagation();})(event)\"><path d=\"M 560.0 860.0 L 520.0 860.0\" id=\"p_WB50\" /></g></g><g class=\"GeneralSpace None\" id=\"WC16\" onclick=\"(function(event){alert('WC16'); event.stopPropagation();})(event)\"><path d=\"M 460.0 2240.0 40.0 2240.0 L 40.0 2200.0 460.0 2200.0 460.0 2240.0 Z\" fill-rule=\"evenodd\" id=\"p_WC16\" /><g class=\"NavigableBoundary None\" id=\"WB4\" onclick=\"(function(event){alert('WB4'); event.stopPropagation();})(event)\"><path d=\"M 40.0 2200.0 L 460.0 2200.0\" id=\"p_WB4\" /></g><g class=\"CellSpaceBoundary None\" id=\"WB41\" onclick=\"(function(event){alert('WB41'); event.stopPropagation();})(event)\"><path d=\"M 40.0 2240.0 L 40.0 2200.0\" id=\"p_WB41\" /></g><g class=\"CellSpaceBoundary None\" id=\"WB42\" onclick=\"(function(event){alert('WB42'); event.stopPropagation();})(event)\"><path d=\"M 460.0 2200.0 L 460.0 2240.0\" id=\"p_WB42\" /></g><g class=\"NavigableBoundary None\" id=\"WB40\" onclick=\"(function(event){alert('WB40'); event.stopPropagation();})(event)\"><path d=\"M 460.0 2240.0 L 40.0 2240.0\" id=\"p_WB40\" /></g></g><g class=\"TransitionSpace None\" id=\"WC15\" onclick=\"(function(event){alert('WC15'); event.stopPropagation();})(event)\"><path d=\"M 460.0 1940.0 460.0 2060.0 L 460.0 2200.0 40.0 2200.0 40.0 1400.0 460.0 1400.0 460.0 1540.0 460.0 1660.0 460.0 1940.0 Z\" fill-rule=\"evenodd\" id=\"p_WC15\" /><g class=\"CellSpaceBoundary None\" id=\"WB39\" onclick=\"(function(event){alert('WB39'); event.stopPropagation();})(event)\"><path d=\"M 460.0 1660.0 L 460.0 1940.0\" id=\"p_WB39\" /></g><g class=\"NavigableBoundary None\" id=\"WB37\" onclick=\"(function(event){alert('WB37'); event.stopPropagation();})(event)\"><path d=\"M 460.0 1940.0 L 460.0 2060.0\" id=\"p_WB37\" /></g><g class=\"CellSpaceBoundary None\" id=\"WB36\" onclick=\"(function(event){alert('WB36'); event.stopPropagation();})(event)\"><path d=\"M 460.0 1400.0 L 460.0 1540.0\" id=\"p_WB36\" /></g><g class=\"NavigableBoundary None\" id=\"WB4\" onclick=\"(function(event){alert('WB4'); event.stopPropagation();})(event)\"><path d=\"M 40.0 2200.0 L 460.0 2200.0\" id=\"p_WB4\" /></g><g class=\"NavigableBoundary None\" id=\"WB34\" onclick=\"(function(event){alert('WB34'); event.stopPropagation();})(event)\"><path d=\"M 460.0 1540.0 L 460.0 1660.0\" id=\"p_WB34\" /></g><g class=\"CellSpaceBoundary None\" id=\"WB16\" onclick=\"(function(event){alert('WB16'); event.stopPropagation();})(event)\"><path d=\"M 40.0 2200.0 L 40.0 1400.0\" id=\"p_WB16\" /></g><g class=\"CellSpaceBoundary None\" id=\"WB38\" onclick=\"(function(event){alert('WB38'); event.stopPropagation();})(event)\"><path d=\"M 460.0 2060.0 L 460.0 2200.0\" id=\"p_WB38\" /></g><g class=\"NavigableBoundary None\" id=\"WB31\" onclick=\"(function(event){alert('WB31'); event.stopPropagation();})(event)\"><path d=\"M 40.0 1400.0 L 460.0 1400.0\" id=\"p_WB31\" /></g></g><g class=\"GeneralSpace None\" id=\"WC18\" onclick=\"(function(event){alert('WC18'); event.stopPropagation();})(event)\"><path d=\"M 560.0 1940.0 560.0 2060.0 L 520.0 2060.0 520.0 1940.0 560.0 1940.0 Z\" fill-rule=\"evenodd\" id=\"p_WC18\" /><g class=\"CellSpaceBoundary None\" id=\"WB47\" onclick=\"(function(event){alert('WB47'); event.stopPropagation();})(event)\"><path d=\"M 560.0 2060.0 L 520.0 2060.0\" id=\"p_WB47\" /></g><g class=\"CellSpaceBoundary None\" id=\"WB48\" onclick=\"(function(event){alert('WB48'); event.stopPropagation();})(event)\"><path d=\"M 520.0 1940.0 L 560.0 1940.0\" id=\"p_WB48\" /></g><g class=\"NavigableBoundary None\" id=\"WB6\" onclick=\"(function(event){alert('WB6'); event.stopPropagation();})(event)\"><path d=\"M 520.0 2060.0 L 520.0 1940.0\" id=\"p_WB6\" /></g><g class=\"NavigableBoundary None\" id=\"WB46\" onclick=\"(function(event){alert('WB46'); event.stopPropagation();})(event)\"><path d=\"M 560.0 1940.0 L 560.0 2060.0\" id=\"p_WB46\" /></g></g><g class=\"GeneralSpace None\" id=\"WC17\" onclick=\"(function(event){alert('WC17'); event.stopPropagation();})(event)\"><path d=\"M 460.0 560.0 40.0 560.0 L 40.0 40.0 960.0 40.0 960.0 560.0 460.0 560.0 Z\" fill-rule=\"evenodd\" id=\"p_WC17\" /><g class=\"NavigableBoundary None\" id=\"WB43\" onclick=\"(function(event){alert('WB43'); event.stopPropagation();})(event)\"><path d=\"M 460.0 560.0 L 40.0 560.0\" id=\"p_WB43\" /></g><g class=\"CellSpaceBoundary None\" id=\"WB44\" onclick=\"(function(event){alert('WB44'); event.stopPropagation();})(event)\"><path d=\"M 40.0 560.0 L 40.0 40.0 960.0 40.0 960.0 560.0 460.0 560.0\" id=\"p_WB44\" /></g></g><g class=\"GeneralSpace None\" id=\"WC12\" onclick=\"(function(event){alert('WC12'); event.stopPropagation();})(event)\"><path d=\"M 560.0 1260.0 560.0 1140.0 L 560.0 1060.0 960.0 1060.0 960.0 1340.0 560.0 1340.0 560.0 1260.0 Z\" fill-rule=\"evenodd\" id=\"p_WC12\" /><g class=\"NavigableBoundary None\" id=\"WB61\" onclick=\"(function(event){alert('WB61'); event.stopPropagation();})(event)\"><path d=\"M 560.0 1140.0 L 560.0 1260.0\" id=\"p_WB61\" /></g><g class=\"CellSpaceBoundary None\" id=\"WB30\" onclick=\"(function(event){alert('WB30'); event.stopPropagation();})(event)\"><path d=\"M 560.0 1140.0 L 560.0 1060.0 960.0 1060.0 960.0 1340.0 560.0 1340.0 560.0 1260.0\" id=\"p_WB30\" /></g></g><g class=\"GeneralSpace None\" id=\"WC11\" onclick=\"(function(event){alert('WC11'); event.stopPropagation();})(event)\"><path d=\"M 560.0 860.0 560.0 740.0 L 560.0 660.0 960.0 660.0 960.0 940.0 560.0 940.0 560.0 860.0 Z\" fill-rule=\"evenodd\" id=\"p_WC11\" /><g class=\"CellSpaceBoundary None\" id=\"WB28\" onclick=\"(function(event){alert('WB28'); event.stopPropagation();})(event)\"><path d=\"M 560.0 740.0 L 560.0 660.0 960.0 660.0 960.0 940.0 560.0 940.0 560.0 860.0\" id=\"p_WB28\" /></g><g class=\"NavigableBoundary None\" id=\"WB49\" onclick=\"(function(event){alert('WB49'); event.stopPropagation();})(event)\"><path d=\"M 560.0 740.0 L 560.0 860.0\" id=\"p_WB49\" /></g></g><g class=\"TransitionSpace None\" id=\"WC14\" onclick=\"(function(event){alert('WC14'); event.stopPropagation();})(event)\"><path d=\"M 460.0 2060.0 460.0 1940.0 L 500.0 1940.0 500.0 2060.0 460.0 2060.0 Z\" fill-rule=\"evenodd\" id=\"p_WC14\" /><g class=\"CellSpaceBoundary None\" id=\"WB11\" onclick=\"(function(event){alert('WB11'); event.stopPropagation();})(event)\"><path d=\"M 500.0 2060.0 L 460.0 2060.0\" id=\"p_WB11\" /></g><g class=\"NavigableBoundary None\" id=\"WB3\" onclick=\"(function(event){alert('WB3'); event.stopPropagation();})(event)\"><path d=\"M 500.0 2060.0 L 500.0 1940.0\" id=\"p_WB3\" /></g><g class=\"NavigableBoundary None\" id=\"WB37\" onclick=\"(function(event){alert('WB37'); event.stopPropagation();})(event)\"><path d=\"M 460.0 1940.0 L 460.0 2060.0\" id=\"p_WB37\" /></g><g class=\"CellSpaceBoundary None\" id=\"WB35\" onclick=\"(function(event){alert('WB35'); event.stopPropagation();})(event)\"><path d=\"M 460.0 1940.0 L 500.0 1940.0\" id=\"p_WB35\" /></g></g><g class=\"TransitionSpace None\" id=\"WC13\" onclick=\"(function(event){alert('WC13'); event.stopPropagation();})(event)\"><path d=\"M 460.0 860.0 460.0 740.0 L 500.0 740.0 500.0 860.0 460.0 860.0 Z\" fill-rule=\"evenodd\" id=\"p_WC13\" /><g class=\"CellSpaceBoundary None\" id=\"WB15\" onclick=\"(function(event){alert('WB15'); event.stopPropagation();})(event)\"><path d=\"M 460.0 740.0 L 500.0 740.0\" id=\"p_WB15\" /></g><g class=\"CellSpaceBoundary None\" id=\"WB14\" onclick=\"(function(event){alert('WB14'); event.stopPropagation();})(event)\"><path d=\"M 500.0 860.0 L 460.0 860.0\" id=\"p_WB14\" /></g><g class=\"NavigableBoundary None\" id=\"WB9\" onclick=\"(function(event){alert('WB9'); event.stopPropagation();})(event)\"><path d=\"M 500.0 860.0 L 500.0 740.0\" id=\"p_WB9\" /></g><g class=\"NavigableBoundary None\" id=\"WB55\" onclick=\"(function(event){alert('WB55'); event.stopPropagation();})(event)\"><path d=\"M 460.0 740.0 L 460.0 860.0\" id=\"p_WB55\" /></g></g><g class=\"TransitionSpace None\" id=\"WC21\" onclick=\"(function(event){alert('WC21'); event.stopPropagation();})(event)\"><path d=\"M 460.0 1260.0 460.0 1140.0 L 500.0 1140.0 500.0 1260.0 460.0 1260.0 Z\" fill-rule=\"evenodd\" id=\"p_WC21\" /><g class=\"CellSpaceBoundary None\" id=\"WB33\" onclick=\"(function(event){alert('WB33'); event.stopPropagation();})(event)\"><path d=\"M 500.0 1260.0 L 460.0 1260.0\" id=\"p_WB33\" /></g><g class=\"CellSpaceBoundary None\" id=\"WB56\" onclick=\"(function(event){alert('WB56'); event.stopPropagation();})(event)\"><path d=\"M 460.0 1140.0 L 500.0 1140.0\" id=\"p_WB56\" /></g><g class=\"NavigableBoundary None\" id=\"WB1\" onclick=\"(function(event){alert('WB1'); event.stopPropagation();})(event)\"><path d=\"M 500.0 1260.0 L 500.0 1140.0\" id=\"p_WB1\" /></g><g class=\"NavigableBoundary None\" id=\"WB58\" onclick=\"(function(event){alert('WB58'); event.stopPropagation();})(event)\"><path d=\"M 460.0 1140.0 L 460.0 1260.0\" id=\"p_WB58\" /></g></g><g class=\"TransitionSpace None\" id=\"WC22\" onclick=\"(function(event){alert('WC22'); event.stopPropagation();})(event)\"><path d=\"M 460.0 1140.0 460.0 1260.0 L 460.0 1400.0 40.0 1400.0 40.0 600.0 460.0 600.0 460.0 740.0 460.0 860.0 460.0 1140.0 Z\" fill-rule=\"evenodd\" id=\"p_WC22\" /><g class=\"CellSpaceBoundary None\" id=\"WB59\" onclick=\"(function(event){alert('WB59'); event.stopPropagation();})(event)\"><path d=\"M 460.0 1260.0 L 460.0 1400.0\" id=\"p_WB59\" /></g><g class=\"CellSpaceBoundary None\" id=\"WB57\" onclick=\"(function(event){alert('WB57'); event.stopPropagation();})(event)\"><path d=\"M 460.0 600.0 L 460.0 740.0\" id=\"p_WB57\" /></g><g class=\"NavigableBoundary None\" id=\"WB55\" onclick=\"(function(event){alert('WB55'); event.stopPropagation();})(event)\"><path d=\"M 460.0 740.0 L 460.0 860.0\" id=\"p_WB55\" /></g><g class=\"NavigableBoundary None\" id=\"WB58\" onclick=\"(function(event){alert('WB58'); event.stopPropagation();})(event)\"><path d=\"M 460.0 1140.0 L 460.0 1260.0\" id=\"p_WB58\" /></g><g class=\"NavigableBoundary None\" id=\"WB5\" onclick=\"(function(event){alert('WB5'); event.stopPropagation();})(event)\"><path d=\"M 460.0 600.0 L 40.0 600.0\" id=\"p_WB5\" /></g><g class=\"CellSpaceBoundary None\" id=\"WB32\" onclick=\"(function(event){alert('WB32'); event.stopPropagation();})(event)\"><path d=\"M 40.0 1400.0 L 40.0 600.0\" id=\"p_WB32\" /></g><g class=\"CellSpaceBoundary None\" id=\"WB60\" onclick=\"(function(event){alert('WB60'); event.stopPropagation();})(event)\"><path d=\"M 460.0 860.0 L 460.0 1140.0\" id=\"p_WB60\" /></g><g class=\"NavigableBoundary None\" id=\"WB31\" onclick=\"(function(event){alert('WB31'); event.stopPropagation();})(event)\"><path d=\"M 40.0 1400.0 L 460.0 1400.0\" id=\"p_WB31\" /></g></g><g class=\"GeneralSpace None\" id=\"WC23\" onclick=\"(function(event){alert('WC23'); event.stopPropagation();})(event)\"><path d=\"M 560.0 1140.0 560.0 1260.0 L 520.0 1260.0 520.0 1140.0 560.0 1140.0 Z\" fill-rule=\"evenodd\" id=\"p_WC23\" /><g class=\"NavigableBoundary None\" id=\"WB61\" onclick=\"(function(event){alert('WB61'); event.stopPropagation();})(event)\"><path d=\"M 560.0 1140.0 L 560.0 1260.0\" id=\"p_WB61\" /></g><g class=\"NavigableBoundary None\" id=\"WB10\" onclick=\"(function(event){alert('WB10'); event.stopPropagation();})(event)\"><path d=\"M 520.0 1140.0 L 520.0 1260.0\" id=\"p_WB10\" /></g><g class=\"CellSpaceBoundary None\" id=\"WB63\" onclick=\"(function(event){alert('WB63'); event.stopPropagation();})(event)\"><path d=\"M 520.0 1140.0 L 560.0 1140.0\" id=\"p_WB63\" /></g><g class=\"CellSpaceBoundary None\" id=\"WB62\" onclick=\"(function(event){alert('WB62'); event.stopPropagation();})(event)\"><path d=\"M 560.0 1260.0 L 520.0 1260.0\" id=\"p_WB62\" /></g></g><g class=\"ConnectionSpace None\" id=\"WC2\" onclick=\"(function(event){alert('WC2'); event.stopPropagation();})(event)\"><path d=\"M 520.0 1660.0 520.0 1540.0 L 500.0 1540.0 500.0 1660.0 520.0 1660.0 Z\" fill-rule=\"evenodd\" id=\"p_WC2\" /><g class=\"CellSpaceBoundary None\" id=\"WB17\" onclick=\"(function(event){alert('WB17'); event.stopPropagation();})(event)\"><path d=\"M 520.0 1540.0 L 500.0 1540.0\" id=\"p_WB17\" /></g><g class=\"CellSpaceBoundary None\" id=\"WB18\" onclick=\"(function(event){alert('WB18'); event.stopPropagation();})(event)\"><path d=\"M 500.0 1660.0 L 520.0 1660.0\" id=\"p_WB18\" /></g><g class=\"NavigableBoundary None\" id=\"WB8\" onclick=\"(function(event){alert('WB8'); event.stopPropagation();})(event)\"><path d=\"M 520.0 1660.0 L 520.0 1540.0\" id=\"p_WB8\" /></g><g class=\"NavigableBoundary None\" id=\"WB2\" onclick=\"(function(event){alert('WB2'); event.stopPropagation();})(event)\"><path d=\"M 500.0 1660.0 L 500.0 1540.0\" id=\"p_WB2\" /></g></g><g class=\"GeneralSpace None\" id=\"WC4\" onclick=\"(function(event){alert('WC4'); event.stopPropagation();})(event)\"><path d=\"M 40.0 560.0 460.0 560.0 L 460.0 600.0 40.0 600.0 40.0 560.0 Z\" fill-rule=\"evenodd\" id=\"p_WC4\" /><g class=\"NavigableBoundary None\" id=\"WB5\" onclick=\"(function(event){alert('WB5'); event.stopPropagation();})(event)\"><path d=\"M 460.0 600.0 L 40.0 600.0\" id=\"p_WB5\" /></g><g class=\"NavigableBoundary None\" id=\"WB43\" onclick=\"(function(event){alert('WB43'); event.stopPropagation();})(event)\"><path d=\"M 460.0 560.0 L 40.0 560.0\" id=\"p_WB43\" /></g><g class=\"CellSpaceBoundary None\" id=\"WB45\" onclick=\"(function(event){alert('WB45'); event.stopPropagation();})(event)\"><path d=\"M 460.0 560.0 L 460.0 600.0\" id=\"p_WB45\" /></g><g class=\"CellSpaceBoundary None\" id=\"WB20\" onclick=\"(function(event){alert('WB20'); event.stopPropagation();})(event)\"><path d=\"M 40.0 600.0 L 40.0 560.0\" id=\"p_WB20\" /></g></g><g class=\"TransitionSpace None\" id=\"WC3\" onclick=\"(function(event){alert('WC3'); event.stopPropagation();})(event)\"><path d=\"M 460.0 1660.0 460.0 1540.0 L 500.0 1540.0 500.0 1660.0 460.0 1660.0 Z\" fill-rule=\"evenodd\" id=\"p_WC3\" /><g class=\"NavigableBoundary None\" id=\"WB34\" onclick=\"(function(event){alert('WB34'); event.stopPropagation();})(event)\"><path d=\"M 460.0 1540.0 L 460.0 1660.0\" id=\"p_WB34\" /></g><g class=\"CellSpaceBoundary None\" id=\"WB12\" onclick=\"(function(event){alert('WB12'); event.stopPropagation();})(event)\"><path d=\"M 500.0 1660.0 L 460.0 1660.0\" id=\"p_WB12\" /></g><g class=\"CellSpaceBoundary None\" id=\"WB13\" onclick=\"(function(event){alert('WB13'); event.stopPropagation();})(event)\"><path d=\"M 460.0 1540.0 L 500.0 1540.0\" id=\"p_WB13\" /></g><g class=\"NavigableBoundary None\" id=\"WB2\" onclick=\"(function(event){alert('WB2'); event.stopPropagation();})(event)\"><path d=\"M 500.0 1660.0 L 500.0 1540.0\" id=\"p_WB2\" /></g></g><g class=\"ConnectionSpace None\" id=\"WC6\" onclick=\"(function(event){alert('WC6'); event.stopPropagation();})(event)\"><path d=\"M 520.0 2060.0 520.0 1940.0 L 500.0 1940.0 500.0 2060.0 520.0 2060.0 Z\" fill-rule=\"evenodd\" id=\"p_WC6\" /><g class=\"CellSpaceBoundary None\" id=\"WB24\" onclick=\"(function(event){alert('WB24'); event.stopPropagation();})(event)\"><path d=\"M 500.0 2060.0 L 520.0 2060.0\" id=\"p_WB24\" /></g><g class=\"NavigableBoundary None\" id=\"WB3\" onclick=\"(function(event){alert('WB3'); event.stopPropagation();})(event)\"><path d=\"M 500.0 2060.0 L 500.0 1940.0\" id=\"p_WB3\" /></g><g class=\"NavigableBoundary None\" id=\"WB6\" onclick=\"(function(event){alert('WB6'); event.stopPropagation();})(event)\"><path d=\"M 520.0 2060.0 L 520.0 1940.0\" id=\"p_WB6\" /></g><g class=\"CellSpaceBoundary None\" id=\"WB23\" onclick=\"(function(event){alert('WB23'); event.stopPropagation();})(event)\"><path d=\"M 520.0 1940.0 L 500.0 1940.0\" id=\"p_WB23\" /></g></g><g class=\"GeneralSpace None\" id=\"WC5\" onclick=\"(function(event){alert('WC5'); event.stopPropagation();})(event)\"><path d=\"M 40.0 2240.0 460.0 2240.0 L 960.0 2240.0 960.0 2760.0 40.0 2760.0 40.0 2240.0 Z\" fill-rule=\"evenodd\" id=\"p_WC5\" /><g class=\"CellSpaceBoundary None\" id=\"WB19\" onclick=\"(function(event){alert('WB19'); event.stopPropagation();})(event)\"><path d=\"M 460.0 2240.0 L 960.0 2240.0 960.0 2760.0 40.0 2760.0 40.0 2240.0\" id=\"p_WB19\" /></g><g class=\"NavigableBoundary None\" id=\"WB40\" onclick=\"(function(event){alert('WB40'); event.stopPropagation();})(event)\"><path d=\"M 460.0 2240.0 L 40.0 2240.0\" id=\"p_WB40\" /></g></g><g class=\"ConnectionSpace None\" id=\"WC8\" onclick=\"(function(event){alert('WC8'); event.stopPropagation();})(event)\"><path d=\"M 500.0 740.0 500.0 860.0 L 520.0 860.0 520.0 740.0 500.0 740.0 Z\" fill-rule=\"evenodd\" id=\"p_WC8\" /><g class=\"CellSpaceBoundary None\" id=\"WB27\" onclick=\"(function(event){alert('WB27'); event.stopPropagation();})(event)\"><path d=\"M 520.0 740.0 L 500.0 740.0\" id=\"p_WB27\" /></g><g class=\"NavigableBoundary None\" id=\"WB7\" onclick=\"(function(event){alert('WB7'); event.stopPropagation();})(event)\"><path d=\"M 520.0 860.0 L 520.0 740.0\" id=\"p_WB7\" /></g><g class=\"NavigableBoundary None\" id=\"WB9\" onclick=\"(function(event){alert('WB9'); event.stopPropagation();})(event)\"><path d=\"M 500.0 860.0 L 500.0 740.0\" id=\"p_WB9\" /></g><g class=\"CellSpaceBoundary None\" id=\"WB26\" onclick=\"(function(event){alert('WB26'); event.stopPropagation();})(event)\"><path d=\"M 500.0 860.0 L 520.0 860.0\" id=\"p_WB26\" /></g></g><g class=\"ConnectionSpace None\" id=\"WC7\" onclick=\"(function(event){alert('WC7'); event.stopPropagation();})(event)\"><path d=\"M 520.0 1260.0 520.0 1140.0 L 500.0 1140.0 500.0 1260.0 520.0 1260.0 Z\" fill-rule=\"evenodd\" id=\"p_WC7\" /><g class=\"NavigableBoundary None\" id=\"WB10\" onclick=\"(function(event){alert('WB10'); event.stopPropagation();})(event)\"><path d=\"M 520.0 1140.0 L 520.0 1260.0\" id=\"p_WB10\" /></g><g class=\"CellSpaceBoundary None\" id=\"WB22\" onclick=\"(function(event){alert('WB22'); event.stopPropagation();})(event)\"><path d=\"M 500.0 1260.0 L 520.0 1260.0\" id=\"p_WB22\" /></g><g class=\"CellSpaceBoundary None\" id=\"WB21\" onclick=\"(function(event){alert('WB21'); event.stopPropagation();})(event)\"><path d=\"M 520.0 1140.0 L 500.0 1140.0\" id=\"p_WB21\" /></g><g class=\"NavigableBoundary None\" id=\"WB1\" onclick=\"(function(event){alert('WB1'); event.stopPropagation();})(event)\"><path d=\"M 500.0 1260.0 L 500.0 1140.0\" id=\"p_WB1\" /></g></g><g class=\"GeneralSpace None\" id=\"WC10\" onclick=\"(function(event){alert('WC10'); event.stopPropagation();})(event)\"><path d=\"M 560.0 1660.0 560.0 1540.0 L 560.0 1460.0 960.0 1460.0 960.0 1740.0 560.0 1740.0 560.0 1660.0 Z\" fill-rule=\"evenodd\" id=\"p_WC10\" /><g class=\"CellSpaceBoundary None\" id=\"WB29\" onclick=\"(function(event){alert('WB29'); event.stopPropagation();})(event)\"><path d=\"M 560.0 1540.0 L 560.0 1460.0 960.0 1460.0 960.0 1740.0 560.0 1740.0 560.0 1660.0\" id=\"p_WB29\" /></g><g class=\"NavigableBoundary None\" id=\"WB52\" onclick=\"(function(event){alert('WB52'); event.stopPropagation();})(event)\"><path d=\"M 560.0 1540.0 L 560.0 1660.0\" id=\"p_WB52\" /></g></g><g class=\"GeneralSpace None\" id=\"WC9\" onclick=\"(function(event){alert('WC9'); event.stopPropagation();})(event)\"><path d=\"M 560.0 2060.0 560.0 1940.0 L 560.0 1860.0 960.0 1860.0 960.0 2140.0 560.0 2140.0 560.0 2060.0 Z\" fill-rule=\"evenodd\" id=\"p_WC9\" /><g class=\"CellSpaceBoundary None\" id=\"WB25\" onclick=\"(function(event){alert('WB25'); event.stopPropagation();})(event)\"><path d=\"M 560.0 1940.0 L 560.0 1860.0 960.0 1860.0 960.0 2140.0 560.0 2140.0 560.0 2060.0\" id=\"p_WB25\" /></g><g class=\"NavigableBoundary None\" id=\"WB46\" onclick=\"(function(event){alert('WB46'); event.stopPropagation();})(event)\"><path d=\"M 560.0 1940.0 L 560.0 2060.0\" id=\"p_WB46\" /></g></g></g></g></g></g></g></svg>"
      ],
      "text/plain": [
       "MultiLayeredGraph: IndoorMap"
      ]
     },
     "execution_count": 5,
     "metadata": {},
     "output_type": "execute_result"
    }
   ],
   "source": [
    "map_"
   ]
  },
  {
   "cell_type": "code",
   "execution_count": 6,
   "metadata": {},
   "outputs": [
    {
     "name": "stdout",
     "output_type": "stream",
     "text": [
      "SpaceLayer: L0 is a TOPOGRAPHIC layer for Geometry\n"
     ]
    },
    {
     "data": {
      "image/svg+xml": [
       "<svg height=\"500\" viewBox=\"-130.0 -2930.0 1260.0 3060.0\" width=\"1000\" xmlns=\"http://www.w3.org/2000/svg\"><style media=\"screen\" type=\"text/css\">\n",
       "\n",
       ".State circle {\n",
       "    fill: red;\n",
       "    r: 20;\n",
       "    stroke: orange;\n",
       "    stroke-width: 10;\n",
       "}\n",
       "\n",
       ".Transition path {\n",
       "    stroke: orange;\n",
       "    stroke-width: 10;\n",
       "    fill: none;\n",
       "    display: inline\n",
       "}\n",
       "\n",
       "path\n",
       "{\n",
       "    stroke: grey;\n",
       "    stroke-width: 10;\n",
       "}\n",
       "\n",
       ".TransitionSpace {\n",
       "    fill: lightgreen;\n",
       "}\n",
       "\n",
       ".GeneralSpace {\n",
       "    fill: olive;\n",
       "}\n",
       "\n",
       ".ConnectionSpace {\n",
       "    fill: orange;\n",
       "}\n",
       "\n",
       "\n",
       ".TOPOGRAPHIC .CellSpace {\n",
       "    fill: black;\n",
       "}\n",
       "\n",
       ".CellSpace {\n",
       "    fill: BurlyWood ;\n",
       "    stroke: white;\n",
       "    stroke-width: 10;\n",
       "}\n",
       "\n",
       ".CellSpaceBoundary {\n",
       "    display: none;\n",
       "}\n",
       "\n",
       ".NavigableBoundary {\n",
       "    display: none;\n",
       "    stroke: green;\n",
       "    stroke-dasharray: 40 40;\n",
       "    stroke-width: 20;\n",
       "    fill: none;\n",
       "}\n",
       "\n",
       "\n",
       "\n",
       "</style><g transform=\"scale(1, -1)\"><g class=\"SpaceLayer TOPOGRAPHIC Geometry\" id=\"L0\" onclick=\"(function(event){alert('L0'); event.stopPropagation();})(event)\"><g class=\"cells\"><g class=\"CellSpace None\" id=\"L0C11\" onclick=\"(function(event){alert('L0C11'); event.stopPropagation();})(event)\"><path d=\"M 520.0 1020.0 1000.0 1020.0 L 1000.0 980.0 520.0 980.0 520.0 900.0 500.0 900.0 500.0 1100.0 520.0 1100.0 520.0 1020.0 Z\" fill-rule=\"evenodd\" id=\"p_L0C11\" /><g class=\"CellSpaceBoundary None\" id=\"L0B22\" onclick=\"(function(event){alert('L0B22'); event.stopPropagation();})(event)\"><path d=\"M 500.0 900.0 L 520.0 900.0\" id=\"p_L0B22\" /></g><g class=\"CellSpaceBoundary None\" id=\"L0B10\" onclick=\"(function(event){alert('L0B10'); event.stopPropagation();})(event)\"><path d=\"M 500.0 1100.0 L 500.0 900.0\" id=\"p_L0B10\" /></g><g class=\"CellSpaceBoundary None\" id=\"L0B36\" onclick=\"(function(event){alert('L0B36'); event.stopPropagation();})(event)\"><path d=\"M 1000.0 980.0 L 1000.0 1020.0\" id=\"p_L0B36\" /></g><g class=\"CellSpaceBoundary None\" id=\"L0B30\" onclick=\"(function(event){alert('L0B30'); event.stopPropagation();})(event)\"><path d=\"M 1000.0 1020.0 L 520.0 1020.0 520.0 1100.0\" id=\"p_L0B30\" /></g><g class=\"CellSpaceBoundary None\" id=\"L0B33\" onclick=\"(function(event){alert('L0B33'); event.stopPropagation();})(event)\"><path d=\"M 520.0 1100.0 L 500.0 1100.0\" id=\"p_L0B33\" /></g><g class=\"CellSpaceBoundary None\" id=\"L0B55\" onclick=\"(function(event){alert('L0B55'); event.stopPropagation();})(event)\"><path d=\"M 520.0 900.0 L 520.0 980.0 1000.0 980.0\" id=\"p_L0B55\" /></g></g><g class=\"ConnectionSpace None\" id=\"L0C10\" onclick=\"(function(event){alert('L0C10'); event.stopPropagation();})(event)\"><path d=\"M 500.0 1300.0 520.0 1300.0 L 520.0 1100.0 500.0 1100.0 500.0 1300.0 Z\" fill-rule=\"evenodd\" id=\"p_L0C10\" /><g class=\"CellSpaceBoundary None\" id=\"L0B33\" onclick=\"(function(event){alert('L0B33'); event.stopPropagation();})(event)\"><path d=\"M 520.0 1100.0 L 500.0 1100.0\" id=\"p_L0B33\" /></g><g class=\"NavigableBoundary None\" id=\"L0B9\" onclick=\"(function(event){alert('L0B9'); event.stopPropagation();})(event)\"><path d=\"M 500.0 1300.0 L 500.0 1100.0\" id=\"p_L0B9\" /></g><g class=\"NavigableBoundary None\" id=\"L0B31\" onclick=\"(function(event){alert('L0B31'); event.stopPropagation();})(event)\"><path d=\"M 520.0 1100.0 L 520.0 1300.0\" id=\"p_L0B31\" /></g><g class=\"CellSpaceBoundary None\" id=\"L0B26\" onclick=\"(function(event){alert('L0B26'); event.stopPropagation();})(event)\"><path d=\"M 520.0 1300.0 L 500.0 1300.0\" id=\"p_L0B26\" /></g></g><g class=\"CellSpace None\" id=\"L0C13\" onclick=\"(function(event){alert('L0C13'); event.stopPropagation();})(event)\"><path d=\"M 520.0 620.0 1000.0 620.0 L 1000.0 600.0 500.0 600.0 500.0 700.0 520.0 700.0 520.0 620.0 Z\" fill-rule=\"evenodd\" id=\"p_L0C13\" /><g class=\"CellSpaceBoundary None\" id=\"L0B12\" onclick=\"(function(event){alert('L0B12'); event.stopPropagation();})(event)\"><path d=\"M 500.0 700.0 L 500.0 600.0\" id=\"p_L0B12\" /></g><g class=\"CellSpaceBoundary None\" id=\"L0B24\" onclick=\"(function(event){alert('L0B24'); event.stopPropagation();})(event)\"><path d=\"M 1000.0 620.0 L 1000.0 600.0\" id=\"p_L0B24\" /></g><g class=\"CellSpaceBoundary None\" id=\"L0B21\" onclick=\"(function(event){alert('L0B21'); event.stopPropagation();})(event)\"><path d=\"M 520.0 700.0 L 500.0 700.0\" id=\"p_L0B21\" /></g><g class=\"CellSpaceBoundary None\" id=\"L0B23\" onclick=\"(function(event){alert('L0B23'); event.stopPropagation();})(event)\"><path d=\"M 520.0 700.0 L 520.0 620.0 1000.0 620.0\" id=\"p_L0B23\" /></g><g class=\"CellSpaceBoundary None\" id=\"L0B25\" onclick=\"(function(event){alert('L0B25'); event.stopPropagation();})(event)\"><path d=\"M 1000.0 600.0 L 500.0 600.0\" id=\"p_L0B25\" /></g></g><g class=\"ConnectionSpace None\" id=\"L0C12\" onclick=\"(function(event){alert('L0C12'); event.stopPropagation();})(event)\"><path d=\"M 520.0 700.0 500.0 700.0 L 500.0 900.0 520.0 900.0 520.0 700.0 Z\" fill-rule=\"evenodd\" id=\"p_L0C12\" /><g class=\"NavigableBoundary None\" id=\"L0B11\" onclick=\"(function(event){alert('L0B11'); event.stopPropagation();})(event)\"><path d=\"M 500.0 900.0 L 500.0 700.0\" id=\"p_L0B11\" /></g><g class=\"CellSpaceBoundary None\" id=\"L0B22\" onclick=\"(function(event){alert('L0B22'); event.stopPropagation();})(event)\"><path d=\"M 500.0 900.0 L 520.0 900.0\" id=\"p_L0B22\" /></g><g class=\"CellSpaceBoundary None\" id=\"L0B21\" onclick=\"(function(event){alert('L0B21'); event.stopPropagation();})(event)\"><path d=\"M 520.0 700.0 L 500.0 700.0\" id=\"p_L0B21\" /></g><g class=\"NavigableBoundary None\" id=\"L0B20\" onclick=\"(function(event){alert('L0B20'); event.stopPropagation();})(event)\"><path d=\"M 520.0 900.0 L 520.0 700.0\" id=\"p_L0B20\" /></g></g><g class=\"GeneralSpace None\" id=\"L0C15\" onclick=\"(function(event){alert('L0C15'); event.stopPropagation();})(event)\"><path d=\"M 520.0 1820.0 520.0 1900.0 L 520.0 2100.0 520.0 2180.0 1000.0 2180.0 1000.0 1820.0 520.0 1820.0 Z\" fill-rule=\"evenodd\" id=\"p_L0C15\" /><g class=\"CellSpaceBoundary None\" id=\"L0B38\" onclick=\"(function(event){alert('L0B38'); event.stopPropagation();})(event)\"><path d=\"M 1000.0 1820.0 L 1000.0 2180.0\" id=\"p_L0B38\" /></g><g class=\"NavigableBoundary None\" id=\"L0B45\" onclick=\"(function(event){alert('L0B45'); event.stopPropagation();})(event)\"><path d=\"M 520.0 2100.0 L 520.0 1900.0\" id=\"p_L0B45\" /></g><g class=\"CellSpaceBoundary None\" id=\"L0B56\" onclick=\"(function(event){alert('L0B56'); event.stopPropagation();})(event)\"><path d=\"M 1000.0 2180.0 L 520.0 2180.0 520.0 2100.0\" id=\"p_L0B56\" /></g><g class=\"CellSpaceBoundary None\" id=\"L0B17\" onclick=\"(function(event){alert('L0B17'); event.stopPropagation();})(event)\"><path d=\"M 520.0 1900.0 L 520.0 1820.0 1000.0 1820.0\" id=\"p_L0B17\" /></g></g><g class=\"GeneralSpace None\" id=\"L0C14\" onclick=\"(function(event){alert('L0C14'); event.stopPropagation();})(event)\"><path d=\"M 520.0 1420.0 520.0 1500.0 L 520.0 1700.0 520.0 1780.0 1000.0 1780.0 1000.0 1420.0 520.0 1420.0 Z\" fill-rule=\"evenodd\" id=\"p_L0C14\" /><g class=\"CellSpaceBoundary None\" id=\"L0B19\" onclick=\"(function(event){alert('L0B19'); event.stopPropagation();})(event)\"><path d=\"M 1000.0 1780.0 L 520.0 1780.0 520.0 1700.0\" id=\"p_L0B19\" /></g><g class=\"CellSpaceBoundary None\" id=\"L0B37\" onclick=\"(function(event){alert('L0B37'); event.stopPropagation();})(event)\"><path d=\"M 1000.0 1420.0 L 1000.0 1780.0\" id=\"p_L0B37\" /></g><g class=\"NavigableBoundary None\" id=\"L0B14\" onclick=\"(function(event){alert('L0B14'); event.stopPropagation();})(event)\"><path d=\"M 520.0 1700.0 L 520.0 1500.0\" id=\"p_L0B14\" /></g><g class=\"CellSpaceBoundary None\" id=\"L0B27\" onclick=\"(function(event){alert('L0B27'); event.stopPropagation();})(event)\"><path d=\"M 520.0 1500.0 L 520.0 1420.0 1000.0 1420.0\" id=\"p_L0B27\" /></g></g><g class=\"GeneralSpace None\" id=\"L0C17\" onclick=\"(function(event){alert('L0C17'); event.stopPropagation();})(event)\"><path d=\"M 520.0 620.0 520.0 700.0 L 520.0 900.0 520.0 980.0 1000.0 980.0 1000.0 620.0 520.0 620.0 Z\" fill-rule=\"evenodd\" id=\"p_L0C17\" /><g class=\"CellSpaceBoundary None\" id=\"L0B35\" onclick=\"(function(event){alert('L0B35'); event.stopPropagation();})(event)\"><path d=\"M 1000.0 620.0 L 1000.0 980.0\" id=\"p_L0B35\" /></g><g class=\"CellSpaceBoundary None\" id=\"L0B23\" onclick=\"(function(event){alert('L0B23'); event.stopPropagation();})(event)\"><path d=\"M 520.0 700.0 L 520.0 620.0 1000.0 620.0\" id=\"p_L0B23\" /></g><g class=\"NavigableBoundary None\" id=\"L0B20\" onclick=\"(function(event){alert('L0B20'); event.stopPropagation();})(event)\"><path d=\"M 520.0 900.0 L 520.0 700.0\" id=\"p_L0B20\" /></g><g class=\"CellSpaceBoundary None\" id=\"L0B55\" onclick=\"(function(event){alert('L0B55'); event.stopPropagation();})(event)\"><path d=\"M 520.0 900.0 L 520.0 980.0 1000.0 980.0\" id=\"p_L0B55\" /></g></g><g class=\"CellSpace None\" id=\"L0C16\" onclick=\"(function(event){alert('L0C16'); event.stopPropagation();})(event)\"><path d=\"M 1000.0 2800.0 1030.0 2800.0 L 1030.0 0.0 1000.0 0.0 1000.0 600.0 1000.0 620.0 1000.0 980.0 1000.0 1020.0 1000.0 1380.0 1000.0 1420.0 1000.0 1780.0 1000.0 1820.0 1000.0 2180.0 1000.0 2200.0 1000.0 2800.0 Z\" fill-rule=\"evenodd\" id=\"p_L0C16\" /><g class=\"CellSpaceBoundary None\" id=\"L0B32\" onclick=\"(function(event){alert('L0B32'); event.stopPropagation();})(event)\"><path d=\"M 1000.0 1380.0 L 1000.0 1020.0\" id=\"p_L0B32\" /></g><g class=\"CellSpaceBoundary None\" id=\"L0B36\" onclick=\"(function(event){alert('L0B36'); event.stopPropagation();})(event)\"><path d=\"M 1000.0 980.0 L 1000.0 1020.0\" id=\"p_L0B36\" /></g><g class=\"CellSpaceBoundary None\" id=\"L0B24\" onclick=\"(function(event){alert('L0B24'); event.stopPropagation();})(event)\"><path d=\"M 1000.0 620.0 L 1000.0 600.0\" id=\"p_L0B24\" /></g><g class=\"CellSpaceBoundary None\" id=\"L0B41\" onclick=\"(function(event){alert('L0B41'); event.stopPropagation();})(event)\"><path d=\"M 1000.0 2800.0 L 1030.0 2800.0\" id=\"p_L0B41\" /></g><g class=\"CellSpaceBoundary None\" id=\"L0B28\" onclick=\"(function(event){alert('L0B28'); event.stopPropagation();})(event)\"><path d=\"M 1000.0 1420.0 L 1000.0 1380.0\" id=\"p_L0B28\" /></g><g class=\"CellSpaceBoundary None\" id=\"L0B43\" onclick=\"(function(event){alert('L0B43'); event.stopPropagation();})(event)\"><path d=\"M 1030.0 0.0 L 1000.0 0.0\" id=\"p_L0B43\" /></g><g class=\"CellSpaceBoundary None\" id=\"L0B37\" onclick=\"(function(event){alert('L0B37'); event.stopPropagation();})(event)\"><path d=\"M 1000.0 1420.0 L 1000.0 1780.0\" id=\"p_L0B37\" /></g><g class=\"CellSpaceBoundary None\" id=\"L0B34\" onclick=\"(function(event){alert('L0B34'); event.stopPropagation();})(event)\"><path d=\"M 1000.0 0.0 L 1000.0 600.0\" id=\"p_L0B34\" /></g><g class=\"CellSpaceBoundary None\" id=\"L0B38\" onclick=\"(function(event){alert('L0B38'); event.stopPropagation();})(event)\"><path d=\"M 1000.0 1820.0 L 1000.0 2180.0\" id=\"p_L0B38\" /></g><g class=\"CellSpaceBoundary None\" id=\"L0B18\" onclick=\"(function(event){alert('L0B18'); event.stopPropagation();})(event)\"><path d=\"M 1000.0 1820.0 L 1000.0 1780.0\" id=\"p_L0B18\" /></g><g class=\"CellSpaceBoundary None\" id=\"L0B39\" onclick=\"(function(event){alert('L0B39'); event.stopPropagation();})(event)\"><path d=\"M 1000.0 2180.0 L 1000.0 2200.0\" id=\"p_L0B39\" /></g><g class=\"CellSpaceBoundary None\" id=\"L0B40\" onclick=\"(function(event){alert('L0B40'); event.stopPropagation();})(event)\"><path d=\"M 1000.0 2200.0 L 1000.0 2800.0\" id=\"p_L0B40\" /></g><g class=\"CellSpaceBoundary None\" id=\"L0B35\" onclick=\"(function(event){alert('L0B35'); event.stopPropagation();})(event)\"><path d=\"M 1000.0 620.0 L 1000.0 980.0\" id=\"p_L0B35\" /></g><g class=\"CellSpaceBoundary None\" id=\"L0B42\" onclick=\"(function(event){alert('L0B42'); event.stopPropagation();})(event)\"><path d=\"M 1030.0 2800.0 L 1030.0 0.0\" id=\"p_L0B42\" /></g></g><g class=\"CellSpace None\" id=\"L0C19\" onclick=\"(function(event){alert('L0C19'); event.stopPropagation();})(event)\"><path d=\"M -30.0 2800.0 -30.0 2830.0 L 1030.0 2830.0 1030.0 2800.0 1000.0 2800.0 0.0 2800.0 -30.0 2800.0 Z\" fill-rule=\"evenodd\" id=\"p_L0C19\" /><g class=\"CellSpaceBoundary None\" id=\"L0B50\" onclick=\"(function(event){alert('L0B50'); event.stopPropagation();})(event)\"><path d=\"M -30.0 2800.0 L -30.0 2830.0 1030.0 2830.0 1030.0 2800.0\" id=\"p_L0B50\" /></g><g class=\"CellSpaceBoundary None\" id=\"L0B49\" onclick=\"(function(event){alert('L0B49'); event.stopPropagation();})(event)\"><path d=\"M 0.0 2800.0 L -30.0 2800.0\" id=\"p_L0B49\" /></g><g class=\"CellSpaceBoundary None\" id=\"L0B48\" onclick=\"(function(event){alert('L0B48'); event.stopPropagation();})(event)\"><path d=\"M 0.0 2800.0 L 1000.0 2800.0\" id=\"p_L0B48\" /></g><g class=\"CellSpaceBoundary None\" id=\"L0B41\" onclick=\"(function(event){alert('L0B41'); event.stopPropagation();})(event)\"><path d=\"M 1000.0 2800.0 L 1030.0 2800.0\" id=\"p_L0B41\" /></g></g><g class=\"GeneralSpace None\" id=\"L0C18\" onclick=\"(function(event){alert('L0C18'); event.stopPropagation();})(event)\"><path d=\"M 520.0 1020.0 520.0 1100.0 L 520.0 1300.0 520.0 1380.0 1000.0 1380.0 1000.0 1020.0 520.0 1020.0 Z\" fill-rule=\"evenodd\" id=\"p_L0C18\" /><g class=\"CellSpaceBoundary None\" id=\"L0B30\" onclick=\"(function(event){alert('L0B30'); event.stopPropagation();})(event)\"><path d=\"M 1000.0 1020.0 L 520.0 1020.0 520.0 1100.0\" id=\"p_L0B30\" /></g><g class=\"CellSpaceBoundary None\" id=\"L0B29\" onclick=\"(function(event){alert('L0B29'); event.stopPropagation();})(event)\"><path d=\"M 1000.0 1380.0 L 520.0 1380.0 520.0 1300.0\" id=\"p_L0B29\" /></g><g class=\"NavigableBoundary None\" id=\"L0B31\" onclick=\"(function(event){alert('L0B31'); event.stopPropagation();})(event)\"><path d=\"M 520.0 1100.0 L 520.0 1300.0\" id=\"p_L0B31\" /></g><g class=\"CellSpaceBoundary None\" id=\"L0B32\" onclick=\"(function(event){alert('L0B32'); event.stopPropagation();})(event)\"><path d=\"M 1000.0 1380.0 L 1000.0 1020.0\" id=\"p_L0B32\" /></g></g><g class=\"CellSpace None\" id=\"L0C9\" onclick=\"(function(event){alert('L0C9'); event.stopPropagation();})(event)\"><path d=\"M 500.0 1300.0 500.0 1500.0 L 520.0 1500.0 520.0 1420.0 1000.0 1420.0 1000.0 1380.0 520.0 1380.0 520.0 1300.0 500.0 1300.0 Z\" fill-rule=\"evenodd\" id=\"p_L0C9\" /><g class=\"CellSpaceBoundary None\" id=\"L0B28\" onclick=\"(function(event){alert('L0B28'); event.stopPropagation();})(event)\"><path d=\"M 1000.0 1420.0 L 1000.0 1380.0\" id=\"p_L0B28\" /></g><g class=\"CellSpaceBoundary None\" id=\"L0B15\" onclick=\"(function(event){alert('L0B15'); event.stopPropagation();})(event)\"><path d=\"M 520.0 1500.0 L 500.0 1500.0\" id=\"p_L0B15\" /></g><g class=\"CellSpaceBoundary None\" id=\"L0B8\" onclick=\"(function(event){alert('L0B8'); event.stopPropagation();})(event)\"><path d=\"M 500.0 1500.0 L 500.0 1300.0\" id=\"p_L0B8\" /></g><g class=\"CellSpaceBoundary None\" id=\"L0B29\" onclick=\"(function(event){alert('L0B29'); event.stopPropagation();})(event)\"><path d=\"M 1000.0 1380.0 L 520.0 1380.0 520.0 1300.0\" id=\"p_L0B29\" /></g><g class=\"CellSpaceBoundary None\" id=\"L0B27\" onclick=\"(function(event){alert('L0B27'); event.stopPropagation();})(event)\"><path d=\"M 520.0 1500.0 L 520.0 1420.0 1000.0 1420.0\" id=\"p_L0B27\" /></g><g class=\"CellSpaceBoundary None\" id=\"L0B26\" onclick=\"(function(event){alert('L0B26'); event.stopPropagation();})(event)\"><path d=\"M 520.0 1300.0 L 500.0 1300.0\" id=\"p_L0B26\" /></g></g><g class=\"ConnectionSpace None\" id=\"L0C8\" onclick=\"(function(event){alert('L0C8'); event.stopPropagation();})(event)\"><path d=\"M 500.0 1700.0 520.0 1700.0 L 520.0 1500.0 500.0 1500.0 500.0 1700.0 Z\" fill-rule=\"evenodd\" id=\"p_L0C8\" /><g class=\"NavigableBoundary None\" id=\"L0B14\" onclick=\"(function(event){alert('L0B14'); event.stopPropagation();})(event)\"><path d=\"M 520.0 1700.0 L 520.0 1500.0\" id=\"p_L0B14\" /></g><g class=\"CellSpaceBoundary None\" id=\"L0B13\" onclick=\"(function(event){alert('L0B13'); event.stopPropagation();})(event)\"><path d=\"M 500.0 1700.0 L 520.0 1700.0\" id=\"p_L0B13\" /></g><g class=\"NavigableBoundary None\" id=\"L0B7\" onclick=\"(function(event){alert('L0B7'); event.stopPropagation();})(event)\"><path d=\"M 500.0 1700.0 L 500.0 1500.0\" id=\"p_L0B7\" /></g><g class=\"CellSpaceBoundary None\" id=\"L0B15\" onclick=\"(function(event){alert('L0B15'); event.stopPropagation();})(event)\"><path d=\"M 520.0 1500.0 L 500.0 1500.0\" id=\"p_L0B15\" /></g></g><g class=\"CellSpace None\" id=\"L0C21\" onclick=\"(function(event){alert('L0C21'); event.stopPropagation();})(event)\"><path d=\"M 1030.0 -30.0 -30.0 -30.0 L -30.0 0.0 0.0 0.0 1000.0 0.0 1030.0 0.0 1030.0 -30.0 Z\" fill-rule=\"evenodd\" id=\"p_L0C21\" /><g class=\"CellSpaceBoundary None\" id=\"L0B51\" onclick=\"(function(event){alert('L0B51'); event.stopPropagation();})(event)\"><path d=\"M 1000.0 0.0 L 0.0 0.0\" id=\"p_L0B51\" /></g><g class=\"CellSpaceBoundary None\" id=\"L0B43\" onclick=\"(function(event){alert('L0B43'); event.stopPropagation();})(event)\"><path d=\"M 1030.0 0.0 L 1000.0 0.0\" id=\"p_L0B43\" /></g><g class=\"CellSpaceBoundary None\" id=\"L0B54\" onclick=\"(function(event){alert('L0B54'); event.stopPropagation();})(event)\"><path d=\"M -30.0 0.0 L 0.0 0.0\" id=\"p_L0B54\" /></g><g class=\"CellSpaceBoundary None\" id=\"L0B53\" onclick=\"(function(event){alert('L0B53'); event.stopPropagation();})(event)\"><path d=\"M 1030.0 0.0 L 1030.0 -30.0 -30.0 -30.0 -30.0 0.0\" id=\"p_L0B53\" /></g></g><g class=\"TransitionSpace None\" id=\"L0C1\" onclick=\"(function(event){alert('L0C1'); event.stopPropagation();})(event)\"><path d=\"M 0.0 600.0 0.0 2200.0 L 500.0 2200.0 500.0 2100.0 500.0 1900.0 500.0 1700.0 500.0 1500.0 500.0 1300.0 500.0 1100.0 500.0 900.0 500.0 700.0 500.0 600.0 0.0 600.0 Z\" fill-rule=\"evenodd\" id=\"p_L0C1\" /><g class=\"NavigableBoundary None\" id=\"L0B7\" onclick=\"(function(event){alert('L0B7'); event.stopPropagation();})(event)\"><path d=\"M 500.0 1700.0 L 500.0 1500.0\" id=\"p_L0B7\" /></g><g class=\"CellSpaceBoundary None\" id=\"L0B10\" onclick=\"(function(event){alert('L0B10'); event.stopPropagation();})(event)\"><path d=\"M 500.0 1100.0 L 500.0 900.0\" id=\"p_L0B10\" /></g><g class=\"NavigableBoundary None\" id=\"L0B11\" onclick=\"(function(event){alert('L0B11'); event.stopPropagation();})(event)\"><path d=\"M 500.0 900.0 L 500.0 700.0\" id=\"p_L0B11\" /></g><g class=\"CellSpaceBoundary None\" id=\"L0B6\" onclick=\"(function(event){alert('L0B6'); event.stopPropagation();})(event)\"><path d=\"M 500.0 1900.0 L 500.0 1700.0\" id=\"p_L0B6\" /></g><g class=\"CellSpaceBoundary None\" id=\"L0B4\" onclick=\"(function(event){alert('L0B4'); event.stopPropagation();})(event)\"><path d=\"M 500.0 2200.0 L 500.0 2100.0\" id=\"p_L0B4\" /></g><g class=\"CellSpaceBoundary None\" id=\"L0B12\" onclick=\"(function(event){alert('L0B12'); event.stopPropagation();})(event)\"><path d=\"M 500.0 700.0 L 500.0 600.0\" id=\"p_L0B12\" /></g><g class=\"NavigableBoundary None\" id=\"L0B3\" onclick=\"(function(event){alert('L0B3'); event.stopPropagation();})(event)\"><path d=\"M 0.0 2200.0 L 500.0 2200.0\" id=\"p_L0B3\" /></g><g class=\"CellSpaceBoundary None\" id=\"L0B2\" onclick=\"(function(event){alert('L0B2'); event.stopPropagation();})(event)\"><path d=\"M 0.0 600.0 L 0.0 2200.0\" id=\"p_L0B2\" /></g><g class=\"CellSpaceBoundary None\" id=\"L0B8\" onclick=\"(function(event){alert('L0B8'); event.stopPropagation();})(event)\"><path d=\"M 500.0 1500.0 L 500.0 1300.0\" id=\"p_L0B8\" /></g><g class=\"NavigableBoundary None\" id=\"L0B5\" onclick=\"(function(event){alert('L0B5'); event.stopPropagation();})(event)\"><path d=\"M 500.0 2100.0 L 500.0 1900.0\" id=\"p_L0B5\" /></g><g class=\"NavigableBoundary None\" id=\"L0B1\" onclick=\"(function(event){alert('L0B1'); event.stopPropagation();})(event)\"><path d=\"M 500.0 600.0 L 0.0 600.0\" id=\"p_L0B1\" /></g><g class=\"NavigableBoundary None\" id=\"L0B9\" onclick=\"(function(event){alert('L0B9'); event.stopPropagation();})(event)\"><path d=\"M 500.0 1300.0 L 500.0 1100.0\" id=\"p_L0B9\" /></g></g><g class=\"CellSpace None\" id=\"L0C3\" onclick=\"(function(event){alert('L0C3'); event.stopPropagation();})(event)\"><path d=\"M 0.0 0.0 -30.0 0.0 L -30.0 2800.0 0.0 2800.0 0.0 2200.0 0.0 600.0 0.0 0.0 Z\" fill-rule=\"evenodd\" id=\"p_L0C3\" /><g class=\"CellSpaceBoundary None\" id=\"L0B57\" onclick=\"(function(event){alert('L0B57'); event.stopPropagation();})(event)\"><path d=\"M -30.0 0.0 L -30.0 2800.0\" id=\"p_L0B57\" /></g><g class=\"CellSpaceBoundary None\" id=\"L0B54\" onclick=\"(function(event){alert('L0B54'); event.stopPropagation();})(event)\"><path d=\"M -30.0 0.0 L 0.0 0.0\" id=\"p_L0B54\" /></g><g class=\"CellSpaceBoundary None\" id=\"L0B2\" onclick=\"(function(event){alert('L0B2'); event.stopPropagation();})(event)\"><path d=\"M 0.0 600.0 L 0.0 2200.0\" id=\"p_L0B2\" /></g><g class=\"CellSpaceBoundary None\" id=\"L0B47\" onclick=\"(function(event){alert('L0B47'); event.stopPropagation();})(event)\"><path d=\"M 0.0 2200.0 L 0.0 2800.0\" id=\"p_L0B47\" /></g><g class=\"CellSpaceBoundary None\" id=\"L0B49\" onclick=\"(function(event){alert('L0B49'); event.stopPropagation();})(event)\"><path d=\"M 0.0 2800.0 L -30.0 2800.0\" id=\"p_L0B49\" /></g><g class=\"CellSpaceBoundary None\" id=\"L0B52\" onclick=\"(function(event){alert('L0B52'); event.stopPropagation();})(event)\"><path d=\"M 0.0 0.0 L 0.0 600.0\" id=\"p_L0B52\" /></g></g><g class=\"GeneralSpace None\" id=\"L0C2\" onclick=\"(function(event){alert('L0C2'); event.stopPropagation();})(event)\"><path d=\"M 1000.0 600.0 1000.0 0.0 L 0.0 0.0 0.0 600.0 500.0 600.0 1000.0 600.0 Z\" fill-rule=\"evenodd\" id=\"p_L0C2\" /><g class=\"CellSpaceBoundary None\" id=\"L0B51\" onclick=\"(function(event){alert('L0B51'); event.stopPropagation();})(event)\"><path d=\"M 1000.0 0.0 L 0.0 0.0\" id=\"p_L0B51\" /></g><g class=\"CellSpaceBoundary None\" id=\"L0B34\" onclick=\"(function(event){alert('L0B34'); event.stopPropagation();})(event)\"><path d=\"M 1000.0 0.0 L 1000.0 600.0\" id=\"p_L0B34\" /></g><g class=\"CellSpaceBoundary None\" id=\"L0B25\" onclick=\"(function(event){alert('L0B25'); event.stopPropagation();})(event)\"><path d=\"M 1000.0 600.0 L 500.0 600.0\" id=\"p_L0B25\" /></g><g class=\"CellSpaceBoundary None\" id=\"L0B52\" onclick=\"(function(event){alert('L0B52'); event.stopPropagation();})(event)\"><path d=\"M 0.0 0.0 L 0.0 600.0\" id=\"p_L0B52\" /></g><g class=\"NavigableBoundary None\" id=\"L0B1\" onclick=\"(function(event){alert('L0B1'); event.stopPropagation();})(event)\"><path d=\"M 500.0 600.0 L 0.0 600.0\" id=\"p_L0B1\" /></g></g><g class=\"CellSpace None\" id=\"L0C5\" onclick=\"(function(event){alert('L0C5'); event.stopPropagation();})(event)\"><path d=\"M 520.0 2180.0 520.0 2100.0 L 500.0 2100.0 500.0 2200.0 1000.0 2200.0 1000.0 2180.0 520.0 2180.0 Z\" fill-rule=\"evenodd\" id=\"p_L0C5\" /><g class=\"CellSpaceBoundary None\" id=\"L0B56\" onclick=\"(function(event){alert('L0B56'); event.stopPropagation();})(event)\"><path d=\"M 1000.0 2180.0 L 520.0 2180.0 520.0 2100.0\" id=\"p_L0B56\" /></g><g class=\"CellSpaceBoundary None\" id=\"L0B46\" onclick=\"(function(event){alert('L0B46'); event.stopPropagation();})(event)\"><path d=\"M 1000.0 2200.0 L 500.0 2200.0\" id=\"p_L0B46\" /></g><g class=\"CellSpaceBoundary None\" id=\"L0B4\" onclick=\"(function(event){alert('L0B4'); event.stopPropagation();})(event)\"><path d=\"M 500.0 2200.0 L 500.0 2100.0\" id=\"p_L0B4\" /></g><g class=\"CellSpaceBoundary None\" id=\"L0B44\" onclick=\"(function(event){alert('L0B44'); event.stopPropagation();})(event)\"><path d=\"M 500.0 2100.0 L 520.0 2100.0\" id=\"p_L0B44\" /></g><g class=\"CellSpaceBoundary None\" id=\"L0B39\" onclick=\"(function(event){alert('L0B39'); event.stopPropagation();})(event)\"><path d=\"M 1000.0 2180.0 L 1000.0 2200.0\" id=\"p_L0B39\" /></g></g><g class=\"GeneralSpace None\" id=\"L0C4\" onclick=\"(function(event){alert('L0C4'); event.stopPropagation();})(event)\"><path d=\"M 0.0 2200.0 0.0 2800.0 L 1000.0 2800.0 1000.0 2200.0 500.0 2200.0 0.0 2200.0 Z\" fill-rule=\"evenodd\" id=\"p_L0C4\" /><g class=\"CellSpaceBoundary None\" id=\"L0B48\" onclick=\"(function(event){alert('L0B48'); event.stopPropagation();})(event)\"><path d=\"M 0.0 2800.0 L 1000.0 2800.0\" id=\"p_L0B48\" /></g><g class=\"CellSpaceBoundary None\" id=\"L0B46\" onclick=\"(function(event){alert('L0B46'); event.stopPropagation();})(event)\"><path d=\"M 1000.0 2200.0 L 500.0 2200.0\" id=\"p_L0B46\" /></g><g class=\"CellSpaceBoundary None\" id=\"L0B40\" onclick=\"(function(event){alert('L0B40'); event.stopPropagation();})(event)\"><path d=\"M 1000.0 2200.0 L 1000.0 2800.0\" id=\"p_L0B40\" /></g><g class=\"NavigableBoundary None\" id=\"L0B3\" onclick=\"(function(event){alert('L0B3'); event.stopPropagation();})(event)\"><path d=\"M 0.0 2200.0 L 500.0 2200.0\" id=\"p_L0B3\" /></g><g class=\"CellSpaceBoundary None\" id=\"L0B47\" onclick=\"(function(event){alert('L0B47'); event.stopPropagation();})(event)\"><path d=\"M 0.0 2200.0 L 0.0 2800.0\" id=\"p_L0B47\" /></g></g><g class=\"CellSpace None\" id=\"L0C7\" onclick=\"(function(event){alert('L0C7'); event.stopPropagation();})(event)\"><path d=\"M 500.0 1700.0 500.0 1900.0 L 520.0 1900.0 520.0 1820.0 1000.0 1820.0 1000.0 1780.0 520.0 1780.0 520.0 1700.0 500.0 1700.0 Z\" fill-rule=\"evenodd\" id=\"p_L0C7\" /><g class=\"CellSpaceBoundary None\" id=\"L0B16\" onclick=\"(function(event){alert('L0B16'); event.stopPropagation();})(event)\"><path d=\"M 500.0 1900.0 L 520.0 1900.0\" id=\"p_L0B16\" /></g><g class=\"CellSpaceBoundary None\" id=\"L0B6\" onclick=\"(function(event){alert('L0B6'); event.stopPropagation();})(event)\"><path d=\"M 500.0 1900.0 L 500.0 1700.0\" id=\"p_L0B6\" /></g><g class=\"CellSpaceBoundary None\" id=\"L0B17\" onclick=\"(function(event){alert('L0B17'); event.stopPropagation();})(event)\"><path d=\"M 520.0 1900.0 L 520.0 1820.0 1000.0 1820.0\" id=\"p_L0B17\" /></g><g class=\"CellSpaceBoundary None\" id=\"L0B13\" onclick=\"(function(event){alert('L0B13'); event.stopPropagation();})(event)\"><path d=\"M 500.0 1700.0 L 520.0 1700.0\" id=\"p_L0B13\" /></g><g class=\"CellSpaceBoundary None\" id=\"L0B18\" onclick=\"(function(event){alert('L0B18'); event.stopPropagation();})(event)\"><path d=\"M 1000.0 1820.0 L 1000.0 1780.0\" id=\"p_L0B18\" /></g><g class=\"CellSpaceBoundary None\" id=\"L0B19\" onclick=\"(function(event){alert('L0B19'); event.stopPropagation();})(event)\"><path d=\"M 1000.0 1780.0 L 520.0 1780.0 520.0 1700.0\" id=\"p_L0B19\" /></g></g><g class=\"ConnectionSpace None\" id=\"L0C6\" onclick=\"(function(event){alert('L0C6'); event.stopPropagation();})(event)\"><path d=\"M 500.0 2100.0 520.0 2100.0 L 520.0 1900.0 500.0 1900.0 500.0 2100.0 Z\" fill-rule=\"evenodd\" id=\"p_L0C6\" /><g class=\"CellSpaceBoundary None\" id=\"L0B16\" onclick=\"(function(event){alert('L0B16'); event.stopPropagation();})(event)\"><path d=\"M 500.0 1900.0 L 520.0 1900.0\" id=\"p_L0B16\" /></g><g class=\"CellSpaceBoundary None\" id=\"L0B44\" onclick=\"(function(event){alert('L0B44'); event.stopPropagation();})(event)\"><path d=\"M 500.0 2100.0 L 520.0 2100.0\" id=\"p_L0B44\" /></g><g class=\"NavigableBoundary None\" id=\"L0B5\" onclick=\"(function(event){alert('L0B5'); event.stopPropagation();})(event)\"><path d=\"M 500.0 2100.0 L 500.0 1900.0\" id=\"p_L0B5\" /></g><g class=\"NavigableBoundary None\" id=\"L0B45\" onclick=\"(function(event){alert('L0B45'); event.stopPropagation();})(event)\"><path d=\"M 520.0 2100.0 L 520.0 1900.0\" id=\"p_L0B45\" /></g></g></g><g class=\"graph\"><g class=\"Transition None\" id=\"L0T54\" onclick=\"(function(event){alert('L0T54'); event.stopPropagation();})(event)\"><path d=\"M 500.0 -15.0 L -15.0 0.0 -15.0 1400.0\" id=\"p_L0T54\" /></g><g class=\"Transition None\" id=\"L0T43\" onclick=\"(function(event){alert('L0T43'); event.stopPropagation();})(event)\"><path d=\"M 1015.0 1400.0 L 1015.0 0.0 500.0 -15.0\" id=\"p_L0T43\" /></g><g class=\"Transition None\" id=\"L0T51\" onclick=\"(function(event){alert('L0T51'); event.stopPropagation();})(event)\"><path d=\"M 500.0 300.0 L 500.0 0.0 500.0 -15.0\" id=\"p_L0T51\" /></g><g class=\"Transition None\" id=\"L0T2\" onclick=\"(function(event){alert('L0T2'); event.stopPropagation();})(event)\"><path d=\"M 250.0 1400.0 L 0.0 1400.0 -15.0 1400.0\" id=\"p_L0T2\" /></g><g class=\"Transition None\" id=\"L0T47\" onclick=\"(function(event){alert('L0T47'); event.stopPropagation();})(event)\"><path d=\"M 500.0 2500.0 L 0.0 2500.0 -15.0 1400.0\" id=\"p_L0T47\" /></g><g class=\"Transition None\" id=\"L0T49\" onclick=\"(function(event){alert('L0T49'); event.stopPropagation();})(event)\"><path d=\"M 500.0 2815.0 L -15.0 2800.0 -15.0 1400.0\" id=\"p_L0T49\" /></g><g class=\"Transition None\" id=\"L0T52\" onclick=\"(function(event){alert('L0T52'); event.stopPropagation();})(event)\"><path d=\"M 500.0 300.0 L 0.0 300.0 -15.0 1400.0\" id=\"p_L0T52\" /></g><g class=\"Transition None\" id=\"L0T55\" onclick=\"(function(event){alert('L0T55'); event.stopPropagation();})(event)\"><path d=\"M 760.0 800.0 L 760.0 980.0 716.9 1000.0\" id=\"p_L0T55\" /></g><g class=\"Transition None\" id=\"L0T35\" onclick=\"(function(event){alert('L0T35'); event.stopPropagation();})(event)\"><path d=\"M 1015.0 1400.0 L 1000.0 800.0 760.0 800.0\" id=\"p_L0T35\" /></g><g class=\"Transition None\" id=\"L0T23\" onclick=\"(function(event){alert('L0T23'); event.stopPropagation();})(event)\"><path d=\"M 716.9 616.9 L 760.0 620.0 760.0 800.0\" id=\"p_L0T23\" /></g><g class=\"Transition None\" id=\"L0T20\" onclick=\"(function(event){alert('L0T20'); event.stopPropagation();})(event)\"><path d=\"M 510.0 800.0 L 520.0 800.0 760.0 800.0\" id=\"p_L0T20\" /></g><g class=\"Transition None\" id=\"L0T36\" onclick=\"(function(event){alert('L0T36'); event.stopPropagation();})(event)\"><path d=\"M 1015.0 1400.0 L 1000.0 1000.0 716.9 1000.0\" id=\"p_L0T36\" /></g><g class=\"Transition None\" id=\"L0T30\" onclick=\"(function(event){alert('L0T30'); event.stopPropagation();})(event)\"><path d=\"M 760.0 1200.0 L 760.0 1020.0 716.9 1000.0\" id=\"p_L0T30\" /></g><g class=\"Transition None\" id=\"L0T33\" onclick=\"(function(event){alert('L0T33'); event.stopPropagation();})(event)\"><path d=\"M 510.0 1200.0 L 510.0 1100.0 716.9 1000.0\" id=\"p_L0T33\" /></g><g class=\"Transition None\" id=\"L0T10\" onclick=\"(function(event){alert('L0T10'); event.stopPropagation();})(event)\"><path d=\"M 250.0 1400.0 L 500.0 1000.0 716.9 1000.0\" id=\"p_L0T10\" /></g><g class=\"Transition None\" id=\"L0T22\" onclick=\"(function(event){alert('L0T22'); event.stopPropagation();})(event)\"><path d=\"M 510.0 800.0 L 510.0 900.0 716.9 1000.0\" id=\"p_L0T22\" /></g><g class=\"Transition None\" id=\"L0T34\" onclick=\"(function(event){alert('L0T34'); event.stopPropagation();})(event)\"><path d=\"M 1015.0 1400.0 L 1000.0 300.0 500.0 300.0\" id=\"p_L0T34\" /></g><g class=\"Transition None\" id=\"L0T37\" onclick=\"(function(event){alert('L0T37'); event.stopPropagation();})(event)\"><path d=\"M 1015.0 1400.0 L 1000.0 1600.0 760.0 1600.0\" id=\"p_L0T37\" /></g><g class=\"Transition None\" id=\"L0T32\" onclick=\"(function(event){alert('L0T32'); event.stopPropagation();})(event)\"><path d=\"M 760.0 1200.0 L 1000.0 1200.0 1015.0 1400.0\" id=\"p_L0T32\" /></g><g class=\"Transition None\" id=\"L0T38\" onclick=\"(function(event){alert('L0T38'); event.stopPropagation();})(event)\"><path d=\"M 1015.0 1400.0 L 1000.0 2000.0 760.0 2000.0\" id=\"p_L0T38\" /></g><g class=\"Transition None\" id=\"L0T39\" onclick=\"(function(event){alert('L0T39'); event.stopPropagation();})(event)\"><path d=\"M 1015.0 1400.0 L 1000.0 2190.0 716.9 2183.1\" id=\"p_L0T39\" /></g><g class=\"Transition None\" id=\"L0T18\" onclick=\"(function(event){alert('L0T18'); event.stopPropagation();})(event)\"><path d=\"M 716.9 1800.0 L 1000.0 1800.0 1015.0 1400.0\" id=\"p_L0T18\" /></g><g class=\"Transition None\" id=\"L0T41\" onclick=\"(function(event){alert('L0T41'); event.stopPropagation();})(event)\"><path d=\"M 1015.0 1400.0 L 1015.0 2800.0 500.0 2815.0\" id=\"p_L0T41\" /></g><g class=\"Transition None\" id=\"L0T40\" onclick=\"(function(event){alert('L0T40'); event.stopPropagation();})(event)\"><path d=\"M 1015.0 1400.0 L 1000.0 2500.0 500.0 2500.0\" id=\"p_L0T40\" /></g><g class=\"Transition None\" id=\"L0T28\" onclick=\"(function(event){alert('L0T28'); event.stopPropagation();})(event)\"><path d=\"M 716.9 1400.0 L 1000.0 1400.0 1015.0 1400.0\" id=\"p_L0T28\" /></g><g class=\"Transition None\" id=\"L0T24\" onclick=\"(function(event){alert('L0T24'); event.stopPropagation();})(event)\"><path d=\"M 716.9 616.9 L 1000.0 610.0 1015.0 1400.0\" id=\"p_L0T24\" /></g><g class=\"Transition None\" id=\"L0T1\" onclick=\"(function(event){alert('L0T1'); event.stopPropagation();})(event)\"><path d=\"M 250.0 1400.0 L 250.0 600.0 500.0 300.0\" id=\"p_L0T1\" /></g><g class=\"Transition None\" id=\"L0T25\" onclick=\"(function(event){alert('L0T25'); event.stopPropagation();})(event)\"><path d=\"M 716.9 616.9 L 750.0 600.0 500.0 300.0\" id=\"p_L0T25\" /></g><g class=\"Transition None\" id=\"L0T19\" onclick=\"(function(event){alert('L0T19'); event.stopPropagation();})(event)\"><path d=\"M 716.9 1800.0 L 760.0 1780.0 760.0 1600.0\" id=\"p_L0T19\" /></g><g class=\"Transition None\" id=\"L0T14\" onclick=\"(function(event){alert('L0T14'); event.stopPropagation();})(event)\"><path d=\"M 510.0 1600.0 L 520.0 1600.0 760.0 1600.0\" id=\"p_L0T14\" /></g><g class=\"Transition None\" id=\"L0T27\" onclick=\"(function(event){alert('L0T27'); event.stopPropagation();})(event)\"><path d=\"M 716.9 1400.0 L 760.0 1420.0 760.0 1600.0\" id=\"p_L0T27\" /></g><g class=\"Transition None\" id=\"L0T31\" onclick=\"(function(event){alert('L0T31'); event.stopPropagation();})(event)\"><path d=\"M 760.0 1200.0 L 520.0 1200.0 510.0 1200.0\" id=\"p_L0T31\" /></g><g class=\"Transition None\" id=\"L0T29\" onclick=\"(function(event){alert('L0T29'); event.stopPropagation();})(event)\"><path d=\"M 716.9 1400.0 L 760.0 1380.0 760.0 1200.0\" id=\"p_L0T29\" /></g><g class=\"Transition None\" id=\"L0T9\" onclick=\"(function(event){alert('L0T9'); event.stopPropagation();})(event)\"><path d=\"M 250.0 1400.0 L 500.0 1200.0 510.0 1200.0\" id=\"p_L0T9\" /></g><g class=\"Transition None\" id=\"L0T26\" onclick=\"(function(event){alert('L0T26'); event.stopPropagation();})(event)\"><path d=\"M 716.9 1400.0 L 510.0 1300.0 510.0 1200.0\" id=\"p_L0T26\" /></g><g class=\"Transition None\" id=\"L0T17\" onclick=\"(function(event){alert('L0T17'); event.stopPropagation();})(event)\"><path d=\"M 716.9 1800.0 L 760.0 1820.0 760.0 2000.0\" id=\"p_L0T17\" /></g><g class=\"Transition None\" id=\"L0T45\" onclick=\"(function(event){alert('L0T45'); event.stopPropagation();})(event)\"><path d=\"M 510.0 2000.0 L 520.0 2000.0 760.0 2000.0\" id=\"p_L0T45\" /></g><g class=\"Transition None\" id=\"L0T56\" onclick=\"(function(event){alert('L0T56'); event.stopPropagation();})(event)\"><path d=\"M 716.9 2183.1 L 760.0 2180.0 760.0 2000.0\" id=\"p_L0T56\" /></g><g class=\"Transition None\" id=\"L0T4\" onclick=\"(function(event){alert('L0T4'); event.stopPropagation();})(event)\"><path d=\"M 250.0 1400.0 L 500.0 2150.0 716.9 2183.1\" id=\"p_L0T4\" /></g><g class=\"Transition None\" id=\"L0T44\" onclick=\"(function(event){alert('L0T44'); event.stopPropagation();})(event)\"><path d=\"M 510.0 2000.0 L 510.0 2100.0 716.9 2183.1\" id=\"p_L0T44\" /></g><g class=\"Transition None\" id=\"L0T46\" onclick=\"(function(event){alert('L0T46'); event.stopPropagation();})(event)\"><path d=\"M 500.0 2500.0 L 750.0 2200.0 716.9 2183.1\" id=\"p_L0T46\" /></g><g class=\"Transition None\" id=\"L0T16\" onclick=\"(function(event){alert('L0T16'); event.stopPropagation();})(event)\"><path d=\"M 716.9 1800.0 L 510.0 1900.0 510.0 2000.0\" id=\"p_L0T16\" /></g><g class=\"Transition None\" id=\"L0T13\" onclick=\"(function(event){alert('L0T13'); event.stopPropagation();})(event)\"><path d=\"M 510.0 1600.0 L 510.0 1700.0 716.9 1800.0\" id=\"p_L0T13\" /></g><g class=\"Transition None\" id=\"L0T6\" onclick=\"(function(event){alert('L0T6'); event.stopPropagation();})(event)\"><path d=\"M 250.0 1400.0 L 500.0 1800.0 716.9 1800.0\" id=\"p_L0T6\" /></g><g class=\"Transition None\" id=\"L0T5\" onclick=\"(function(event){alert('L0T5'); event.stopPropagation();})(event)\"><path d=\"M 250.0 1400.0 L 500.0 2000.0 510.0 2000.0\" id=\"p_L0T5\" /></g><g class=\"Transition None\" id=\"L0T15\" onclick=\"(function(event){alert('L0T15'); event.stopPropagation();})(event)\"><path d=\"M 510.0 1600.0 L 510.0 1500.0 716.9 1400.0\" id=\"p_L0T15\" /></g><g class=\"Transition None\" id=\"L0T7\" onclick=\"(function(event){alert('L0T7'); event.stopPropagation();})(event)\"><path d=\"M 250.0 1400.0 L 500.0 1600.0 510.0 1600.0\" id=\"p_L0T7\" /></g><g class=\"Transition None\" id=\"L0T8\" onclick=\"(function(event){alert('L0T8'); event.stopPropagation();})(event)\"><path d=\"M 250.0 1400.0 L 500.0 1400.0 716.9 1400.0\" id=\"p_L0T8\" /></g><g class=\"Transition None\" id=\"L0T12\" onclick=\"(function(event){alert('L0T12'); event.stopPropagation();})(event)\"><path d=\"M 250.0 1400.0 L 500.0 650.0 716.9 616.9\" id=\"p_L0T12\" /></g><g class=\"Transition None\" id=\"L0T11\" onclick=\"(function(event){alert('L0T11'); event.stopPropagation();})(event)\"><path d=\"M 250.0 1400.0 L 500.0 800.0 510.0 800.0\" id=\"p_L0T11\" /></g><g class=\"Transition None\" id=\"L0T3\" onclick=\"(function(event){alert('L0T3'); event.stopPropagation();})(event)\"><path d=\"M 250.0 1400.0 L 250.0 2200.0 500.0 2500.0\" id=\"p_L0T3\" /></g><g class=\"Transition None\" id=\"L0T21\" onclick=\"(function(event){alert('L0T21'); event.stopPropagation();})(event)\"><path d=\"M 510.0 800.0 L 510.0 700.0 716.9 616.9\" id=\"p_L0T21\" /></g><g class=\"Transition None\" id=\"L0T48\" onclick=\"(function(event){alert('L0T48'); event.stopPropagation();})(event)\"><path d=\"M 500.0 2500.0 L 500.0 2800.0 500.0 2815.0\" id=\"p_L0T48\" /></g><g class=\"State None\" id=\"L0S21\" onclick=\"(function(event){alert('L0S21'); event.stopPropagation();})(event)\"><circle cx=\"500.0\" cy=\"-15.0\" /></g><g class=\"State None\" id=\"L0S3\" onclick=\"(function(event){alert('L0S3'); event.stopPropagation();})(event)\"><circle cx=\"-15.0\" cy=\"1400.0\" /></g><g class=\"State None\" id=\"L0S17\" onclick=\"(function(event){alert('L0S17'); event.stopPropagation();})(event)\"><circle cx=\"760.0\" cy=\"800.0\" /></g><g class=\"State None\" id=\"L0S11\" onclick=\"(function(event){alert('L0S11'); event.stopPropagation();})(event)\"><circle cx=\"716.9\" cy=\"1000.0\" /></g><g class=\"State None\" id=\"L0S16\" onclick=\"(function(event){alert('L0S16'); event.stopPropagation();})(event)\"><circle cx=\"1015.0\" cy=\"1400.0\" /></g><g class=\"State None\" id=\"L0S2\" onclick=\"(function(event){alert('L0S2'); event.stopPropagation();})(event)\"><circle cx=\"500.0\" cy=\"300.0\" /></g><g class=\"State None\" id=\"L0S14\" onclick=\"(function(event){alert('L0S14'); event.stopPropagation();})(event)\"><circle cx=\"760.0\" cy=\"1600.0\" /></g><g class=\"State None\" id=\"L0S18\" onclick=\"(function(event){alert('L0S18'); event.stopPropagation();})(event)\"><circle cx=\"760.0\" cy=\"1200.0\" /></g><g class=\"State None\" id=\"L0S10\" onclick=\"(function(event){alert('L0S10'); event.stopPropagation();})(event)\"><circle cx=\"510.0\" cy=\"1200.0\" /></g><g class=\"State None\" id=\"L0S15\" onclick=\"(function(event){alert('L0S15'); event.stopPropagation();})(event)\"><circle cx=\"760.0\" cy=\"2000.0\" /></g><g class=\"State None\" id=\"L0S5\" onclick=\"(function(event){alert('L0S5'); event.stopPropagation();})(event)\"><circle cx=\"716.9\" cy=\"2183.1\" /></g><g class=\"State None\" id=\"L0S7\" onclick=\"(function(event){alert('L0S7'); event.stopPropagation();})(event)\"><circle cx=\"716.9\" cy=\"1800.0\" /></g><g class=\"State None\" id=\"L0S6\" onclick=\"(function(event){alert('L0S6'); event.stopPropagation();})(event)\"><circle cx=\"510.0\" cy=\"2000.0\" /></g><g class=\"State None\" id=\"L0S8\" onclick=\"(function(event){alert('L0S8'); event.stopPropagation();})(event)\"><circle cx=\"510.0\" cy=\"1600.0\" /></g><g class=\"State None\" id=\"L0S9\" onclick=\"(function(event){alert('L0S9'); event.stopPropagation();})(event)\"><circle cx=\"716.9\" cy=\"1400.0\" /></g><g class=\"State None\" id=\"L0S1\" onclick=\"(function(event){alert('L0S1'); event.stopPropagation();})(event)\"><circle cx=\"250.0\" cy=\"1400.0\" /></g><g class=\"State None\" id=\"L0S13\" onclick=\"(function(event){alert('L0S13'); event.stopPropagation();})(event)\"><circle cx=\"716.9\" cy=\"616.9\" /></g><g class=\"State None\" id=\"L0S12\" onclick=\"(function(event){alert('L0S12'); event.stopPropagation();})(event)\"><circle cx=\"510.0\" cy=\"800.0\" /></g><g class=\"State None\" id=\"L0S19\" onclick=\"(function(event){alert('L0S19'); event.stopPropagation();})(event)\"><circle cx=\"500.0\" cy=\"2815.0\" /></g><g class=\"State None\" id=\"L0S4\" onclick=\"(function(event){alert('L0S4'); event.stopPropagation();})(event)\"><circle cx=\"500.0\" cy=\"2500.0\" /></g></g></g></g></svg>"
      ],
      "text/plain": [
       "SpaceLayer: L0"
      ]
     },
     "execution_count": 6,
     "metadata": {},
     "output_type": "execute_result"
    }
   ],
   "source": [
    "layer = map_['L0']\n",
    "print(f\"\"\"{layer} is a {layer.cls_name} layer for {layer.usage}\"\"\")\n",
    "layer"
   ]
  },
  {
   "cell_type": "code",
   "execution_count": 7,
   "metadata": {},
   "outputs": [
    {
     "data": {
      "image/png": "[encoded data removed]",
      "text/plain": [
       "<Figure size 720x720 with 1 Axes>"
      ]
     },
     "metadata": {},
     "output_type": "display_data"
    }
   ],
   "source": [
    "plt.figure(figsize=(10,10))\n",
    "ax = plt.subplot()\n",
    "def color(gml):\n",
    "    if gml.duality.type == 'ConnectionSpace':\n",
    "        return 'r', 1\n",
    "    if gml.duality.type == 'TransitionSpace':\n",
    "        return 'g', 1\n",
    "    if gml.duality.type == 'GeneralSpace':\n",
    "        return 'b', 1\n",
    "    if gml.type == 'Transition':\n",
    "        return 'k', 0.5\n",
    "    else:\n",
    "        return 'k', 1\n",
    "plot(map_['L0'], ax)\n",
    "plot_graph(map_['W'], ax, color=color)"
   ]
  },
  {
   "cell_type": "markdown",
   "metadata": {},
   "source": [
    "A layer is a graph states (linked to cells) with transitions (edge) between them (linked to common boundaries)"
   ]
  },
  {
   "cell_type": "code",
   "execution_count": 8,
   "metadata": {},
   "outputs": [
    {
     "name": "stdout",
     "output_type": "stream",
     "text": [
      "State: L0S1 is linked to cell TransitionSpace: L0C1;\n",
      "and is connected to:\n",
      "State: L0S13 via Transition: L0T12\n",
      "State: L0S11 via Transition: L0T10\n",
      "State: L0S12 via Transition: L0T11\n",
      "State: L0S9 via Transition: L0T8\n",
      "State: L0S10 via Transition: L0T9\n",
      "State: L0S5 via Transition: L0T4\n",
      "State: L0S6 via Transition: L0T5\n",
      "State: L0S7 via Transition: L0T6\n",
      "State: L0S8 via Transition: L0T7\n",
      "State: L0S2 via Transition: L0T1\n",
      "State: L0S3 via Transition: L0T2\n",
      "State: L0S4 via Transition: L0T3\n"
     ]
    }
   ],
   "source": [
    "state = layer.states['L0S1']\n",
    "neighbors = '\\n'.join(f\"{s} via {state.transitionsTo(s)[0]}\" for s in state.neighbors)\n",
    "print(f\"{state} is linked to cell {state.duality};\")\n",
    "print(f\"and is connected to:\\n{neighbors}\"\"\")"
   ]
  },
  {
   "cell_type": "code",
   "execution_count": 9,
   "metadata": {},
   "outputs": [
    {
     "data": {
      "image/svg+xml": [
       "<svg xmlns=\"http://www.w3.org/2000/svg\" xmlns:xlink=\"http://www.w3.org/1999/xlink\" width=\"300\" height=\"300\" viewBox=\"-89.0 512.0 1177.0 2376.0\" preserveAspectRatio=\"xMinYMin meet\"><g transform=\"matrix(1,0,0,-1,0,3400.0)\"><g><polyline fill=\"none\" stroke=\"#66cc99\" stroke-width=\"15.84\" points=\"0.0,600.0 0.0,2199.0\" opacity=\"0.8\" /><polyline fill=\"none\" stroke=\"#66cc99\" stroke-width=\"15.84\" points=\"500.0,2199.0 500.0,2100.0 500.0,1900.0 500.0,1700.0 500.0,1500.0 500.0,1300.0 500.0,1100.0 500.0,900.0 500.0,700.0 500.0,600.0 0.0,600.0\" opacity=\"0.8\" /><polyline fill=\"none\" stroke=\"#66cc99\" stroke-width=\"15.84\" points=\"0.0,2201.0 0.0,2800.0 1000.0,2800.0 1000.0,2200.0 501.0,2200.0\" opacity=\"0.8\" /><path fill-rule=\"evenodd\" fill=\"#66cc99\" stroke=\"#555555\" stroke-width=\"15.84\" opacity=\"0.6\" d=\"M 290.0,1400.0 L 289.8073890668879,1396.0793143868175 L 289.23141121612923,1392.1963871193548 L 288.27761342928835,1388.3886129098214 L 286.9551813004515,1384.6926627053965 L 285.2768505739342,1381.14413052696 L 283.2587844921018,1377.777190679216 L 280.9204181345095,1374.6242686334542 L 278.2842712474619,1371.715728752538 L 275.37573136654584,1369.0795818654906 L 272.2228093207841,1366.7412155078982 L 268.85586947303995,1364.723149426066 L 265.30733729460366,1363.0448186995486 L 261.61138709017854,1361.7223865707117 L 257.8036128806452,1360.7685887838709 L 253.92068561318248,1360.192610933112 L 250.00000000000006,1360.0 L 246.07931438681766,1360.192610933112 L 242.19638711935494,1360.7685887838707 L 238.38861290982157,1361.7223865707117 L 234.6926627053965,1363.0448186995486 L 231.14413052696017,1364.7231494260657 L 227.77719067921598,1366.7412155078982 L 224.62426863345425,1369.0795818654906 L 221.71572875253815,1371.715728752538 L 219.07958186549058,1374.6242686334542 L 216.74121550789823,1377.777190679216 L 214.72314942606585,1381.14413052696 L 213.04481869954856,1384.6926627053963 L 211.72238657071165,1388.3886129098214 L 210.7685887838708,1392.1963871193548 L 210.19261093311212,1396.0793143868175 L 210.0,1400.0 L 210.19261093311212,1403.9206856131823 L 210.76858878387077,1407.803612880645 L 211.72238657071165,1411.6113870901784 L 213.04481869954853,1415.3073372946035 L 214.7231494260658,1418.85586947304 L 216.74121550789818,1422.222809320784 L 219.07958186549052,1425.3757313665458 L 221.7157287525381,1428.284271247462 L 224.62426863345416,1430.9204181345094 L 227.7771906792159,1433.2587844921018 L 231.14413052696005,1435.276850573934 L 234.69266270539634,1436.9551813004514 L 238.38861290982143,1438.2776134292883 L 242.1963871193548,1439.2314112161291 L 246.0793143868175,1439.807389066888 L 248.0,1439.9017463004611 L 248.0,2199.0 L 0.0,2199.0 L -0.09801714032956221,2199.004815273328 L -0.19509032201612955,2199.0192147195967 L -0.2902846772544641,2199.0430596642677 L -0.38268343236509117,2199.0761204674886 L -0.47139673682599864,2199.1180787356516 L -0.5555702330196037,2199.1685303876975 L -0.6343932841636466,2199.2269895466375 L -0.7071067811865482,2199.2928932188133 L -0.7730104533627374,2199.3656067158363 L -0.8314696123025457,2199.44442976698 L -0.8819212643483555,2199.528603263174 L -0.923879532511287,2199.617316567635 L -0.9569403357322089,2199.7097153227455 L -0.9807852804032305,2199.8049096779837 L -0.9951847266721969,2199.9019828596706 L -1.0,2200.0 L -0.9951847266721969,2200.0980171403294 L -0.9807852804032304,2200.1950903220163 L -0.9569403357322088,2200.2902846772545 L -0.9238795325112868,2200.382683432365 L -0.8819212643483554,2200.471396736826 L -0.8314696123025458,2200.55557023302 L -0.7730104533627378,2200.6343932841637 L -0.7071067811865488,2200.7071067811867 L -0.634393284163647,2200.7730104533625 L -0.5555702330196042,2200.8314696123025 L -0.47139673682600003,2200.8819212643484 L -0.38268343236509256,2200.9238795325114 L -0.2902846772544656,2200.9569403357323 L -0.1950903220161319,2200.9807852804033 L -0.09801714032956463,2200.995184726672 L -4.3796597585432586e-15,2201.0 L 0.0,2201.0 L 248.27024976940976,2201.0 L 248.34425244477603,2201.121828878827 L 248.46355744080526,2201.280368799329 L 485.7294968610924,2485.9994961036737 L 484.5397909327453,2487.312134316727 L 483.3706077539491,2488.888595339608 L 482.3615747130329,2490.57206526348 L 481.52240934977425,2492.346331352698 L 480.86119328535585,2494.194306454911 L 480.3842943919354,2496.0981935596774 L 480.0963054665561,2498.039657193409 L 480.0,2500.0 L 480.09630546655603,2501.960342806591 L 480.3842943919354,2503.9018064403226 L 480.8611932853558,2505.805693545089 L 481.52240934977425,2507.653668647302 L 482.3615747130329,2509.42793473652 L 483.3706077539491,2511.111404660392 L 484.53979093274523,2512.687865683273 L 485.85786437626905,2514.142135623731 L 487.3121343167271,2515.4602090672547 L 488.88859533960795,2516.629392246051 L 490.57206526348,2517.638425286967 L 492.3463313526982,2518.477590650226 L 494.1943064549107,2519.138806714644 L 496.0981935596774,2519.6157056080647 L 498.03965719340874,2519.9036945334437 L 499.99999999999994,2520.0 L 501.96034280659114,2519.9036945334437 L 503.9018064403225,2519.6157056080647 L 505.8056935450892,2519.138806714644 L 507.65366864730174,2518.477590650226 L 509.4279347365199,2517.638425286967 L 511.11140466039194,2516.629392246051 L 512.6878656832728,2515.4602090672547 L 514.1421356237308,2514.142135623731 L 515.4602090672547,2512.687865683273 L 516.6293922460509,2511.111404660392 L 517.638425286967,2509.42793473652 L 518.4775906502257,2507.653668647302 L 519.1388067146441,2505.8056935450895 L 519.6157056080646,2503.9018064403226 L 519.903694533444,2501.960342806591 L 520.0,2500.0 L 519.903694533444,2498.039657193409 L 519.6157056080646,2496.0981935596774 L 519.1388067146441,2494.194306454911 L 518.4775906502257,2492.346331352698 L 517.638425286967,2490.57206526348 L 516.6293922460509,2488.888595339608 L 515.4602090672547,2487.312134316727 L 514.142135623731,2485.857864376269 L 512.6878656832729,2484.5397909327453 L 511.11140466039205,2483.370607753949 L 509.42793473652,2482.361574713033 L 507.6536686473018,2481.522409349774 L 505.8056935450893,2480.861193285356 L 503.9018064403226,2480.3842943919353 L 501.96034280659126,2480.0963054665563 L 500.00000000000006,2480.0 L 498.0396571934088,2480.0963054665563 L 496.0981935596775,2480.3842943919353 L 494.1943064549108,2480.861193285356 L 492.34633135269826,2481.522409349774 L 490.5720652634801,2482.361574713033 L 488.888595339608,2483.370607753949 L 488.80021342992444,2483.4361562455465 L 253.436749891969,2201.0 L 500.0,2201.0 L 500.09801714032955,2200.995184726672 L 500.19509032201614,2200.9807852804033 L 500.2902846772545,2200.9569403357323 L 500.38268343236507,2200.9238795325114 L 500.471396736826,2200.8819212643484 L 500.5555702330196,2200.8314696123025 L 500.63439328416365,2200.7730104533625 L 500.70710678118655,2200.7071067811867 L 500.77301045336276,2200.6343932841637 L 500.83146961230256,2200.55557023302 L 500.88192126434836,2200.471396736826 L 500.9238795325113,2200.382683432365 L 500.9569403357322,2200.2902846772545 L 500.9807852804032,2200.1950903220163 L 500.9951847266722,2200.0980171403294 L 501.0,2200.0 L 500.9951847266722,2199.9019828596706 L 500.9807852804032,2199.8049096779837 L 500.9569403357322,2199.7097153227455 L 500.9238795325113,2199.617316567635 L 500.88192126434836,2199.528603263174 L 500.83146961230256,2199.44442976698 L 500.77301045336276,2199.3656067158363 L 500.70710678118655,2199.2928932188133 L 500.63439328416365,2199.2269895466375 L 500.5555702330196,2199.1685303876975 L 500.471396736826,2199.1180787356516 L 500.38268343236507,2199.0761204674886 L 500.2902846772545,2199.0430596642677 L 500.19509032201614,2199.0192147195967 L 500.09801714032955,2199.004815273328 L 500.0,2199.0 L 252.0,2199.0 L 252.0,1439.9017463004611 L 253.9206856131823,1439.807389066888 L 257.803612880645,1439.2314112161293 L 261.61138709017837,1438.2776134292883 L 265.3073372946034,1436.9551813004516 L 268.8558694730398,1435.2768505739343 L 272.22280932078394,1433.258784492102 L 275.37573136654566,1430.9204181345096 L 278.28427124746173,1428.2842712474621 L 280.9204181345093,1425.375731366546 L 283.25878449210165,1422.2228093207843 L 285.2768505739341,1418.8558694730402 L 286.9551813004514,1415.307337294604 L 288.2776134292883,1411.6113870901788 L 289.2314112161292,1407.8036128806455 L 289.8073890668878,1403.9206856131827 L 290.0,1400.0000000000002 L 290.0,1400.0 z\" /></g></g></svg>"
      ],
      "text/plain": [
       "<shapely.geometry.collection.GeometryCollection at 0x108fa9358>"
      ]
     },
     "execution_count": 9,
     "metadata": {},
     "output_type": "execute_result"
    }
   ],
   "source": [
    "next_state = layer.states['L0S4']\n",
    "transition = state.transitionsTo(next_state)[0]\n",
    "cascaded_union([state.geometry.buffer(40), next_state.geometry.buffer(20), transition.geometry.buffer(2),\n",
    "                transition.duality.geometry.buffer(1), state.duality.geometry.boundary, \n",
    "                next_state.duality.geometry.boundary])"
   ]
  },
  {
   "cell_type": "code",
   "execution_count": 10,
   "metadata": {},
   "outputs": [
    {
     "name": "stdout",
     "output_type": "stream",
     "text": [
      "Its dual TransitionSpace: L0C1 is a Horizontal Transition (1000) (a Corridor (1000)) with polygonian shape POLYGON ((0 600, 0 2200, 500 2200, 500 2100, 500 1900, 500 1700, 500 1500, 500 1300, 500 1100, 500 900, 500 700, 500 600, 0 600)) and several boundaries {NavigableBoundary: L0B7, CellSpaceBoundary: L0B10, NavigableBoundary: L0B11, CellSpaceBoundary: L0B6, CellSpaceBoundary: L0B4, CellSpaceBoundary: L0B12, NavigableBoundary: L0B3, CellSpaceBoundary: L0B2, CellSpaceBoundary: L0B8, NavigableBoundary: L0B5, NavigableBoundary: L0B1, NavigableBoundary: L0B9}\n"
     ]
    },
    {
     "data": {
      "image/svg+xml": [
       "<svg height=\"500\" viewBox=\"-100.0 -2300.0 700.0 1800.0\" width=\"1000\" xmlns=\"http://www.w3.org/2000/svg\"><style media=\"screen\" type=\"text/css\">\n",
       "\n",
       ".State circle {\n",
       "    fill: red;\n",
       "    r: 20;\n",
       "    stroke: orange;\n",
       "    stroke-width: 10;\n",
       "}\n",
       "\n",
       ".Transition path {\n",
       "    stroke: orange;\n",
       "    stroke-width: 10;\n",
       "    fill: none;\n",
       "    display: inline\n",
       "}\n",
       "\n",
       "path\n",
       "{\n",
       "    stroke: grey;\n",
       "    stroke-width: 10;\n",
       "}\n",
       "\n",
       ".TransitionSpace {\n",
       "    fill: lightgreen;\n",
       "}\n",
       "\n",
       ".GeneralSpace {\n",
       "    fill: olive;\n",
       "}\n",
       "\n",
       ".ConnectionSpace {\n",
       "    fill: orange;\n",
       "}\n",
       "\n",
       "\n",
       ".TOPOGRAPHIC .CellSpace {\n",
       "    fill: black;\n",
       "}\n",
       "\n",
       ".CellSpace {\n",
       "    fill: BurlyWood ;\n",
       "    stroke: white;\n",
       "    stroke-width: 10;\n",
       "}\n",
       "\n",
       ".CellSpaceBoundary {\n",
       "    display: none;\n",
       "}\n",
       "\n",
       ".NavigableBoundary {\n",
       "    display: none;\n",
       "    stroke: green;\n",
       "    stroke-dasharray: 40 40;\n",
       "    stroke-width: 20;\n",
       "    fill: none;\n",
       "}\n",
       "\n",
       "\n",
       "\n",
       "</style><g transform=\"scale(1, -1)\"><g class=\"TransitionSpace None\" id=\"L0C1\" onclick=\"(function(event){alert('L0C1'); event.stopPropagation();})(event)\"><path d=\"M 0.0 600.0 0.0 2200.0 L 500.0 2200.0 500.0 2100.0 500.0 1900.0 500.0 1700.0 500.0 1500.0 500.0 1300.0 500.0 1100.0 500.0 900.0 500.0 700.0 500.0 600.0 0.0 600.0 Z\" fill-rule=\"evenodd\" id=\"p_L0C1\" /><g class=\"NavigableBoundary None\" id=\"L0B7\" onclick=\"(function(event){alert('L0B7'); event.stopPropagation();})(event)\"><path d=\"M 500.0 1700.0 L 500.0 1500.0\" id=\"p_L0B7\" /></g><g class=\"CellSpaceBoundary None\" id=\"L0B10\" onclick=\"(function(event){alert('L0B10'); event.stopPropagation();})(event)\"><path d=\"M 500.0 1100.0 L 500.0 900.0\" id=\"p_L0B10\" /></g><g class=\"NavigableBoundary None\" id=\"L0B11\" onclick=\"(function(event){alert('L0B11'); event.stopPropagation();})(event)\"><path d=\"M 500.0 900.0 L 500.0 700.0\" id=\"p_L0B11\" /></g><g class=\"CellSpaceBoundary None\" id=\"L0B6\" onclick=\"(function(event){alert('L0B6'); event.stopPropagation();})(event)\"><path d=\"M 500.0 1900.0 L 500.0 1700.0\" id=\"p_L0B6\" /></g><g class=\"CellSpaceBoundary None\" id=\"L0B4\" onclick=\"(function(event){alert('L0B4'); event.stopPropagation();})(event)\"><path d=\"M 500.0 2200.0 L 500.0 2100.0\" id=\"p_L0B4\" /></g><g class=\"CellSpaceBoundary None\" id=\"L0B12\" onclick=\"(function(event){alert('L0B12'); event.stopPropagation();})(event)\"><path d=\"M 500.0 700.0 L 500.0 600.0\" id=\"p_L0B12\" /></g><g class=\"NavigableBoundary None\" id=\"L0B3\" onclick=\"(function(event){alert('L0B3'); event.stopPropagation();})(event)\"><path d=\"M 0.0 2200.0 L 500.0 2200.0\" id=\"p_L0B3\" /></g><g class=\"CellSpaceBoundary None\" id=\"L0B2\" onclick=\"(function(event){alert('L0B2'); event.stopPropagation();})(event)\"><path d=\"M 0.0 600.0 L 0.0 2200.0\" id=\"p_L0B2\" /></g><g class=\"CellSpaceBoundary None\" id=\"L0B8\" onclick=\"(function(event){alert('L0B8'); event.stopPropagation();})(event)\"><path d=\"M 500.0 1500.0 L 500.0 1300.0\" id=\"p_L0B8\" /></g><g class=\"NavigableBoundary None\" id=\"L0B5\" onclick=\"(function(event){alert('L0B5'); event.stopPropagation();})(event)\"><path d=\"M 500.0 2100.0 L 500.0 1900.0\" id=\"p_L0B5\" /></g><g class=\"NavigableBoundary None\" id=\"L0B1\" onclick=\"(function(event){alert('L0B1'); event.stopPropagation();})(event)\"><path d=\"M 500.0 600.0 L 0.0 600.0\" id=\"p_L0B1\" /></g><g class=\"NavigableBoundary None\" id=\"L0B9\" onclick=\"(function(event){alert('L0B9'); event.stopPropagation();})(event)\"><path d=\"M 500.0 1300.0 L 500.0 1100.0\" id=\"p_L0B9\" /></g></g></g></svg>"
      ],
      "text/plain": [
       "TransitionSpace: L0C1"
      ]
     },
     "execution_count": 10,
     "metadata": {},
     "output_type": "execute_result"
    }
   ],
   "source": [
    "cell = state.duality\n",
    "print(f\"Its dual {cell} is a {cell.cls_name} (a {cell.function}) with polygonian shape {cell.geometry}\" \n",
    "      f\" and several boundaries {cell.boundary}\")\n",
    "cell"
   ]
  },
  {
   "cell_type": "markdown",
   "metadata": {},
   "source": [
    "The full specifications are given by the indoorGML XML format (similar to the other entities)"
   ]
  },
  {
   "cell_type": "code",
   "execution_count": 11,
   "metadata": {},
   "outputs": [
    {
     "data": {
      "text/html": [
       "<style type=\"text/css\">.highlight .hll { background-color: #ffffcc }\n",
       ".highlight  { background: #f8f8f8; }\n",
       ".highlight .c { color: #408080; font-style: italic } /* Comment */\n",
       ".highlight .err { border: 1px solid #FF0000 } /* Error */\n",
       ".highlight .k { color: #008000; font-weight: bold } /* Keyword */\n",
       ".highlight .o { color: #666666 } /* Operator */\n",
       ".highlight .ch { color: #408080; font-style: italic } /* Comment.Hashbang */\n",
       ".highlight .cm { color: #408080; font-style: italic } /* Comment.Multiline */\n",
       ".highlight .cp { color: #BC7A00 } /* Comment.Preproc */\n",
       ".highlight .cpf { color: #408080; font-style: italic } /* Comment.PreprocFile */\n",
       ".highlight .c1 { color: #408080; font-style: italic } /* Comment.Single */\n",
       ".highlight .cs { color: #408080; font-style: italic } /* Comment.Special */\n",
       ".highlight .gd { color: #A00000 } /* Generic.Deleted */\n",
       ".highlight .ge { font-style: italic } /* Generic.Emph */\n",
       ".highlight .gr { color: #FF0000 } /* Generic.Error */\n",
       ".highlight .gh { color: #000080; font-weight: bold } /* Generic.Heading */\n",
       ".highlight .gi { color: #00A000 } /* Generic.Inserted */\n",
       ".highlight .go { color: #888888 } /* Generic.Output */\n",
       ".highlight .gp { color: #000080; font-weight: bold } /* Generic.Prompt */\n",
       ".highlight .gs { font-weight: bold } /* Generic.Strong */\n",
       ".highlight .gu { color: #800080; font-weight: bold } /* Generic.Subheading */\n",
       ".highlight .gt { color: #0044DD } /* Generic.Traceback */\n",
       ".highlight .kc { color: #008000; font-weight: bold } /* Keyword.Constant */\n",
       ".highlight .kd { color: #008000; font-weight: bold } /* Keyword.Declaration */\n",
       ".highlight .kn { color: #008000; font-weight: bold } /* Keyword.Namespace */\n",
       ".highlight .kp { color: #008000 } /* Keyword.Pseudo */\n",
       ".highlight .kr { color: #008000; font-weight: bold } /* Keyword.Reserved */\n",
       ".highlight .kt { color: #B00040 } /* Keyword.Type */\n",
       ".highlight .m { color: #666666 } /* Literal.Number */\n",
       ".highlight .s { color: #BA2121 } /* Literal.String */\n",
       ".highlight .na { color: #7D9029 } /* Name.Attribute */\n",
       ".highlight .nb { color: #008000 } /* Name.Builtin */\n",
       ".highlight .nc { color: #0000FF; font-weight: bold } /* Name.Class */\n",
       ".highlight .no { color: #880000 } /* Name.Constant */\n",
       ".highlight .nd { color: #AA22FF } /* Name.Decorator */\n",
       ".highlight .ni { color: #999999; font-weight: bold } /* Name.Entity */\n",
       ".highlight .ne { color: #D2413A; font-weight: bold } /* Name.Exception */\n",
       ".highlight .nf { color: #0000FF } /* Name.Function */\n",
       ".highlight .nl { color: #A0A000 } /* Name.Label */\n",
       ".highlight .nn { color: #0000FF; font-weight: bold } /* Name.Namespace */\n",
       ".highlight .nt { color: #008000; font-weight: bold } /* Name.Tag */\n",
       ".highlight .nv { color: #19177C } /* Name.Variable */\n",
       ".highlight .ow { color: #AA22FF; font-weight: bold } /* Operator.Word */\n",
       ".highlight .w { color: #bbbbbb } /* Text.Whitespace */\n",
       ".highlight .mb { color: #666666 } /* Literal.Number.Bin */\n",
       ".highlight .mf { color: #666666 } /* Literal.Number.Float */\n",
       ".highlight .mh { color: #666666 } /* Literal.Number.Hex */\n",
       ".highlight .mi { color: #666666 } /* Literal.Number.Integer */\n",
       ".highlight .mo { color: #666666 } /* Literal.Number.Oct */\n",
       ".highlight .sa { color: #BA2121 } /* Literal.String.Affix */\n",
       ".highlight .sb { color: #BA2121 } /* Literal.String.Backtick */\n",
       ".highlight .sc { color: #BA2121 } /* Literal.String.Char */\n",
       ".highlight .dl { color: #BA2121 } /* Literal.String.Delimiter */\n",
       ".highlight .sd { color: #BA2121; font-style: italic } /* Literal.String.Doc */\n",
       ".highlight .s2 { color: #BA2121 } /* Literal.String.Double */\n",
       ".highlight .se { color: #BB6622; font-weight: bold } /* Literal.String.Escape */\n",
       ".highlight .sh { color: #BA2121 } /* Literal.String.Heredoc */\n",
       ".highlight .si { color: #BB6688; font-weight: bold } /* Literal.String.Interpol */\n",
       ".highlight .sx { color: #008000 } /* Literal.String.Other */\n",
       ".highlight .sr { color: #BB6688 } /* Literal.String.Regex */\n",
       ".highlight .s1 { color: #BA2121 } /* Literal.String.Single */\n",
       ".highlight .ss { color: #19177C } /* Literal.String.Symbol */\n",
       ".highlight .bp { color: #008000 } /* Name.Builtin.Pseudo */\n",
       ".highlight .fm { color: #0000FF } /* Name.Function.Magic */\n",
       ".highlight .vc { color: #19177C } /* Name.Variable.Class */\n",
       ".highlight .vg { color: #19177C } /* Name.Variable.Global */\n",
       ".highlight .vi { color: #19177C } /* Name.Variable.Instance */\n",
       ".highlight .vm { color: #19177C } /* Name.Variable.Magic */\n",
       ".highlight .il { color: #666666 } /* Literal.Number.Integer.Long */</style>    <div class=\"highlight\"><pre><span></span><span class=\"nt\">&lt;indoorNavi:TransitionSpace</span> <span class=\"na\">xmlns:alma=</span><span class=\"s\">&quot;http://www.idsia.ch/alma&quot;</span> <span class=\"na\">xmlns:gml=</span><span class=\"s\">&quot;http://www.opengis.net/gml/3.2&quot;</span> <span class=\"na\">xmlns:indoorCore=</span><span class=\"s\">&quot;http://www.opengis.net/indoorgml/1.0/core&quot;</span> <span class=\"na\">xmlns:indoorNavi=</span><span class=\"s\">&quot;http://www.opengis.net/indoorgml/1.0/navigation&quot;</span> <span class=\"na\">xmlns:xlink=</span><span class=\"s\">&quot;http://www.w3.org/1999/xlink&quot;</span> <span class=\"na\">xmlns:xsi=</span><span class=\"s\">&quot;http://www.w3.org/2001/XMLSchema-instance&quot;</span> <span class=\"na\">gml:id=</span><span class=\"s\">&quot;L0C1&quot;</span><span class=\"nt\">&gt;</span>\n",
       "  <span class=\"nt\">&lt;indoorCore:Geometry2D&gt;</span>\n",
       "    <span class=\"nt\">&lt;gml:Polygon</span> <span class=\"na\">gml:id=</span><span class=\"s\">&quot;G_L0C1&quot;</span><span class=\"nt\">&gt;</span>\n",
       "      <span class=\"nt\">&lt;gml:exterior&gt;</span>\n",
       "        <span class=\"nt\">&lt;gml:LinearRing&gt;</span>\n",
       "          <span class=\"nt\">&lt;gml:posList&gt;</span>0.0 600.0 0.0 2200.0 500.0 2200.0 500.0 2100.0 500.0 1900.0 500.0 1700.0 500.0 1500.0 500.0 1300.0 500.0 1100.0 500.0 900.0 500.0 700.0 500.0 600.0 0.0 600.0<span class=\"nt\">&lt;/gml:posList&gt;</span>\n",
       "        <span class=\"nt\">&lt;/gml:LinearRing&gt;</span>\n",
       "      <span class=\"nt\">&lt;/gml:exterior&gt;</span>\n",
       "    <span class=\"nt\">&lt;/gml:Polygon&gt;</span>\n",
       "  <span class=\"nt\">&lt;/indoorCore:Geometry2D&gt;</span>\n",
       "  <span class=\"nt\">&lt;indoorCore:duality</span> <span class=\"na\">xlink:href=</span><span class=\"s\">&quot;#L0S1&quot;</span><span class=\"nt\">/&gt;</span>\n",
       "  <span class=\"nt\">&lt;indoorCore:partialboundedBy&gt;</span>\n",
       "    <span class=\"nt\">&lt;indoorNavi:NavigableBoundary</span> <span class=\"na\">gml:id=</span><span class=\"s\">&quot;L0B7&quot;</span><span class=\"nt\">&gt;</span>\n",
       "      <span class=\"nt\">&lt;indoorCore:geometry2D&gt;</span>\n",
       "        <span class=\"nt\">&lt;gml:LineString</span> <span class=\"na\">gml:id=</span><span class=\"s\">&quot;G_L0B7&quot;</span><span class=\"nt\">&gt;</span>\n",
       "          <span class=\"nt\">&lt;gml:posList&gt;</span>500.0 1700.0 500.0 1500.0<span class=\"nt\">&lt;/gml:posList&gt;</span>\n",
       "        <span class=\"nt\">&lt;/gml:LineString&gt;</span>\n",
       "      <span class=\"nt\">&lt;/indoorCore:geometry2D&gt;</span>\n",
       "    <span class=\"nt\">&lt;/indoorNavi:NavigableBoundary&gt;</span>\n",
       "  <span class=\"nt\">&lt;/indoorCore:partialboundedBy&gt;</span>\n",
       "  <span class=\"nt\">&lt;indoorCore:partialboundedBy&gt;</span>\n",
       "    <span class=\"nt\">&lt;indoorCore:CellSpaceBoundary</span> <span class=\"na\">gml:id=</span><span class=\"s\">&quot;L0B10&quot;</span><span class=\"nt\">&gt;</span>\n",
       "      <span class=\"nt\">&lt;indoorCore:geometry2D&gt;</span>\n",
       "        <span class=\"nt\">&lt;gml:LineString</span> <span class=\"na\">gml:id=</span><span class=\"s\">&quot;G_L0B10&quot;</span><span class=\"nt\">&gt;</span>\n",
       "          <span class=\"nt\">&lt;gml:posList&gt;</span>500.0 1100.0 500.0 900.0<span class=\"nt\">&lt;/gml:posList&gt;</span>\n",
       "        <span class=\"nt\">&lt;/gml:LineString&gt;</span>\n",
       "      <span class=\"nt\">&lt;/indoorCore:geometry2D&gt;</span>\n",
       "    <span class=\"nt\">&lt;/indoorCore:CellSpaceBoundary&gt;</span>\n",
       "  <span class=\"nt\">&lt;/indoorCore:partialboundedBy&gt;</span>\n",
       "  <span class=\"nt\">&lt;indoorCore:partialboundedBy&gt;</span>\n",
       "    <span class=\"nt\">&lt;indoorNavi:NavigableBoundary</span> <span class=\"na\">gml:id=</span><span class=\"s\">&quot;L0B11&quot;</span><span class=\"nt\">&gt;</span>\n",
       "      <span class=\"nt\">&lt;indoorCore:geometry2D&gt;</span>\n",
       "        <span class=\"nt\">&lt;gml:LineString</span> <span class=\"na\">gml:id=</span><span class=\"s\">&quot;G_L0B11&quot;</span><span class=\"nt\">&gt;</span>\n",
       "          <span class=\"nt\">&lt;gml:posList&gt;</span>500.0 900.0 500.0 700.0<span class=\"nt\">&lt;/gml:posList&gt;</span>\n",
       "        <span class=\"nt\">&lt;/gml:LineString&gt;</span>\n",
       "      <span class=\"nt\">&lt;/indoorCore:geometry2D&gt;</span>\n",
       "    <span class=\"nt\">&lt;/indoorNavi:NavigableBoundary&gt;</span>\n",
       "  <span class=\"nt\">&lt;/indoorCore:partialboundedBy&gt;</span>\n",
       "  <span class=\"nt\">&lt;indoorCore:partialboundedBy&gt;</span>\n",
       "    <span class=\"nt\">&lt;indoorCore:CellSpaceBoundary</span> <span class=\"na\">gml:id=</span><span class=\"s\">&quot;L0B6&quot;</span><span class=\"nt\">&gt;</span>\n",
       "      <span class=\"nt\">&lt;indoorCore:geometry2D&gt;</span>\n",
       "        <span class=\"nt\">&lt;gml:LineString</span> <span class=\"na\">gml:id=</span><span class=\"s\">&quot;G_L0B6&quot;</span><span class=\"nt\">&gt;</span>\n",
       "          <span class=\"nt\">&lt;gml:posList&gt;</span>500.0 1900.0 500.0 1700.0<span class=\"nt\">&lt;/gml:posList&gt;</span>\n",
       "        <span class=\"nt\">&lt;/gml:LineString&gt;</span>\n",
       "      <span class=\"nt\">&lt;/indoorCore:geometry2D&gt;</span>\n",
       "    <span class=\"nt\">&lt;/indoorCore:CellSpaceBoundary&gt;</span>\n",
       "  <span class=\"nt\">&lt;/indoorCore:partialboundedBy&gt;</span>\n",
       "  <span class=\"nt\">&lt;indoorCore:partialboundedBy&gt;</span>\n",
       "    <span class=\"nt\">&lt;indoorCore:CellSpaceBoundary</span> <span class=\"na\">gml:id=</span><span class=\"s\">&quot;L0B4&quot;</span><span class=\"nt\">&gt;</span>\n",
       "      <span class=\"nt\">&lt;indoorCore:geometry2D&gt;</span>\n",
       "        <span class=\"nt\">&lt;gml:LineString</span> <span class=\"na\">gml:id=</span><span class=\"s\">&quot;G_L0B4&quot;</span><span class=\"nt\">&gt;</span>\n",
       "          <span class=\"nt\">&lt;gml:posList&gt;</span>500.0 2200.0 500.0 2100.0<span class=\"nt\">&lt;/gml:posList&gt;</span>\n",
       "        <span class=\"nt\">&lt;/gml:LineString&gt;</span>\n",
       "      <span class=\"nt\">&lt;/indoorCore:geometry2D&gt;</span>\n",
       "    <span class=\"nt\">&lt;/indoorCore:CellSpaceBoundary&gt;</span>\n",
       "  <span class=\"nt\">&lt;/indoorCore:partialboundedBy&gt;</span>\n",
       "  <span class=\"nt\">&lt;indoorCore:partialboundedBy&gt;</span>\n",
       "    <span class=\"nt\">&lt;indoorCore:CellSpaceBoundary</span> <span class=\"na\">gml:id=</span><span class=\"s\">&quot;L0B12&quot;</span><span class=\"nt\">&gt;</span>\n",
       "      <span class=\"nt\">&lt;indoorCore:geometry2D&gt;</span>\n",
       "        <span class=\"nt\">&lt;gml:LineString</span> <span class=\"na\">gml:id=</span><span class=\"s\">&quot;G_L0B12&quot;</span><span class=\"nt\">&gt;</span>\n",
       "          <span class=\"nt\">&lt;gml:posList&gt;</span>500.0 700.0 500.0 600.0<span class=\"nt\">&lt;/gml:posList&gt;</span>\n",
       "        <span class=\"nt\">&lt;/gml:LineString&gt;</span>\n",
       "      <span class=\"nt\">&lt;/indoorCore:geometry2D&gt;</span>\n",
       "    <span class=\"nt\">&lt;/indoorCore:CellSpaceBoundary&gt;</span>\n",
       "  <span class=\"nt\">&lt;/indoorCore:partialboundedBy&gt;</span>\n",
       "  <span class=\"nt\">&lt;indoorCore:partialboundedBy&gt;</span>\n",
       "    <span class=\"nt\">&lt;indoorNavi:NavigableBoundary</span> <span class=\"na\">gml:id=</span><span class=\"s\">&quot;L0B3&quot;</span><span class=\"nt\">&gt;</span>\n",
       "      <span class=\"nt\">&lt;indoorCore:geometry2D&gt;</span>\n",
       "        <span class=\"nt\">&lt;gml:LineString</span> <span class=\"na\">gml:id=</span><span class=\"s\">&quot;G_L0B3&quot;</span><span class=\"nt\">&gt;</span>\n",
       "          <span class=\"nt\">&lt;gml:posList&gt;</span>0.0 2200.0 500.0 2200.0<span class=\"nt\">&lt;/gml:posList&gt;</span>\n",
       "        <span class=\"nt\">&lt;/gml:LineString&gt;</span>\n",
       "      <span class=\"nt\">&lt;/indoorCore:geometry2D&gt;</span>\n",
       "    <span class=\"nt\">&lt;/indoorNavi:NavigableBoundary&gt;</span>\n",
       "  <span class=\"nt\">&lt;/indoorCore:partialboundedBy&gt;</span>\n",
       "  <span class=\"nt\">&lt;indoorCore:partialboundedBy&gt;</span>\n",
       "    <span class=\"nt\">&lt;indoorCore:CellSpaceBoundary</span> <span class=\"na\">gml:id=</span><span class=\"s\">&quot;L0B2&quot;</span><span class=\"nt\">&gt;</span>\n",
       "      <span class=\"nt\">&lt;indoorCore:geometry2D&gt;</span>\n",
       "        <span class=\"nt\">&lt;gml:LineString</span> <span class=\"na\">gml:id=</span><span class=\"s\">&quot;G_L0B2&quot;</span><span class=\"nt\">&gt;</span>\n",
       "          <span class=\"nt\">&lt;gml:posList&gt;</span>0.0 600.0 0.0 2200.0<span class=\"nt\">&lt;/gml:posList&gt;</span>\n",
       "        <span class=\"nt\">&lt;/gml:LineString&gt;</span>\n",
       "      <span class=\"nt\">&lt;/indoorCore:geometry2D&gt;</span>\n",
       "    <span class=\"nt\">&lt;/indoorCore:CellSpaceBoundary&gt;</span>\n",
       "  <span class=\"nt\">&lt;/indoorCore:partialboundedBy&gt;</span>\n",
       "  <span class=\"nt\">&lt;indoorCore:partialboundedBy&gt;</span>\n",
       "    <span class=\"nt\">&lt;indoorCore:CellSpaceBoundary</span> <span class=\"na\">gml:id=</span><span class=\"s\">&quot;L0B8&quot;</span><span class=\"nt\">&gt;</span>\n",
       "      <span class=\"nt\">&lt;indoorCore:geometry2D&gt;</span>\n",
       "        <span class=\"nt\">&lt;gml:LineString</span> <span class=\"na\">gml:id=</span><span class=\"s\">&quot;G_L0B8&quot;</span><span class=\"nt\">&gt;</span>\n",
       "          <span class=\"nt\">&lt;gml:posList&gt;</span>500.0 1500.0 500.0 1300.0<span class=\"nt\">&lt;/gml:posList&gt;</span>\n",
       "        <span class=\"nt\">&lt;/gml:LineString&gt;</span>\n",
       "      <span class=\"nt\">&lt;/indoorCore:geometry2D&gt;</span>\n",
       "    <span class=\"nt\">&lt;/indoorCore:CellSpaceBoundary&gt;</span>\n",
       "  <span class=\"nt\">&lt;/indoorCore:partialboundedBy&gt;</span>\n",
       "  <span class=\"nt\">&lt;indoorCore:partialboundedBy&gt;</span>\n",
       "    <span class=\"nt\">&lt;indoorNavi:NavigableBoundary</span> <span class=\"na\">gml:id=</span><span class=\"s\">&quot;L0B5&quot;</span><span class=\"nt\">&gt;</span>\n",
       "      <span class=\"nt\">&lt;indoorCore:geometry2D&gt;</span>\n",
       "        <span class=\"nt\">&lt;gml:LineString</span> <span class=\"na\">gml:id=</span><span class=\"s\">&quot;G_L0B5&quot;</span><span class=\"nt\">&gt;</span>\n",
       "          <span class=\"nt\">&lt;gml:posList&gt;</span>500.0 2100.0 500.0 1900.0<span class=\"nt\">&lt;/gml:posList&gt;</span>\n",
       "        <span class=\"nt\">&lt;/gml:LineString&gt;</span>\n",
       "      <span class=\"nt\">&lt;/indoorCore:geometry2D&gt;</span>\n",
       "    <span class=\"nt\">&lt;/indoorNavi:NavigableBoundary&gt;</span>\n",
       "  <span class=\"nt\">&lt;/indoorCore:partialboundedBy&gt;</span>\n",
       "  <span class=\"nt\">&lt;indoorCore:partialboundedBy&gt;</span>\n",
       "    <span class=\"nt\">&lt;indoorNavi:NavigableBoundary</span> <span class=\"na\">gml:id=</span><span class=\"s\">&quot;L0B1&quot;</span><span class=\"nt\">&gt;</span>\n",
       "      <span class=\"nt\">&lt;indoorCore:geometry2D&gt;</span>\n",
       "        <span class=\"nt\">&lt;gml:LineString</span> <span class=\"na\">gml:id=</span><span class=\"s\">&quot;G_L0B1&quot;</span><span class=\"nt\">&gt;</span>\n",
       "          <span class=\"nt\">&lt;gml:posList&gt;</span>500.0 600.0 0.0 600.0<span class=\"nt\">&lt;/gml:posList&gt;</span>\n",
       "        <span class=\"nt\">&lt;/gml:LineString&gt;</span>\n",
       "      <span class=\"nt\">&lt;/indoorCore:geometry2D&gt;</span>\n",
       "    <span class=\"nt\">&lt;/indoorNavi:NavigableBoundary&gt;</span>\n",
       "  <span class=\"nt\">&lt;/indoorCore:partialboundedBy&gt;</span>\n",
       "  <span class=\"nt\">&lt;indoorCore:partialboundedBy&gt;</span>\n",
       "    <span class=\"nt\">&lt;indoorNavi:NavigableBoundary</span> <span class=\"na\">gml:id=</span><span class=\"s\">&quot;L0B9&quot;</span><span class=\"nt\">&gt;</span>\n",
       "      <span class=\"nt\">&lt;indoorCore:geometry2D&gt;</span>\n",
       "        <span class=\"nt\">&lt;gml:LineString</span> <span class=\"na\">gml:id=</span><span class=\"s\">&quot;G_L0B9&quot;</span><span class=\"nt\">&gt;</span>\n",
       "          <span class=\"nt\">&lt;gml:posList&gt;</span>500.0 1300.0 500.0 1100.0<span class=\"nt\">&lt;/gml:posList&gt;</span>\n",
       "        <span class=\"nt\">&lt;/gml:LineString&gt;</span>\n",
       "      <span class=\"nt\">&lt;/indoorCore:geometry2D&gt;</span>\n",
       "    <span class=\"nt\">&lt;/indoorNavi:NavigableBoundary&gt;</span>\n",
       "  <span class=\"nt\">&lt;/indoorCore:partialboundedBy&gt;</span>\n",
       "  <span class=\"nt\">&lt;indoorNavi:class&gt;</span>Horizontal Transition (1000)<span class=\"nt\">&lt;/indoorNavi:class&gt;</span>\n",
       "  <span class=\"nt\">&lt;indoorNavi:function&gt;</span>Corridor (1000)<span class=\"nt\">&lt;/indoorNavi:function&gt;</span>\n",
       "  <span class=\"nt\">&lt;indoorNavi:usage/&gt;</span>\n",
       "<span class=\"nt\">&lt;/indoorNavi:TransitionSpace&gt;</span>\n",
       "</pre></div>\n"
      ],
      "text/plain": [
       "<IPython.core.display.HTML object>"
      ]
     },
     "metadata": {},
     "output_type": "display_data"
    }
   ],
   "source": [
    "jupyter.xml(cell.xml())"
   ]
  },
  {
   "cell_type": "markdown",
   "metadata": {},
   "source": [
    "# Spatial queries"
   ]
  },
  {
   "cell_type": "markdown",
   "metadata": {},
   "source": [
    "## States in box"
   ]
  },
  {
   "cell_type": "code",
   "execution_count": 12,
   "metadata": {},
   "outputs": [
    {
     "data": {
      "image/svg+xml": [
       "<svg xmlns=\"http://www.w3.org/2000/svg\" xmlns:xlink=\"http://www.w3.org/1999/xlink\" width=\"300\" height=\"300\" viewBox=\"-144.4 -144.4 1288.8000000000002 3088.8\" preserveAspectRatio=\"xMinYMin meet\"><g transform=\"matrix(1,0,0,-1,0,2800.0)\"><g><polyline fill=\"none\" stroke=\"#66cc99\" stroke-width=\"20.592000000000002\" points=\"500.0,800.0 500.0,900.0\" opacity=\"0.8\" /><polyline fill=\"none\" stroke=\"#66cc99\" stroke-width=\"20.592000000000002\" points=\"500.0,900.0 520.0,900.0\" opacity=\"0.8\" /><polyline fill=\"none\" stroke=\"#66cc99\" stroke-width=\"20.592000000000002\" points=\"520.0,900.0 520.0,800.0\" opacity=\"0.8\" /><polyline fill=\"none\" stroke=\"#66cc99\" stroke-width=\"20.592000000000002\" points=\"1000.0,600.0 1000.0,0.0 0.0,0.0 0.0,600.0\" opacity=\"0.8\" /><polyline fill=\"none\" stroke=\"#66cc99\" stroke-width=\"20.592000000000002\" points=\"0.0,600.0 300.0,600.0\" opacity=\"0.8\" /><polyline fill=\"none\" stroke=\"#66cc99\" stroke-width=\"20.592000000000002\" points=\"700.0,600.0 1000.0,600.0\" opacity=\"0.8\" /><polyline fill=\"none\" stroke=\"#66cc99\" stroke-width=\"20.592000000000002\" points=\"700.0,620.0 1000.0,620.0\" opacity=\"0.8\" /><polyline fill=\"none\" stroke=\"#66cc99\" stroke-width=\"20.592000000000002\" points=\"1000.0,620.0 1000.0,600.0\" opacity=\"0.8\" /><polyline fill=\"none\" stroke=\"#66cc99\" stroke-width=\"20.592000000000002\" points=\"0.0,600.0 0.0,2200.0 500.0,2200.0 500.0,2100.0 500.0,1900.0 500.0,1700.0 500.0,1500.0 500.0,1300.0 500.0,1100.0 500.0,900.0\" opacity=\"0.8\" /><polyline fill=\"none\" stroke=\"#66cc99\" stroke-width=\"20.592000000000002\" points=\"520.0,900.0 520.0,980.0 1000.0,980.0 1000.0,620.0\" opacity=\"0.8\" /><polyline fill=\"none\" stroke=\"#66cc99\" stroke-width=\"20.592000000000002\" points=\"1030.0,-30.0 -30.0,-30.0 -30.0,0.0 -30.0,2800.0 -30.0,2830.0 1030.0,2830.0 1030.0,2800.0 1030.0,0.0 1030.0,-30.0\" opacity=\"0.8\" /><path fill-rule=\"evenodd\" fill=\"#66cc99\" stroke=\"#555555\" stroke-width=\"20.592000000000002\" opacity=\"0.6\" d=\"M 700.0,600.0 L 700.0,300.0 L 300.0,300.0 L 300.0,600.0 L 300.0,800.0 L 500.0,800.0 L 520.0,800.0 L 700.0,800.0 L 700.0,620.0 L 700.0,600.0 z\" /></g></g></svg>"
      ],
      "text/plain": [
       "<shapely.geometry.collection.GeometryCollection at 0x108fa9a90>"
      ]
     },
     "execution_count": 12,
     "metadata": {},
     "output_type": "execute_result"
    }
   ],
   "source": [
    "bb = min_x, min_y, max_x, max_y = (300, 300, 700, 800)\n",
    "box = Polygon([(min_x, min_y), (max_x, min_y), (max_x, max_y), (min_x, max_y)])\n",
    "\n",
    "states = layer.states_crossing_box(bb)\n",
    "cascaded_union([layer.geometry.boundary, box] + [s.duality.geometry.boundary for s in states])"
   ]
  },
  {
   "cell_type": "markdown",
   "metadata": {},
   "source": [
    "## State with point"
   ]
  },
  {
   "cell_type": "code",
   "execution_count": 13,
   "metadata": {},
   "outputs": [
    {
     "data": {
      "image/svg+xml": [
       "<svg xmlns=\"http://www.w3.org/2000/svg\" xmlns:xlink=\"http://www.w3.org/1999/xlink\" width=\"300\" height=\"300\" viewBox=\"-144.4 -144.4 1288.8000000000002 3088.8\" preserveAspectRatio=\"xMinYMin meet\"><g transform=\"matrix(1,0,0,-1,0,2800.0)\"><g><polyline fill=\"none\" stroke=\"#66cc99\" stroke-width=\"20.592000000000002\" points=\"1030.0,-30.0 -30.0,-30.0 -30.0,0.0 -30.0,2800.0 -30.0,2830.0 1030.0,2830.0 1030.0,2800.0 1030.0,0.0 1030.0,-30.0\" opacity=\"0.8\" /><path fill-rule=\"evenodd\" fill=\"#66cc99\" stroke=\"#555555\" stroke-width=\"20.592000000000002\" opacity=\"0.6\" d=\"M 350.0,300.0 L 349.75923633360986,295.099142983522 L 349.0392640201615,290.2454838991936 L 347.8470167866104,285.48576613727687 L 346.19397662556435,280.86582838174553 L 344.09606321741774,276.4301631587001 L 341.57348061512727,272.2214883490199 L 338.6505226681369,268.2803357918178 L 335.35533905932743,264.6446609406727 L 331.71966420818234,261.34947733186317 L 327.77851165098014,258.4265193848728 L 323.56983684129995,255.90393678258226 L 319.1341716182545,253.80602337443568 L 314.5142338627232,252.15298321338958 L 309.7545161008065,250.9607359798385 L 304.9008570164781,250.24076366639017 L 300.00000000000006,250.0 L 295.09914298352203,250.24076366639014 L 290.2454838991937,250.96073597983846 L 285.485766137277,252.15298321338952 L 280.8658283817456,253.80602337443563 L 276.4301631587002,255.9039367825822 L 272.22148834902,258.4265193848727 L 268.28033579181783,261.3494773318631 L 264.6446609406727,264.64466094067257 L 261.3494773318632,268.28033579181766 L 258.4265193848728,272.2214883490198 L 255.9039367825823,276.43016315870005 L 253.80602337443568,280.8658283817455 L 252.15298321338958,285.4857661372768 L 250.9607359798385,290.2454838991935 L 250.24076366639017,295.0991429835219 L 250.0,299.99999999999994 L 250.24076366639014,304.90085701647797 L 250.96073597983846,309.75451610080637 L 252.15298321338955,314.5142338627231 L 253.80602337443565,319.13417161825447 L 255.90393678258224,323.5698368412999 L 258.42651938487273,327.7785116509801 L 261.3494773318631,331.7196642081823 L 264.6446609406726,335.3553390593274 L 268.2803357918177,338.65052266813683 L 272.22148834901986,341.5734806151272 L 276.43016315870005,344.09606321741774 L 280.8658283817454,346.1939766255643 L 285.4857661372768,347.8470167866104 L 290.24548389919346,349.0392640201615 L 295.09914298352186,349.7592363336098 L 299.99999999999983,350.0 L 304.90085701647786,349.75923633360986 L 309.75451610080626,349.03926402016157 L 314.51423386272296,347.8470167866105 L 319.1341716182543,346.1939766255644 L 323.56983684129966,344.09606321741785 L 327.7785116509799,341.5734806151274 L 331.71966420818205,338.650522668137 L 335.3553390593272,335.35533905932755 L 338.65052266813666,331.7196642081825 L 341.5734806151271,327.77851165098036 L 344.0960632174176,323.5698368413002 L 346.19397662556423,319.1341716182548 L 347.8470167866103,314.5142338627235 L 349.03926402016145,309.75451610080677 L 349.7592363336098,304.9008570164784 L 350.0,300.0000000000004 L 350.0,300.0 z\" /><path fill-rule=\"evenodd\" fill=\"#66cc99\" stroke=\"#555555\" stroke-width=\"20.592000000000002\" opacity=\"0.6\" d=\"M 1000.0,601.0 L 1000.0980171403296,600.9951847266722 L 1000.1950903220161,600.9807852804032 L 1000.2902846772545,600.9569403357322 L 1000.3826834323651,600.9238795325113 L 1000.471396736826,600.8819212643483 L 1000.5555702330196,600.8314696123025 L 1000.6343932841636,600.7730104533628 L 1000.7071067811866,600.7071067811866 L 1000.7730104533628,600.6343932841636 L 1000.8314696123025,600.5555702330196 L 1000.8819212643483,600.471396736826 L 1000.9238795325113,600.3826834323651 L 1000.9569403357322,600.2902846772545 L 1000.9807852804032,600.1950903220161 L 1000.9951847266722,600.0980171403296 L 1001.0,600.0 L 1001.0,0.0 L 1000.9951847266722,-0.0980171403295606 L 1000.9807852804032,-0.19509032201612825 L 1000.9569403357322,-0.29028467725446233 L 1000.9238795325113,-0.3826834323650898 L 1000.8819212643483,-0.47139673682599764 L 1000.8314696123025,-0.5555702330196022 L 1000.7730104533628,-0.6343932841636455 L 1000.7071067811866,-0.7071067811865475 L 1000.6343932841636,-0.7730104533627369 L 1000.5555702330196,-0.8314696123025451 L 1000.471396736826,-0.8819212643483549 L 1000.3826834323651,-0.9238795325112867 L 1000.2902846772545,-0.9569403357322089 L 1000.1950903220161,-0.9807852804032304 L 1000.0980171403296,-0.9951847266721969 L 1000.0,-1.0 L 0.0,-1.0 L -0.09801714032956664,-0.9951847266721963 L -0.19509032201613388,-0.9807852804032293 L -0.2902846772544675,-0.9569403357322073 L -0.38268343236509444,-0.9238795325112849 L -0.4713967368260018,-0.8819212643483528 L -0.555570233019606,-0.8314696123025428 L -0.6343932841636479,-0.7730104533627349 L -0.7071067811865499,-0.7071067811865452 L -0.7730104533627389,-0.6343932841636433 L -0.8314696123025467,-0.5555702330196001 L -0.881921264348356,-0.4713967368259957 L -0.9238795325112875,-0.382683432365088 L -0.9569403357322093,-0.2902846772544609 L -0.9807852804032307,-0.19509032201612705 L -0.9951847266721969,-0.0980171403295597 L -1.0,0.0 L -1.0,600.0 L -0.9951847266721968,600.0980171403296 L -0.9807852804032304,600.1950903220161 L -0.9569403357322088,600.2902846772545 L -0.9238795325112867,600.3826834323651 L -0.8819212643483549,600.471396736826 L -0.8314696123025453,600.5555702330196 L -0.773010453362737,600.6343932841636 L -0.7071067811865475,600.7071067811866 L -0.6343932841636453,600.7730104533628 L -0.555570233019602,600.8314696123025 L -0.4713967368259977,600.8819212643483 L -0.3826834323650897,600.9238795325113 L -0.2902846772544622,600.9569403357322 L -0.195090322016128,600.9807852804032 L -0.09801714032956022,600.9951847266722 L 0.0,601.0 L 1000.0,601.0 z M 999.0,599.0 L 1.0,599.0 L 1.0,1.0 L 999.0,1.0 L 999.0,599.0 z\" /></g></g></svg>"
      ],
      "text/plain": [
       "<shapely.geometry.collection.GeometryCollection at 0x108fa9128>"
      ]
     },
     "execution_count": 13,
     "metadata": {},
     "output_type": "execute_result"
    }
   ],
   "source": [
    "p = (300, 300)\n",
    "state = layer.state_at(p)\n",
    "cascaded_union([layer.geometry.boundary, Point(p).buffer(50), state.duality.geometry.boundary.buffer(1)])"
   ]
  },
  {
   "cell_type": "markdown",
   "metadata": {},
   "source": [
    "## State near point"
   ]
  },
  {
   "cell_type": "code",
   "execution_count": 14,
   "metadata": {},
   "outputs": [
    {
     "data": {
      "image/svg+xml": [
       "<svg xmlns=\"http://www.w3.org/2000/svg\" xmlns:xlink=\"http://www.w3.org/1999/xlink\" width=\"300\" height=\"300\" viewBox=\"-144.4 -144.4 1508.8000000000002 3088.8\" preserveAspectRatio=\"xMinYMin meet\"><g transform=\"matrix(1,0,0,-1,0,2800.0)\"><g><polyline fill=\"none\" stroke=\"#66cc99\" stroke-width=\"20.592000000000002\" points=\"1030.0,-30.0 -30.0,-30.0 -30.0,0.0 -30.0,2800.0 -30.0,2830.0 1030.0,2830.0 1030.0,2801.0\" opacity=\"0.8\" /><polyline fill=\"none\" stroke=\"#66cc99\" stroke-width=\"20.592000000000002\" points=\"1030.0,-1.0 1030.0,-30.0\" opacity=\"0.8\" /><path fill-rule=\"evenodd\" fill=\"#66cc99\" stroke=\"#555555\" stroke-width=\"20.592000000000002\" opacity=\"0.6\" d=\"M 1250.0,700.0 L 1249.7592363336098,695.099142983522 L 1249.0392640201615,690.2454838991936 L 1247.8470167866105,685.4857661372769 L 1246.1939766255643,680.8658283817456 L 1244.0960632174178,676.4301631587001 L 1241.5734806151272,672.2214883490199 L 1238.6505226681368,668.2803357918177 L 1235.3553390593274,664.6446609406727 L 1231.7196642081824,661.3494773318632 L 1227.7785116509801,658.4265193848728 L 1223.5698368413,655.9039367825823 L 1219.1341716182546,653.8060233744357 L 1214.5142338627231,652.1529832133896 L 1209.7545161008065,650.9607359798385 L 1204.900857016478,650.2407636663902 L 1200.0,650.0 L 1195.0991429835221,650.2407636663902 L 1190.2454838991937,650.9607359798384 L 1185.4857661372769,652.1529832133896 L 1180.8658283817456,653.8060233744357 L 1176.4301631587002,655.9039367825822 L 1172.22148834902,658.4265193848727 L 1168.2803357918178,661.3494773318631 L 1164.6446609406728,664.6446609406726 L 1161.3494773318632,668.2803357918176 L 1158.4265193848728,672.2214883490199 L 1155.9039367825824,676.4301631587 L 1153.8060233744357,680.8658283817455 L 1152.1529832133897,685.4857661372769 L 1150.9607359798385,690.2454838991936 L 1150.2407636663902,695.0991429835219 L 1150.0,700.0 L 1150.2407636663902,704.900857016478 L 1150.9607359798385,709.7545161008064 L 1152.1529832133895,714.5142338627231 L 1153.8060233744357,719.1341716182544 L 1155.9039367825822,723.5698368412999 L 1158.4265193848728,727.7785116509801 L 1161.3494773318632,731.7196642081823 L 1164.6446609406726,735.3553390593273 L 1168.2803357918176,738.6505226681368 L 1172.2214883490199,741.5734806151272 L 1176.4301631587,744.0960632174177 L 1180.8658283817454,746.1939766255643 L 1185.4857661372769,747.8470167866104 L 1190.2454838991935,749.0392640201615 L 1195.099142983522,749.7592363336098 L 1199.9999999999998,750.0 L 1204.9008570164779,749.7592363336098 L 1209.7545161008063,749.0392640201616 L 1214.514233862723,747.8470167866105 L 1219.1341716182542,746.1939766255645 L 1223.5698368412998,744.0960632174178 L 1227.77851165098,741.5734806151274 L 1231.7196642081822,738.650522668137 L 1235.3553390593272,735.3553390593275 L 1238.6505226681365,731.7196642081825 L 1241.573480615127,727.7785116509804 L 1244.0960632174176,723.5698368413001 L 1246.1939766255641,719.1341716182548 L 1247.8470167866103,714.5142338627235 L 1249.0392640201615,709.7545161008068 L 1249.7592363336098,704.9008570164784 L 1250.0,700.0000000000005 L 1250.0,700.0 z\" /><path fill-rule=\"evenodd\" fill=\"#66cc99\" stroke=\"#555555\" stroke-width=\"20.592000000000002\" opacity=\"0.6\" d=\"M 999.0,2800.0 L 999.0048152733278,2800.0980171403294 L 999.0192147195968,2800.1950903220163 L 999.0430596642678,2800.2902846772545 L 999.0761204674887,2800.382683432365 L 999.1180787356517,2800.471396736826 L 999.1685303876975,2800.55557023302 L 999.2269895466372,2800.6343932841637 L 999.2928932188134,2800.7071067811867 L 999.3656067158364,2800.7730104533625 L 999.4444297669804,2800.8314696123025 L 999.528603263174,2800.8819212643484 L 999.6173165676349,2800.9238795325114 L 999.7097153227455,2800.9569403357323 L 999.8049096779839,2800.9807852804033 L 999.9019828596704,2800.995184726672 L 1000.0,2801.0 L 1030.0,2801.0 L 1030.0980171403296,2800.995184726672 L 1030.195090322016,2800.9807852804033 L 1030.2902846772545,2800.9569403357323 L 1030.3826834323652,2800.9238795325114 L 1030.471396736826,2800.8819212643484 L 1030.5555702330196,2800.8314696123025 L 1030.6343932841637,2800.7730104533625 L 1030.7071067811864,2800.7071067811867 L 1030.7730104533628,2800.6343932841637 L 1030.8314696123025,2800.55557023302 L 1030.8819212643484,2800.471396736826 L 1030.9238795325114,2800.382683432365 L 1030.9569403357323,2800.2902846772545 L 1030.9807852804033,2800.1950903220163 L 1030.9951847266723,2800.0980171403294 L 1031.0,2800.0 L 1031.0,0.0 L 1030.9951847266723,-0.0980171403295606 L 1030.9807852804033,-0.19509032201612825 L 1030.9569403357323,-0.29028467725446233 L 1030.9238795325114,-0.3826834323650898 L 1030.8819212643484,-0.47139673682599764 L 1030.8314696123025,-0.5555702330196022 L 1030.7730104533628,-0.6343932841636455 L 1030.7071067811864,-0.7071067811865475 L 1030.6343932841637,-0.7730104533627369 L 1030.5555702330196,-0.8314696123025451 L 1030.471396736826,-0.8819212643483549 L 1030.3826834323652,-0.9238795325112867 L 1030.2902846772545,-0.9569403357322089 L 1030.195090322016,-0.9807852804032304 L 1030.0980171403296,-0.9951847266721969 L 1030.0,-1.0 L 1000.0,-1.0 L 999.9019828596704,-0.9951847266721963 L 999.8049096779839,-0.9807852804032293 L 999.7097153227455,-0.9569403357322073 L 999.6173165676349,-0.9238795325112849 L 999.528603263174,-0.8819212643483528 L 999.4444297669804,-0.8314696123025428 L 999.3656067158364,-0.7730104533627349 L 999.2928932188134,-0.7071067811865452 L 999.2269895466372,-0.6343932841636433 L 999.1685303876975,-0.5555702330196001 L 999.1180787356517,-0.4713967368259957 L 999.0761204674887,-0.382683432365088 L 999.0430596642678,-0.2902846772544609 L 999.0192147195968,-0.19509032201612705 L 999.0048152733278,-0.0980171403295597 L 999.0,0.0 L 999.0,2800.0 z M 1001.0,2799.0 L 1001.0,1.0 L 1029.0,1.0 L 1029.0,2799.0 L 1001.0,2799.0 z\" /></g></g></svg>"
      ],
      "text/plain": [
       "<shapely.geometry.collection.GeometryCollection at 0x108fa95c0>"
      ]
     },
     "execution_count": 14,
     "metadata": {},
     "output_type": "execute_result"
    }
   ],
   "source": [
    "p = (1200, 700)\n",
    "state = layer.nearest_state_among(p)\n",
    "cascaded_union([layer.geometry.boundary, Point(p).buffer(50), state.duality.geometry.boundary.buffer(1)])"
   ]
  },
  {
   "cell_type": "code",
   "execution_count": 15,
   "metadata": {},
   "outputs": [
    {
     "data": {
      "image/svg+xml": [
       "<svg xmlns=\"http://www.w3.org/2000/svg\" xmlns:xlink=\"http://www.w3.org/1999/xlink\" width=\"300\" height=\"300\" viewBox=\"-144.4 -144.4 1508.8000000000002 3088.8\" preserveAspectRatio=\"xMinYMin meet\"><g transform=\"matrix(1,0,0,-1,0,2800.0)\"><g><polyline fill=\"none\" stroke=\"#66cc99\" stroke-width=\"20.592000000000002\" points=\"1030.0,-30.0 -30.0,-30.0 -30.0,0.0 -30.0,2800.0 -30.0,2830.0 1030.0,2830.0 1030.0,2800.0 1030.0,0.0 1030.0,-30.0\" opacity=\"0.8\" /><path fill-rule=\"evenodd\" fill=\"#66cc99\" stroke=\"#555555\" stroke-width=\"20.592000000000002\" opacity=\"0.6\" d=\"M 1250.0,700.0 L 1249.7592363336098,695.099142983522 L 1249.0392640201615,690.2454838991936 L 1247.8470167866105,685.4857661372769 L 1246.1939766255643,680.8658283817456 L 1244.0960632174178,676.4301631587001 L 1241.5734806151272,672.2214883490199 L 1238.6505226681368,668.2803357918177 L 1235.3553390593274,664.6446609406727 L 1231.7196642081824,661.3494773318632 L 1227.7785116509801,658.4265193848728 L 1223.5698368413,655.9039367825823 L 1219.1341716182546,653.8060233744357 L 1214.5142338627231,652.1529832133896 L 1209.7545161008065,650.9607359798385 L 1204.900857016478,650.2407636663902 L 1200.0,650.0 L 1195.0991429835221,650.2407636663902 L 1190.2454838991937,650.9607359798384 L 1185.4857661372769,652.1529832133896 L 1180.8658283817456,653.8060233744357 L 1176.4301631587002,655.9039367825822 L 1172.22148834902,658.4265193848727 L 1168.2803357918178,661.3494773318631 L 1164.6446609406728,664.6446609406726 L 1161.3494773318632,668.2803357918176 L 1158.4265193848728,672.2214883490199 L 1155.9039367825824,676.4301631587 L 1153.8060233744357,680.8658283817455 L 1152.1529832133897,685.4857661372769 L 1150.9607359798385,690.2454838991936 L 1150.2407636663902,695.0991429835219 L 1150.0,700.0 L 1150.2407636663902,704.900857016478 L 1150.9607359798385,709.7545161008064 L 1152.1529832133895,714.5142338627231 L 1153.8060233744357,719.1341716182544 L 1155.9039367825822,723.5698368412999 L 1158.4265193848728,727.7785116509801 L 1161.3494773318632,731.7196642081823 L 1164.6446609406726,735.3553390593273 L 1168.2803357918176,738.6505226681368 L 1172.2214883490199,741.5734806151272 L 1176.4301631587,744.0960632174177 L 1180.8658283817454,746.1939766255643 L 1185.4857661372769,747.8470167866104 L 1190.2454838991935,749.0392640201615 L 1195.099142983522,749.7592363336098 L 1199.9999999999998,750.0 L 1204.9008570164779,749.7592363336098 L 1209.7545161008063,749.0392640201616 L 1214.514233862723,747.8470167866105 L 1219.1341716182542,746.1939766255645 L 1223.5698368412998,744.0960632174178 L 1227.77851165098,741.5734806151274 L 1231.7196642081822,738.650522668137 L 1235.3553390593272,735.3553390593275 L 1238.6505226681365,731.7196642081825 L 1241.573480615127,727.7785116509804 L 1244.0960632174176,723.5698368413001 L 1246.1939766255641,719.1341716182548 L 1247.8470167866103,714.5142338627235 L 1249.0392640201615,709.7545161008068 L 1249.7592363336098,704.9008570164784 L 1250.0,700.0000000000005 L 1250.0,700.0 z\" /><path fill-rule=\"evenodd\" fill=\"#66cc99\" stroke=\"#555555\" stroke-width=\"20.592000000000002\" opacity=\"0.6\" d=\"M 519.0,620.0 L 519.0,980.0 L 519.0048152733278,980.0980171403296 L 519.0192147195968,980.1950903220161 L 519.0430596642678,980.2902846772545 L 519.0761204674887,980.3826834323651 L 519.1180787356517,980.471396736826 L 519.1685303876975,980.5555702330196 L 519.2269895466372,980.6343932841636 L 519.2928932188134,980.7071067811866 L 519.3656067158364,980.7730104533628 L 519.4444297669804,980.8314696123025 L 519.528603263174,980.8819212643483 L 519.6173165676349,980.9238795325113 L 519.7097153227455,980.9569403357322 L 519.8049096779839,980.9807852804032 L 519.9019828596704,980.9951847266722 L 520.0,981.0 L 1000.0,981.0 L 1000.0980171403296,980.9951847266722 L 1000.1950903220161,980.9807852804032 L 1000.2902846772545,980.9569403357322 L 1000.3826834323651,980.9238795325113 L 1000.471396736826,980.8819212643483 L 1000.5555702330196,980.8314696123025 L 1000.6343932841636,980.7730104533628 L 1000.7071067811866,980.7071067811866 L 1000.7730104533628,980.6343932841636 L 1000.8314696123025,980.5555702330196 L 1000.8819212643483,980.471396736826 L 1000.9238795325113,980.3826834323651 L 1000.9569403357322,980.2902846772545 L 1000.9807852804032,980.1950903220161 L 1000.9951847266722,980.0980171403296 L 1001.0,980.0 L 1001.0,620.0 L 1000.9951847266722,619.9019828596704 L 1000.9807852804032,619.8049096779839 L 1000.9569403357322,619.7097153227455 L 1000.9238795325113,619.6173165676349 L 1000.8819212643483,619.528603263174 L 1000.8314696123025,619.4444297669804 L 1000.7730104533628,619.3656067158364 L 1000.7071067811866,619.2928932188134 L 1000.6343932841636,619.2269895466372 L 1000.5555702330196,619.1685303876975 L 1000.471396736826,619.1180787356517 L 1000.3826834323651,619.0761204674887 L 1000.2902846772545,619.0430596642678 L 1000.1950903220161,619.0192147195968 L 1000.0980171403296,619.0048152733278 L 1000.0,619.0 L 520.0,619.0 L 519.9019828596704,619.0048152733278 L 519.8049096779839,619.0192147195968 L 519.7097153227455,619.0430596642678 L 519.6173165676349,619.0761204674887 L 519.528603263174,619.1180787356517 L 519.4444297669804,619.1685303876975 L 519.3656067158364,619.2269895466372 L 519.2928932188134,619.2928932188134 L 519.2269895466372,619.3656067158364 L 519.1685303876975,619.4444297669804 L 519.1180787356517,619.528603263174 L 519.0761204674887,619.6173165676349 L 519.0430596642678,619.7097153227455 L 519.0192147195968,619.8049096779839 L 519.0048152733278,619.9019828596704 L 519.0,620.0 z M 521.0,621.0 L 999.0,621.0 L 999.0,979.0 L 521.0,979.0 L 521.0,621.0 z\" /></g></g></svg>"
      ],
      "text/plain": [
       "<shapely.geometry.collection.GeometryCollection at 0x108fa9518>"
      ]
     },
     "execution_count": 15,
     "metadata": {},
     "output_type": "execute_result"
    }
   ],
   "source": [
    "p = (1200, 700)\n",
    "state = layer.nearest_state_among(p, states_with=lambda s: s.duality.type == 'GeneralSpace')\n",
    "cascaded_union([layer.geometry.boundary, Point(p).buffer(50), state.duality.geometry.boundary.buffer(1)])"
   ]
  },
  {
   "cell_type": "markdown",
   "metadata": {},
   "source": [
    "# DCEL"
   ]
  },
  {
   "cell_type": "code",
   "execution_count": 16,
   "metadata": {},
   "outputs": [
    {
     "data": {
      "image/svg+xml": [
       "<svg height=\"500\" viewBox=\"-130.0 -2930.0 1260.0 3060.0\" width=\"1000\" xmlns=\"http://www.w3.org/2000/svg\"><defs><marker id=\"arrow\" markerHeight=\"10\" markerUnits=\"strokeWidth\" markerWidth=\"10\" orient=\"auto\" refX=\"10\" refY=\"3\" viewBox=\"0 0 20 20\"><path d=\"M0,0 L0,6 L10,3 z\" fill=\"black\" fill-opacity=\"0.3\"/></marker></defs><g transform=\"scale(1, -1)\"><g><g><line marker-end=\"url(#arrow)\" stroke=\"black\" stroke-opacity=\"0.3\" stroke-width=\"5\" x1=\"1000.0\" x2=\"520.0\" y1=\"1020.0\" y2=\"1020.0\"/><line marker-end=\"url(#arrow)\" stroke=\"black\" stroke-opacity=\"0.3\" stroke-width=\"5\" x1=\"520.0\" x2=\"520.0\" y1=\"1020.0\" y2=\"1100.0\"/></g><g><line marker-end=\"url(#arrow)\" stroke=\"black\" stroke-opacity=\"0.3\" stroke-width=\"5\" x1=\"520.0\" x2=\"520.0\" y1=\"1100.0\" y2=\"1020.0\"/><line marker-end=\"url(#arrow)\" stroke=\"black\" stroke-opacity=\"0.3\" stroke-width=\"5\" x1=\"520.0\" x2=\"1000.0\" y1=\"1020.0\" y2=\"1020.0\"/></g><g><line marker-end=\"url(#arrow)\" stroke=\"black\" stroke-opacity=\"0.3\" stroke-width=\"5\" x1=\"1000.0\" x2=\"1000.0\" y1=\"980.0\" y2=\"1020.0\"/></g><g><line marker-end=\"url(#arrow)\" stroke=\"black\" stroke-opacity=\"0.3\" stroke-width=\"5\" x1=\"1000.0\" x2=\"1000.0\" y1=\"1020.0\" y2=\"980.0\"/></g><g><line marker-end=\"url(#arrow)\" stroke=\"black\" stroke-opacity=\"0.3\" stroke-width=\"5\" x1=\"520.0\" x2=\"520.0\" y1=\"900.0\" y2=\"980.0\"/><line marker-end=\"url(#arrow)\" stroke=\"black\" stroke-opacity=\"0.3\" stroke-width=\"5\" x1=\"520.0\" x2=\"1000.0\" y1=\"980.0\" y2=\"980.0\"/></g><g><line marker-end=\"url(#arrow)\" stroke=\"black\" stroke-opacity=\"0.3\" stroke-width=\"5\" x1=\"1000.0\" x2=\"520.0\" y1=\"980.0\" y2=\"980.0\"/><line marker-end=\"url(#arrow)\" stroke=\"black\" stroke-opacity=\"0.3\" stroke-width=\"5\" x1=\"520.0\" x2=\"520.0\" y1=\"980.0\" y2=\"900.0\"/></g><g><line marker-end=\"url(#arrow)\" stroke=\"black\" stroke-opacity=\"0.3\" stroke-width=\"5\" x1=\"500.0\" x2=\"520.0\" y1=\"900.0\" y2=\"900.0\"/></g><g><line marker-end=\"url(#arrow)\" stroke=\"black\" stroke-opacity=\"0.3\" stroke-width=\"5\" x1=\"520.0\" x2=\"500.0\" y1=\"900.0\" y2=\"900.0\"/></g><g><line marker-end=\"url(#arrow)\" stroke=\"black\" stroke-opacity=\"0.3\" stroke-width=\"5\" x1=\"500.0\" x2=\"500.0\" y1=\"1100.0\" y2=\"900.0\"/></g><g><line marker-end=\"url(#arrow)\" stroke=\"black\" stroke-opacity=\"0.3\" stroke-width=\"5\" x1=\"500.0\" x2=\"500.0\" y1=\"900.0\" y2=\"1100.0\"/></g><g><line marker-end=\"url(#arrow)\" stroke=\"black\" stroke-opacity=\"0.3\" stroke-width=\"5\" x1=\"520.0\" x2=\"500.0\" y1=\"1100.0\" y2=\"1100.0\"/></g><g><line marker-end=\"url(#arrow)\" stroke=\"black\" stroke-opacity=\"0.3\" stroke-width=\"5\" x1=\"500.0\" x2=\"520.0\" y1=\"1100.0\" y2=\"1100.0\"/></g><g><line marker-end=\"url(#arrow)\" stroke=\"black\" stroke-opacity=\"0.3\" stroke-width=\"5\" x1=\"520.0\" x2=\"520.0\" y1=\"1100.0\" y2=\"1300.0\"/></g><g><line marker-end=\"url(#arrow)\" stroke=\"black\" stroke-opacity=\"0.3\" stroke-width=\"5\" x1=\"520.0\" x2=\"520.0\" y1=\"1300.0\" y2=\"1100.0\"/></g><g><line marker-end=\"url(#arrow)\" stroke=\"black\" stroke-opacity=\"0.3\" stroke-width=\"5\" x1=\"500.0\" x2=\"500.0\" y1=\"1300.0\" y2=\"1100.0\"/></g><g><line marker-end=\"url(#arrow)\" stroke=\"black\" stroke-opacity=\"0.3\" stroke-width=\"5\" x1=\"500.0\" x2=\"500.0\" y1=\"1100.0\" y2=\"1300.0\"/></g><g><line marker-end=\"url(#arrow)\" stroke=\"black\" stroke-opacity=\"0.3\" stroke-width=\"5\" x1=\"520.0\" x2=\"500.0\" y1=\"1300.0\" y2=\"1300.0\"/></g><g><line marker-end=\"url(#arrow)\" stroke=\"black\" stroke-opacity=\"0.3\" stroke-width=\"5\" x1=\"500.0\" x2=\"520.0\" y1=\"1300.0\" y2=\"1300.0\"/></g><g><line marker-end=\"url(#arrow)\" stroke=\"black\" stroke-opacity=\"0.3\" stroke-width=\"5\" x1=\"1000.0\" x2=\"520.0\" y1=\"620.0\" y2=\"620.0\"/><line marker-end=\"url(#arrow)\" stroke=\"black\" stroke-opacity=\"0.3\" stroke-width=\"5\" x1=\"520.0\" x2=\"520.0\" y1=\"620.0\" y2=\"700.0\"/></g><g><line marker-end=\"url(#arrow)\" stroke=\"black\" stroke-opacity=\"0.3\" stroke-width=\"5\" x1=\"520.0\" x2=\"520.0\" y1=\"700.0\" y2=\"620.0\"/><line marker-end=\"url(#arrow)\" stroke=\"black\" stroke-opacity=\"0.3\" stroke-width=\"5\" x1=\"520.0\" x2=\"1000.0\" y1=\"620.0\" y2=\"620.0\"/></g><g><line marker-end=\"url(#arrow)\" stroke=\"black\" stroke-opacity=\"0.3\" stroke-width=\"5\" x1=\"1000.0\" x2=\"1000.0\" y1=\"600.0\" y2=\"620.0\"/></g><g><line marker-end=\"url(#arrow)\" stroke=\"black\" stroke-opacity=\"0.3\" stroke-width=\"5\" x1=\"1000.0\" x2=\"1000.0\" y1=\"620.0\" y2=\"600.0\"/></g><g><line marker-end=\"url(#arrow)\" stroke=\"black\" stroke-opacity=\"0.3\" stroke-width=\"5\" x1=\"500.0\" x2=\"1000.0\" y1=\"600.0\" y2=\"600.0\"/></g><g><line marker-end=\"url(#arrow)\" stroke=\"black\" stroke-opacity=\"0.3\" stroke-width=\"5\" x1=\"1000.0\" x2=\"500.0\" y1=\"600.0\" y2=\"600.0\"/></g><g><line marker-end=\"url(#arrow)\" stroke=\"black\" stroke-opacity=\"0.3\" stroke-width=\"5\" x1=\"500.0\" x2=\"500.0\" y1=\"700.0\" y2=\"600.0\"/></g><g><line marker-end=\"url(#arrow)\" stroke=\"black\" stroke-opacity=\"0.3\" stroke-width=\"5\" x1=\"500.0\" x2=\"500.0\" y1=\"600.0\" y2=\"700.0\"/></g><g><line marker-end=\"url(#arrow)\" stroke=\"black\" stroke-opacity=\"0.3\" stroke-width=\"5\" x1=\"520.0\" x2=\"500.0\" y1=\"700.0\" y2=\"700.0\"/></g><g><line marker-end=\"url(#arrow)\" stroke=\"black\" stroke-opacity=\"0.3\" stroke-width=\"5\" x1=\"500.0\" x2=\"520.0\" y1=\"700.0\" y2=\"700.0\"/></g><g><line marker-end=\"url(#arrow)\" stroke=\"black\" stroke-opacity=\"0.3\" stroke-width=\"5\" x1=\"520.0\" x2=\"520.0\" y1=\"700.0\" y2=\"900.0\"/></g><g><line marker-end=\"url(#arrow)\" stroke=\"black\" stroke-opacity=\"0.3\" stroke-width=\"5\" x1=\"520.0\" x2=\"520.0\" y1=\"900.0\" y2=\"700.0\"/></g><g><line marker-end=\"url(#arrow)\" stroke=\"black\" stroke-opacity=\"0.3\" stroke-width=\"5\" x1=\"500.0\" x2=\"500.0\" y1=\"900.0\" y2=\"700.0\"/></g><g><line marker-end=\"url(#arrow)\" stroke=\"black\" stroke-opacity=\"0.3\" stroke-width=\"5\" x1=\"500.0\" x2=\"500.0\" y1=\"700.0\" y2=\"900.0\"/></g><g><line marker-end=\"url(#arrow)\" stroke=\"black\" stroke-opacity=\"0.3\" stroke-width=\"5\" x1=\"1000.0\" x2=\"1000.0\" y1=\"1820.0\" y2=\"2180.0\"/></g><g><line marker-end=\"url(#arrow)\" stroke=\"black\" stroke-opacity=\"0.3\" stroke-width=\"5\" x1=\"1000.0\" x2=\"1000.0\" y1=\"2180.0\" y2=\"1820.0\"/></g><g><line marker-end=\"url(#arrow)\" stroke=\"black\" stroke-opacity=\"0.3\" stroke-width=\"5\" x1=\"520.0\" x2=\"520.0\" y1=\"1900.0\" y2=\"1820.0\"/><line marker-end=\"url(#arrow)\" stroke=\"black\" stroke-opacity=\"0.3\" stroke-width=\"5\" x1=\"520.0\" x2=\"1000.0\" y1=\"1820.0\" y2=\"1820.0\"/></g><g><line marker-end=\"url(#arrow)\" stroke=\"black\" stroke-opacity=\"0.3\" stroke-width=\"5\" x1=\"1000.0\" x2=\"520.0\" y1=\"1820.0\" y2=\"1820.0\"/><line marker-end=\"url(#arrow)\" stroke=\"black\" stroke-opacity=\"0.3\" stroke-width=\"5\" x1=\"520.0\" x2=\"520.0\" y1=\"1820.0\" y2=\"1900.0\"/></g><g><line marker-end=\"url(#arrow)\" stroke=\"black\" stroke-opacity=\"0.3\" stroke-width=\"5\" x1=\"520.0\" x2=\"520.0\" y1=\"2100.0\" y2=\"1900.0\"/></g><g><line marker-end=\"url(#arrow)\" stroke=\"black\" stroke-opacity=\"0.3\" stroke-width=\"5\" x1=\"520.0\" x2=\"520.0\" y1=\"1900.0\" y2=\"2100.0\"/></g><g><line marker-end=\"url(#arrow)\" stroke=\"black\" stroke-opacity=\"0.3\" stroke-width=\"5\" x1=\"1000.0\" x2=\"520.0\" y1=\"2180.0\" y2=\"2180.0\"/><line marker-end=\"url(#arrow)\" stroke=\"black\" stroke-opacity=\"0.3\" stroke-width=\"5\" x1=\"520.0\" x2=\"520.0\" y1=\"2180.0\" y2=\"2100.0\"/></g><g><line marker-end=\"url(#arrow)\" stroke=\"black\" stroke-opacity=\"0.3\" stroke-width=\"5\" x1=\"520.0\" x2=\"520.0\" y1=\"2100.0\" y2=\"2180.0\"/><line marker-end=\"url(#arrow)\" stroke=\"black\" stroke-opacity=\"0.3\" stroke-width=\"5\" x1=\"520.0\" x2=\"1000.0\" y1=\"2180.0\" y2=\"2180.0\"/></g><g><line marker-end=\"url(#arrow)\" stroke=\"black\" stroke-opacity=\"0.3\" stroke-width=\"5\" x1=\"1000.0\" x2=\"1000.0\" y1=\"1420.0\" y2=\"1780.0\"/></g><g><line marker-end=\"url(#arrow)\" stroke=\"black\" stroke-opacity=\"0.3\" stroke-width=\"5\" x1=\"1000.0\" x2=\"1000.0\" y1=\"1780.0\" y2=\"1420.0\"/></g><g><line marker-end=\"url(#arrow)\" stroke=\"black\" stroke-opacity=\"0.3\" stroke-width=\"5\" x1=\"520.0\" x2=\"520.0\" y1=\"1500.0\" y2=\"1420.0\"/><line marker-end=\"url(#arrow)\" stroke=\"black\" stroke-opacity=\"0.3\" stroke-width=\"5\" x1=\"520.0\" x2=\"1000.0\" y1=\"1420.0\" y2=\"1420.0\"/></g><g><line marker-end=\"url(#arrow)\" stroke=\"black\" stroke-opacity=\"0.3\" stroke-width=\"5\" x1=\"1000.0\" x2=\"520.0\" y1=\"1420.0\" y2=\"1420.0\"/><line marker-end=\"url(#arrow)\" stroke=\"black\" stroke-opacity=\"0.3\" stroke-width=\"5\" x1=\"520.0\" x2=\"520.0\" y1=\"1420.0\" y2=\"1500.0\"/></g><g><line marker-end=\"url(#arrow)\" stroke=\"black\" stroke-opacity=\"0.3\" stroke-width=\"5\" x1=\"520.0\" x2=\"520.0\" y1=\"1700.0\" y2=\"1500.0\"/></g><g><line marker-end=\"url(#arrow)\" stroke=\"black\" stroke-opacity=\"0.3\" stroke-width=\"5\" x1=\"520.0\" x2=\"520.0\" y1=\"1500.0\" y2=\"1700.0\"/></g><g><line marker-end=\"url(#arrow)\" stroke=\"black\" stroke-opacity=\"0.3\" stroke-width=\"5\" x1=\"1000.0\" x2=\"520.0\" y1=\"1780.0\" y2=\"1780.0\"/><line marker-end=\"url(#arrow)\" stroke=\"black\" stroke-opacity=\"0.3\" stroke-width=\"5\" x1=\"520.0\" x2=\"520.0\" y1=\"1780.0\" y2=\"1700.0\"/></g><g><line marker-end=\"url(#arrow)\" stroke=\"black\" stroke-opacity=\"0.3\" stroke-width=\"5\" x1=\"520.0\" x2=\"520.0\" y1=\"1700.0\" y2=\"1780.0\"/><line marker-end=\"url(#arrow)\" stroke=\"black\" stroke-opacity=\"0.3\" stroke-width=\"5\" x1=\"520.0\" x2=\"1000.0\" y1=\"1780.0\" y2=\"1780.0\"/></g><g><line marker-end=\"url(#arrow)\" stroke=\"black\" stroke-opacity=\"0.3\" stroke-width=\"5\" x1=\"1000.0\" x2=\"1000.0\" y1=\"620.0\" y2=\"980.0\"/></g><g><line marker-end=\"url(#arrow)\" stroke=\"black\" stroke-opacity=\"0.3\" stroke-width=\"5\" x1=\"1000.0\" x2=\"1000.0\" y1=\"980.0\" y2=\"620.0\"/></g><g><line marker-end=\"url(#arrow)\" stroke=\"black\" stroke-opacity=\"0.3\" stroke-width=\"5\" x1=\"1000.0\" x2=\"1000.0\" y1=\"1380.0\" y2=\"1020.0\"/></g><g><line marker-end=\"url(#arrow)\" stroke=\"black\" stroke-opacity=\"0.3\" stroke-width=\"5\" x1=\"1000.0\" x2=\"1000.0\" y1=\"1020.0\" y2=\"1380.0\"/></g><g><line marker-end=\"url(#arrow)\" stroke=\"black\" stroke-opacity=\"0.3\" stroke-width=\"5\" x1=\"1030.0\" x2=\"1000.0\" y1=\"2800.0\" y2=\"2800.0\"/></g><g><line marker-end=\"url(#arrow)\" stroke=\"black\" stroke-opacity=\"0.3\" stroke-width=\"5\" x1=\"1000.0\" x2=\"1030.0\" y1=\"2800.0\" y2=\"2800.0\"/></g><g><line marker-end=\"url(#arrow)\" stroke=\"black\" stroke-opacity=\"0.3\" stroke-width=\"5\" x1=\"1030.0\" x2=\"1030.0\" y1=\"0.0\" y2=\"2800.0\"/></g><g><line marker-end=\"url(#arrow)\" stroke=\"black\" stroke-opacity=\"0.3\" stroke-width=\"5\" x1=\"1030.0\" x2=\"1030.0\" y1=\"2800.0\" y2=\"0.0\"/></g><g><line marker-end=\"url(#arrow)\" stroke=\"black\" stroke-opacity=\"0.3\" stroke-width=\"5\" x1=\"1000.0\" x2=\"1030.0\" y1=\"0.0\" y2=\"0.0\"/></g><g><line marker-end=\"url(#arrow)\" stroke=\"black\" stroke-opacity=\"0.3\" stroke-width=\"5\" x1=\"1030.0\" x2=\"1000.0\" y1=\"0.0\" y2=\"0.0\"/></g><g><line marker-end=\"url(#arrow)\" stroke=\"black\" stroke-opacity=\"0.3\" stroke-width=\"5\" x1=\"1000.0\" x2=\"1000.0\" y1=\"600.0\" y2=\"0.0\"/></g><g><line marker-end=\"url(#arrow)\" stroke=\"black\" stroke-opacity=\"0.3\" stroke-width=\"5\" x1=\"1000.0\" x2=\"1000.0\" y1=\"0.0\" y2=\"600.0\"/></g><g><line marker-end=\"url(#arrow)\" stroke=\"black\" stroke-opacity=\"0.3\" stroke-width=\"5\" x1=\"1000.0\" x2=\"1000.0\" y1=\"1420.0\" y2=\"1380.0\"/></g><g><line marker-end=\"url(#arrow)\" stroke=\"black\" stroke-opacity=\"0.3\" stroke-width=\"5\" x1=\"1000.0\" x2=\"1000.0\" y1=\"1380.0\" y2=\"1420.0\"/></g><g><line marker-end=\"url(#arrow)\" stroke=\"black\" stroke-opacity=\"0.3\" stroke-width=\"5\" x1=\"1000.0\" x2=\"1000.0\" y1=\"1820.0\" y2=\"1780.0\"/></g><g><line marker-end=\"url(#arrow)\" stroke=\"black\" stroke-opacity=\"0.3\" stroke-width=\"5\" x1=\"1000.0\" x2=\"1000.0\" y1=\"1780.0\" y2=\"1820.0\"/></g><g><line marker-end=\"url(#arrow)\" stroke=\"black\" stroke-opacity=\"0.3\" stroke-width=\"5\" x1=\"1000.0\" x2=\"1000.0\" y1=\"2200.0\" y2=\"2180.0\"/></g><g><line marker-end=\"url(#arrow)\" stroke=\"black\" stroke-opacity=\"0.3\" stroke-width=\"5\" x1=\"1000.0\" x2=\"1000.0\" y1=\"2180.0\" y2=\"2200.0\"/></g><g><line marker-end=\"url(#arrow)\" stroke=\"black\" stroke-opacity=\"0.3\" stroke-width=\"5\" x1=\"1000.0\" x2=\"1000.0\" y1=\"2800.0\" y2=\"2200.0\"/></g><g><line marker-end=\"url(#arrow)\" stroke=\"black\" stroke-opacity=\"0.3\" stroke-width=\"5\" x1=\"1000.0\" x2=\"1000.0\" y1=\"2200.0\" y2=\"2800.0\"/></g><g><line marker-end=\"url(#arrow)\" stroke=\"black\" stroke-opacity=\"0.3\" stroke-width=\"5\" x1=\"1030.0\" x2=\"1030.0\" y1=\"2800.0\" y2=\"2830.0\"/><line marker-end=\"url(#arrow)\" stroke=\"black\" stroke-opacity=\"0.3\" stroke-width=\"5\" x1=\"1030.0\" x2=\"-30.0\" y1=\"2830.0\" y2=\"2830.0\"/><line marker-end=\"url(#arrow)\" stroke=\"black\" stroke-opacity=\"0.3\" stroke-width=\"5\" x1=\"-30.0\" x2=\"-30.0\" y1=\"2830.0\" y2=\"2800.0\"/></g><g><line marker-end=\"url(#arrow)\" stroke=\"black\" stroke-opacity=\"0.3\" stroke-width=\"5\" x1=\"-30.0\" x2=\"-30.0\" y1=\"2800.0\" y2=\"2830.0\"/><line marker-end=\"url(#arrow)\" stroke=\"black\" stroke-opacity=\"0.3\" stroke-width=\"5\" x1=\"-30.0\" x2=\"1030.0\" y1=\"2830.0\" y2=\"2830.0\"/><line marker-end=\"url(#arrow)\" stroke=\"black\" stroke-opacity=\"0.3\" stroke-width=\"5\" x1=\"1030.0\" x2=\"1030.0\" y1=\"2830.0\" y2=\"2800.0\"/></g><g><line marker-end=\"url(#arrow)\" stroke=\"black\" stroke-opacity=\"0.3\" stroke-width=\"5\" x1=\"-30.0\" x2=\"0.0\" y1=\"2800.0\" y2=\"2800.0\"/></g><g><line marker-end=\"url(#arrow)\" stroke=\"black\" stroke-opacity=\"0.3\" stroke-width=\"5\" x1=\"0.0\" x2=\"-30.0\" y1=\"2800.0\" y2=\"2800.0\"/></g><g><line marker-end=\"url(#arrow)\" stroke=\"black\" stroke-opacity=\"0.3\" stroke-width=\"5\" x1=\"0.0\" x2=\"1000.0\" y1=\"2800.0\" y2=\"2800.0\"/></g><g><line marker-end=\"url(#arrow)\" stroke=\"black\" stroke-opacity=\"0.3\" stroke-width=\"5\" x1=\"1000.0\" x2=\"0.0\" y1=\"2800.0\" y2=\"2800.0\"/></g><g><line marker-end=\"url(#arrow)\" stroke=\"black\" stroke-opacity=\"0.3\" stroke-width=\"5\" x1=\"1000.0\" x2=\"520.0\" y1=\"1380.0\" y2=\"1380.0\"/><line marker-end=\"url(#arrow)\" stroke=\"black\" stroke-opacity=\"0.3\" stroke-width=\"5\" x1=\"520.0\" x2=\"520.0\" y1=\"1380.0\" y2=\"1300.0\"/></g><g><line marker-end=\"url(#arrow)\" stroke=\"black\" stroke-opacity=\"0.3\" stroke-width=\"5\" x1=\"520.0\" x2=\"520.0\" y1=\"1300.0\" y2=\"1380.0\"/><line marker-end=\"url(#arrow)\" stroke=\"black\" stroke-opacity=\"0.3\" stroke-width=\"5\" x1=\"520.0\" x2=\"1000.0\" y1=\"1380.0\" y2=\"1380.0\"/></g><g><line marker-end=\"url(#arrow)\" stroke=\"black\" stroke-opacity=\"0.3\" stroke-width=\"5\" x1=\"500.0\" x2=\"500.0\" y1=\"1500.0\" y2=\"1300.0\"/></g><g><line marker-end=\"url(#arrow)\" stroke=\"black\" stroke-opacity=\"0.3\" stroke-width=\"5\" x1=\"500.0\" x2=\"500.0\" y1=\"1300.0\" y2=\"1500.0\"/></g><g><line marker-end=\"url(#arrow)\" stroke=\"black\" stroke-opacity=\"0.3\" stroke-width=\"5\" x1=\"520.0\" x2=\"500.0\" y1=\"1500.0\" y2=\"1500.0\"/></g><g><line marker-end=\"url(#arrow)\" stroke=\"black\" stroke-opacity=\"0.3\" stroke-width=\"5\" x1=\"500.0\" x2=\"520.0\" y1=\"1500.0\" y2=\"1500.0\"/></g><g><line marker-end=\"url(#arrow)\" stroke=\"black\" stroke-opacity=\"0.3\" stroke-width=\"5\" x1=\"500.0\" x2=\"500.0\" y1=\"1700.0\" y2=\"1500.0\"/></g><g><line marker-end=\"url(#arrow)\" stroke=\"black\" stroke-opacity=\"0.3\" stroke-width=\"5\" x1=\"500.0\" x2=\"500.0\" y1=\"1500.0\" y2=\"1700.0\"/></g><g><line marker-end=\"url(#arrow)\" stroke=\"black\" stroke-opacity=\"0.3\" stroke-width=\"5\" x1=\"520.0\" x2=\"500.0\" y1=\"1700.0\" y2=\"1700.0\"/></g><g><line marker-end=\"url(#arrow)\" stroke=\"black\" stroke-opacity=\"0.3\" stroke-width=\"5\" x1=\"500.0\" x2=\"520.0\" y1=\"1700.0\" y2=\"1700.0\"/></g><g><line marker-end=\"url(#arrow)\" stroke=\"black\" stroke-opacity=\"0.3\" stroke-width=\"5\" x1=\"-30.0\" x2=\"-30.0\" y1=\"0.0\" y2=\"-30.0\"/><line marker-end=\"url(#arrow)\" stroke=\"black\" stroke-opacity=\"0.3\" stroke-width=\"5\" x1=\"-30.0\" x2=\"1030.0\" y1=\"-30.0\" y2=\"-30.0\"/><line marker-end=\"url(#arrow)\" stroke=\"black\" stroke-opacity=\"0.3\" stroke-width=\"5\" x1=\"1030.0\" x2=\"1030.0\" y1=\"-30.0\" y2=\"0.0\"/></g><g><line marker-end=\"url(#arrow)\" stroke=\"black\" stroke-opacity=\"0.3\" stroke-width=\"5\" x1=\"1030.0\" x2=\"1030.0\" y1=\"0.0\" y2=\"-30.0\"/><line marker-end=\"url(#arrow)\" stroke=\"black\" stroke-opacity=\"0.3\" stroke-width=\"5\" x1=\"1030.0\" x2=\"-30.0\" y1=\"-30.0\" y2=\"-30.0\"/><line marker-end=\"url(#arrow)\" stroke=\"black\" stroke-opacity=\"0.3\" stroke-width=\"5\" x1=\"-30.0\" x2=\"-30.0\" y1=\"-30.0\" y2=\"0.0\"/></g><g><line marker-end=\"url(#arrow)\" stroke=\"black\" stroke-opacity=\"0.3\" stroke-width=\"5\" x1=\"0.0\" x2=\"-30.0\" y1=\"0.0\" y2=\"0.0\"/></g><g><line marker-end=\"url(#arrow)\" stroke=\"black\" stroke-opacity=\"0.3\" stroke-width=\"5\" x1=\"-30.0\" x2=\"0.0\" y1=\"0.0\" y2=\"0.0\"/></g><g><line marker-end=\"url(#arrow)\" stroke=\"black\" stroke-opacity=\"0.3\" stroke-width=\"5\" x1=\"1000.0\" x2=\"0.0\" y1=\"0.0\" y2=\"0.0\"/></g><g><line marker-end=\"url(#arrow)\" stroke=\"black\" stroke-opacity=\"0.3\" stroke-width=\"5\" x1=\"0.0\" x2=\"1000.0\" y1=\"0.0\" y2=\"0.0\"/></g><g><line marker-end=\"url(#arrow)\" stroke=\"black\" stroke-opacity=\"0.3\" stroke-width=\"5\" x1=\"0.0\" x2=\"500.0\" y1=\"600.0\" y2=\"600.0\"/></g><g><line marker-end=\"url(#arrow)\" stroke=\"black\" stroke-opacity=\"0.3\" stroke-width=\"5\" x1=\"500.0\" x2=\"0.0\" y1=\"600.0\" y2=\"600.0\"/></g><g><line marker-end=\"url(#arrow)\" stroke=\"black\" stroke-opacity=\"0.3\" stroke-width=\"5\" x1=\"0.0\" x2=\"0.0\" y1=\"2200.0\" y2=\"600.0\"/></g><g><line marker-end=\"url(#arrow)\" stroke=\"black\" stroke-opacity=\"0.3\" stroke-width=\"5\" x1=\"0.0\" x2=\"0.0\" y1=\"600.0\" y2=\"2200.0\"/></g><g><line marker-end=\"url(#arrow)\" stroke=\"black\" stroke-opacity=\"0.3\" stroke-width=\"5\" x1=\"500.0\" x2=\"0.0\" y1=\"2200.0\" y2=\"2200.0\"/></g><g><line marker-end=\"url(#arrow)\" stroke=\"black\" stroke-opacity=\"0.3\" stroke-width=\"5\" x1=\"0.0\" x2=\"500.0\" y1=\"2200.0\" y2=\"2200.0\"/></g><g><line marker-end=\"url(#arrow)\" stroke=\"black\" stroke-opacity=\"0.3\" stroke-width=\"5\" x1=\"500.0\" x2=\"500.0\" y1=\"2100.0\" y2=\"2200.0\"/></g><g><line marker-end=\"url(#arrow)\" stroke=\"black\" stroke-opacity=\"0.3\" stroke-width=\"5\" x1=\"500.0\" x2=\"500.0\" y1=\"2200.0\" y2=\"2100.0\"/></g><g><line marker-end=\"url(#arrow)\" stroke=\"black\" stroke-opacity=\"0.3\" stroke-width=\"5\" x1=\"500.0\" x2=\"500.0\" y1=\"1900.0\" y2=\"2100.0\"/></g><g><line marker-end=\"url(#arrow)\" stroke=\"black\" stroke-opacity=\"0.3\" stroke-width=\"5\" x1=\"500.0\" x2=\"500.0\" y1=\"2100.0\" y2=\"1900.0\"/></g><g><line marker-end=\"url(#arrow)\" stroke=\"black\" stroke-opacity=\"0.3\" stroke-width=\"5\" x1=\"500.0\" x2=\"500.0\" y1=\"1700.0\" y2=\"1900.0\"/></g><g><line marker-end=\"url(#arrow)\" stroke=\"black\" stroke-opacity=\"0.3\" stroke-width=\"5\" x1=\"500.0\" x2=\"500.0\" y1=\"1900.0\" y2=\"1700.0\"/></g><g><line marker-end=\"url(#arrow)\" stroke=\"black\" stroke-opacity=\"0.3\" stroke-width=\"5\" x1=\"-30.0\" x2=\"-30.0\" y1=\"2800.0\" y2=\"0.0\"/></g><g><line marker-end=\"url(#arrow)\" stroke=\"black\" stroke-opacity=\"0.3\" stroke-width=\"5\" x1=\"-30.0\" x2=\"-30.0\" y1=\"0.0\" y2=\"2800.0\"/></g><g><line marker-end=\"url(#arrow)\" stroke=\"black\" stroke-opacity=\"0.3\" stroke-width=\"5\" x1=\"0.0\" x2=\"0.0\" y1=\"2200.0\" y2=\"2800.0\"/></g><g><line marker-end=\"url(#arrow)\" stroke=\"black\" stroke-opacity=\"0.3\" stroke-width=\"5\" x1=\"0.0\" x2=\"0.0\" y1=\"2800.0\" y2=\"2200.0\"/></g><g><line marker-end=\"url(#arrow)\" stroke=\"black\" stroke-opacity=\"0.3\" stroke-width=\"5\" x1=\"0.0\" x2=\"0.0\" y1=\"0.0\" y2=\"600.0\"/></g><g><line marker-end=\"url(#arrow)\" stroke=\"black\" stroke-opacity=\"0.3\" stroke-width=\"5\" x1=\"0.0\" x2=\"0.0\" y1=\"600.0\" y2=\"0.0\"/></g><g><line marker-end=\"url(#arrow)\" stroke=\"black\" stroke-opacity=\"0.3\" stroke-width=\"5\" x1=\"500.0\" x2=\"520.0\" y1=\"2100.0\" y2=\"2100.0\"/></g><g><line marker-end=\"url(#arrow)\" stroke=\"black\" stroke-opacity=\"0.3\" stroke-width=\"5\" x1=\"520.0\" x2=\"500.0\" y1=\"2100.0\" y2=\"2100.0\"/></g><g><line marker-end=\"url(#arrow)\" stroke=\"black\" stroke-opacity=\"0.3\" stroke-width=\"5\" x1=\"1000.0\" x2=\"500.0\" y1=\"2200.0\" y2=\"2200.0\"/></g><g><line marker-end=\"url(#arrow)\" stroke=\"black\" stroke-opacity=\"0.3\" stroke-width=\"5\" x1=\"500.0\" x2=\"1000.0\" y1=\"2200.0\" y2=\"2200.0\"/></g><g><line marker-end=\"url(#arrow)\" stroke=\"black\" stroke-opacity=\"0.3\" stroke-width=\"5\" x1=\"520.0\" x2=\"500.0\" y1=\"1900.0\" y2=\"1900.0\"/></g><g><line marker-end=\"url(#arrow)\" stroke=\"black\" stroke-opacity=\"0.3\" stroke-width=\"5\" x1=\"500.0\" x2=\"520.0\" y1=\"1900.0\" y2=\"1900.0\"/></g></g></g></svg>"
      ],
      "text/plain": [
       "<IPython.core.display.SVG object>"
      ]
     },
     "execution_count": 16,
     "metadata": {},
     "output_type": "execute_result"
    }
   ],
   "source": [
    "dcel = DCEL(layer)\n",
    "SVG(svg_for_dcel(dcel))"
   ]
  },
  {
   "cell_type": "code",
   "execution_count": 17,
   "metadata": {},
   "outputs": [
    {
     "data": {
      "image/svg+xml": [
       "<svg height=\"500\" viewBox=\"-100.0 -2300.0 700.0 1800.0\" width=\"1000\" xmlns=\"http://www.w3.org/2000/svg\"><defs><marker id=\"arrow\" markerHeight=\"10\" markerUnits=\"strokeWidth\" markerWidth=\"10\" orient=\"auto\" refX=\"10\" refY=\"3\" viewBox=\"0 0 20 20\"><path d=\"M0,0 L0,6 L10,3 z\" fill=\"black\" fill-opacity=\"0.3\"/></marker></defs><g transform=\"scale(1, -1)\"><g><line marker-end=\"url(#arrow)\" stroke=\"black\" stroke-opacity=\"0.3\" stroke-width=\"5\" x1=\"500.0\" x2=\"500.0\" y1=\"1700.0\" y2=\"1900.0\"/><line marker-end=\"url(#arrow)\" stroke=\"black\" stroke-opacity=\"0.3\" stroke-width=\"5\" x1=\"500.0\" x2=\"500.0\" y1=\"1900.0\" y2=\"2100.0\"/><line marker-end=\"url(#arrow)\" stroke=\"black\" stroke-opacity=\"0.3\" stroke-width=\"5\" x1=\"500.0\" x2=\"500.0\" y1=\"2100.0\" y2=\"2200.0\"/><line marker-end=\"url(#arrow)\" stroke=\"black\" stroke-opacity=\"0.3\" stroke-width=\"5\" x1=\"500.0\" x2=\"0.0\" y1=\"2200.0\" y2=\"2200.0\"/><line marker-end=\"url(#arrow)\" stroke=\"black\" stroke-opacity=\"0.3\" stroke-width=\"5\" x1=\"0.0\" x2=\"0.0\" y1=\"2200.0\" y2=\"600.0\"/><line marker-end=\"url(#arrow)\" stroke=\"black\" stroke-opacity=\"0.3\" stroke-width=\"5\" x1=\"0.0\" x2=\"500.0\" y1=\"600.0\" y2=\"600.0\"/><line marker-end=\"url(#arrow)\" stroke=\"black\" stroke-opacity=\"0.3\" stroke-width=\"5\" x1=\"500.0\" x2=\"500.0\" y1=\"600.0\" y2=\"700.0\"/><line marker-end=\"url(#arrow)\" stroke=\"black\" stroke-opacity=\"0.3\" stroke-width=\"5\" x1=\"500.0\" x2=\"500.0\" y1=\"700.0\" y2=\"900.0\"/><line marker-end=\"url(#arrow)\" stroke=\"black\" stroke-opacity=\"0.3\" stroke-width=\"5\" x1=\"500.0\" x2=\"500.0\" y1=\"900.0\" y2=\"1100.0\"/><line marker-end=\"url(#arrow)\" stroke=\"black\" stroke-opacity=\"0.3\" stroke-width=\"5\" x1=\"500.0\" x2=\"500.0\" y1=\"1100.0\" y2=\"1300.0\"/><line marker-end=\"url(#arrow)\" stroke=\"black\" stroke-opacity=\"0.3\" stroke-width=\"5\" x1=\"500.0\" x2=\"500.0\" y1=\"1300.0\" y2=\"1500.0\"/><line marker-end=\"url(#arrow)\" stroke=\"black\" stroke-opacity=\"0.3\" stroke-width=\"5\" x1=\"500.0\" x2=\"500.0\" y1=\"1500.0\" y2=\"1700.0\"/></g></g></svg>"
      ],
      "text/plain": [
       "<IPython.core.display.SVG object>"
      ]
     },
     "execution_count": 17,
     "metadata": {},
     "output_type": "execute_result"
    }
   ],
   "source": [
    "SVG(svg_for_dcel(Chain.loop(dcel.outer_edge[cell])))"
   ]
  },
  {
   "cell_type": "markdown",
   "metadata": {},
   "source": [
    "Dcel edges have a link to their face (an indoorGML cell) and to the indoorGML boundary + they usual attibutes"
   ]
  },
  {
   "cell_type": "code",
   "execution_count": 18,
   "metadata": {},
   "outputs": [],
   "source": [
    "edge = dcel.outer_edge[cell]"
   ]
  },
  {
   "cell_type": "code",
   "execution_count": 19,
   "metadata": {},
   "outputs": [
    {
     "name": "stdout",
     "output_type": "stream",
     "text": [
      "LINESTRING (500 1700, 500 1900) has face TransitionSpace: L0C1 and in part of CellSpaceBoundary: L0B6: next LINESTRING (500 1900, 500 2100), origin POINT (500 1700), twin LINESTRING (500 1900, 500 1700)\n"
     ]
    }
   ],
   "source": [
    "print(f'{edge} has face {edge.face} and in part of {edge.face_boundary}: next {edge.next}, origin {edge.origin}, twin {edge.twin}')"
   ]
  },
  {
   "cell_type": "code",
   "execution_count": 20,
   "metadata": {},
   "outputs": [
    {
     "name": "stdout",
     "output_type": "stream",
     "text": [
      "Twin edges LINESTRING (500 1700, 500 1900) and LINESTRING (500 1900, 500 1700) belong to the same indoorGML boundary (True)\n"
     ]
    }
   ],
   "source": [
    "print(f'Twin edges {edge} and {edge.twin} belong to the same indoorGML boundary ({edge.face_boundary == edge.twin.face_boundary})')"
   ]
  },
  {
   "cell_type": "markdown",
   "metadata": {},
   "source": [
    "# Derivation of a new navigation layer"
   ]
  },
  {
   "cell_type": "markdown",
   "metadata": {},
   "source": [
    "We can derive a new layer as a copy of a layer minus obstacles (walls) with a clearance"
   ]
  },
  {
   "cell_type": "code",
   "execution_count": 21,
   "metadata": {},
   "outputs": [
    {
     "data": {
      "image/svg+xml": [
       "<svg xmlns=\"http://www.w3.org/2000/svg\" xmlns:xlink=\"http://www.w3.org/1999/xlink\" width=\"300\" height=\"300\" viewBox=\"-176.8 -176.8 1353.6 3153.6000000000004\" preserveAspectRatio=\"xMinYMin meet\"><g transform=\"matrix(1,0,0,-1,0,2800.0)\"><path fill-rule=\"evenodd\" fill=\"#66cc99\" stroke=\"#555555\" stroke-width=\"21.024\" opacity=\"0.6\" d=\"M 1060.0,-60.0 L -60.0,-60.0 L -60.0,2860.0 L 1060.0,2860.0 L 1060.0,-60.0 z M 30.0,30.0 L 970.0,30.0 L 970.0,570.0 L 470.0,570.0 L 470.0,730.0 L 550.0,730.0 L 550.0,650.0 L 970.0,650.0 L 970.0,950.0 L 550.0,950.0 L 550.0,870.0 L 470.0,870.0 L 470.0,1130.0 L 550.0,1130.0 L 550.0,1050.0 L 970.0,1050.0 L 970.0,1350.0 L 550.0,1350.0 L 550.0,1270.0 L 470.0,1270.0 L 470.0,1530.0 L 550.0,1530.0 L 550.0,1450.0 L 970.0,1450.0 L 970.0,1750.0 L 550.0,1750.0 L 550.0,1670.0 L 470.0,1670.0 L 470.0,1930.0 L 550.0,1930.0 L 550.0,1850.0 L 970.0,1850.0 L 970.0,2150.0 L 550.0,2150.0 L 550.0,2070.0 L 470.0,2070.0 L 470.0,2230.0 L 970.0,2230.0 L 970.0,2770.0 L 30.0,2770.0 L 30.0,30.0 z\" /></g></svg>"
      ],
      "text/plain": [
       "<shapely.geometry.polygon.Polygon at 0x10925b080>"
      ]
     },
     "execution_count": 21,
     "metadata": {},
     "output_type": "execute_result"
    }
   ],
   "source": [
    "obstacle(map_['L0'],clearance=30 )"
   ]
  },
  {
   "cell_type": "code",
   "execution_count": 22,
   "metadata": {},
   "outputs": [
    {
     "data": {
      "application/vnd.jupyter.widget-view+json": {
       "model_id": "4cb13779532646f582d0fd0fdbdb1e19",
       "version_major": 2,
       "version_minor": 0
      },
      "text/plain": [
       "HBox(children=(IntProgress(value=0, max=20), HTML(value='')))"
      ]
     },
     "metadata": {},
     "output_type": "display_data"
    },
    {
     "name": "stdout",
     "output_type": "stream",
     "text": [
      "\n"
     ]
    },
    {
     "data": {
      "application/vnd.jupyter.widget-view+json": {
       "model_id": "fe2b0c33b48741b199e44be7282a60b3",
       "version_major": 2,
       "version_minor": 0
      },
      "text/plain": [
       "HBox(children=(IntProgress(value=0, max=57), HTML(value='')))"
      ]
     },
     "metadata": {},
     "output_type": "display_data"
    },
    {
     "name": "stdout",
     "output_type": "stream",
     "text": [
      "\n"
     ]
    }
   ],
   "source": [
    "new_layer = from_layer(map_['L0'], uid='N', clearance=30, intersect=[], convex=False)"
   ]
  },
  {
   "cell_type": "code",
   "execution_count": 23,
   "metadata": {},
   "outputs": [
    {
     "data": {
      "image/svg+xml": [
       "<svg height=\"500\" viewBox=\"-70.0 -2870.0 1140.0 2940.0\" width=\"1000\" xmlns=\"http://www.w3.org/2000/svg\"><style media=\"screen\" type=\"text/css\">\n",
       "\n",
       ".State circle {\n",
       "    fill: red;\n",
       "    r: 20;\n",
       "    stroke: orange;\n",
       "    stroke-width: 10;\n",
       "}\n",
       "\n",
       ".Transition path {\n",
       "    stroke: orange;\n",
       "    stroke-width: 10;\n",
       "    fill: none;\n",
       "    display: inline\n",
       "}\n",
       "\n",
       "path\n",
       "{\n",
       "    stroke: grey;\n",
       "    stroke-width: 10;\n",
       "}\n",
       "\n",
       ".TransitionSpace {\n",
       "    fill: lightgreen;\n",
       "}\n",
       "\n",
       ".GeneralSpace {\n",
       "    fill: olive;\n",
       "}\n",
       "\n",
       ".ConnectionSpace {\n",
       "    fill: orange;\n",
       "}\n",
       "\n",
       "\n",
       ".TOPOGRAPHIC .CellSpace {\n",
       "    fill: black;\n",
       "}\n",
       "\n",
       ".CellSpace {\n",
       "    fill: BurlyWood ;\n",
       "    stroke: white;\n",
       "    stroke-width: 10;\n",
       "}\n",
       "\n",
       ".CellSpaceBoundary {\n",
       "    display: none;\n",
       "}\n",
       "\n",
       ".NavigableBoundary {\n",
       "    display: none;\n",
       "    stroke: green;\n",
       "    stroke-dasharray: 40 40;\n",
       "    stroke-width: 20;\n",
       "    fill: none;\n",
       "}\n",
       "\n",
       "\n",
       "\n",
       "</style><g transform=\"scale(1, -1)\"><g class=\"SpaceLayer TOPOGRAPHIC Navigation\" id=\"N\" onclick=\"(function(event){alert('N'); event.stopPropagation();})(event)\"><g class=\"cells\"><g class=\"ConnectionSpace None\" id=\"NC1\" onclick=\"(function(event){alert('NC1'); event.stopPropagation();})(event)\"><path d=\"M 520.0 1270.0 520.0 1130.0 L 500.0 1130.0 500.0 1270.0 520.0 1270.0 Z\" fill-rule=\"evenodd\" id=\"p_NC1\" /><g class=\"CellSpaceBoundary None\" id=\"NB1\" onclick=\"(function(event){alert('NB1'); event.stopPropagation();})(event)\"><path d=\"M 520.0 1130.0 L 500.0 1130.0\" id=\"p_NB1\" /></g><g class=\"NavigableBoundary None\" id=\"NB13\" onclick=\"(function(event){alert('NB13'); event.stopPropagation();})(event)\"><path d=\"M 500.0 1270.001 L 500.0 1129.999\" id=\"p_NB13\" /></g><g class=\"CellSpaceBoundary None\" id=\"NB14\" onclick=\"(function(event){alert('NB14'); event.stopPropagation();})(event)\"><path d=\"M 500.0 1270.0 L 520.0 1270.0\" id=\"p_NB14\" /></g><g class=\"NavigableBoundary None\" id=\"NB12\" onclick=\"(function(event){alert('NB12'); event.stopPropagation();})(event)\"><path d=\"M 520.0 1129.999 L 520.0 1270.001\" id=\"p_NB12\" /></g></g><g class=\"ConnectionSpace None\" id=\"NC2\" onclick=\"(function(event){alert('NC2'); event.stopPropagation();})(event)\"><path d=\"M 500.0 730.0 500.0 870.0 L 520.0 870.0 520.0 730.0 500.0 730.0 Z\" fill-rule=\"evenodd\" id=\"p_NC2\" /><g class=\"NavigableBoundary None\" id=\"NB15\" onclick=\"(function(event){alert('NB15'); event.stopPropagation();})(event)\"><path d=\"M 520.0 870.001 L 520.0 729.999\" id=\"p_NB15\" /></g><g class=\"NavigableBoundary None\" id=\"NB16\" onclick=\"(function(event){alert('NB16'); event.stopPropagation();})(event)\"><path d=\"M 500.0 870.001 L 500.0 729.999\" id=\"p_NB16\" /></g><g class=\"CellSpaceBoundary None\" id=\"NB17\" onclick=\"(function(event){alert('NB17'); event.stopPropagation();})(event)\"><path d=\"M 500.0 870.0 L 520.0 870.0\" id=\"p_NB17\" /></g><g class=\"CellSpaceBoundary None\" id=\"NB2\" onclick=\"(function(event){alert('NB2'); event.stopPropagation();})(event)\"><path d=\"M 520.0 730.0 L 500.0 730.0\" id=\"p_NB2\" /></g></g><g class=\"GeneralSpace None\" id=\"NC3\" onclick=\"(function(event){alert('NC3'); event.stopPropagation();})(event)\"><path d=\"M 520.0 1930.0 520.0 2070.0 L 550.0 2070.0 550.0 2150.0 970.0 2150.0 970.0 1850.0 550.0 1850.0 550.0 1930.0 520.0 1930.0 Z\" fill-rule=\"evenodd\" id=\"p_NC3\" /><g class=\"NavigableBoundary None\" id=\"NB19\" onclick=\"(function(event){alert('NB19'); event.stopPropagation();})(event)\"><path d=\"M 520.0 2070.001 L 520.0 1929.999\" id=\"p_NB19\" /></g><g class=\"CellSpaceBoundary None\" id=\"NB3\" onclick=\"(function(event){alert('NB3'); event.stopPropagation();})(event)\"><path d=\"M 520.0 2070.0 L 550.0 2070.0 550.0 2150.0 970.0 2150.0 970.0 1850.0 550.0 1850.0 550.0 1930.0 520.0 1930.0\" id=\"p_NB3\" /></g></g><g class=\"GeneralSpace None\" id=\"NC4\" onclick=\"(function(event){alert('NC4'); event.stopPropagation();})(event)\"><path d=\"M 520.0 1530.0 520.0 1670.0 L 550.0 1670.0 550.0 1750.0 970.0 1750.0 970.0 1450.0 550.0 1450.0 550.0 1530.0 520.0 1530.0 Z\" fill-rule=\"evenodd\" id=\"p_NC4\" /><g class=\"CellSpaceBoundary None\" id=\"NB4\" onclick=\"(function(event){alert('NB4'); event.stopPropagation();})(event)\"><path d=\"M 520.0 1670.0 L 550.0 1670.0 550.0 1750.0 970.0 1750.0 970.0 1450.0 550.0 1450.0 550.0 1530.0 520.0 1530.0\" id=\"p_NB4\" /></g><g class=\"NavigableBoundary None\" id=\"NB20\" onclick=\"(function(event){alert('NB20'); event.stopPropagation();})(event)\"><path d=\"M 520.0 1670.001 L 520.0 1529.999\" id=\"p_NB20\" /></g></g><g class=\"GeneralSpace None\" id=\"NC5\" onclick=\"(function(event){alert('NC5'); event.stopPropagation();})(event)\"><path d=\"M 520.0 730.0 520.0 870.0 L 550.0 870.0 550.0 950.0 970.0 950.0 970.0 650.0 550.0 650.0 550.0 730.0 520.0 730.0 Z\" fill-rule=\"evenodd\" id=\"p_NC5\" /><g class=\"NavigableBoundary None\" id=\"NB15\" onclick=\"(function(event){alert('NB15'); event.stopPropagation();})(event)\"><path d=\"M 520.0 870.001 L 520.0 729.999\" id=\"p_NB15\" /></g><g class=\"CellSpaceBoundary None\" id=\"NB5\" onclick=\"(function(event){alert('NB5'); event.stopPropagation();})(event)\"><path d=\"M 520.0 870.0 L 550.0 870.0 550.0 950.0 970.0 950.0 970.0 650.0 550.0 650.0 550.0 730.0 520.0 730.0\" id=\"p_NB5\" /></g></g><g class=\"GeneralSpace None\" id=\"NC6\" onclick=\"(function(event){alert('NC6'); event.stopPropagation();})(event)\"><path d=\"M 520.0 1130.0 520.0 1270.0 L 550.0 1270.0 550.0 1350.0 970.0 1350.0 970.0 1050.0 550.0 1050.0 550.0 1130.0 520.0 1130.0 Z\" fill-rule=\"evenodd\" id=\"p_NC6\" /><g class=\"CellSpaceBoundary None\" id=\"NB6\" onclick=\"(function(event){alert('NB6'); event.stopPropagation();})(event)\"><path d=\"M 520.0 1270.0 L 550.0 1270.0 550.0 1350.0 970.0 1350.0 970.0 1050.0 550.0 1050.0 550.0 1130.0 520.0 1130.0\" id=\"p_NB6\" /></g><g class=\"NavigableBoundary None\" id=\"NB12\" onclick=\"(function(event){alert('NB12'); event.stopPropagation();})(event)\"><path d=\"M 520.0 1129.999 L 520.0 1270.001\" id=\"p_NB12\" /></g></g><g class=\"ConnectionSpace None\" id=\"NC7\" onclick=\"(function(event){alert('NC7'); event.stopPropagation();})(event)\"><path d=\"M 520.0 1670.0 520.0 1530.0 L 500.0 1530.0 500.0 1670.0 520.0 1670.0 Z\" fill-rule=\"evenodd\" id=\"p_NC7\" /><g class=\"NavigableBoundary None\" id=\"NB21\" onclick=\"(function(event){alert('NB21'); event.stopPropagation();})(event)\"><path d=\"M 500.0 1670.001 L 500.0 1529.999\" id=\"p_NB21\" /></g><g class=\"NavigableBoundary None\" id=\"NB20\" onclick=\"(function(event){alert('NB20'); event.stopPropagation();})(event)\"><path d=\"M 520.0 1670.001 L 520.0 1529.999\" id=\"p_NB20\" /></g><g class=\"CellSpaceBoundary None\" id=\"NB22\" onclick=\"(function(event){alert('NB22'); event.stopPropagation();})(event)\"><path d=\"M 500.0 1670.0 L 520.0 1670.0\" id=\"p_NB22\" /></g><g class=\"CellSpaceBoundary None\" id=\"NB7\" onclick=\"(function(event){alert('NB7'); event.stopPropagation();})(event)\"><path d=\"M 520.0 1530.0 L 500.0 1530.0\" id=\"p_NB7\" /></g></g><g class=\"TransitionSpace None\" id=\"NC8\" onclick=\"(function(event){alert('NC8'); event.stopPropagation();})(event)\"><path d=\"M 30.0 2200.0 470.0 2200.0 L 470.0 2070.0 500.0 2070.0 500.0 1930.0 470.0 1930.0 470.0 1670.0 500.0 1670.0 500.0 1530.0 470.0 1530.0 470.0 1270.0 500.0 1270.0 500.0 1130.0 470.0 1130.0 470.0 870.0 500.0 870.0 500.0 730.0 470.0 730.0 470.0 600.0 30.0 600.0 30.0 2200.0 Z\" fill-rule=\"evenodd\" id=\"p_NC8\" /><g class=\"CellSpaceBoundary None\" id=\"NB8\" onclick=\"(function(event){alert('NB8'); event.stopPropagation();})(event)\"><path d=\"M 30.0 600.0 L 30.0 2200.0\" id=\"p_NB8\" /></g><g class=\"CellSpaceBoundary None\" id=\"NB29\" onclick=\"(function(event){alert('NB29'); event.stopPropagation();})(event)\"><path d=\"M 500.0 1930.0 L 470.0 1930.0 470.0 1670.0 500.0 1670.0\" id=\"p_NB29\" /></g><g class=\"CellSpaceBoundary None\" id=\"NB27\" onclick=\"(function(event){alert('NB27'); event.stopPropagation();})(event)\"><path d=\"M 470.0 2200.0 L 470.0 2070.0 500.0 2070.0\" id=\"p_NB27\" /></g><g class=\"NavigableBoundary None\" id=\"NB16\" onclick=\"(function(event){alert('NB16'); event.stopPropagation();})(event)\"><path d=\"M 500.0 870.001 L 500.0 729.999\" id=\"p_NB16\" /></g><g class=\"CellSpaceBoundary None\" id=\"NB23\" onclick=\"(function(event){alert('NB23'); event.stopPropagation();})(event)\"><path d=\"M 500.0 1530.0 L 470.0 1530.0 470.0 1270.0 500.0 1270.0\" id=\"p_NB23\" /></g><g class=\"NavigableBoundary None\" id=\"NB28\" onclick=\"(function(event){alert('NB28'); event.stopPropagation();})(event)\"><path d=\"M 500.0 2070.001 L 500.0 1929.999\" id=\"p_NB28\" /></g><g class=\"NavigableBoundary None\" id=\"NB13\" onclick=\"(function(event){alert('NB13'); event.stopPropagation();})(event)\"><path d=\"M 500.0 1270.001 L 500.0 1129.999\" id=\"p_NB13\" /></g><g class=\"NavigableBoundary None\" id=\"NB26\" onclick=\"(function(event){alert('NB26'); event.stopPropagation();})(event)\"><path d=\"M 29.999 2200.0 L 470.001 2200.0\" id=\"p_NB26\" /></g><g class=\"CellSpaceBoundary None\" id=\"NB25\" onclick=\"(function(event){alert('NB25'); event.stopPropagation();})(event)\"><path d=\"M 500.0 730.0 L 470.0 730.0 470.0 600.0\" id=\"p_NB25\" /></g><g class=\"NavigableBoundary None\" id=\"NB24\" onclick=\"(function(event){alert('NB24'); event.stopPropagation();})(event)\"><path d=\"M 470.001 600.0 L 29.999 600.0\" id=\"p_NB24\" /></g><g class=\"NavigableBoundary None\" id=\"NB21\" onclick=\"(function(event){alert('NB21'); event.stopPropagation();})(event)\"><path d=\"M 500.0 1670.001 L 500.0 1529.999\" id=\"p_NB21\" /></g><g class=\"CellSpaceBoundary None\" id=\"NB18\" onclick=\"(function(event){alert('NB18'); event.stopPropagation();})(event)\"><path d=\"M 500.0 1130.0 L 470.0 1130.0 470.0 870.0 500.0 870.0\" id=\"p_NB18\" /></g></g><g class=\"GeneralSpace None\" id=\"NC9\" onclick=\"(function(event){alert('NC9'); event.stopPropagation();})(event)\"><path d=\"M 30.0 600.0 470.0 600.0 L 470.0 570.0 970.0 570.0 970.0 30.0 30.0 30.0 30.0 600.0 Z\" fill-rule=\"evenodd\" id=\"p_NC9\" /><g class=\"NavigableBoundary None\" id=\"NB24\" onclick=\"(function(event){alert('NB24'); event.stopPropagation();})(event)\"><path d=\"M 470.001 600.0 L 29.999 600.0\" id=\"p_NB24\" /></g><g class=\"CellSpaceBoundary None\" id=\"NB9\" onclick=\"(function(event){alert('NB9'); event.stopPropagation();})(event)\"><path d=\"M 470.0 600.0 L 470.0 570.0 970.0 570.0 970.0 30.0 30.0 30.0 30.0 600.0\" id=\"p_NB9\" /></g></g><g class=\"GeneralSpace None\" id=\"NC10\" onclick=\"(function(event){alert('NC10'); event.stopPropagation();})(event)\"><path d=\"M 470.0 2200.0 30.0 2200.0 L 30.0 2770.0 970.0 2770.0 970.0 2230.0 470.0 2230.0 470.0 2200.0 Z\" fill-rule=\"evenodd\" id=\"p_NC10\" /><g class=\"CellSpaceBoundary None\" id=\"NB10\" onclick=\"(function(event){alert('NB10'); event.stopPropagation();})(event)\"><path d=\"M 30.0 2200.0 L 30.0 2770.0 970.0 2770.0 970.0 2230.0 470.0 2230.0 470.0 2200.0\" id=\"p_NB10\" /></g><g class=\"NavigableBoundary None\" id=\"NB26\" onclick=\"(function(event){alert('NB26'); event.stopPropagation();})(event)\"><path d=\"M 29.999 2200.0 L 470.001 2200.0\" id=\"p_NB26\" /></g></g><g class=\"ConnectionSpace None\" id=\"NC11\" onclick=\"(function(event){alert('NC11'); event.stopPropagation();})(event)\"><path d=\"M 520.0 2070.0 520.0 1930.0 L 500.0 1930.0 500.0 2070.0 520.0 2070.0 Z\" fill-rule=\"evenodd\" id=\"p_NC11\" /><g class=\"CellSpaceBoundary None\" id=\"NB30\" onclick=\"(function(event){alert('NB30'); event.stopPropagation();})(event)\"><path d=\"M 500.0 2070.0 L 520.0 2070.0\" id=\"p_NB30\" /></g><g class=\"CellSpaceBoundary None\" id=\"NB11\" onclick=\"(function(event){alert('NB11'); event.stopPropagation();})(event)\"><path d=\"M 520.0 1930.0 L 500.0 1930.0\" id=\"p_NB11\" /></g><g class=\"NavigableBoundary None\" id=\"NB28\" onclick=\"(function(event){alert('NB28'); event.stopPropagation();})(event)\"><path d=\"M 500.0 2070.001 L 500.0 1929.999\" id=\"p_NB28\" /></g><g class=\"NavigableBoundary None\" id=\"NB19\" onclick=\"(function(event){alert('NB19'); event.stopPropagation();})(event)\"><path d=\"M 520.0 2070.001 L 520.0 1929.999\" id=\"p_NB19\" /></g></g></g><g class=\"graph\"><g class=\"Transition None\" id=\"NT12\" onclick=\"(function(event){alert('NT12'); event.stopPropagation();})(event)\"><path d=\"M 510.0 1200.0 L 520.0 1200.0 752.741935483871 1200.0\" id=\"p_NT12\" /></g><g class=\"Transition None\" id=\"NT13\" onclick=\"(function(event){alert('NT13'); event.stopPropagation();})(event)\"><path d=\"M 510.0 1200.0 L 499.99999999999994 1200.0 255.4772475027747 1400.0\" id=\"p_NT13\" /></g><g class=\"Transition None\" id=\"NT15\" onclick=\"(function(event){alert('NT15'); event.stopPropagation();})(event)\"><path d=\"M 510.0 800.0 L 520.0 800.0 752.741935483871 800.0\" id=\"p_NT15\" /></g><g class=\"Transition None\" id=\"NT16\" onclick=\"(function(event){alert('NT16'); event.stopPropagation();})(event)\"><path d=\"M 510.0 800.0 L 499.99999999999994 800.0 255.4772475027747 1400.0\" id=\"p_NT16\" /></g><g class=\"Transition None\" id=\"NT19\" onclick=\"(function(event){alert('NT19'); event.stopPropagation();})(event)\"><path d=\"M 752.741935483871 2000.0 L 520.0 2000.0 510.0 2000.0\" id=\"p_NT19\" /></g><g class=\"Transition None\" id=\"NT20\" onclick=\"(function(event){alert('NT20'); event.stopPropagation();})(event)\"><path d=\"M 752.741935483871 1600.0 L 520.0 1600.0 510.0 1600.0\" id=\"p_NT20\" /></g><g class=\"Transition None\" id=\"NT21\" onclick=\"(function(event){alert('NT21'); event.stopPropagation();})(event)\"><path d=\"M 510.0 1600.0 L 499.99999999999994 1600.0 255.4772475027747 1400.0\" id=\"p_NT21\" /></g><g class=\"Transition None\" id=\"NT24\" onclick=\"(function(event){alert('NT24'); event.stopPropagation();})(event)\"><path d=\"M 255.4772475027747 1400.0 L 250.0 600.0 493.66359447004606 307.2235023041475\" id=\"p_NT24\" /></g><g class=\"Transition None\" id=\"NT26\" onclick=\"(function(event){alert('NT26'); event.stopPropagation();})(event)\"><path d=\"M 255.4772475027747 1400.0 L 250.0 2200.0 493.66359447004606 2492.7764976958524\" id=\"p_NT26\" /></g><g class=\"Transition None\" id=\"NT28\" onclick=\"(function(event){alert('NT28'); event.stopPropagation();})(event)\"><path d=\"M 255.4772475027747 1400.0 L 500.0 2000.0 510.0 2000.0\" id=\"p_NT28\" /></g><g class=\"State None\" id=\"NS1\" onclick=\"(function(event){alert('NS1'); event.stopPropagation();})(event)\"><circle cx=\"510.0\" cy=\"1200.0\" /></g><g class=\"State None\" id=\"NS2\" onclick=\"(function(event){alert('NS2'); event.stopPropagation();})(event)\"><circle cx=\"510.0\" cy=\"800.0\" /></g><g class=\"State None\" id=\"NS3\" onclick=\"(function(event){alert('NS3'); event.stopPropagation();})(event)\"><circle cx=\"752.741935483871\" cy=\"2000.0\" /></g><g class=\"State None\" id=\"NS4\" onclick=\"(function(event){alert('NS4'); event.stopPropagation();})(event)\"><circle cx=\"752.741935483871\" cy=\"1600.0\" /></g><g class=\"State None\" id=\"NS5\" onclick=\"(function(event){alert('NS5'); event.stopPropagation();})(event)\"><circle cx=\"752.741935483871\" cy=\"800.0\" /></g><g class=\"State None\" id=\"NS6\" onclick=\"(function(event){alert('NS6'); event.stopPropagation();})(event)\"><circle cx=\"752.741935483871\" cy=\"1200.0\" /></g><g class=\"State None\" id=\"NS7\" onclick=\"(function(event){alert('NS7'); event.stopPropagation();})(event)\"><circle cx=\"510.0\" cy=\"1600.0\" /></g><g class=\"State None\" id=\"NS8\" onclick=\"(function(event){alert('NS8'); event.stopPropagation();})(event)\"><circle cx=\"255.4772475027747\" cy=\"1400.0\" /></g><g class=\"State None\" id=\"NS9\" onclick=\"(function(event){alert('NS9'); event.stopPropagation();})(event)\"><circle cx=\"493.66359447004606\" cy=\"307.2235023041475\" /></g><g class=\"State None\" id=\"NS10\" onclick=\"(function(event){alert('NS10'); event.stopPropagation();})(event)\"><circle cx=\"493.66359447004606\" cy=\"2492.7764976958524\" /></g><g class=\"State None\" id=\"NS11\" onclick=\"(function(event){alert('NS11'); event.stopPropagation();})(event)\"><circle cx=\"510.0\" cy=\"2000.0\" /></g></g></g></g></svg>"
      ],
      "text/plain": [
       "SpaceLayer: N - Layer obtained from SpaceLayer: L0 adding a clearance of 30 cm"
      ]
     },
     "execution_count": 23,
     "metadata": {},
     "output_type": "execute_result"
    }
   ],
   "source": [
    "new_layer"
   ]
  },
  {
   "cell_type": "markdown",
   "metadata": {},
   "source": [
    "such that the new cells are contained in one cell for evry layer in `intersect`\n"
   ]
  },
  {
   "cell_type": "code",
   "execution_count": 24,
   "metadata": {},
   "outputs": [
    {
     "data": {
      "image/svg+xml": [
       "<svg height=\"500\" viewBox=\"-100.0 -2900.0 1200.0 3000.0\" width=\"1000\" xmlns=\"http://www.w3.org/2000/svg\"><style media=\"screen\" type=\"text/css\">\n",
       "\n",
       ".State circle {\n",
       "    fill: red;\n",
       "    r: 20;\n",
       "    stroke: orange;\n",
       "    stroke-width: 10;\n",
       "}\n",
       "\n",
       ".Transition path {\n",
       "    stroke: orange;\n",
       "    stroke-width: 10;\n",
       "    fill: none;\n",
       "    display: inline\n",
       "}\n",
       "\n",
       "path\n",
       "{\n",
       "    stroke: grey;\n",
       "    stroke-width: 10;\n",
       "}\n",
       "\n",
       ".TransitionSpace {\n",
       "    fill: lightgreen;\n",
       "}\n",
       "\n",
       ".GeneralSpace {\n",
       "    fill: olive;\n",
       "}\n",
       "\n",
       ".ConnectionSpace {\n",
       "    fill: orange;\n",
       "}\n",
       "\n",
       "\n",
       ".TOPOGRAPHIC .CellSpace {\n",
       "    fill: black;\n",
       "}\n",
       "\n",
       ".CellSpace {\n",
       "    fill: BurlyWood ;\n",
       "    stroke: white;\n",
       "    stroke-width: 10;\n",
       "}\n",
       "\n",
       ".CellSpaceBoundary {\n",
       "    display: none;\n",
       "}\n",
       "\n",
       ".NavigableBoundary {\n",
       "    display: none;\n",
       "    stroke: green;\n",
       "    stroke-dasharray: 40 40;\n",
       "    stroke-width: 20;\n",
       "    fill: none;\n",
       "}\n",
       "\n",
       "\n",
       "\n",
       "</style><g transform=\"scale(1, -1)\"><g class=\"SpaceLayer SENSOR Camera\" id=\"L2\" onclick=\"(function(event){alert('L2'); event.stopPropagation();})(event)\"><g class=\"cells\"><g class=\"CellSpace None\" id=\"L2C3\" onclick=\"(function(event){alert('L2C3'); event.stopPropagation();})(event)\"><path d=\"M 500.0 2200.0 500.0 1400.0 L 0.0 1400.0 0.0 2200.0 500.0 2200.0 Z\" fill-rule=\"evenodd\" id=\"p_L2C3\" /><g class=\"CellSpaceBoundary None\" id=\"L2B5\" onclick=\"(function(event){alert('L2B5'); event.stopPropagation();})(event)\"><path d=\"M 0.0 1400.0 L 500.0 1400.0\" id=\"p_L2B5\" /></g><g class=\"CellSpaceBoundary None\" id=\"L2B2\" onclick=\"(function(event){alert('L2B2'); event.stopPropagation();})(event)\"><path d=\"M 500.0 1400.0 L 500.0 2200.0 0.0 2200.0\" id=\"p_L2B2\" /></g><g class=\"CellSpaceBoundary None\" id=\"L2B6\" onclick=\"(function(event){alert('L2B6'); event.stopPropagation();})(event)\"><path d=\"M 0.0 1400.0 L 0.0 2200.0\" id=\"p_L2B6\" /></g></g><g class=\"CellSpace None\" id=\"L2C2\" onclick=\"(function(event){alert('L2C2'); event.stopPropagation();})(event)\"><path d=\"M 0.0 1400.0 500.0 1400.0 L 500.0 600.0 0.0 600.0 0.0 1400.0 Z\" fill-rule=\"evenodd\" id=\"p_L2C2\" /><g class=\"CellSpaceBoundary None\" id=\"L2B5\" onclick=\"(function(event){alert('L2B5'); event.stopPropagation();})(event)\"><path d=\"M 0.0 1400.0 L 500.0 1400.0\" id=\"p_L2B5\" /></g><g class=\"CellSpaceBoundary None\" id=\"L2B4\" onclick=\"(function(event){alert('L2B4'); event.stopPropagation();})(event)\"><path d=\"M 0.0 600.0 L 0.0 1400.0\" id=\"p_L2B4\" /></g><g class=\"CellSpaceBoundary None\" id=\"L2B1\" onclick=\"(function(event){alert('L2B1'); event.stopPropagation();})(event)\"><path d=\"M 0.0 600.0 L 500.0 600.0 500.0 1400.0\" id=\"p_L2B1\" /></g></g><g class=\"CellSpace None\" id=\"L2C1\" onclick=\"(function(event){alert('L2C1'); event.stopPropagation();})(event)\"><path d=\"M 500.0 600.0 500.0 1400.0 L 500.0 2200.0 0.0 2200.0 0.0 2800.0 1000.0 2800.0 1000.0 0.0 0.0 0.0 0.0 600.0 500.0 600.0 Z\" fill-rule=\"evenodd\" id=\"p_L2C1\" /><g class=\"CellSpaceBoundary None\" id=\"L2B3\" onclick=\"(function(event){alert('L2B3'); event.stopPropagation();})(event)\"><path d=\"M 0.0 2200.0 L 0.0 2800.0 1000.0 2800.0 1000.0 0.0 0.0 0.0 0.0 600.0\" id=\"p_L2B3\" /></g><g class=\"CellSpaceBoundary None\" id=\"L2B1\" onclick=\"(function(event){alert('L2B1'); event.stopPropagation();})(event)\"><path d=\"M 0.0 600.0 L 500.0 600.0 500.0 1400.0\" id=\"p_L2B1\" /></g><g class=\"CellSpaceBoundary None\" id=\"L2B2\" onclick=\"(function(event){alert('L2B2'); event.stopPropagation();})(event)\"><path d=\"M 500.0 1400.0 L 500.0 2200.0 0.0 2200.0\" id=\"p_L2B2\" /></g></g></g><g class=\"graph\"><g class=\"Transition None\" id=\"L2T5\" onclick=\"(function(event){alert('L2T5'); event.stopPropagation();})(event)\"><path d=\"M 250.0 1000.0 L 250.0 1400.0 250.0 1800.0\" id=\"p_L2T5\" /></g><g class=\"Transition None\" id=\"L2T2\" onclick=\"(function(event){alert('L2T2'); event.stopPropagation();})(event)\"><path d=\"M 600.0 1400.0 L 500.0 1800.0 250.0 1800.0\" id=\"p_L2T2\" /></g><g class=\"Transition None\" id=\"L2T1\" onclick=\"(function(event){alert('L2T1'); event.stopPropagation();})(event)\"><path d=\"M 600.0 1400.0 L 500.0 1000.0 250.0 1000.0\" id=\"p_L2T1\" /></g><g class=\"State Camera 1\" id=\"L2S3\" onclick=\"(function(event){alert('L2S3'); event.stopPropagation();})(event)\"><circle cx=\"250.0\" cy=\"1800.0\" /><text x=\"200.0\" y=\"1750.0\">Camera 1</text></g><g class=\"State Camera 2\" id=\"L2S2\" onclick=\"(function(event){alert('L2S2'); event.stopPropagation();})(event)\"><circle cx=\"250.0\" cy=\"1000.0\" /><text x=\"200.0\" y=\"950.0\">Camera 2</text></g><g class=\"State NO\" id=\"L2S1\" onclick=\"(function(event){alert('L2S1'); event.stopPropagation();})(event)\"><circle cx=\"600.0\" cy=\"1400.0\" /><text x=\"550.0\" y=\"1350.0\">NO</text></g></g></g></g></svg>"
      ],
      "text/plain": [
       "SpaceLayer: L2"
      ]
     },
     "execution_count": 24,
     "metadata": {},
     "output_type": "execute_result"
    }
   ],
   "source": [
    "map_[\"L2\"]"
   ]
  },
  {
   "cell_type": "code",
   "execution_count": 25,
   "metadata": {},
   "outputs": [
    {
     "data": {
      "application/vnd.jupyter.widget-view+json": {
       "model_id": "ebb19659142f4ffd90f6f684209eb2ac",
       "version_major": 2,
       "version_minor": 0
      },
      "text/plain": [
       "HBox(children=(IntProgress(value=0, max=20), HTML(value='')))"
      ]
     },
     "metadata": {},
     "output_type": "display_data"
    },
    {
     "name": "stdout",
     "output_type": "stream",
     "text": [
      "\n"
     ]
    },
    {
     "data": {
      "application/vnd.jupyter.widget-view+json": {
       "model_id": "a87a99bfd02248e4ba94fd8dbf94eef6",
       "version_major": 2,
       "version_minor": 0
      },
      "text/plain": [
       "HBox(children=(IntProgress(value=0, max=57), HTML(value='')))"
      ]
     },
     "metadata": {},
     "output_type": "display_data"
    },
    {
     "name": "stdout",
     "output_type": "stream",
     "text": [
      "\n"
     ]
    },
    {
     "data": {
      "image/svg+xml": [
       "<svg height=\"500\" viewBox=\"-70.0 -2870.0 1140.0 2940.0\" width=\"1000\" xmlns=\"http://www.w3.org/2000/svg\"><style media=\"screen\" type=\"text/css\">\n",
       "\n",
       ".State circle {\n",
       "    fill: red;\n",
       "    r: 20;\n",
       "    stroke: orange;\n",
       "    stroke-width: 10;\n",
       "}\n",
       "\n",
       ".Transition path {\n",
       "    stroke: orange;\n",
       "    stroke-width: 10;\n",
       "    fill: none;\n",
       "    display: inline\n",
       "}\n",
       "\n",
       "path\n",
       "{\n",
       "    stroke: grey;\n",
       "    stroke-width: 10;\n",
       "}\n",
       "\n",
       ".TransitionSpace {\n",
       "    fill: lightgreen;\n",
       "}\n",
       "\n",
       ".GeneralSpace {\n",
       "    fill: olive;\n",
       "}\n",
       "\n",
       ".ConnectionSpace {\n",
       "    fill: orange;\n",
       "}\n",
       "\n",
       "\n",
       ".TOPOGRAPHIC .CellSpace {\n",
       "    fill: black;\n",
       "}\n",
       "\n",
       ".CellSpace {\n",
       "    fill: BurlyWood ;\n",
       "    stroke: white;\n",
       "    stroke-width: 10;\n",
       "}\n",
       "\n",
       ".CellSpaceBoundary {\n",
       "    display: none;\n",
       "}\n",
       "\n",
       ".NavigableBoundary {\n",
       "    display: none;\n",
       "    stroke: green;\n",
       "    stroke-dasharray: 40 40;\n",
       "    stroke-width: 20;\n",
       "    fill: none;\n",
       "}\n",
       "\n",
       "\n",
       "\n",
       "</style><g transform=\"scale(1, -1)\"><g class=\"SpaceLayer TOPOGRAPHIC Navigation\" id=\"N\" onclick=\"(function(event){alert('N'); event.stopPropagation();})(event)\"><g class=\"cells\"><g class=\"ConnectionSpace None\" id=\"NC1\" onclick=\"(function(event){alert('NC1'); event.stopPropagation();})(event)\"><path d=\"M 520.0 1270.0 520.0 1130.0 L 500.0 1130.0 500.0 1270.0 520.0 1270.0 Z\" fill-rule=\"evenodd\" id=\"p_NC1\" /><g class=\"CellSpaceBoundary None\" id=\"NB1\" onclick=\"(function(event){alert('NB1'); event.stopPropagation();})(event)\"><path d=\"M 520.0 1130.0 L 500.0 1130.0\" id=\"p_NB1\" /></g><g class=\"CellSpaceBoundary None\" id=\"NB16\" onclick=\"(function(event){alert('NB16'); event.stopPropagation();})(event)\"><path d=\"M 500.0 1270.0 L 520.0 1270.0\" id=\"p_NB16\" /></g><g class=\"NavigableBoundary None\" id=\"NB15\" onclick=\"(function(event){alert('NB15'); event.stopPropagation();})(event)\"><path d=\"M 500.0 1270.001 L 500.0 1129.999\" id=\"p_NB15\" /></g><g class=\"NavigableBoundary None\" id=\"NB14\" onclick=\"(function(event){alert('NB14'); event.stopPropagation();})(event)\"><path d=\"M 520.0 1129.999 L 520.0 1270.001\" id=\"p_NB14\" /></g></g><g class=\"ConnectionSpace None\" id=\"NC2\" onclick=\"(function(event){alert('NC2'); event.stopPropagation();})(event)\"><path d=\"M 500.0 730.0 500.0 870.0 L 520.0 870.0 520.0 730.0 500.0 730.0 Z\" fill-rule=\"evenodd\" id=\"p_NC2\" /><g class=\"NavigableBoundary None\" id=\"NB18\" onclick=\"(function(event){alert('NB18'); event.stopPropagation();})(event)\"><path d=\"M 520.0 870.001 L 520.0 729.999\" id=\"p_NB18\" /></g><g class=\"CellSpaceBoundary None\" id=\"NB20\" onclick=\"(function(event){alert('NB20'); event.stopPropagation();})(event)\"><path d=\"M 500.0 870.0 L 520.0 870.0\" id=\"p_NB20\" /></g><g class=\"CellSpaceBoundary None\" id=\"NB2\" onclick=\"(function(event){alert('NB2'); event.stopPropagation();})(event)\"><path d=\"M 520.0 730.0 L 500.0 730.0\" id=\"p_NB2\" /></g><g class=\"NavigableBoundary None\" id=\"NB19\" onclick=\"(function(event){alert('NB19'); event.stopPropagation();})(event)\"><path d=\"M 500.0 870.001 L 500.0 729.999\" id=\"p_NB19\" /></g></g><g class=\"GeneralSpace None\" id=\"NC3\" onclick=\"(function(event){alert('NC3'); event.stopPropagation();})(event)\"><path d=\"M 520.0 1930.0 520.0 2070.0 L 550.0 2070.0 550.0 2150.0 970.0 2150.0 970.0 1850.0 550.0 1850.0 550.0 1930.0 520.0 1930.0 Z\" fill-rule=\"evenodd\" id=\"p_NC3\" /><g class=\"NavigableBoundary None\" id=\"NB22\" onclick=\"(function(event){alert('NB22'); event.stopPropagation();})(event)\"><path d=\"M 520.0 2070.001 L 520.0 1929.999\" id=\"p_NB22\" /></g><g class=\"CellSpaceBoundary None\" id=\"NB3\" onclick=\"(function(event){alert('NB3'); event.stopPropagation();})(event)\"><path d=\"M 520.0 2070.0 L 550.0 2070.0 550.0 2150.0 970.0 2150.0 970.0 1850.0 550.0 1850.0 550.0 1930.0 520.0 1930.0\" id=\"p_NB3\" /></g></g><g class=\"GeneralSpace None\" id=\"NC4\" onclick=\"(function(event){alert('NC4'); event.stopPropagation();})(event)\"><path d=\"M 520.0 1530.0 520.0 1670.0 L 550.0 1670.0 550.0 1750.0 970.0 1750.0 970.0 1450.0 550.0 1450.0 550.0 1530.0 520.0 1530.0 Z\" fill-rule=\"evenodd\" id=\"p_NC4\" /><g class=\"CellSpaceBoundary None\" id=\"NB4\" onclick=\"(function(event){alert('NB4'); event.stopPropagation();})(event)\"><path d=\"M 520.0 1670.0 L 550.0 1670.0 550.0 1750.0 970.0 1750.0 970.0 1450.0 550.0 1450.0 550.0 1530.0 520.0 1530.0\" id=\"p_NB4\" /></g><g class=\"NavigableBoundary None\" id=\"NB23\" onclick=\"(function(event){alert('NB23'); event.stopPropagation();})(event)\"><path d=\"M 520.0 1670.001 L 520.0 1529.999\" id=\"p_NB23\" /></g></g><g class=\"GeneralSpace None\" id=\"NC5\" onclick=\"(function(event){alert('NC5'); event.stopPropagation();})(event)\"><path d=\"M 520.0 730.0 520.0 870.0 L 550.0 870.0 550.0 950.0 970.0 950.0 970.0 650.0 550.0 650.0 550.0 730.0 520.0 730.0 Z\" fill-rule=\"evenodd\" id=\"p_NC5\" /><g class=\"NavigableBoundary None\" id=\"NB18\" onclick=\"(function(event){alert('NB18'); event.stopPropagation();})(event)\"><path d=\"M 520.0 870.001 L 520.0 729.999\" id=\"p_NB18\" /></g><g class=\"CellSpaceBoundary None\" id=\"NB5\" onclick=\"(function(event){alert('NB5'); event.stopPropagation();})(event)\"><path d=\"M 520.0 870.0 L 550.0 870.0 550.0 950.0 970.0 950.0 970.0 650.0 550.0 650.0 550.0 730.0 520.0 730.0\" id=\"p_NB5\" /></g></g><g class=\"GeneralSpace None\" id=\"NC6\" onclick=\"(function(event){alert('NC6'); event.stopPropagation();})(event)\"><path d=\"M 520.0 1130.0 520.0 1270.0 L 550.0 1270.0 550.0 1350.0 970.0 1350.0 970.0 1050.0 550.0 1050.0 550.0 1130.0 520.0 1130.0 Z\" fill-rule=\"evenodd\" id=\"p_NC6\" /><g class=\"CellSpaceBoundary None\" id=\"NB6\" onclick=\"(function(event){alert('NB6'); event.stopPropagation();})(event)\"><path d=\"M 520.0 1270.0 L 550.0 1270.0 550.0 1350.0 970.0 1350.0 970.0 1050.0 550.0 1050.0 550.0 1130.0 520.0 1130.0\" id=\"p_NB6\" /></g><g class=\"NavigableBoundary None\" id=\"NB14\" onclick=\"(function(event){alert('NB14'); event.stopPropagation();})(event)\"><path d=\"M 520.0 1129.999 L 520.0 1270.001\" id=\"p_NB14\" /></g></g><g class=\"ConnectionSpace None\" id=\"NC7\" onclick=\"(function(event){alert('NC7'); event.stopPropagation();})(event)\"><path d=\"M 520.0 1670.0 520.0 1530.0 L 500.0 1530.0 500.0 1670.0 520.0 1670.0 Z\" fill-rule=\"evenodd\" id=\"p_NC7\" /><g class=\"NavigableBoundary None\" id=\"NB23\" onclick=\"(function(event){alert('NB23'); event.stopPropagation();})(event)\"><path d=\"M 520.0 1670.001 L 520.0 1529.999\" id=\"p_NB23\" /></g><g class=\"CellSpaceBoundary None\" id=\"NB25\" onclick=\"(function(event){alert('NB25'); event.stopPropagation();})(event)\"><path d=\"M 500.0 1670.0 L 520.0 1670.0\" id=\"p_NB25\" /></g><g class=\"NavigableBoundary None\" id=\"NB24\" onclick=\"(function(event){alert('NB24'); event.stopPropagation();})(event)\"><path d=\"M 500.0 1670.001 L 500.0 1529.999\" id=\"p_NB24\" /></g><g class=\"CellSpaceBoundary None\" id=\"NB7\" onclick=\"(function(event){alert('NB7'); event.stopPropagation();})(event)\"><path d=\"M 520.0 1530.0 L 500.0 1530.0\" id=\"p_NB7\" /></g></g><g class=\"TransitionSpace None\" id=\"NC8\" onclick=\"(function(event){alert('NC8'); event.stopPropagation();})(event)\"><path d=\"M 30.0 2200.0 470.0 2200.0 L 470.0 2070.0 500.0 2070.0 500.0 1930.0 470.0 1930.0 470.0 1670.0 500.0 1670.0 500.0 1530.0 470.0 1530.0 470.0 1400.0 30.0 1400.0 30.0 2200.0 Z\" fill-rule=\"evenodd\" id=\"p_NC8\" /><g class=\"CellSpaceBoundary None\" id=\"NB30\" onclick=\"(function(event){alert('NB30'); event.stopPropagation();})(event)\"><path d=\"M 470.0 2200.0 L 470.0 2070.0 500.0 2070.0\" id=\"p_NB30\" /></g><g class=\"CellSpaceBoundary None\" id=\"NB8\" onclick=\"(function(event){alert('NB8'); event.stopPropagation();})(event)\"><path d=\"M 30.0 1400.0 L 30.0 2200.0\" id=\"p_NB8\" /></g><g class=\"NavigableBoundary None\" id=\"NB29\" onclick=\"(function(event){alert('NB29'); event.stopPropagation();})(event)\"><path d=\"M 29.999 2200.0 L 470.001 2200.0\" id=\"p_NB29\" /></g><g class=\"CellSpaceBoundary None\" id=\"NB32\" onclick=\"(function(event){alert('NB32'); event.stopPropagation();})(event)\"><path d=\"M 500.0 1930.0 L 470.0 1930.0 470.0 1670.0 500.0 1670.0\" id=\"p_NB32\" /></g><g class=\"NavigableBoundary None\" id=\"NB31\" onclick=\"(function(event){alert('NB31'); event.stopPropagation();})(event)\"><path d=\"M 500.0 2070.001 L 500.0 1929.999\" id=\"p_NB31\" /></g><g class=\"CellSpaceBoundary None\" id=\"NB26\" onclick=\"(function(event){alert('NB26'); event.stopPropagation();})(event)\"><path d=\"M 500.0 1530.0 L 470.0 1530.0 470.0 1400.0\" id=\"p_NB26\" /></g><g class=\"NavigableBoundary None\" id=\"NB24\" onclick=\"(function(event){alert('NB24'); event.stopPropagation();})(event)\"><path d=\"M 500.0 1670.001 L 500.0 1529.999\" id=\"p_NB24\" /></g><g class=\"NavigableBoundary None\" id=\"NB10\" onclick=\"(function(event){alert('NB10'); event.stopPropagation();})(event)\"><path d=\"M 30.0 1400.0 L 470.0 1400.0\" id=\"p_NB10\" /></g></g><g class=\"TransitionSpace None\" id=\"NC9\" onclick=\"(function(event){alert('NC9'); event.stopPropagation();})(event)\"><path d=\"M 470.0 1400.0 470.0 1270.0 L 500.0 1270.0 500.0 1130.0 470.0 1130.0 470.0 870.0 500.0 870.0 500.0 730.0 470.0 730.0 470.0 600.0 30.0 600.0 30.0 1400.0 470.0 1400.0 Z\" fill-rule=\"evenodd\" id=\"p_NC9\" /><g class=\"CellSpaceBoundary None\" id=\"NB17\" onclick=\"(function(event){alert('NB17'); event.stopPropagation();})(event)\"><path d=\"M 470.0 1400.0 L 470.0 1270.0 500.0 1270.0\" id=\"p_NB17\" /></g><g class=\"NavigableBoundary None\" id=\"NB27\" onclick=\"(function(event){alert('NB27'); event.stopPropagation();})(event)\"><path d=\"M 470.001 600.0 L 29.999 600.0\" id=\"p_NB27\" /></g><g class=\"NavigableBoundary None\" id=\"NB19\" onclick=\"(function(event){alert('NB19'); event.stopPropagation();})(event)\"><path d=\"M 500.0 870.001 L 500.0 729.999\" id=\"p_NB19\" /></g><g class=\"CellSpaceBoundary None\" id=\"NB9\" onclick=\"(function(event){alert('NB9'); event.stopPropagation();})(event)\"><path d=\"M 30.0 600.0 L 30.0 1400.0\" id=\"p_NB9\" /></g><g class=\"CellSpaceBoundary None\" id=\"NB28\" onclick=\"(function(event){alert('NB28'); event.stopPropagation();})(event)\"><path d=\"M 500.0 730.0 L 470.0 730.0 470.0 600.0\" id=\"p_NB28\" /></g><g class=\"CellSpaceBoundary None\" id=\"NB21\" onclick=\"(function(event){alert('NB21'); event.stopPropagation();})(event)\"><path d=\"M 500.0 1130.0 L 470.0 1130.0 470.0 870.0 500.0 870.0\" id=\"p_NB21\" /></g><g class=\"NavigableBoundary None\" id=\"NB15\" onclick=\"(function(event){alert('NB15'); event.stopPropagation();})(event)\"><path d=\"M 500.0 1270.001 L 500.0 1129.999\" id=\"p_NB15\" /></g><g class=\"NavigableBoundary None\" id=\"NB10\" onclick=\"(function(event){alert('NB10'); event.stopPropagation();})(event)\"><path d=\"M 30.0 1400.0 L 470.0 1400.0\" id=\"p_NB10\" /></g></g><g class=\"GeneralSpace None\" id=\"NC10\" onclick=\"(function(event){alert('NC10'); event.stopPropagation();})(event)\"><path d=\"M 30.0 600.0 470.0 600.0 L 470.0 570.0 970.0 570.0 970.0 30.0 30.0 30.0 30.0 600.0 Z\" fill-rule=\"evenodd\" id=\"p_NC10\" /><g class=\"NavigableBoundary None\" id=\"NB27\" onclick=\"(function(event){alert('NB27'); event.stopPropagation();})(event)\"><path d=\"M 470.001 600.0 L 29.999 600.0\" id=\"p_NB27\" /></g><g class=\"CellSpaceBoundary None\" id=\"NB11\" onclick=\"(function(event){alert('NB11'); event.stopPropagation();})(event)\"><path d=\"M 470.0 600.0 L 470.0 570.0 970.0 570.0 970.0 30.0 30.0 30.0 30.0 600.0\" id=\"p_NB11\" /></g></g><g class=\"GeneralSpace None\" id=\"NC11\" onclick=\"(function(event){alert('NC11'); event.stopPropagation();})(event)\"><path d=\"M 470.0 2200.0 30.0 2200.0 L 30.0 2770.0 970.0 2770.0 970.0 2230.0 470.0 2230.0 470.0 2200.0 Z\" fill-rule=\"evenodd\" id=\"p_NC11\" /><g class=\"NavigableBoundary None\" id=\"NB29\" onclick=\"(function(event){alert('NB29'); event.stopPropagation();})(event)\"><path d=\"M 29.999 2200.0 L 470.001 2200.0\" id=\"p_NB29\" /></g><g class=\"CellSpaceBoundary None\" id=\"NB12\" onclick=\"(function(event){alert('NB12'); event.stopPropagation();})(event)\"><path d=\"M 30.0 2200.0 L 30.0 2770.0 970.0 2770.0 970.0 2230.0 470.0 2230.0 470.0 2200.0\" id=\"p_NB12\" /></g></g><g class=\"ConnectionSpace None\" id=\"NC12\" onclick=\"(function(event){alert('NC12'); event.stopPropagation();})(event)\"><path d=\"M 520.0 2070.0 520.0 1930.0 L 500.0 1930.0 500.0 2070.0 520.0 2070.0 Z\" fill-rule=\"evenodd\" id=\"p_NC12\" /><g class=\"CellSpaceBoundary None\" id=\"NB13\" onclick=\"(function(event){alert('NB13'); event.stopPropagation();})(event)\"><path d=\"M 520.0 1930.0 L 500.0 1930.0\" id=\"p_NB13\" /></g><g class=\"NavigableBoundary None\" id=\"NB22\" onclick=\"(function(event){alert('NB22'); event.stopPropagation();})(event)\"><path d=\"M 520.0 2070.001 L 520.0 1929.999\" id=\"p_NB22\" /></g><g class=\"NavigableBoundary None\" id=\"NB31\" onclick=\"(function(event){alert('NB31'); event.stopPropagation();})(event)\"><path d=\"M 500.0 2070.001 L 500.0 1929.999\" id=\"p_NB31\" /></g><g class=\"CellSpaceBoundary None\" id=\"NB33\" onclick=\"(function(event){alert('NB33'); event.stopPropagation();})(event)\"><path d=\"M 500.0 2070.0 L 520.0 2070.0\" id=\"p_NB33\" /></g></g></g><g class=\"graph\"><g class=\"Transition None\" id=\"NT14\" onclick=\"(function(event){alert('NT14'); event.stopPropagation();})(event)\"><path d=\"M 510.0 1200.0 L 520.0 1200.0 752.741935483871 1200.0\" id=\"p_NT14\" /></g><g class=\"Transition None\" id=\"NT15\" onclick=\"(function(event){alert('NT15'); event.stopPropagation();})(event)\"><path d=\"M 510.0 1200.0 L 499.99999999999994 1200.0 255.4772475027747 1000.0\" id=\"p_NT15\" /></g><g class=\"Transition None\" id=\"NT18\" onclick=\"(function(event){alert('NT18'); event.stopPropagation();})(event)\"><path d=\"M 510.0 800.0 L 520.0 800.0 752.741935483871 800.0\" id=\"p_NT18\" /></g><g class=\"Transition None\" id=\"NT19\" onclick=\"(function(event){alert('NT19'); event.stopPropagation();})(event)\"><path d=\"M 510.0 800.0 L 499.99999999999994 800.0 255.4772475027747 1000.0\" id=\"p_NT19\" /></g><g class=\"Transition None\" id=\"NT22\" onclick=\"(function(event){alert('NT22'); event.stopPropagation();})(event)\"><path d=\"M 752.741935483871 2000.0 L 520.0 2000.0 510.0 2000.0\" id=\"p_NT22\" /></g><g class=\"Transition None\" id=\"NT23\" onclick=\"(function(event){alert('NT23'); event.stopPropagation();})(event)\"><path d=\"M 752.741935483871 1600.0 L 520.0 1600.0 510.0 1600.0\" id=\"p_NT23\" /></g><g class=\"Transition None\" id=\"NT24\" onclick=\"(function(event){alert('NT24'); event.stopPropagation();})(event)\"><path d=\"M 510.0 1600.0 L 499.99999999999994 1600.0 255.4772475027747 1800.0\" id=\"p_NT24\" /></g><g class=\"Transition None\" id=\"NT10\" onclick=\"(function(event){alert('NT10'); event.stopPropagation();})(event)\"><path d=\"M 255.4772475027747 1800.0 L 250.0 1400.0 255.4772475027747 1000.0\" id=\"p_NT10\" /></g><g class=\"Transition None\" id=\"NT29\" onclick=\"(function(event){alert('NT29'); event.stopPropagation();})(event)\"><path d=\"M 255.4772475027747 1800.0 L 250.0 2200.0 493.66359447004606 2492.7764976958524\" id=\"p_NT29\" /></g><g class=\"Transition None\" id=\"NT31\" onclick=\"(function(event){alert('NT31'); event.stopPropagation();})(event)\"><path d=\"M 255.4772475027747 1800.0 L 500.0 2000.0 510.0 2000.0\" id=\"p_NT31\" /></g><g class=\"Transition None\" id=\"NT27\" onclick=\"(function(event){alert('NT27'); event.stopPropagation();})(event)\"><path d=\"M 255.4772475027747 1000.0 L 250.0 600.0 493.66359447004606 307.2235023041475\" id=\"p_NT27\" /></g><g class=\"State None\" id=\"NS1\" onclick=\"(function(event){alert('NS1'); event.stopPropagation();})(event)\"><circle cx=\"510.0\" cy=\"1200.0\" /></g><g class=\"State None\" id=\"NS2\" onclick=\"(function(event){alert('NS2'); event.stopPropagation();})(event)\"><circle cx=\"510.0\" cy=\"800.0\" /></g><g class=\"State None\" id=\"NS3\" onclick=\"(function(event){alert('NS3'); event.stopPropagation();})(event)\"><circle cx=\"752.741935483871\" cy=\"2000.0\" /></g><g class=\"State None\" id=\"NS4\" onclick=\"(function(event){alert('NS4'); event.stopPropagation();})(event)\"><circle cx=\"752.741935483871\" cy=\"1600.0\" /></g><g class=\"State None\" id=\"NS5\" onclick=\"(function(event){alert('NS5'); event.stopPropagation();})(event)\"><circle cx=\"752.741935483871\" cy=\"800.0\" /></g><g class=\"State None\" id=\"NS6\" onclick=\"(function(event){alert('NS6'); event.stopPropagation();})(event)\"><circle cx=\"752.741935483871\" cy=\"1200.0\" /></g><g class=\"State None\" id=\"NS7\" onclick=\"(function(event){alert('NS7'); event.stopPropagation();})(event)\"><circle cx=\"510.0\" cy=\"1600.0\" /></g><g class=\"State None\" id=\"NS8\" onclick=\"(function(event){alert('NS8'); event.stopPropagation();})(event)\"><circle cx=\"255.4772475027747\" cy=\"1800.0\" /></g><g class=\"State None\" id=\"NS9\" onclick=\"(function(event){alert('NS9'); event.stopPropagation();})(event)\"><circle cx=\"255.4772475027747\" cy=\"1000.0\" /></g><g class=\"State None\" id=\"NS10\" onclick=\"(function(event){alert('NS10'); event.stopPropagation();})(event)\"><circle cx=\"493.66359447004606\" cy=\"307.2235023041475\" /></g><g class=\"State None\" id=\"NS11\" onclick=\"(function(event){alert('NS11'); event.stopPropagation();})(event)\"><circle cx=\"493.66359447004606\" cy=\"2492.7764976958524\" /></g><g class=\"State None\" id=\"NS12\" onclick=\"(function(event){alert('NS12'); event.stopPropagation();})(event)\"><circle cx=\"510.0\" cy=\"2000.0\" /></g></g></g></g></svg>"
      ],
      "text/plain": [
       "SpaceLayer: N - Layer obtained from SpaceLayer: L0 adding a clearance of 30 cm"
      ]
     },
     "execution_count": 25,
     "metadata": {},
     "output_type": "execute_result"
    }
   ],
   "source": [
    "from_layer(map_['L0'], uid='N', clearance=30, intersect=[map_[\"L2\"]], convex=False)"
   ]
  },
  {
   "cell_type": "markdown",
   "metadata": {},
   "source": [
    "and such that all cells are (quasi) convex "
   ]
  },
  {
   "cell_type": "code",
   "execution_count": 26,
   "metadata": {},
   "outputs": [
    {
     "data": {
      "application/vnd.jupyter.widget-view+json": {
       "model_id": "49a89fcae5734544a6348f96f82e73b3",
       "version_major": 2,
       "version_minor": 0
      },
      "text/plain": [
       "HBox(children=(IntProgress(value=0, max=20), HTML(value='')))"
      ]
     },
     "metadata": {},
     "output_type": "display_data"
    },
    {
     "name": "stdout",
     "output_type": "stream",
     "text": [
      "\n"
     ]
    },
    {
     "data": {
      "application/vnd.jupyter.widget-view+json": {
       "model_id": "31433b4cb30e4bc39f2fdc5203211ac0",
       "version_major": 2,
       "version_minor": 0
      },
      "text/plain": [
       "HBox(children=(IntProgress(value=0, max=57), HTML(value='')))"
      ]
     },
     "metadata": {},
     "output_type": "display_data"
    },
    {
     "name": "stdout",
     "output_type": "stream",
     "text": [
      "\n"
     ]
    },
    {
     "data": {
      "image/svg+xml": [
       "<svg height=\"500\" viewBox=\"-70.0 -2870.0 1140.0 2940.0\" width=\"1000\" xmlns=\"http://www.w3.org/2000/svg\"><style media=\"screen\" type=\"text/css\">\n",
       "\n",
       ".State circle {\n",
       "    fill: red;\n",
       "    r: 20;\n",
       "    stroke: orange;\n",
       "    stroke-width: 10;\n",
       "}\n",
       "\n",
       ".Transition path {\n",
       "    stroke: orange;\n",
       "    stroke-width: 10;\n",
       "    fill: none;\n",
       "    display: inline\n",
       "}\n",
       "\n",
       "path\n",
       "{\n",
       "    stroke: grey;\n",
       "    stroke-width: 10;\n",
       "}\n",
       "\n",
       ".TransitionSpace {\n",
       "    fill: lightgreen;\n",
       "}\n",
       "\n",
       ".GeneralSpace {\n",
       "    fill: olive;\n",
       "}\n",
       "\n",
       ".ConnectionSpace {\n",
       "    fill: orange;\n",
       "}\n",
       "\n",
       "\n",
       ".TOPOGRAPHIC .CellSpace {\n",
       "    fill: black;\n",
       "}\n",
       "\n",
       ".CellSpace {\n",
       "    fill: BurlyWood ;\n",
       "    stroke: white;\n",
       "    stroke-width: 10;\n",
       "}\n",
       "\n",
       ".CellSpaceBoundary {\n",
       "    display: none;\n",
       "}\n",
       "\n",
       ".NavigableBoundary {\n",
       "    display: none;\n",
       "    stroke: green;\n",
       "    stroke-dasharray: 40 40;\n",
       "    stroke-width: 20;\n",
       "    fill: none;\n",
       "}\n",
       "\n",
       "\n",
       "\n",
       "</style><g transform=\"scale(1, -1)\"><g class=\"SpaceLayer TOPOGRAPHIC Navigation\" id=\"N\" onclick=\"(function(event){alert('N'); event.stopPropagation();})(event)\"><g class=\"cells\"><g class=\"ConnectionSpace None\" id=\"NC1\" onclick=\"(function(event){alert('NC1'); event.stopPropagation();})(event)\"><path d=\"M 520.0 1270.0 500.0 1270.0 L 500.0 1130.0 520.0 1130.0 520.0 1270.0 Z\" fill-rule=\"evenodd\" id=\"p_NC1\" /><g class=\"CellSpaceBoundary None\" id=\"NB1\" onclick=\"(function(event){alert('NB1'); event.stopPropagation();})(event)\"><path d=\"M 500.0 1130.0 L 520.0 1130.0\" id=\"p_NB1\" /></g><g class=\"NavigableBoundary None\" id=\"NB40\" onclick=\"(function(event){alert('NB40'); event.stopPropagation();})(event)\"><path d=\"M 500.0 1270.001 L 500.0 1129.999\" id=\"p_NB40\" /></g><g class=\"NavigableBoundary None\" id=\"NB38\" onclick=\"(function(event){alert('NB38'); event.stopPropagation();})(event)\"><path d=\"M 520.0 1129.999 L 520.0 1270.001\" id=\"p_NB38\" /></g><g class=\"CellSpaceBoundary None\" id=\"NB41\" onclick=\"(function(event){alert('NB41'); event.stopPropagation();})(event)\"><path d=\"M 520.0 1270.0 L 500.0 1270.0\" id=\"p_NB41\" /></g></g><g class=\"ConnectionSpace None\" id=\"NC2\" onclick=\"(function(event){alert('NC2'); event.stopPropagation();})(event)\"><path d=\"M 500.0 730.0 520.0 730.0 L 520.0 870.0 500.0 870.0 500.0 730.0 Z\" fill-rule=\"evenodd\" id=\"p_NC2\" /><g class=\"NavigableBoundary None\" id=\"NB43\" onclick=\"(function(event){alert('NB43'); event.stopPropagation();})(event)\"><path d=\"M 520.0 870.001 L 520.0 729.999\" id=\"p_NB43\" /></g><g class=\"NavigableBoundary None\" id=\"NB45\" onclick=\"(function(event){alert('NB45'); event.stopPropagation();})(event)\"><path d=\"M 500.0 870.001 L 500.0 729.999\" id=\"p_NB45\" /></g><g class=\"CellSpaceBoundary None\" id=\"NB2\" onclick=\"(function(event){alert('NB2'); event.stopPropagation();})(event)\"><path d=\"M 500.0 730.0 L 520.0 730.0\" id=\"p_NB2\" /></g><g class=\"CellSpaceBoundary None\" id=\"NB46\" onclick=\"(function(event){alert('NB46'); event.stopPropagation();})(event)\"><path d=\"M 520.0 870.0 L 500.0 870.0\" id=\"p_NB46\" /></g></g><g class=\"GeneralSpace None\" id=\"NC3\" onclick=\"(function(event){alert('NC3'); event.stopPropagation();})(event)\"><path d=\"M 550.0 1930.0 550.0 2070.0 L 520.0 2070.0 520.0 1930.0 550.0 1930.0 Z\" fill-rule=\"evenodd\" id=\"p_NC3\" /><g class=\"CellSpaceBoundary None\" id=\"NB49\" onclick=\"(function(event){alert('NB49'); event.stopPropagation();})(event)\"><path d=\"M 550.0 2070.0 L 520.0 2070.0\" id=\"p_NB49\" /></g><g class=\"NavigableBoundary None\" id=\"NB5\" onclick=\"(function(event){alert('NB5'); event.stopPropagation();})(event)\"><path d=\"M 550.0 2070.0 L 550.0 1930.0\" id=\"p_NB5\" /></g><g class=\"NavigableBoundary None\" id=\"NB48\" onclick=\"(function(event){alert('NB48'); event.stopPropagation();})(event)\"><path d=\"M 520.0 2070.001 L 520.0 1929.999\" id=\"p_NB48\" /></g><g class=\"CellSpaceBoundary None\" id=\"NB3\" onclick=\"(function(event){alert('NB3'); event.stopPropagation();})(event)\"><path d=\"M 520.0 1930.0 L 550.0 1930.0\" id=\"p_NB3\" /></g></g><g class=\"GeneralSpace None\" id=\"NC4\" onclick=\"(function(event){alert('NC4'); event.stopPropagation();})(event)\"><path d=\"M 550.0 2070.0 550.0 1930.0 L 550.0 1850.0 970.0 1850.0 970.0 2150.0 550.0 2150.0 550.0 2070.0 Z\" fill-rule=\"evenodd\" id=\"p_NC4\" /><g class=\"CellSpaceBoundary None\" id=\"NB4\" onclick=\"(function(event){alert('NB4'); event.stopPropagation();})(event)\"><path d=\"M 550.0 1930.0 L 550.0 1850.0 970.0 1850.0 970.0 2150.0 550.0 2150.0 550.0 2070.0\" id=\"p_NB4\" /></g><g class=\"NavigableBoundary None\" id=\"NB5\" onclick=\"(function(event){alert('NB5'); event.stopPropagation();})(event)\"><path d=\"M 550.0 2070.0 L 550.0 1930.0\" id=\"p_NB5\" /></g></g><g class=\"GeneralSpace None\" id=\"NC5\" onclick=\"(function(event){alert('NC5'); event.stopPropagation();})(event)\"><path d=\"M 550.0 1530.0 550.0 1670.0 L 520.0 1670.0 520.0 1530.0 550.0 1530.0 Z\" fill-rule=\"evenodd\" id=\"p_NC5\" /><g class=\"CellSpaceBoundary None\" id=\"NB6\" onclick=\"(function(event){alert('NB6'); event.stopPropagation();})(event)\"><path d=\"M 520.0 1530.0 L 550.0 1530.0\" id=\"p_NB6\" /></g><g class=\"NavigableBoundary None\" id=\"NB8\" onclick=\"(function(event){alert('NB8'); event.stopPropagation();})(event)\"><path d=\"M 550.0 1670.0 L 550.0 1530.0\" id=\"p_NB8\" /></g><g class=\"CellSpaceBoundary None\" id=\"NB51\" onclick=\"(function(event){alert('NB51'); event.stopPropagation();})(event)\"><path d=\"M 550.0 1670.0 L 520.0 1670.0\" id=\"p_NB51\" /></g><g class=\"NavigableBoundary None\" id=\"NB50\" onclick=\"(function(event){alert('NB50'); event.stopPropagation();})(event)\"><path d=\"M 520.0 1670.001 L 520.0 1529.999\" id=\"p_NB50\" /></g></g><g class=\"GeneralSpace None\" id=\"NC6\" onclick=\"(function(event){alert('NC6'); event.stopPropagation();})(event)\"><path d=\"M 550.0 1670.0 550.0 1530.0 L 550.0 1450.0 970.0 1450.0 970.0 1750.0 550.0 1750.0 550.0 1670.0 Z\" fill-rule=\"evenodd\" id=\"p_NC6\" /><g class=\"NavigableBoundary None\" id=\"NB8\" onclick=\"(function(event){alert('NB8'); event.stopPropagation();})(event)\"><path d=\"M 550.0 1670.0 L 550.0 1530.0\" id=\"p_NB8\" /></g><g class=\"CellSpaceBoundary None\" id=\"NB7\" onclick=\"(function(event){alert('NB7'); event.stopPropagation();})(event)\"><path d=\"M 550.0 1530.0 L 550.0 1450.0 970.0 1450.0 970.0 1750.0 550.0 1750.0 550.0 1670.0\" id=\"p_NB7\" /></g></g><g class=\"GeneralSpace None\" id=\"NC7\" onclick=\"(function(event){alert('NC7'); event.stopPropagation();})(event)\"><path d=\"M 550.0 730.0 550.0 870.0 L 520.0 870.0 520.0 730.0 550.0 730.0 Z\" fill-rule=\"evenodd\" id=\"p_NC7\" /><g class=\"NavigableBoundary None\" id=\"NB43\" onclick=\"(function(event){alert('NB43'); event.stopPropagation();})(event)\"><path d=\"M 520.0 870.001 L 520.0 729.999\" id=\"p_NB43\" /></g><g class=\"CellSpaceBoundary None\" id=\"NB44\" onclick=\"(function(event){alert('NB44'); event.stopPropagation();})(event)\"><path d=\"M 550.0 870.0 L 520.0 870.0\" id=\"p_NB44\" /></g><g class=\"NavigableBoundary None\" id=\"NB11\" onclick=\"(function(event){alert('NB11'); event.stopPropagation();})(event)\"><path d=\"M 550.0 870.0 L 550.0 730.0\" id=\"p_NB11\" /></g><g class=\"CellSpaceBoundary None\" id=\"NB9\" onclick=\"(function(event){alert('NB9'); event.stopPropagation();})(event)\"><path d=\"M 520.0 730.0 L 550.0 730.0\" id=\"p_NB9\" /></g></g><g class=\"GeneralSpace None\" id=\"NC8\" onclick=\"(function(event){alert('NC8'); event.stopPropagation();})(event)\"><path d=\"M 550.0 870.0 550.0 730.0 L 550.0 650.0 970.0 650.0 970.0 950.0 550.0 950.0 550.0 870.0 Z\" fill-rule=\"evenodd\" id=\"p_NC8\" /><g class=\"CellSpaceBoundary None\" id=\"NB10\" onclick=\"(function(event){alert('NB10'); event.stopPropagation();})(event)\"><path d=\"M 550.0 730.0 L 550.0 650.0 970.0 650.0 970.0 950.0 550.0 950.0 550.0 870.0\" id=\"p_NB10\" /></g><g class=\"NavigableBoundary None\" id=\"NB11\" onclick=\"(function(event){alert('NB11'); event.stopPropagation();})(event)\"><path d=\"M 550.0 870.0 L 550.0 730.0\" id=\"p_NB11\" /></g></g><g class=\"GeneralSpace None\" id=\"NC9\" onclick=\"(function(event){alert('NC9'); event.stopPropagation();})(event)\"><path d=\"M 550.0 1130.0 550.0 1270.0 L 520.0 1270.0 520.0 1130.0 550.0 1130.0 Z\" fill-rule=\"evenodd\" id=\"p_NC9\" /><g class=\"CellSpaceBoundary None\" id=\"NB39\" onclick=\"(function(event){alert('NB39'); event.stopPropagation();})(event)\"><path d=\"M 550.0 1270.0 L 520.0 1270.0\" id=\"p_NB39\" /></g><g class=\"NavigableBoundary None\" id=\"NB38\" onclick=\"(function(event){alert('NB38'); event.stopPropagation();})(event)\"><path d=\"M 520.0 1129.999 L 520.0 1270.001\" id=\"p_NB38\" /></g><g class=\"NavigableBoundary None\" id=\"NB14\" onclick=\"(function(event){alert('NB14'); event.stopPropagation();})(event)\"><path d=\"M 550.0 1270.0 L 550.0 1130.0\" id=\"p_NB14\" /></g><g class=\"CellSpaceBoundary None\" id=\"NB12\" onclick=\"(function(event){alert('NB12'); event.stopPropagation();})(event)\"><path d=\"M 520.0 1130.0 L 550.0 1130.0\" id=\"p_NB12\" /></g></g><g class=\"GeneralSpace None\" id=\"NC10\" onclick=\"(function(event){alert('NC10'); event.stopPropagation();})(event)\"><path d=\"M 550.0 1270.0 550.0 1130.0 L 550.0 1050.0 970.0 1050.0 970.0 1350.0 550.0 1350.0 550.0 1270.0 Z\" fill-rule=\"evenodd\" id=\"p_NC10\" /><g class=\"CellSpaceBoundary None\" id=\"NB13\" onclick=\"(function(event){alert('NB13'); event.stopPropagation();})(event)\"><path d=\"M 550.0 1130.0 L 550.0 1050.0 970.0 1050.0 970.0 1350.0 550.0 1350.0 550.0 1270.0\" id=\"p_NB13\" /></g><g class=\"NavigableBoundary None\" id=\"NB14\" onclick=\"(function(event){alert('NB14'); event.stopPropagation();})(event)\"><path d=\"M 550.0 1270.0 L 550.0 1130.0\" id=\"p_NB14\" /></g></g><g class=\"ConnectionSpace None\" id=\"NC11\" onclick=\"(function(event){alert('NC11'); event.stopPropagation();})(event)\"><path d=\"M 520.0 1670.0 500.0 1670.0 L 500.0 1530.0 520.0 1530.0 520.0 1670.0 Z\" fill-rule=\"evenodd\" id=\"p_NC11\" /><g class=\"CellSpaceBoundary None\" id=\"NB15\" onclick=\"(function(event){alert('NB15'); event.stopPropagation();})(event)\"><path d=\"M 500.0 1530.0 L 520.0 1530.0\" id=\"p_NB15\" /></g><g class=\"NavigableBoundary None\" id=\"NB52\" onclick=\"(function(event){alert('NB52'); event.stopPropagation();})(event)\"><path d=\"M 500.0 1670.001 L 500.0 1529.999\" id=\"p_NB52\" /></g><g class=\"CellSpaceBoundary None\" id=\"NB53\" onclick=\"(function(event){alert('NB53'); event.stopPropagation();})(event)\"><path d=\"M 520.0 1670.0 L 500.0 1670.0\" id=\"p_NB53\" /></g><g class=\"NavigableBoundary None\" id=\"NB50\" onclick=\"(function(event){alert('NB50'); event.stopPropagation();})(event)\"><path d=\"M 520.0 1670.001 L 520.0 1529.999\" id=\"p_NB50\" /></g></g><g class=\"TransitionSpace None\" id=\"NC12\" onclick=\"(function(event){alert('NC12'); event.stopPropagation();})(event)\"><path d=\"M 470.0 1930.0 470.0 2070.0 L 470.0 2200.0 30.0 2200.0 30.0 1400.0 470.0 1400.0 470.0 1530.0 470.0 1670.0 470.0 1930.0 Z\" fill-rule=\"evenodd\" id=\"p_NC12\" /><g class=\"CellSpaceBoundary None\" id=\"NB16\" onclick=\"(function(event){alert('NB16'); event.stopPropagation();})(event)\"><path d=\"M 30.0 2200.0 L 30.0 1400.0\" id=\"p_NB16\" /></g><g class=\"NavigableBoundary None\" id=\"NB23\" onclick=\"(function(event){alert('NB23'); event.stopPropagation();})(event)\"><path d=\"M 470.0 1670.0 L 470.0 1530.0\" id=\"p_NB23\" /></g><g class=\"NavigableBoundary None\" id=\"NB22\" onclick=\"(function(event){alert('NB22'); event.stopPropagation();})(event)\"><path d=\"M 470.0 2070.0 L 470.0 1930.0\" id=\"p_NB22\" /></g><g class=\"CellSpaceBoundary None\" id=\"NB26\" onclick=\"(function(event){alert('NB26'); event.stopPropagation();})(event)\"><path d=\"M 470.0 1400.0 L 470.0 1530.0\" id=\"p_NB26\" /></g><g class=\"NavigableBoundary None\" id=\"NB25\" onclick=\"(function(event){alert('NB25'); event.stopPropagation();})(event)\"><path d=\"M 470.0 1400.0 L 30.0 1400.0\" id=\"p_NB25\" /></g><g class=\"CellSpaceBoundary None\" id=\"NB24\" onclick=\"(function(event){alert('NB24'); event.stopPropagation();})(event)\"><path d=\"M 470.0 1670.0 L 470.0 1930.0\" id=\"p_NB24\" /></g><g class=\"NavigableBoundary None\" id=\"NB58\" onclick=\"(function(event){alert('NB58'); event.stopPropagation();})(event)\"><path d=\"M 29.999 2200.0 L 470.001 2200.0\" id=\"p_NB58\" /></g><g class=\"CellSpaceBoundary None\" id=\"NB59\" onclick=\"(function(event){alert('NB59'); event.stopPropagation();})(event)\"><path d=\"M 470.0 2070.0 L 470.0 2200.0\" id=\"p_NB59\" /></g></g><g class=\"TransitionSpace None\" id=\"NC13\" onclick=\"(function(event){alert('NC13'); event.stopPropagation();})(event)\"><path d=\"M 470.0 2070.0 470.0 1930.0 L 500.0 1930.0 500.0 2070.0 470.0 2070.0 Z\" fill-rule=\"evenodd\" id=\"p_NC13\" /><g class=\"NavigableBoundary None\" id=\"NB22\" onclick=\"(function(event){alert('NB22'); event.stopPropagation();})(event)\"><path d=\"M 470.0 2070.0 L 470.0 1930.0\" id=\"p_NB22\" /></g><g class=\"CellSpaceBoundary None\" id=\"NB17\" onclick=\"(function(event){alert('NB17'); event.stopPropagation();})(event)\"><path d=\"M 470.0 1930.0 L 500.0 1930.0\" id=\"p_NB17\" /></g><g class=\"NavigableBoundary None\" id=\"NB61\" onclick=\"(function(event){alert('NB61'); event.stopPropagation();})(event)\"><path d=\"M 500.0 2070.001 L 500.0 1929.999\" id=\"p_NB61\" /></g><g class=\"CellSpaceBoundary None\" id=\"NB62\" onclick=\"(function(event){alert('NB62'); event.stopPropagation();})(event)\"><path d=\"M 500.0 2070.0 L 470.0 2070.0\" id=\"p_NB62\" /></g></g><g class=\"TransitionSpace None\" id=\"NC14\" onclick=\"(function(event){alert('NC14'); event.stopPropagation();})(event)\"><path d=\"M 470.0 1670.0 470.0 1530.0 L 500.0 1530.0 500.0 1670.0 470.0 1670.0 Z\" fill-rule=\"evenodd\" id=\"p_NC14\" /><g class=\"CellSpaceBoundary None\" id=\"NB54\" onclick=\"(function(event){alert('NB54'); event.stopPropagation();})(event)\"><path d=\"M 500.0 1670.0 L 470.0 1670.0\" id=\"p_NB54\" /></g><g class=\"NavigableBoundary None\" id=\"NB23\" onclick=\"(function(event){alert('NB23'); event.stopPropagation();})(event)\"><path d=\"M 470.0 1670.0 L 470.0 1530.0\" id=\"p_NB23\" /></g><g class=\"CellSpaceBoundary None\" id=\"NB18\" onclick=\"(function(event){alert('NB18'); event.stopPropagation();})(event)\"><path d=\"M 470.0 1530.0 L 500.0 1530.0\" id=\"p_NB18\" /></g><g class=\"NavigableBoundary None\" id=\"NB52\" onclick=\"(function(event){alert('NB52'); event.stopPropagation();})(event)\"><path d=\"M 500.0 1670.001 L 500.0 1529.999\" id=\"p_NB52\" /></g></g><g class=\"TransitionSpace None\" id=\"NC15\" onclick=\"(function(event){alert('NC15'); event.stopPropagation();})(event)\"><path d=\"M 470.0 1130.0 470.0 1270.0 L 470.0 1400.0 30.0 1400.0 30.0 600.0 470.0 600.0 470.0 730.0 470.0 870.0 470.0 1130.0 Z\" fill-rule=\"evenodd\" id=\"p_NC15\" /><g class=\"CellSpaceBoundary None\" id=\"NB30\" onclick=\"(function(event){alert('NB30'); event.stopPropagation();})(event)\"><path d=\"M 470.0 870.0 L 470.0 1130.0\" id=\"p_NB30\" /></g><g class=\"NavigableBoundary None\" id=\"NB29\" onclick=\"(function(event){alert('NB29'); event.stopPropagation();})(event)\"><path d=\"M 470.0 870.0 L 470.0 730.0\" id=\"p_NB29\" /></g><g class=\"NavigableBoundary None\" id=\"NB27\" onclick=\"(function(event){alert('NB27'); event.stopPropagation();})(event)\"><path d=\"M 470.0 1270.0 L 470.0 1130.0\" id=\"p_NB27\" /></g><g class=\"CellSpaceBoundary None\" id=\"NB56\" onclick=\"(function(event){alert('NB56'); event.stopPropagation();})(event)\"><path d=\"M 470.0 600.0 L 470.0 730.0\" id=\"p_NB56\" /></g><g class=\"CellSpaceBoundary None\" id=\"NB19\" onclick=\"(function(event){alert('NB19'); event.stopPropagation();})(event)\"><path d=\"M 30.0 1400.0 L 30.0 600.0\" id=\"p_NB19\" /></g><g class=\"CellSpaceBoundary None\" id=\"NB28\" onclick=\"(function(event){alert('NB28'); event.stopPropagation();})(event)\"><path d=\"M 470.0 1270.0 L 470.0 1400.0\" id=\"p_NB28\" /></g><g class=\"NavigableBoundary None\" id=\"NB25\" onclick=\"(function(event){alert('NB25'); event.stopPropagation();})(event)\"><path d=\"M 470.0 1400.0 L 30.0 1400.0\" id=\"p_NB25\" /></g><g class=\"NavigableBoundary None\" id=\"NB55\" onclick=\"(function(event){alert('NB55'); event.stopPropagation();})(event)\"><path d=\"M 470.001 600.0 L 29.999 600.0\" id=\"p_NB55\" /></g></g><g class=\"TransitionSpace None\" id=\"NC16\" onclick=\"(function(event){alert('NC16'); event.stopPropagation();})(event)\"><path d=\"M 470.0 1270.0 470.0 1130.0 L 500.0 1130.0 500.0 1270.0 470.0 1270.0 Z\" fill-rule=\"evenodd\" id=\"p_NC16\" /><g class=\"CellSpaceBoundary None\" id=\"NB42\" onclick=\"(function(event){alert('NB42'); event.stopPropagation();})(event)\"><path d=\"M 500.0 1270.0 L 470.0 1270.0\" id=\"p_NB42\" /></g><g class=\"NavigableBoundary None\" id=\"NB40\" onclick=\"(function(event){alert('NB40'); event.stopPropagation();})(event)\"><path d=\"M 500.0 1270.001 L 500.0 1129.999\" id=\"p_NB40\" /></g><g class=\"CellSpaceBoundary None\" id=\"NB20\" onclick=\"(function(event){alert('NB20'); event.stopPropagation();})(event)\"><path d=\"M 470.0 1130.0 L 500.0 1130.0\" id=\"p_NB20\" /></g><g class=\"NavigableBoundary None\" id=\"NB27\" onclick=\"(function(event){alert('NB27'); event.stopPropagation();})(event)\"><path d=\"M 470.0 1270.0 L 470.0 1130.0\" id=\"p_NB27\" /></g></g><g class=\"TransitionSpace None\" id=\"NC17\" onclick=\"(function(event){alert('NC17'); event.stopPropagation();})(event)\"><path d=\"M 470.0 870.0 470.0 730.0 L 500.0 730.0 500.0 870.0 470.0 870.0 Z\" fill-rule=\"evenodd\" id=\"p_NC17\" /><g class=\"NavigableBoundary None\" id=\"NB29\" onclick=\"(function(event){alert('NB29'); event.stopPropagation();})(event)\"><path d=\"M 470.0 870.0 L 470.0 730.0\" id=\"p_NB29\" /></g><g class=\"CellSpaceBoundary None\" id=\"NB47\" onclick=\"(function(event){alert('NB47'); event.stopPropagation();})(event)\"><path d=\"M 500.0 870.0 L 470.0 870.0\" id=\"p_NB47\" /></g><g class=\"NavigableBoundary None\" id=\"NB45\" onclick=\"(function(event){alert('NB45'); event.stopPropagation();})(event)\"><path d=\"M 500.0 870.001 L 500.0 729.999\" id=\"p_NB45\" /></g><g class=\"CellSpaceBoundary None\" id=\"NB21\" onclick=\"(function(event){alert('NB21'); event.stopPropagation();})(event)\"><path d=\"M 470.0 730.0 L 500.0 730.0\" id=\"p_NB21\" /></g></g><g class=\"GeneralSpace None\" id=\"NC18\" onclick=\"(function(event){alert('NC18'); event.stopPropagation();})(event)\"><path d=\"M 30.0 570.0 470.0 570.0 L 470.0 600.0 30.0 600.0 30.0 570.0 Z\" fill-rule=\"evenodd\" id=\"p_NC18\" /><g class=\"CellSpaceBoundary None\" id=\"NB31\" onclick=\"(function(event){alert('NB31'); event.stopPropagation();})(event)\"><path d=\"M 30.0 600.0 L 30.0 570.0\" id=\"p_NB31\" /></g><g class=\"NavigableBoundary None\" id=\"NB55\" onclick=\"(function(event){alert('NB55'); event.stopPropagation();})(event)\"><path d=\"M 470.001 600.0 L 29.999 600.0\" id=\"p_NB55\" /></g><g class=\"CellSpaceBoundary None\" id=\"NB57\" onclick=\"(function(event){alert('NB57'); event.stopPropagation();})(event)\"><path d=\"M 470.0 570.0 L 470.0 600.0\" id=\"p_NB57\" /></g><g class=\"NavigableBoundary None\" id=\"NB33\" onclick=\"(function(event){alert('NB33'); event.stopPropagation();})(event)\"><path d=\"M 470.0 570.0 L 30.0 570.0\" id=\"p_NB33\" /></g></g><g class=\"GeneralSpace None\" id=\"NC19\" onclick=\"(function(event){alert('NC19'); event.stopPropagation();})(event)\"><path d=\"M 470.0 570.0 30.0 570.0 L 30.0 30.0 970.0 30.0 970.0 570.0 470.0 570.0 Z\" fill-rule=\"evenodd\" id=\"p_NC19\" /><g class=\"NavigableBoundary None\" id=\"NB33\" onclick=\"(function(event){alert('NB33'); event.stopPropagation();})(event)\"><path d=\"M 470.0 570.0 L 30.0 570.0\" id=\"p_NB33\" /></g><g class=\"CellSpaceBoundary None\" id=\"NB32\" onclick=\"(function(event){alert('NB32'); event.stopPropagation();})(event)\"><path d=\"M 30.0 570.0 L 30.0 30.0 970.0 30.0 970.0 570.0 470.0 570.0\" id=\"p_NB32\" /></g></g><g class=\"GeneralSpace None\" id=\"NC20\" onclick=\"(function(event){alert('NC20'); event.stopPropagation();})(event)\"><path d=\"M 470.0 2230.0 30.0 2230.0 L 30.0 2200.0 470.0 2200.0 470.0 2230.0 Z\" fill-rule=\"evenodd\" id=\"p_NC20\" /><g class=\"NavigableBoundary None\" id=\"NB36\" onclick=\"(function(event){alert('NB36'); event.stopPropagation();})(event)\"><path d=\"M 30.0 2230.0 L 470.0 2230.0\" id=\"p_NB36\" /></g><g class=\"CellSpaceBoundary None\" id=\"NB34\" onclick=\"(function(event){alert('NB34'); event.stopPropagation();})(event)\"><path d=\"M 30.0 2230.0 L 30.0 2200.0\" id=\"p_NB34\" /></g><g class=\"CellSpaceBoundary None\" id=\"NB60\" onclick=\"(function(event){alert('NB60'); event.stopPropagation();})(event)\"><path d=\"M 470.0 2200.0 L 470.0 2230.0\" id=\"p_NB60\" /></g><g class=\"NavigableBoundary None\" id=\"NB58\" onclick=\"(function(event){alert('NB58'); event.stopPropagation();})(event)\"><path d=\"M 29.999 2200.0 L 470.001 2200.0\" id=\"p_NB58\" /></g></g><g class=\"GeneralSpace None\" id=\"NC21\" onclick=\"(function(event){alert('NC21'); event.stopPropagation();})(event)\"><path d=\"M 30.0 2230.0 470.0 2230.0 L 970.0 2230.0 970.0 2770.0 30.0 2770.0 30.0 2230.0 Z\" fill-rule=\"evenodd\" id=\"p_NC21\" /><g class=\"NavigableBoundary None\" id=\"NB36\" onclick=\"(function(event){alert('NB36'); event.stopPropagation();})(event)\"><path d=\"M 30.0 2230.0 L 470.0 2230.0\" id=\"p_NB36\" /></g><g class=\"CellSpaceBoundary None\" id=\"NB35\" onclick=\"(function(event){alert('NB35'); event.stopPropagation();})(event)\"><path d=\"M 470.0 2230.0 L 970.0 2230.0 970.0 2770.0 30.0 2770.0 30.0 2230.0\" id=\"p_NB35\" /></g></g><g class=\"ConnectionSpace None\" id=\"NC22\" onclick=\"(function(event){alert('NC22'); event.stopPropagation();})(event)\"><path d=\"M 520.0 2070.0 500.0 2070.0 L 500.0 1930.0 520.0 1930.0 520.0 2070.0 Z\" fill-rule=\"evenodd\" id=\"p_NC22\" /><g class=\"NavigableBoundary None\" id=\"NB61\" onclick=\"(function(event){alert('NB61'); event.stopPropagation();})(event)\"><path d=\"M 500.0 2070.001 L 500.0 1929.999\" id=\"p_NB61\" /></g><g class=\"NavigableBoundary None\" id=\"NB48\" onclick=\"(function(event){alert('NB48'); event.stopPropagation();})(event)\"><path d=\"M 520.0 2070.001 L 520.0 1929.999\" id=\"p_NB48\" /></g><g class=\"CellSpaceBoundary None\" id=\"NB37\" onclick=\"(function(event){alert('NB37'); event.stopPropagation();})(event)\"><path d=\"M 500.0 1930.0 L 520.0 1930.0\" id=\"p_NB37\" /></g><g class=\"CellSpaceBoundary None\" id=\"NB63\" onclick=\"(function(event){alert('NB63'); event.stopPropagation();})(event)\"><path d=\"M 520.0 2070.0 L 500.0 2070.0\" id=\"p_NB63\" /></g></g></g><g class=\"graph\"><g class=\"Transition None\" id=\"NT38\" onclick=\"(function(event){alert('NT38'); event.stopPropagation();})(event)\"><path d=\"M 510.0 1200.0 L 520.0 1200.0 535.0 1200.0\" id=\"p_NT38\" /></g><g class=\"Transition None\" id=\"NT40\" onclick=\"(function(event){alert('NT40'); event.stopPropagation();})(event)\"><path d=\"M 510.0 1200.0 L 499.99999999999994 1200.0 485.0 1200.0\" id=\"p_NT40\" /></g><g class=\"Transition None\" id=\"NT43\" onclick=\"(function(event){alert('NT43'); event.stopPropagation();})(event)\"><path d=\"M 510.0 800.0 L 520.0 800.0 535.0 800.0\" id=\"p_NT43\" /></g><g class=\"Transition None\" id=\"NT45\" onclick=\"(function(event){alert('NT45'); event.stopPropagation();})(event)\"><path d=\"M 510.0 800.0 L 499.99999999999994 800.0 485.0 800.0\" id=\"p_NT45\" /></g><g class=\"Transition None\" id=\"NT5\" onclick=\"(function(event){alert('NT5'); event.stopPropagation();})(event)\"><path d=\"M 535.0 2000.0 L 550.0 2000.0 760.0 2000.0\" id=\"p_NT5\" /></g><g class=\"Transition None\" id=\"NT48\" onclick=\"(function(event){alert('NT48'); event.stopPropagation();})(event)\"><path d=\"M 535.0 2000.0 L 520.0 2000.0 510.0 2000.0\" id=\"p_NT48\" /></g><g class=\"Transition None\" id=\"NT8\" onclick=\"(function(event){alert('NT8'); event.stopPropagation();})(event)\"><path d=\"M 535.0 1600.0 L 550.0 1600.0 760.0 1600.0\" id=\"p_NT8\" /></g><g class=\"Transition None\" id=\"NT50\" onclick=\"(function(event){alert('NT50'); event.stopPropagation();})(event)\"><path d=\"M 535.0 1600.0 L 520.0 1600.0 510.0 1600.0\" id=\"p_NT50\" /></g><g class=\"Transition None\" id=\"NT11\" onclick=\"(function(event){alert('NT11'); event.stopPropagation();})(event)\"><path d=\"M 535.0 800.0 L 550.0 800.0 760.0 800.0\" id=\"p_NT11\" /></g><g class=\"Transition None\" id=\"NT14\" onclick=\"(function(event){alert('NT14'); event.stopPropagation();})(event)\"><path d=\"M 535.0 1200.0 L 550.0 1200.0 760.0 1200.0\" id=\"p_NT14\" /></g><g class=\"Transition None\" id=\"NT52\" onclick=\"(function(event){alert('NT52'); event.stopPropagation();})(event)\"><path d=\"M 510.0 1600.0 L 499.99999999999994 1600.0 485.0 1600.0\" id=\"p_NT52\" /></g><g class=\"Transition None\" id=\"NT22\" onclick=\"(function(event){alert('NT22'); event.stopPropagation();})(event)\"><path d=\"M 250.0 1800.0 L 470.0 2000.0 485.0 2000.0\" id=\"p_NT22\" /></g><g class=\"Transition None\" id=\"NT23\" onclick=\"(function(event){alert('NT23'); event.stopPropagation();})(event)\"><path d=\"M 250.0 1800.0 L 470.0 1600.0 485.0 1600.0\" id=\"p_NT23\" /></g><g class=\"Transition None\" id=\"NT25\" onclick=\"(function(event){alert('NT25'); event.stopPropagation();})(event)\"><path d=\"M 250.0 1800.0 L 250.0 1400.0 250.0 1000.0\" id=\"p_NT25\" /></g><g class=\"Transition None\" id=\"NT58\" onclick=\"(function(event){alert('NT58'); event.stopPropagation();})(event)\"><path d=\"M 250.0 1800.0 L 250.0 2200.0 250.0 2215.0\" id=\"p_NT58\" /></g><g class=\"Transition None\" id=\"NT61\" onclick=\"(function(event){alert('NT61'); event.stopPropagation();})(event)\"><path d=\"M 485.0 2000.0 L 500.0 2000.0 510.0 2000.0\" id=\"p_NT61\" /></g><g class=\"Transition None\" id=\"NT27\" onclick=\"(function(event){alert('NT27'); event.stopPropagation();})(event)\"><path d=\"M 250.0 1000.0 L 470.0 1200.0 485.0 1200.0\" id=\"p_NT27\" /></g><g class=\"Transition None\" id=\"NT29\" onclick=\"(function(event){alert('NT29'); event.stopPropagation();})(event)\"><path d=\"M 250.0 1000.0 L 470.0 800.0 485.0 800.0\" id=\"p_NT29\" /></g><g class=\"Transition None\" id=\"NT55\" onclick=\"(function(event){alert('NT55'); event.stopPropagation();})(event)\"><path d=\"M 250.0 1000.0 L 250.0 600.0 250.0 585.0\" id=\"p_NT55\" /></g><g class=\"Transition None\" id=\"NT33\" onclick=\"(function(event){alert('NT33'); event.stopPropagation();})(event)\"><path d=\"M 250.0 585.0 L 250.0 570.0 500.0 300.0\" id=\"p_NT33\" /></g><g class=\"Transition None\" id=\"NT36\" onclick=\"(function(event){alert('NT36'); event.stopPropagation();})(event)\"><path d=\"M 250.0 2215.0 L 250.0 2230.0 500.0 2500.0\" id=\"p_NT36\" /></g><g class=\"State None\" id=\"NS1\" onclick=\"(function(event){alert('NS1'); event.stopPropagation();})(event)\"><circle cx=\"510.0\" cy=\"1200.0\" /></g><g class=\"State None\" id=\"NS2\" onclick=\"(function(event){alert('NS2'); event.stopPropagation();})(event)\"><circle cx=\"510.0\" cy=\"800.0\" /></g><g class=\"State None\" id=\"NS3\" onclick=\"(function(event){alert('NS3'); event.stopPropagation();})(event)\"><circle cx=\"535.0\" cy=\"2000.0\" /></g><g class=\"State None\" id=\"NS4\" onclick=\"(function(event){alert('NS4'); event.stopPropagation();})(event)\"><circle cx=\"760.0\" cy=\"2000.0\" /></g><g class=\"State None\" id=\"NS5\" onclick=\"(function(event){alert('NS5'); event.stopPropagation();})(event)\"><circle cx=\"535.0\" cy=\"1600.0\" /></g><g class=\"State None\" id=\"NS6\" onclick=\"(function(event){alert('NS6'); event.stopPropagation();})(event)\"><circle cx=\"760.0\" cy=\"1600.0\" /></g><g class=\"State None\" id=\"NS7\" onclick=\"(function(event){alert('NS7'); event.stopPropagation();})(event)\"><circle cx=\"535.0\" cy=\"800.0\" /></g><g class=\"State None\" id=\"NS8\" onclick=\"(function(event){alert('NS8'); event.stopPropagation();})(event)\"><circle cx=\"760.0\" cy=\"800.0\" /></g><g class=\"State None\" id=\"NS9\" onclick=\"(function(event){alert('NS9'); event.stopPropagation();})(event)\"><circle cx=\"535.0\" cy=\"1200.0\" /></g><g class=\"State None\" id=\"NS10\" onclick=\"(function(event){alert('NS10'); event.stopPropagation();})(event)\"><circle cx=\"760.0\" cy=\"1200.0\" /></g><g class=\"State None\" id=\"NS11\" onclick=\"(function(event){alert('NS11'); event.stopPropagation();})(event)\"><circle cx=\"510.0\" cy=\"1600.0\" /></g><g class=\"State None\" id=\"NS12\" onclick=\"(function(event){alert('NS12'); event.stopPropagation();})(event)\"><circle cx=\"250.0\" cy=\"1800.0\" /></g><g class=\"State None\" id=\"NS13\" onclick=\"(function(event){alert('NS13'); event.stopPropagation();})(event)\"><circle cx=\"485.0\" cy=\"2000.0\" /></g><g class=\"State None\" id=\"NS14\" onclick=\"(function(event){alert('NS14'); event.stopPropagation();})(event)\"><circle cx=\"485.0\" cy=\"1600.0\" /></g><g class=\"State None\" id=\"NS15\" onclick=\"(function(event){alert('NS15'); event.stopPropagation();})(event)\"><circle cx=\"250.0\" cy=\"1000.0\" /></g><g class=\"State None\" id=\"NS16\" onclick=\"(function(event){alert('NS16'); event.stopPropagation();})(event)\"><circle cx=\"485.0\" cy=\"1200.0\" /></g><g class=\"State None\" id=\"NS17\" onclick=\"(function(event){alert('NS17'); event.stopPropagation();})(event)\"><circle cx=\"485.0\" cy=\"800.0\" /></g><g class=\"State None\" id=\"NS18\" onclick=\"(function(event){alert('NS18'); event.stopPropagation();})(event)\"><circle cx=\"250.0\" cy=\"585.0\" /></g><g class=\"State None\" id=\"NS19\" onclick=\"(function(event){alert('NS19'); event.stopPropagation();})(event)\"><circle cx=\"500.0\" cy=\"300.0\" /></g><g class=\"State None\" id=\"NS20\" onclick=\"(function(event){alert('NS20'); event.stopPropagation();})(event)\"><circle cx=\"250.0\" cy=\"2215.0\" /></g><g class=\"State None\" id=\"NS21\" onclick=\"(function(event){alert('NS21'); event.stopPropagation();})(event)\"><circle cx=\"500.0\" cy=\"2500.0\" /></g><g class=\"State None\" id=\"NS22\" onclick=\"(function(event){alert('NS22'); event.stopPropagation();})(event)\"><circle cx=\"510.0\" cy=\"2000.0\" /></g></g></g></g></svg>"
      ],
      "text/plain": [
       "SpaceLayer: N - Layer obtained from SpaceLayer: L0 adding a clearance of 30 cm"
      ]
     },
     "execution_count": 26,
     "metadata": {},
     "output_type": "execute_result"
    }
   ],
   "source": [
    "from_layer(map_['L0'], uid='N', clearance=30, intersect=[map_[\"L2\"]], convex=True)"
   ]
  },
  {
   "cell_type": "markdown",
   "metadata": {},
   "source": [
    "This process is automatized by copyng the geometric layer and intersecting with any (non topographic) layer"
   ]
  },
  {
   "cell_type": "code",
   "execution_count": 27,
   "metadata": {},
   "outputs": [
    {
     "data": {
      "application/vnd.jupyter.widget-view+json": {
       "model_id": "66b14c13dba54e62ad2ca54d0d04229f",
       "version_major": 2,
       "version_minor": 0
      },
      "text/plain": [
       "HBox(children=(IntProgress(value=0, max=20), HTML(value='')))"
      ]
     },
     "metadata": {},
     "output_type": "display_data"
    },
    {
     "name": "stdout",
     "output_type": "stream",
     "text": [
      "\n"
     ]
    },
    {
     "data": {
      "application/vnd.jupyter.widget-view+json": {
       "model_id": "e3c2eebb546a4c57ace3a86ca1311574",
       "version_major": 2,
       "version_minor": 0
      },
      "text/plain": [
       "HBox(children=(IntProgress(value=0, max=57), HTML(value='')))"
      ]
     },
     "metadata": {},
     "output_type": "display_data"
    },
    {
     "name": "stdout",
     "output_type": "stream",
     "text": [
      "\n"
     ]
    },
    {
     "data": {
      "image/svg+xml": [
       "<svg height=\"500\" viewBox=\"-70.0 -2870.0 1140.0 2940.0\" width=\"1000\" xmlns=\"http://www.w3.org/2000/svg\"><style media=\"screen\" type=\"text/css\">\n",
       "\n",
       ".State circle {\n",
       "    fill: red;\n",
       "    r: 20;\n",
       "    stroke: orange;\n",
       "    stroke-width: 10;\n",
       "}\n",
       "\n",
       ".Transition path {\n",
       "    stroke: orange;\n",
       "    stroke-width: 10;\n",
       "    fill: none;\n",
       "    display: inline\n",
       "}\n",
       "\n",
       "path\n",
       "{\n",
       "    stroke: grey;\n",
       "    stroke-width: 10;\n",
       "}\n",
       "\n",
       ".TransitionSpace {\n",
       "    fill: lightgreen;\n",
       "}\n",
       "\n",
       ".GeneralSpace {\n",
       "    fill: olive;\n",
       "}\n",
       "\n",
       ".ConnectionSpace {\n",
       "    fill: orange;\n",
       "}\n",
       "\n",
       "\n",
       ".TOPOGRAPHIC .CellSpace {\n",
       "    fill: black;\n",
       "}\n",
       "\n",
       ".CellSpace {\n",
       "    fill: BurlyWood ;\n",
       "    stroke: white;\n",
       "    stroke-width: 10;\n",
       "}\n",
       "\n",
       ".CellSpaceBoundary {\n",
       "    display: none;\n",
       "}\n",
       "\n",
       ".NavigableBoundary {\n",
       "    display: none;\n",
       "    stroke: green;\n",
       "    stroke-dasharray: 40 40;\n",
       "    stroke-width: 20;\n",
       "    fill: none;\n",
       "}\n",
       "\n",
       "\n",
       "\n",
       "</style><g transform=\"scale(1, -1)\"><g class=\"SpaceLayer TOPOGRAPHIC Navigation\" id=\"NAV\" onclick=\"(function(event){alert('NAV'); event.stopPropagation();})(event)\"><g class=\"cells\"><g class=\"ConnectionSpace None\" id=\"NAVC1\" onclick=\"(function(event){alert('NAVC1'); event.stopPropagation();})(event)\"><path d=\"M 520.0 1270.0 500.0 1270.0 L 500.0 1130.0 520.0 1130.0 520.0 1270.0 Z\" fill-rule=\"evenodd\" id=\"p_NAVC1\" /><g class=\"CellSpaceBoundary None\" id=\"NAVB41\" onclick=\"(function(event){alert('NAVB41'); event.stopPropagation();})(event)\"><path d=\"M 520.0 1270.0 L 500.0 1270.0\" id=\"p_NAVB41\" /></g><g class=\"CellSpaceBoundary None\" id=\"NAVB1\" onclick=\"(function(event){alert('NAVB1'); event.stopPropagation();})(event)\"><path d=\"M 500.0 1130.0 L 520.0 1130.0\" id=\"p_NAVB1\" /></g><g class=\"NavigableBoundary None\" id=\"NAVB40\" onclick=\"(function(event){alert('NAVB40'); event.stopPropagation();})(event)\"><path d=\"M 500.0 1270.001 L 500.0 1129.999\" id=\"p_NAVB40\" /></g><g class=\"NavigableBoundary None\" id=\"NAVB38\" onclick=\"(function(event){alert('NAVB38'); event.stopPropagation();})(event)\"><path d=\"M 520.0 1129.999 L 520.0 1270.001\" id=\"p_NAVB38\" /></g></g><g class=\"ConnectionSpace None\" id=\"NAVC2\" onclick=\"(function(event){alert('NAVC2'); event.stopPropagation();})(event)\"><path d=\"M 500.0 730.0 520.0 730.0 L 520.0 870.0 500.0 870.0 500.0 730.0 Z\" fill-rule=\"evenodd\" id=\"p_NAVC2\" /><g class=\"NavigableBoundary None\" id=\"NAVB45\" onclick=\"(function(event){alert('NAVB45'); event.stopPropagation();})(event)\"><path d=\"M 500.0 870.001 L 500.0 729.999\" id=\"p_NAVB45\" /></g><g class=\"CellSpaceBoundary None\" id=\"NAVB46\" onclick=\"(function(event){alert('NAVB46'); event.stopPropagation();})(event)\"><path d=\"M 520.0 870.0 L 500.0 870.0\" id=\"p_NAVB46\" /></g><g class=\"CellSpaceBoundary None\" id=\"NAVB2\" onclick=\"(function(event){alert('NAVB2'); event.stopPropagation();})(event)\"><path d=\"M 500.0 730.0 L 520.0 730.0\" id=\"p_NAVB2\" /></g><g class=\"NavigableBoundary None\" id=\"NAVB43\" onclick=\"(function(event){alert('NAVB43'); event.stopPropagation();})(event)\"><path d=\"M 520.0 870.001 L 520.0 729.999\" id=\"p_NAVB43\" /></g></g><g class=\"GeneralSpace None\" id=\"NAVC3\" onclick=\"(function(event){alert('NAVC3'); event.stopPropagation();})(event)\"><path d=\"M 550.0 1930.0 550.0 2070.0 L 520.0 2070.0 520.0 1930.0 550.0 1930.0 Z\" fill-rule=\"evenodd\" id=\"p_NAVC3\" /><g class=\"CellSpaceBoundary None\" id=\"NAVB49\" onclick=\"(function(event){alert('NAVB49'); event.stopPropagation();})(event)\"><path d=\"M 550.0 2070.0 L 520.0 2070.0\" id=\"p_NAVB49\" /></g><g class=\"NavigableBoundary None\" id=\"NAVB5\" onclick=\"(function(event){alert('NAVB5'); event.stopPropagation();})(event)\"><path d=\"M 550.0 2070.0 L 550.0 1930.0\" id=\"p_NAVB5\" /></g><g class=\"CellSpaceBoundary None\" id=\"NAVB3\" onclick=\"(function(event){alert('NAVB3'); event.stopPropagation();})(event)\"><path d=\"M 520.0 1930.0 L 550.0 1930.0\" id=\"p_NAVB3\" /></g><g class=\"NavigableBoundary None\" id=\"NAVB48\" onclick=\"(function(event){alert('NAVB48'); event.stopPropagation();})(event)\"><path d=\"M 520.0 2070.001 L 520.0 1929.999\" id=\"p_NAVB48\" /></g></g><g class=\"GeneralSpace None\" id=\"NAVC4\" onclick=\"(function(event){alert('NAVC4'); event.stopPropagation();})(event)\"><path d=\"M 550.0 2070.0 550.0 1930.0 L 550.0 1850.0 970.0 1850.0 970.0 2150.0 550.0 2150.0 550.0 2070.0 Z\" fill-rule=\"evenodd\" id=\"p_NAVC4\" /><g class=\"CellSpaceBoundary None\" id=\"NAVB4\" onclick=\"(function(event){alert('NAVB4'); event.stopPropagation();})(event)\"><path d=\"M 550.0 1930.0 L 550.0 1850.0 970.0 1850.0 970.0 2150.0 550.0 2150.0 550.0 2070.0\" id=\"p_NAVB4\" /></g><g class=\"NavigableBoundary None\" id=\"NAVB5\" onclick=\"(function(event){alert('NAVB5'); event.stopPropagation();})(event)\"><path d=\"M 550.0 2070.0 L 550.0 1930.0\" id=\"p_NAVB5\" /></g></g><g class=\"GeneralSpace None\" id=\"NAVC5\" onclick=\"(function(event){alert('NAVC5'); event.stopPropagation();})(event)\"><path d=\"M 550.0 1530.0 550.0 1670.0 L 520.0 1670.0 520.0 1530.0 550.0 1530.0 Z\" fill-rule=\"evenodd\" id=\"p_NAVC5\" /><g class=\"NavigableBoundary None\" id=\"NAVB50\" onclick=\"(function(event){alert('NAVB50'); event.stopPropagation();})(event)\"><path d=\"M 520.0 1670.001 L 520.0 1529.999\" id=\"p_NAVB50\" /></g><g class=\"NavigableBoundary None\" id=\"NAVB8\" onclick=\"(function(event){alert('NAVB8'); event.stopPropagation();})(event)\"><path d=\"M 550.0 1670.0 L 550.0 1530.0\" id=\"p_NAVB8\" /></g><g class=\"CellSpaceBoundary None\" id=\"NAVB51\" onclick=\"(function(event){alert('NAVB51'); event.stopPropagation();})(event)\"><path d=\"M 550.0 1670.0 L 520.0 1670.0\" id=\"p_NAVB51\" /></g><g class=\"CellSpaceBoundary None\" id=\"NAVB6\" onclick=\"(function(event){alert('NAVB6'); event.stopPropagation();})(event)\"><path d=\"M 520.0 1530.0 L 550.0 1530.0\" id=\"p_NAVB6\" /></g></g><g class=\"GeneralSpace None\" id=\"NAVC6\" onclick=\"(function(event){alert('NAVC6'); event.stopPropagation();})(event)\"><path d=\"M 550.0 1670.0 550.0 1530.0 L 550.0 1450.0 970.0 1450.0 970.0 1750.0 550.0 1750.0 550.0 1670.0 Z\" fill-rule=\"evenodd\" id=\"p_NAVC6\" /><g class=\"CellSpaceBoundary None\" id=\"NAVB7\" onclick=\"(function(event){alert('NAVB7'); event.stopPropagation();})(event)\"><path d=\"M 550.0 1530.0 L 550.0 1450.0 970.0 1450.0 970.0 1750.0 550.0 1750.0 550.0 1670.0\" id=\"p_NAVB7\" /></g><g class=\"NavigableBoundary None\" id=\"NAVB8\" onclick=\"(function(event){alert('NAVB8'); event.stopPropagation();})(event)\"><path d=\"M 550.0 1670.0 L 550.0 1530.0\" id=\"p_NAVB8\" /></g></g><g class=\"GeneralSpace None\" id=\"NAVC7\" onclick=\"(function(event){alert('NAVC7'); event.stopPropagation();})(event)\"><path d=\"M 550.0 730.0 550.0 870.0 L 520.0 870.0 520.0 730.0 550.0 730.0 Z\" fill-rule=\"evenodd\" id=\"p_NAVC7\" /><g class=\"NavigableBoundary None\" id=\"NAVB11\" onclick=\"(function(event){alert('NAVB11'); event.stopPropagation();})(event)\"><path d=\"M 550.0 870.0 L 550.0 730.0\" id=\"p_NAVB11\" /></g><g class=\"CellSpaceBoundary None\" id=\"NAVB9\" onclick=\"(function(event){alert('NAVB9'); event.stopPropagation();})(event)\"><path d=\"M 520.0 730.0 L 550.0 730.0\" id=\"p_NAVB9\" /></g><g class=\"CellSpaceBoundary None\" id=\"NAVB44\" onclick=\"(function(event){alert('NAVB44'); event.stopPropagation();})(event)\"><path d=\"M 550.0 870.0 L 520.0 870.0\" id=\"p_NAVB44\" /></g><g class=\"NavigableBoundary None\" id=\"NAVB43\" onclick=\"(function(event){alert('NAVB43'); event.stopPropagation();})(event)\"><path d=\"M 520.0 870.001 L 520.0 729.999\" id=\"p_NAVB43\" /></g></g><g class=\"GeneralSpace None\" id=\"NAVC8\" onclick=\"(function(event){alert('NAVC8'); event.stopPropagation();})(event)\"><path d=\"M 550.0 870.0 550.0 730.0 L 550.0 650.0 970.0 650.0 970.0 950.0 550.0 950.0 550.0 870.0 Z\" fill-rule=\"evenodd\" id=\"p_NAVC8\" /><g class=\"NavigableBoundary None\" id=\"NAVB11\" onclick=\"(function(event){alert('NAVB11'); event.stopPropagation();})(event)\"><path d=\"M 550.0 870.0 L 550.0 730.0\" id=\"p_NAVB11\" /></g><g class=\"CellSpaceBoundary None\" id=\"NAVB10\" onclick=\"(function(event){alert('NAVB10'); event.stopPropagation();})(event)\"><path d=\"M 550.0 730.0 L 550.0 650.0 970.0 650.0 970.0 950.0 550.0 950.0 550.0 870.0\" id=\"p_NAVB10\" /></g></g><g class=\"GeneralSpace None\" id=\"NAVC9\" onclick=\"(function(event){alert('NAVC9'); event.stopPropagation();})(event)\"><path d=\"M 550.0 1130.0 550.0 1270.0 L 520.0 1270.0 520.0 1130.0 550.0 1130.0 Z\" fill-rule=\"evenodd\" id=\"p_NAVC9\" /><g class=\"CellSpaceBoundary None\" id=\"NAVB12\" onclick=\"(function(event){alert('NAVB12'); event.stopPropagation();})(event)\"><path d=\"M 520.0 1130.0 L 550.0 1130.0\" id=\"p_NAVB12\" /></g><g class=\"CellSpaceBoundary None\" id=\"NAVB39\" onclick=\"(function(event){alert('NAVB39'); event.stopPropagation();})(event)\"><path d=\"M 550.0 1270.0 L 520.0 1270.0\" id=\"p_NAVB39\" /></g><g class=\"NavigableBoundary None\" id=\"NAVB38\" onclick=\"(function(event){alert('NAVB38'); event.stopPropagation();})(event)\"><path d=\"M 520.0 1129.999 L 520.0 1270.001\" id=\"p_NAVB38\" /></g><g class=\"NavigableBoundary None\" id=\"NAVB14\" onclick=\"(function(event){alert('NAVB14'); event.stopPropagation();})(event)\"><path d=\"M 550.0 1270.0 L 550.0 1130.0\" id=\"p_NAVB14\" /></g></g><g class=\"GeneralSpace None\" id=\"NAVC10\" onclick=\"(function(event){alert('NAVC10'); event.stopPropagation();})(event)\"><path d=\"M 550.0 1270.0 550.0 1130.0 L 550.0 1050.0 970.0 1050.0 970.0 1350.0 550.0 1350.0 550.0 1270.0 Z\" fill-rule=\"evenodd\" id=\"p_NAVC10\" /><g class=\"CellSpaceBoundary None\" id=\"NAVB13\" onclick=\"(function(event){alert('NAVB13'); event.stopPropagation();})(event)\"><path d=\"M 550.0 1130.0 L 550.0 1050.0 970.0 1050.0 970.0 1350.0 550.0 1350.0 550.0 1270.0\" id=\"p_NAVB13\" /></g><g class=\"NavigableBoundary None\" id=\"NAVB14\" onclick=\"(function(event){alert('NAVB14'); event.stopPropagation();})(event)\"><path d=\"M 550.0 1270.0 L 550.0 1130.0\" id=\"p_NAVB14\" /></g></g><g class=\"ConnectionSpace None\" id=\"NAVC11\" onclick=\"(function(event){alert('NAVC11'); event.stopPropagation();})(event)\"><path d=\"M 520.0 1670.0 500.0 1670.0 L 500.0 1530.0 520.0 1530.0 520.0 1670.0 Z\" fill-rule=\"evenodd\" id=\"p_NAVC11\" /><g class=\"NavigableBoundary None\" id=\"NAVB52\" onclick=\"(function(event){alert('NAVB52'); event.stopPropagation();})(event)\"><path d=\"M 500.0 1670.001 L 500.0 1529.999\" id=\"p_NAVB52\" /></g><g class=\"CellSpaceBoundary None\" id=\"NAVB15\" onclick=\"(function(event){alert('NAVB15'); event.stopPropagation();})(event)\"><path d=\"M 500.0 1530.0 L 520.0 1530.0\" id=\"p_NAVB15\" /></g><g class=\"NavigableBoundary None\" id=\"NAVB50\" onclick=\"(function(event){alert('NAVB50'); event.stopPropagation();})(event)\"><path d=\"M 520.0 1670.001 L 520.0 1529.999\" id=\"p_NAVB50\" /></g><g class=\"CellSpaceBoundary None\" id=\"NAVB53\" onclick=\"(function(event){alert('NAVB53'); event.stopPropagation();})(event)\"><path d=\"M 520.0 1670.0 L 500.0 1670.0\" id=\"p_NAVB53\" /></g></g><g class=\"TransitionSpace None\" id=\"NAVC12\" onclick=\"(function(event){alert('NAVC12'); event.stopPropagation();})(event)\"><path d=\"M 470.0 1930.0 470.0 2070.0 L 470.0 2200.0 30.0 2200.0 30.0 1400.0 470.0 1400.0 470.0 1530.0 470.0 1670.0 470.0 1930.0 Z\" fill-rule=\"evenodd\" id=\"p_NAVC12\" /><g class=\"CellSpaceBoundary None\" id=\"NAVB16\" onclick=\"(function(event){alert('NAVB16'); event.stopPropagation();})(event)\"><path d=\"M 30.0 2200.0 L 30.0 1400.0\" id=\"p_NAVB16\" /></g><g class=\"CellSpaceBoundary None\" id=\"NAVB26\" onclick=\"(function(event){alert('NAVB26'); event.stopPropagation();})(event)\"><path d=\"M 470.0 1400.0 L 470.0 1530.0\" id=\"p_NAVB26\" /></g><g class=\"NavigableBoundary None\" id=\"NAVB58\" onclick=\"(function(event){alert('NAVB58'); event.stopPropagation();})(event)\"><path d=\"M 29.999 2200.0 L 470.001 2200.0\" id=\"p_NAVB58\" /></g><g class=\"NavigableBoundary None\" id=\"NAVB25\" onclick=\"(function(event){alert('NAVB25'); event.stopPropagation();})(event)\"><path d=\"M 470.0 1400.0 L 30.0 1400.0\" id=\"p_NAVB25\" /></g><g class=\"NavigableBoundary None\" id=\"NAVB22\" onclick=\"(function(event){alert('NAVB22'); event.stopPropagation();})(event)\"><path d=\"M 470.0 2070.0 L 470.0 1930.0\" id=\"p_NAVB22\" /></g><g class=\"CellSpaceBoundary None\" id=\"NAVB24\" onclick=\"(function(event){alert('NAVB24'); event.stopPropagation();})(event)\"><path d=\"M 470.0 1670.0 L 470.0 1930.0\" id=\"p_NAVB24\" /></g><g class=\"NavigableBoundary None\" id=\"NAVB23\" onclick=\"(function(event){alert('NAVB23'); event.stopPropagation();})(event)\"><path d=\"M 470.0 1670.0 L 470.0 1530.0\" id=\"p_NAVB23\" /></g><g class=\"CellSpaceBoundary None\" id=\"NAVB59\" onclick=\"(function(event){alert('NAVB59'); event.stopPropagation();})(event)\"><path d=\"M 470.0 2070.0 L 470.0 2200.0\" id=\"p_NAVB59\" /></g></g><g class=\"TransitionSpace None\" id=\"NAVC13\" onclick=\"(function(event){alert('NAVC13'); event.stopPropagation();})(event)\"><path d=\"M 470.0 2070.0 470.0 1930.0 L 500.0 1930.0 500.0 2070.0 470.0 2070.0 Z\" fill-rule=\"evenodd\" id=\"p_NAVC13\" /><g class=\"NavigableBoundary None\" id=\"NAVB61\" onclick=\"(function(event){alert('NAVB61'); event.stopPropagation();})(event)\"><path d=\"M 500.0 2070.001 L 500.0 1929.999\" id=\"p_NAVB61\" /></g><g class=\"CellSpaceBoundary None\" id=\"NAVB62\" onclick=\"(function(event){alert('NAVB62'); event.stopPropagation();})(event)\"><path d=\"M 500.0 2070.0 L 470.0 2070.0\" id=\"p_NAVB62\" /></g><g class=\"CellSpaceBoundary None\" id=\"NAVB17\" onclick=\"(function(event){alert('NAVB17'); event.stopPropagation();})(event)\"><path d=\"M 470.0 1930.0 L 500.0 1930.0\" id=\"p_NAVB17\" /></g><g class=\"NavigableBoundary None\" id=\"NAVB22\" onclick=\"(function(event){alert('NAVB22'); event.stopPropagation();})(event)\"><path d=\"M 470.0 2070.0 L 470.0 1930.0\" id=\"p_NAVB22\" /></g></g><g class=\"TransitionSpace None\" id=\"NAVC14\" onclick=\"(function(event){alert('NAVC14'); event.stopPropagation();})(event)\"><path d=\"M 470.0 1670.0 470.0 1530.0 L 500.0 1530.0 500.0 1670.0 470.0 1670.0 Z\" fill-rule=\"evenodd\" id=\"p_NAVC14\" /><g class=\"NavigableBoundary None\" id=\"NAVB52\" onclick=\"(function(event){alert('NAVB52'); event.stopPropagation();})(event)\"><path d=\"M 500.0 1670.001 L 500.0 1529.999\" id=\"p_NAVB52\" /></g><g class=\"CellSpaceBoundary None\" id=\"NAVB54\" onclick=\"(function(event){alert('NAVB54'); event.stopPropagation();})(event)\"><path d=\"M 500.0 1670.0 L 470.0 1670.0\" id=\"p_NAVB54\" /></g><g class=\"NavigableBoundary None\" id=\"NAVB23\" onclick=\"(function(event){alert('NAVB23'); event.stopPropagation();})(event)\"><path d=\"M 470.0 1670.0 L 470.0 1530.0\" id=\"p_NAVB23\" /></g><g class=\"CellSpaceBoundary None\" id=\"NAVB18\" onclick=\"(function(event){alert('NAVB18'); event.stopPropagation();})(event)\"><path d=\"M 470.0 1530.0 L 500.0 1530.0\" id=\"p_NAVB18\" /></g></g><g class=\"TransitionSpace None\" id=\"NAVC15\" onclick=\"(function(event){alert('NAVC15'); event.stopPropagation();})(event)\"><path d=\"M 470.0 1130.0 470.0 1270.0 L 470.0 1400.0 30.0 1400.0 30.0 600.0 470.0 600.0 470.0 730.0 470.0 870.0 470.0 1130.0 Z\" fill-rule=\"evenodd\" id=\"p_NAVC15\" /><g class=\"NavigableBoundary None\" id=\"NAVB55\" onclick=\"(function(event){alert('NAVB55'); event.stopPropagation();})(event)\"><path d=\"M 470.001 600.0 L 29.999 600.0\" id=\"p_NAVB55\" /></g><g class=\"NavigableBoundary None\" id=\"NAVB27\" onclick=\"(function(event){alert('NAVB27'); event.stopPropagation();})(event)\"><path d=\"M 470.0 1270.0 L 470.0 1130.0\" id=\"p_NAVB27\" /></g><g class=\"CellSpaceBoundary None\" id=\"NAVB19\" onclick=\"(function(event){alert('NAVB19'); event.stopPropagation();})(event)\"><path d=\"M 30.0 1400.0 L 30.0 600.0\" id=\"p_NAVB19\" /></g><g class=\"CellSpaceBoundary None\" id=\"NAVB28\" onclick=\"(function(event){alert('NAVB28'); event.stopPropagation();})(event)\"><path d=\"M 470.0 1270.0 L 470.0 1400.0\" id=\"p_NAVB28\" /></g><g class=\"NavigableBoundary None\" id=\"NAVB25\" onclick=\"(function(event){alert('NAVB25'); event.stopPropagation();})(event)\"><path d=\"M 470.0 1400.0 L 30.0 1400.0\" id=\"p_NAVB25\" /></g><g class=\"CellSpaceBoundary None\" id=\"NAVB56\" onclick=\"(function(event){alert('NAVB56'); event.stopPropagation();})(event)\"><path d=\"M 470.0 600.0 L 470.0 730.0\" id=\"p_NAVB56\" /></g><g class=\"CellSpaceBoundary None\" id=\"NAVB30\" onclick=\"(function(event){alert('NAVB30'); event.stopPropagation();})(event)\"><path d=\"M 470.0 870.0 L 470.0 1130.0\" id=\"p_NAVB30\" /></g><g class=\"NavigableBoundary None\" id=\"NAVB29\" onclick=\"(function(event){alert('NAVB29'); event.stopPropagation();})(event)\"><path d=\"M 470.0 870.0 L 470.0 730.0\" id=\"p_NAVB29\" /></g></g><g class=\"TransitionSpace None\" id=\"NAVC16\" onclick=\"(function(event){alert('NAVC16'); event.stopPropagation();})(event)\"><path d=\"M 470.0 1270.0 470.0 1130.0 L 500.0 1130.0 500.0 1270.0 470.0 1270.0 Z\" fill-rule=\"evenodd\" id=\"p_NAVC16\" /><g class=\"NavigableBoundary None\" id=\"NAVB40\" onclick=\"(function(event){alert('NAVB40'); event.stopPropagation();})(event)\"><path d=\"M 500.0 1270.001 L 500.0 1129.999\" id=\"p_NAVB40\" /></g><g class=\"CellSpaceBoundary None\" id=\"NAVB20\" onclick=\"(function(event){alert('NAVB20'); event.stopPropagation();})(event)\"><path d=\"M 470.0 1130.0 L 500.0 1130.0\" id=\"p_NAVB20\" /></g><g class=\"NavigableBoundary None\" id=\"NAVB27\" onclick=\"(function(event){alert('NAVB27'); event.stopPropagation();})(event)\"><path d=\"M 470.0 1270.0 L 470.0 1130.0\" id=\"p_NAVB27\" /></g><g class=\"CellSpaceBoundary None\" id=\"NAVB42\" onclick=\"(function(event){alert('NAVB42'); event.stopPropagation();})(event)\"><path d=\"M 500.0 1270.0 L 470.0 1270.0\" id=\"p_NAVB42\" /></g></g><g class=\"TransitionSpace None\" id=\"NAVC17\" onclick=\"(function(event){alert('NAVC17'); event.stopPropagation();})(event)\"><path d=\"M 470.0 870.0 470.0 730.0 L 500.0 730.0 500.0 870.0 470.0 870.0 Z\" fill-rule=\"evenodd\" id=\"p_NAVC17\" /><g class=\"CellSpaceBoundary None\" id=\"NAVB47\" onclick=\"(function(event){alert('NAVB47'); event.stopPropagation();})(event)\"><path d=\"M 500.0 870.0 L 470.0 870.0\" id=\"p_NAVB47\" /></g><g class=\"NavigableBoundary None\" id=\"NAVB45\" onclick=\"(function(event){alert('NAVB45'); event.stopPropagation();})(event)\"><path d=\"M 500.0 870.001 L 500.0 729.999\" id=\"p_NAVB45\" /></g><g class=\"CellSpaceBoundary None\" id=\"NAVB21\" onclick=\"(function(event){alert('NAVB21'); event.stopPropagation();})(event)\"><path d=\"M 470.0 730.0 L 500.0 730.0\" id=\"p_NAVB21\" /></g><g class=\"NavigableBoundary None\" id=\"NAVB29\" onclick=\"(function(event){alert('NAVB29'); event.stopPropagation();})(event)\"><path d=\"M 470.0 870.0 L 470.0 730.0\" id=\"p_NAVB29\" /></g></g><g class=\"GeneralSpace None\" id=\"NAVC18\" onclick=\"(function(event){alert('NAVC18'); event.stopPropagation();})(event)\"><path d=\"M 30.0 570.0 470.0 570.0 L 470.0 600.0 30.0 600.0 30.0 570.0 Z\" fill-rule=\"evenodd\" id=\"p_NAVC18\" /><g class=\"CellSpaceBoundary None\" id=\"NAVB57\" onclick=\"(function(event){alert('NAVB57'); event.stopPropagation();})(event)\"><path d=\"M 470.0 570.0 L 470.0 600.0\" id=\"p_NAVB57\" /></g><g class=\"CellSpaceBoundary None\" id=\"NAVB31\" onclick=\"(function(event){alert('NAVB31'); event.stopPropagation();})(event)\"><path d=\"M 30.0 600.0 L 30.0 570.0\" id=\"p_NAVB31\" /></g><g class=\"NavigableBoundary None\" id=\"NAVB55\" onclick=\"(function(event){alert('NAVB55'); event.stopPropagation();})(event)\"><path d=\"M 470.001 600.0 L 29.999 600.0\" id=\"p_NAVB55\" /></g><g class=\"NavigableBoundary None\" id=\"NAVB33\" onclick=\"(function(event){alert('NAVB33'); event.stopPropagation();})(event)\"><path d=\"M 470.0 570.0 L 30.0 570.0\" id=\"p_NAVB33\" /></g></g><g class=\"GeneralSpace None\" id=\"NAVC19\" onclick=\"(function(event){alert('NAVC19'); event.stopPropagation();})(event)\"><path d=\"M 470.0 570.0 30.0 570.0 L 30.0 30.0 970.0 30.0 970.0 570.0 470.0 570.0 Z\" fill-rule=\"evenodd\" id=\"p_NAVC19\" /><g class=\"NavigableBoundary None\" id=\"NAVB33\" onclick=\"(function(event){alert('NAVB33'); event.stopPropagation();})(event)\"><path d=\"M 470.0 570.0 L 30.0 570.0\" id=\"p_NAVB33\" /></g><g class=\"CellSpaceBoundary None\" id=\"NAVB32\" onclick=\"(function(event){alert('NAVB32'); event.stopPropagation();})(event)\"><path d=\"M 30.0 570.0 L 30.0 30.0 970.0 30.0 970.0 570.0 470.0 570.0\" id=\"p_NAVB32\" /></g></g><g class=\"GeneralSpace None\" id=\"NAVC20\" onclick=\"(function(event){alert('NAVC20'); event.stopPropagation();})(event)\"><path d=\"M 470.0 2230.0 30.0 2230.0 L 30.0 2200.0 470.0 2200.0 470.0 2230.0 Z\" fill-rule=\"evenodd\" id=\"p_NAVC20\" /><g class=\"CellSpaceBoundary None\" id=\"NAVB34\" onclick=\"(function(event){alert('NAVB34'); event.stopPropagation();})(event)\"><path d=\"M 30.0 2230.0 L 30.0 2200.0\" id=\"p_NAVB34\" /></g><g class=\"NavigableBoundary None\" id=\"NAVB58\" onclick=\"(function(event){alert('NAVB58'); event.stopPropagation();})(event)\"><path d=\"M 29.999 2200.0 L 470.001 2200.0\" id=\"p_NAVB58\" /></g><g class=\"CellSpaceBoundary None\" id=\"NAVB60\" onclick=\"(function(event){alert('NAVB60'); event.stopPropagation();})(event)\"><path d=\"M 470.0 2200.0 L 470.0 2230.0\" id=\"p_NAVB60\" /></g><g class=\"NavigableBoundary None\" id=\"NAVB36\" onclick=\"(function(event){alert('NAVB36'); event.stopPropagation();})(event)\"><path d=\"M 30.0 2230.0 L 470.0 2230.0\" id=\"p_NAVB36\" /></g></g><g class=\"GeneralSpace None\" id=\"NAVC21\" onclick=\"(function(event){alert('NAVC21'); event.stopPropagation();})(event)\"><path d=\"M 30.0 2230.0 470.0 2230.0 L 970.0 2230.0 970.0 2770.0 30.0 2770.0 30.0 2230.0 Z\" fill-rule=\"evenodd\" id=\"p_NAVC21\" /><g class=\"CellSpaceBoundary None\" id=\"NAVB35\" onclick=\"(function(event){alert('NAVB35'); event.stopPropagation();})(event)\"><path d=\"M 470.0 2230.0 L 970.0 2230.0 970.0 2770.0 30.0 2770.0 30.0 2230.0\" id=\"p_NAVB35\" /></g><g class=\"NavigableBoundary None\" id=\"NAVB36\" onclick=\"(function(event){alert('NAVB36'); event.stopPropagation();})(event)\"><path d=\"M 30.0 2230.0 L 470.0 2230.0\" id=\"p_NAVB36\" /></g></g><g class=\"ConnectionSpace None\" id=\"NAVC22\" onclick=\"(function(event){alert('NAVC22'); event.stopPropagation();})(event)\"><path d=\"M 520.0 2070.0 500.0 2070.0 L 500.0 1930.0 520.0 1930.0 520.0 2070.0 Z\" fill-rule=\"evenodd\" id=\"p_NAVC22\" /><g class=\"CellSpaceBoundary None\" id=\"NAVB37\" onclick=\"(function(event){alert('NAVB37'); event.stopPropagation();})(event)\"><path d=\"M 500.0 1930.0 L 520.0 1930.0\" id=\"p_NAVB37\" /></g><g class=\"NavigableBoundary None\" id=\"NAVB61\" onclick=\"(function(event){alert('NAVB61'); event.stopPropagation();})(event)\"><path d=\"M 500.0 2070.001 L 500.0 1929.999\" id=\"p_NAVB61\" /></g><g class=\"CellSpaceBoundary None\" id=\"NAVB63\" onclick=\"(function(event){alert('NAVB63'); event.stopPropagation();})(event)\"><path d=\"M 520.0 2070.0 L 500.0 2070.0\" id=\"p_NAVB63\" /></g><g class=\"NavigableBoundary None\" id=\"NAVB48\" onclick=\"(function(event){alert('NAVB48'); event.stopPropagation();})(event)\"><path d=\"M 520.0 2070.001 L 520.0 1929.999\" id=\"p_NAVB48\" /></g></g></g><g class=\"graph\"><g class=\"Transition None\" id=\"NAVT38\" onclick=\"(function(event){alert('NAVT38'); event.stopPropagation();})(event)\"><path d=\"M 510.0 1200.0 L 520.0 1200.0 535.0 1200.0\" id=\"p_NAVT38\" /></g><g class=\"Transition None\" id=\"NAVT40\" onclick=\"(function(event){alert('NAVT40'); event.stopPropagation();})(event)\"><path d=\"M 510.0 1200.0 L 499.99999999999994 1200.0 485.0 1200.0\" id=\"p_NAVT40\" /></g><g class=\"Transition None\" id=\"NAVT43\" onclick=\"(function(event){alert('NAVT43'); event.stopPropagation();})(event)\"><path d=\"M 510.0 800.0 L 520.0 800.0 535.0 800.0\" id=\"p_NAVT43\" /></g><g class=\"Transition None\" id=\"NAVT45\" onclick=\"(function(event){alert('NAVT45'); event.stopPropagation();})(event)\"><path d=\"M 510.0 800.0 L 499.99999999999994 800.0 485.0 800.0\" id=\"p_NAVT45\" /></g><g class=\"Transition None\" id=\"NAVT5\" onclick=\"(function(event){alert('NAVT5'); event.stopPropagation();})(event)\"><path d=\"M 535.0 2000.0 L 550.0 2000.0 760.0 2000.0\" id=\"p_NAVT5\" /></g><g class=\"Transition None\" id=\"NAVT48\" onclick=\"(function(event){alert('NAVT48'); event.stopPropagation();})(event)\"><path d=\"M 535.0 2000.0 L 520.0 2000.0 510.0 2000.0\" id=\"p_NAVT48\" /></g><g class=\"Transition None\" id=\"NAVT8\" onclick=\"(function(event){alert('NAVT8'); event.stopPropagation();})(event)\"><path d=\"M 535.0 1600.0 L 550.0 1600.0 760.0 1600.0\" id=\"p_NAVT8\" /></g><g class=\"Transition None\" id=\"NAVT50\" onclick=\"(function(event){alert('NAVT50'); event.stopPropagation();})(event)\"><path d=\"M 535.0 1600.0 L 520.0 1600.0 510.0 1600.0\" id=\"p_NAVT50\" /></g><g class=\"Transition None\" id=\"NAVT11\" onclick=\"(function(event){alert('NAVT11'); event.stopPropagation();})(event)\"><path d=\"M 535.0 800.0 L 550.0 800.0 760.0 800.0\" id=\"p_NAVT11\" /></g><g class=\"Transition None\" id=\"NAVT14\" onclick=\"(function(event){alert('NAVT14'); event.stopPropagation();})(event)\"><path d=\"M 535.0 1200.0 L 550.0 1200.0 760.0 1200.0\" id=\"p_NAVT14\" /></g><g class=\"Transition None\" id=\"NAVT52\" onclick=\"(function(event){alert('NAVT52'); event.stopPropagation();})(event)\"><path d=\"M 510.0 1600.0 L 499.99999999999994 1600.0 485.0 1600.0\" id=\"p_NAVT52\" /></g><g class=\"Transition None\" id=\"NAVT22\" onclick=\"(function(event){alert('NAVT22'); event.stopPropagation();})(event)\"><path d=\"M 250.0 1800.0 L 470.0 2000.0 485.0 2000.0\" id=\"p_NAVT22\" /></g><g class=\"Transition None\" id=\"NAVT23\" onclick=\"(function(event){alert('NAVT23'); event.stopPropagation();})(event)\"><path d=\"M 250.0 1800.0 L 470.0 1600.0 485.0 1600.0\" id=\"p_NAVT23\" /></g><g class=\"Transition None\" id=\"NAVT25\" onclick=\"(function(event){alert('NAVT25'); event.stopPropagation();})(event)\"><path d=\"M 250.0 1800.0 L 250.0 1400.0 250.0 1000.0\" id=\"p_NAVT25\" /></g><g class=\"Transition None\" id=\"NAVT58\" onclick=\"(function(event){alert('NAVT58'); event.stopPropagation();})(event)\"><path d=\"M 250.0 1800.0 L 250.0 2200.0 250.0 2215.0\" id=\"p_NAVT58\" /></g><g class=\"Transition None\" id=\"NAVT61\" onclick=\"(function(event){alert('NAVT61'); event.stopPropagation();})(event)\"><path d=\"M 485.0 2000.0 L 500.0 2000.0 510.0 2000.0\" id=\"p_NAVT61\" /></g><g class=\"Transition None\" id=\"NAVT27\" onclick=\"(function(event){alert('NAVT27'); event.stopPropagation();})(event)\"><path d=\"M 250.0 1000.0 L 470.0 1200.0 485.0 1200.0\" id=\"p_NAVT27\" /></g><g class=\"Transition None\" id=\"NAVT29\" onclick=\"(function(event){alert('NAVT29'); event.stopPropagation();})(event)\"><path d=\"M 250.0 1000.0 L 470.0 800.0 485.0 800.0\" id=\"p_NAVT29\" /></g><g class=\"Transition None\" id=\"NAVT55\" onclick=\"(function(event){alert('NAVT55'); event.stopPropagation();})(event)\"><path d=\"M 250.0 1000.0 L 250.0 600.0 250.0 585.0\" id=\"p_NAVT55\" /></g><g class=\"Transition None\" id=\"NAVT33\" onclick=\"(function(event){alert('NAVT33'); event.stopPropagation();})(event)\"><path d=\"M 250.0 585.0 L 250.0 570.0 500.0 300.0\" id=\"p_NAVT33\" /></g><g class=\"Transition None\" id=\"NAVT36\" onclick=\"(function(event){alert('NAVT36'); event.stopPropagation();})(event)\"><path d=\"M 250.0 2215.0 L 250.0 2230.0 500.0 2500.0\" id=\"p_NAVT36\" /></g><g class=\"State None\" id=\"NAVS1\" onclick=\"(function(event){alert('NAVS1'); event.stopPropagation();})(event)\"><circle cx=\"510.0\" cy=\"1200.0\" /></g><g class=\"State None\" id=\"NAVS2\" onclick=\"(function(event){alert('NAVS2'); event.stopPropagation();})(event)\"><circle cx=\"510.0\" cy=\"800.0\" /></g><g class=\"State None\" id=\"NAVS3\" onclick=\"(function(event){alert('NAVS3'); event.stopPropagation();})(event)\"><circle cx=\"535.0\" cy=\"2000.0\" /></g><g class=\"State None\" id=\"NAVS4\" onclick=\"(function(event){alert('NAVS4'); event.stopPropagation();})(event)\"><circle cx=\"760.0\" cy=\"2000.0\" /></g><g class=\"State None\" id=\"NAVS5\" onclick=\"(function(event){alert('NAVS5'); event.stopPropagation();})(event)\"><circle cx=\"535.0\" cy=\"1600.0\" /></g><g class=\"State None\" id=\"NAVS6\" onclick=\"(function(event){alert('NAVS6'); event.stopPropagation();})(event)\"><circle cx=\"760.0\" cy=\"1600.0\" /></g><g class=\"State None\" id=\"NAVS7\" onclick=\"(function(event){alert('NAVS7'); event.stopPropagation();})(event)\"><circle cx=\"535.0\" cy=\"800.0\" /></g><g class=\"State None\" id=\"NAVS8\" onclick=\"(function(event){alert('NAVS8'); event.stopPropagation();})(event)\"><circle cx=\"760.0\" cy=\"800.0\" /></g><g class=\"State None\" id=\"NAVS9\" onclick=\"(function(event){alert('NAVS9'); event.stopPropagation();})(event)\"><circle cx=\"535.0\" cy=\"1200.0\" /></g><g class=\"State None\" id=\"NAVS10\" onclick=\"(function(event){alert('NAVS10'); event.stopPropagation();})(event)\"><circle cx=\"760.0\" cy=\"1200.0\" /></g><g class=\"State None\" id=\"NAVS11\" onclick=\"(function(event){alert('NAVS11'); event.stopPropagation();})(event)\"><circle cx=\"510.0\" cy=\"1600.0\" /></g><g class=\"State None\" id=\"NAVS12\" onclick=\"(function(event){alert('NAVS12'); event.stopPropagation();})(event)\"><circle cx=\"250.0\" cy=\"1800.0\" /></g><g class=\"State None\" id=\"NAVS13\" onclick=\"(function(event){alert('NAVS13'); event.stopPropagation();})(event)\"><circle cx=\"485.0\" cy=\"2000.0\" /></g><g class=\"State None\" id=\"NAVS14\" onclick=\"(function(event){alert('NAVS14'); event.stopPropagation();})(event)\"><circle cx=\"485.0\" cy=\"1600.0\" /></g><g class=\"State None\" id=\"NAVS15\" onclick=\"(function(event){alert('NAVS15'); event.stopPropagation();})(event)\"><circle cx=\"250.0\" cy=\"1000.0\" /></g><g class=\"State None\" id=\"NAVS16\" onclick=\"(function(event){alert('NAVS16'); event.stopPropagation();})(event)\"><circle cx=\"485.0\" cy=\"1200.0\" /></g><g class=\"State None\" id=\"NAVS17\" onclick=\"(function(event){alert('NAVS17'); event.stopPropagation();})(event)\"><circle cx=\"485.0\" cy=\"800.0\" /></g><g class=\"State None\" id=\"NAVS18\" onclick=\"(function(event){alert('NAVS18'); event.stopPropagation();})(event)\"><circle cx=\"250.0\" cy=\"585.0\" /></g><g class=\"State None\" id=\"NAVS19\" onclick=\"(function(event){alert('NAVS19'); event.stopPropagation();})(event)\"><circle cx=\"500.0\" cy=\"300.0\" /></g><g class=\"State None\" id=\"NAVS20\" onclick=\"(function(event){alert('NAVS20'); event.stopPropagation();})(event)\"><circle cx=\"250.0\" cy=\"2215.0\" /></g><g class=\"State None\" id=\"NAVS21\" onclick=\"(function(event){alert('NAVS21'); event.stopPropagation();})(event)\"><circle cx=\"500.0\" cy=\"2500.0\" /></g><g class=\"State None\" id=\"NAVS22\" onclick=\"(function(event){alert('NAVS22'); event.stopPropagation();})(event)\"><circle cx=\"510.0\" cy=\"2000.0\" /></g></g></g></g></svg>"
      ],
      "text/plain": [
       "SpaceLayer: NAV - Layer obtained from SpaceLayer: L0 adding a clearance of 30 cm"
      ]
     },
     "execution_count": 27,
     "metadata": {},
     "output_type": "execute_result"
    }
   ],
   "source": [
    "navigation_layer(map_, uid='NAV', clearance=30)"
   ]
  },
  {
   "cell_type": "markdown",
   "metadata": {},
   "source": [
    "## Convex decomposition"
   ]
  },
  {
   "cell_type": "code",
   "execution_count": 28,
   "metadata": {},
   "outputs": [],
   "source": [
    "source = Polygon([(0,0), (1.5, 0), (1.5,1), (2,1), (2,3),(1,3),(1,2), (0,2)], [[(0.5,0.5),(0.5,1),(1,1),(1,0.5)]])"
   ]
  },
  {
   "cell_type": "code",
   "execution_count": 29,
   "metadata": {},
   "outputs": [
    {
     "data": {
      "image/svg+xml": [
       "<svg xmlns=\"http://www.w3.org/2000/svg\" xmlns:xlink=\"http://www.w3.org/1999/xlink\" width=\"100.0\" height=\"100.0\" viewBox=\"-0.12 -0.12 2.24 3.24\" preserveAspectRatio=\"xMinYMin meet\"><g transform=\"matrix(1,0,0,-1,0,3.0)\"><g><polyline fill=\"none\" stroke=\"#66cc99\" stroke-width=\"0.06480000000000001\" points=\"0.0,0.0 1.5,0.0 1.5,1.0 2.0,1.0 2.0,3.0 1.0,3.0 1.0,2.0 0.0,2.0 0.0,0.0\" opacity=\"0.8\" /><polyline fill=\"none\" stroke=\"#66cc99\" stroke-width=\"0.06480000000000001\" points=\"0.5,0.5 0.5,1.0 1.0,1.0 1.0,0.5 0.5,0.5\" opacity=\"0.8\" /></g></g></svg>"
      ],
      "text/plain": [
       "<shapely.geometry.multilinestring.MultiLineString at 0x109353d30>"
      ]
     },
     "execution_count": 29,
     "metadata": {},
     "output_type": "execute_result"
    }
   ],
   "source": [
    "source.boundary"
   ]
  },
  {
   "cell_type": "code",
   "execution_count": 30,
   "metadata": {},
   "outputs": [],
   "source": [
    "p = APolygon(source)"
   ]
  },
  {
   "cell_type": "code",
   "execution_count": 31,
   "metadata": {},
   "outputs": [
    {
     "data": {
      "image/svg+xml": [
       "<svg xmlns=\"http://www.w3.org/2000/svg\" xmlns:xlink=\"http://www.w3.org/1999/xlink\" width=\"100.0\" height=\"100.0\" viewBox=\"-0.12 -0.12 2.24 3.24\" preserveAspectRatio=\"xMinYMin meet\"><g transform=\"matrix(1,0,0,-1,0,3.0)\"><g><polyline fill=\"none\" stroke=\"#66cc99\" stroke-width=\"0.06480000000000001\" points=\"1.0,0.0 1.0,0.5\" opacity=\"0.8\" /><polyline fill=\"none\" stroke=\"#66cc99\" stroke-width=\"0.06480000000000001\" points=\"1.0,0.5 0.5,0.5\" opacity=\"0.8\" /><polyline fill=\"none\" stroke=\"#66cc99\" stroke-width=\"0.06480000000000001\" points=\"0.5,0.5 0.5,0.0\" opacity=\"0.8\" /><polyline fill=\"none\" stroke=\"#66cc99\" stroke-width=\"0.06480000000000001\" points=\"0.5,0.0 1.0,0.0\" opacity=\"0.8\" /><polyline fill=\"none\" stroke=\"#66cc99\" stroke-width=\"0.06480000000000001\" points=\"0.5,0.5 0.5,1.0\" opacity=\"0.8\" /><polyline fill=\"none\" stroke=\"#66cc99\" stroke-width=\"0.06480000000000001\" points=\"0.5,1.0 0.0,1.0\" opacity=\"0.8\" /><polyline fill=\"none\" stroke=\"#66cc99\" stroke-width=\"0.06480000000000001\" points=\"0.0,1.0 0.0,0.0 0.5,0.0\" opacity=\"0.8\" /><polyline fill=\"none\" stroke=\"#66cc99\" stroke-width=\"0.06480000000000001\" points=\"1.0,0.0 1.5,0.0 1.5,1.0\" opacity=\"0.8\" /><polyline fill=\"none\" stroke=\"#66cc99\" stroke-width=\"0.06480000000000001\" points=\"1.5,1.0 1.0,1.0\" opacity=\"0.8\" /><polyline fill=\"none\" stroke=\"#66cc99\" stroke-width=\"0.06480000000000001\" points=\"1.0,1.0 1.0,0.5\" opacity=\"0.8\" /><polyline fill=\"none\" stroke=\"#66cc99\" stroke-width=\"0.06480000000000001\" points=\"1.0,1.0 1.0,2.0\" opacity=\"0.8\" /><polyline fill=\"none\" stroke=\"#66cc99\" stroke-width=\"0.06480000000000001\" points=\"1.0,2.0 0.0,2.0 0.0,1.0\" opacity=\"0.8\" /><polyline fill=\"none\" stroke=\"#66cc99\" stroke-width=\"0.06480000000000001\" points=\"0.5,1.0 1.0,1.0\" opacity=\"0.8\" /><polyline fill=\"none\" stroke=\"#66cc99\" stroke-width=\"0.06480000000000001\" points=\"1.5,1.0 2.0,1.0 2.0,3.0 1.0,3.0 1.0,2.0\" opacity=\"0.8\" /></g></g></svg>"
      ],
      "text/plain": [
       "<shapely.geometry.multilinestring.MultiLineString at 0x108c7bd68>"
      ]
     },
     "execution_count": 31,
     "metadata": {},
     "output_type": "execute_result"
    }
   ],
   "source": [
    "cascaded_union([x.source.exterior for x in p.partition])"
   ]
  },
  {
   "cell_type": "markdown",
   "metadata": {},
   "source": [
    "At first, we cut along the shortest diagonals to split the polygon in polygons without holes"
   ]
  },
  {
   "cell_type": "code",
   "execution_count": 32,
   "metadata": {},
   "outputs": [],
   "source": [
    "diagonal = p.best_diagonal\n",
    "ps = p.split(diagonal)"
   ]
  },
  {
   "cell_type": "code",
   "execution_count": 33,
   "metadata": {},
   "outputs": [
    {
     "data": {
      "image/svg+xml": [
       "<svg xmlns=\"http://www.w3.org/2000/svg\" xmlns:xlink=\"http://www.w3.org/1999/xlink\" width=\"100.0\" height=\"100.0\" viewBox=\"-0.22 -0.22 2.4400000000000004 5.9399999999999995\" preserveAspectRatio=\"xMinYMin meet\"><g transform=\"matrix(1,0,0,-1,0,5.5)\"><g><polyline fill=\"none\" stroke=\"#66cc99\" stroke-width=\"0.11879999999999999\" points=\"0.5,0.0 0.5,0.5 0.5,1.0 0.0,1.0 0.0,0.0 0.5,0.0\" opacity=\"0.8\" /><polyline fill=\"none\" stroke=\"#66cc99\" stroke-width=\"0.11879999999999999\" points=\"0.0,3.5 0.5,3.5 1.0,3.5 1.0,3.0 0.5,3.0 0.5,2.5 1.5,2.5 1.5,3.5 2.0,3.5 2.0,5.5 1.0,5.5 1.0,4.5 0.0,4.5 0.0,3.5\" opacity=\"0.8\" /></g></g></svg>"
      ],
      "text/plain": [
       "<shapely.geometry.multilinestring.MultiLineString at 0x109375ba8>"
      ]
     },
     "execution_count": 33,
     "metadata": {},
     "output_type": "execute_result"
    }
   ],
   "source": [
    "cascaded_union([translate(x.source.exterior, yoff=2.5*i) for i, x in enumerate(list(ps))])"
   ]
  },
  {
   "cell_type": "code",
   "execution_count": 34,
   "metadata": {},
   "outputs": [
    {
     "data": {
      "image/svg+xml": [
       "<svg xmlns=\"http://www.w3.org/2000/svg\" xmlns:xlink=\"http://www.w3.org/1999/xlink\" width=\"100.0\" height=\"100.0\" viewBox=\"-0.12 -0.12 2.24 3.24\" preserveAspectRatio=\"xMinYMin meet\"><g transform=\"matrix(1,0,0,-1,0,3.0)\"><polyline fill=\"none\" stroke=\"#66cc99\" stroke-width=\"0.06480000000000001\" points=\"0.0,1.0 0.5,1.0 1.0,1.0 1.0,0.5 0.5,0.5 0.5,0.0 1.5,0.0 1.5,1.0 2.0,1.0 2.0,3.0 1.0,3.0 1.0,2.0 0.0,2.0 0.0,1.0\" opacity=\"0.8\" /></g></svg>"
      ],
      "text/plain": [
       "<shapely.geometry.polygon.LinearRing at 0x10937ce80>"
      ]
     },
     "execution_count": 34,
     "metadata": {},
     "output_type": "execute_result"
    }
   ],
   "source": [
    "p = ps[1]\n",
    "p.source.exterior"
   ]
  },
  {
   "cell_type": "markdown",
   "metadata": {},
   "source": [
    "The we cut until the polygon is not convex"
   ]
  },
  {
   "cell_type": "code",
   "execution_count": 35,
   "metadata": {},
   "outputs": [
    {
     "data": {
      "image/svg+xml": [
       "<svg xmlns=\"http://www.w3.org/2000/svg\" xmlns:xlink=\"http://www.w3.org/1999/xlink\" width=\"100.0\" height=\"100.0\" viewBox=\"-0.12 -0.12 2.24 3.24\" preserveAspectRatio=\"xMinYMin meet\"><g transform=\"matrix(1,0,0,-1,0,3.0)\"><g><polyline fill=\"none\" stroke=\"#66cc99\" stroke-width=\"0.06480000000000001\" points=\"1.0,1.0 1.5,1.0\" opacity=\"0.8\" /><polyline fill=\"none\" stroke=\"#66cc99\" stroke-width=\"0.06480000000000001\" points=\"0.0,1.0 0.5,1.0 1.0,1.0\" opacity=\"0.8\" /><polyline fill=\"none\" stroke=\"#66cc99\" stroke-width=\"0.06480000000000001\" points=\"1.0,1.0 1.0,0.5 0.5,0.5 0.5,0.0 1.5,0.0 1.5,1.0\" opacity=\"0.8\" /><polyline fill=\"none\" stroke=\"#66cc99\" stroke-width=\"0.06480000000000001\" points=\"1.5,1.0 2.0,1.0 2.0,3.0 1.0,3.0 1.0,2.0 0.0,2.0 0.0,1.0\" opacity=\"0.8\" /></g></g></svg>"
      ],
      "text/plain": [
       "<shapely.geometry.multilinestring.MultiLineString at 0x109375c18>"
      ]
     },
     "execution_count": 35,
     "metadata": {},
     "output_type": "execute_result"
    }
   ],
   "source": [
    "diagonal = p.best_diagonal\n",
    "cascaded_union([p.source.boundary, diagonal])"
   ]
  },
  {
   "cell_type": "code",
   "execution_count": 36,
   "metadata": {},
   "outputs": [
    {
     "data": {
      "image/svg+xml": [
       "<svg xmlns=\"http://www.w3.org/2000/svg\" xmlns:xlink=\"http://www.w3.org/1999/xlink\" width=\"100.0\" height=\"100.0\" viewBox=\"-0.08 0.92 2.16 2.16\" preserveAspectRatio=\"xMinYMin meet\"><g transform=\"matrix(1,0,0,-1,0,4.0)\"><g><polyline fill=\"none\" stroke=\"#66cc99\" stroke-width=\"0.0432\" points=\"1.0,2.0 1.0,1.0\" opacity=\"0.8\" /><polyline fill=\"none\" stroke=\"#66cc99\" stroke-width=\"0.0432\" points=\"1.0,1.0 1.5,1.0 2.0,1.0 2.0,3.0 1.0,3.0 1.0,2.0\" opacity=\"0.8\" /><polyline fill=\"none\" stroke=\"#66cc99\" stroke-width=\"0.0432\" points=\"1.0,2.0 0.0,2.0 0.0,1.0 0.5,1.0 1.0,1.0\" opacity=\"0.8\" /></g></g></svg>"
      ],
      "text/plain": [
       "<shapely.geometry.multilinestring.MultiLineString at 0x109353b38>"
      ]
     },
     "execution_count": 36,
     "metadata": {},
     "output_type": "execute_result"
    }
   ],
   "source": [
    "ps = p.split(diagonal)\n",
    "p = ps[0]\n",
    "diagonal = p.best_diagonal\n",
    "cascaded_union([p.source.boundary, diagonal])"
   ]
  }
 ],
 "metadata": {
  "kernelspec": {
   "display_name": "Python 3",
   "language": "python",
   "name": "python3"
  },
  "language_info": {
   "codemirror_mode": {
    "name": "ipython",
    "version": 3
   },
   "file_extension": ".py",
   "mimetype": "text/x-python",
   "name": "python",
   "nbconvert_exporter": "python",
   "pygments_lexer": "ipython3",
   "version": "3.6.5"
  }
 },
 "nbformat": 4,
 "nbformat_minor": 2
}
